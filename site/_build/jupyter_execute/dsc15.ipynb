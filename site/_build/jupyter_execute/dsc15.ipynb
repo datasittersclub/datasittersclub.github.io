{
 "cells": [
  {
   "cell_type": "markdown",
   "id": "561572ad",
   "metadata": {},
   "source": [
    "![DSC logo](_static/images/DSCLogo.png)\n",
    "\n",
    "# Little Miss California Stereotype... and the BY Times\n",
    "\n",
    "<div style='float: right; width: 200px;margin-left: 7px;margin-top: 0px;'>\n",
    "<img src='_static/images/bookcovers/dsc15_cover.jpg' alt='DSC 15 book cover' />\n",
    "</div>\n",
    "\n",
    "by Dainy Bernstein, Quinn Dombrowski, and Mark Algee-Hewitt\n",
    "\n",
    "September 15, 2022"
   ]
  },
  {
   "cell_type": "markdown",
   "id": "03c37b69",
   "metadata": {},
   "source": [
    "## Quinn\n",
    "### Prelude\n",
    "The miraculous thing about DH Twitter is how it can bring you the friends you don't even realize you're looking for. It's how I started the Data-Sitters Club (which you can read more about in [Chapter 2](https://datasittersclub.github.io/site/chapter-2.html)). I met [Dainy Bernstein](https://dainybernstein.wordpress.com/) shortly after the pandemic started.\n",
    "\n",
    "Dainy is a Visiting Lecturer in Literature at the University of Pittsburgh, and has short, dark brown hair and brown eyes. Ey bounces back and forth between big-picture ideas and detail-focused ideas, sometimes writing about an entire collection of books and sometimes writing three pages about a single paragraph. Eir childhood and adolescence was spent in Brooklyn, New York, reading as many books a week as the public library let er borrow. Dainy writes about ultra-Orthodox Jewish children's literature and is the editor of the recently-published collection of essays *[Artifacts of Orthodox Jewish Childhoods](https://www.benyehudapress.com/books/artifacts-of-orthodox-childhoods/)*.\n",
    "\n",
    "There's not that many people working on the intersection of DH methods and books for young readers, so I'm always excited to meet another one. When I realized eir specialty was Orthodox Jewish youth literature, I couldn't resist asking if ey'd heard of BY Times, the \"[Jewish answer to the Baby-Sitters Club](https://the-toast.net/2015/03/05/the-b-y-times-jewish-answer-baby-sitters-club/)\" as Mara Wilson described it on the Toast.\n",
    "\n",
    "The resulting DSC 15 has taken over two years to write, between trying to build a corpus of BY Times books when libraries were closed and Inter-Library Loan wasn't operating (and used copies could run hundreds of dollars), trying to actually read these books with my eyeballs (making lists of questions to send to Dainy), settling on a research question (the depiction of the \"California girl\" in each series), and then trying a couple different methods to see if we could reliably identify what we felt was distinctive, stereotypical \"California girl\" speech.\n",
    "\n",
    "Spoiler alert: it didn't work. Which is on point for book 15: Dawn's contestants in the Little Miss Stoneybrook beauty pageant didn't win, either. But come join us for this interdisciplinary digital humanities adventure anyway, where you'll see what happens when you combine an expert in a particular literature (Dainy), a curious and bewildered jack-of-all-trades (me), and a computational text analysis expert (Associate Data-Sitter Mark Algee-Hewitt, recently-tenured Director of the Stanford Literary Lab) to tackle a text-classification problem."
   ]
  },
  {
   "cell_type": "markdown",
   "id": "8fa4436e",
   "metadata": {},
   "source": [
    "## Dainy\n",
    "\n",
    "### Childhood experience reading the BY Times\n",
    "\n",
    "My introduction to the idea of the *B.Y. Times* as the \"Orthodox Baby-Sitters Club\" came from that same [Toast article by Mara Wilson](https://the-toast.net/2015/03/05/the-b-y-times-jewish-answer-baby-sitters-club/). Mara describes her experience reading these books as a young Conservative Jew, because her Orthodox friend wanted her to become more strictly Orthodox in her practice. She'd explain the series to her gentile friends by saying, \"They're like a Jewish *Baby-Sitters Club*.\" That in itself is a fascinating experience, but my adolescent experience with the B.Y. Times books is entirely different. I had access to both the *Baby-Sitters Club* series via the public library and my school library, and the *B.Y. Times* series via my school library and the local neighborhood Jewish library. I can't say for sure, but I most likely read the *B.Y. Times series* before I read the *Baby-Sitters Club series*. To me, as to other pre-teens in my ultra-Orthodox community, the Orthodox books were not perceived as derivations. I didn't make the connection between the BYT and the BSC until Meira Levinson, an academic colleague who is Modern Orthodox, shared Mara Wilson's piece with me.\n",
    "\n",
    "My lived experience is also not exactly like the girls in the B.Y. Times series, mainly because the series - like its sister series, The Baker's Dozen - is set in Bloomfield, an imaginary New York suburb. I grew up in Boro Park, in the heart of a Brooklyn Jewish community. In the fourth book of the series, War!, Batya Ben-Levi has a conversation with a girl from Boro Park which encapsulates the difference between the two environments as they talk about their respective Bais Yaakov schools (a generic name for Orthodox Jewish girls' schools): \n",
    "\n",
    ">\"So your friends are all excited about having your own Bais Yaakov building. In Boro Park, we have two buildings, and soon maybe there'll be a new annex.\" \n",
    "\n",
    "<div style='float: right; width: 400px;margin-left: 7px;margin-top: 0px;'>\n",
    "<img src='_static/images/dsc15_pizza.jpg' alt='Gemarakup book cover' />\n",
    "</div>\n",
    "\n",
    "Batya, from the suburban Bloomfield, is excited at the prospect of Bais Yaakov having its own building; her counterpart from the city scoffs at this as a marker of growth since her community passed that marker decades before. The existence of the Ben-Levi pizza shop in the *B.Y. Times* series is remarked upon as extraordinary within the books, because the infrastructure of a kosher community in a suburban environment was indeed extraordinary at the time, in the early 1990s. In 1990s Brooklyn, the existence of a thriving kosher pizza store was taken for granted.\n",
    "\n",
    "The difference between Brooklyn Orthodox Jewish communities and the \"out-of-town\" communities depicted in the BYT - and in the Brookville C.C., a series for older teens similarly based on the BSC - is not always apparent to those who didn't grow up with these nuances. As Quinn read the series, we'd have exchanges like this:\n",
    "\n",
    ">Quinn [after reading that the Rabbi's wife in the B.Y. Times series was an original student of Sarah Schenirer]: Who's Sarah Schenirer?\n",
    ">\n",
    ">Dainy: \"mother of Bais Yaakov,\" [founder of the Bais Yaakov movement](https://thebaisyaakovproject.com/person/sarah-schenirer/).\n",
    ">\n",
    ">Quinn: Ohhhh. Yeah, that's another thing I understand badly. 😅 I was figuring it was the name of the school in BYT, like how my kid goes to Malcolm X Elementary in Berkeley. Then I figured it was some educational philosophy, like a Montessori school, since it showed up in both series. \n",
    ">\n",
    ">Dainy: I think in BCC they actually go to Beis Rivkah, which is a typically Chabad / Lubavitch name. But Bais Yaakov is a generic name for \"orthodox girls school\" because of Sarah Schenirer.\n",
    ">\n",
    ">Quinn: Ohh, gotcha. The \"Beis\" is the part that stuck with me because of OCR errors.\n",
    ">\n",
    ">Dainy: (Bais/Beis = house, Yaakov = Jacob. It's from the verse \"go tell the house of Jacob\" in the Bible, usually interpreted as \"go tell the women\" in that context.)\n",
    ">\n",
    ">Quinn: Ohhhh, interesting.\n",
    ">\n",
    ">Dainy: I am so loving \"reading\" the books through your eyes.\n",
    "\n",
    "I am rereading these books myself now as I write about the development of Orthodox children's publishing in America. The earliest Orthodox children's books from major publishers appeared in the 1980s, making the *B.Y. Times* series part of Haredi publishing's relative infancy. I interviewed series creator Miriam Stark Zakon (writing under the pseudonym Leah Klein), and she confirmed that the connections that Mara Wilson and others draw between the BSC and the BYT are deliberate. Zakon had been writing books for Haredi children for a while, and she wanted to get a sense of what was popular for children in mainstream America. Since she was living in Israel at the time, she asked her sister in America to go into a bookstore and take stock of titles and genres on the shelves in the children's sections. Her sister sent her copies of *The Baby-Sitters Club*, and Zakon set out to create a \"kosher\" version of the books for Orthodox children in which middle-school girls create a school newspaper.\n",
    "\n",
    "<div style='float: right; width: 200px;margin-left: 7px;margin-top: 0px;'>\n",
    "<img src='_static/images/dsc15_gemarakup.jpg' alt='Gemarakup book cover' />\n",
    "</div>\n",
    "\n",
    "A few other Orthodox series are also clearly based on popular mainstream series. The *Gemarakup* series (also written by Zakon), for example, is a riff on *Encyclopedia Brown*. In both, a young boy (Yisrael David Finkel and Leroy Brown, respectively) solves mysteries and crimes in his neighborhood using his extensive knowledge. Leroy (aka Encyclopedia) uses knowledge he gains from an encyclopedia; Yisrael David (aka Gemarakup, literally translatable as Talmud-Head) uses knowledge he gains from the Talmud.\n",
    "\n",
    "When I first connected with Quinn over the connection between the BSC and the BYT, I hadn't managed to get hold of any *B.Y. Times* novels. Copies available for purchase from the publisher are new editions, and I wanted to make sure I was reading the books in their original forms. The used copies available online are prohibitively expensive, and while the Brooklyn Public Library used to carry the books, they have since been retired from circulation.\n",
    "\n",
    "Once I started working with Quinn, I doubled my efforts to get hold of the books and tried some other channels.\n",
    "\n",
    "The Jewish Youth Library was founded in February 1978 (according to a writeup in the children's magazine, Olomeinu / Our World) to fill a gap in the availability of Orthodox children's books. (This was before the Brooklyn Public Library started carrying Orthodox children's books.) It started out on 51st Street in Boro Park, Brooklyn, and has since moved to 46th Street, a few blocks over from its original location. As a pre-teen and teenager, I visited the basement library during girls' hours at least once a month, taking out the maximum of three books at once. It exists in my mind as belonging to another time, and it hadn't even occurred to me to check if it was still functioning until I mentioned it in passing to Quinn.\n",
    "\n",
    "<div style='float: right; width: 200px;margin-left: 7px;margin-top: 0px;'>\n",
    "<img src='_static/images/dsc15_byt_war.jpg' alt='A beat-up BYT book cover entitled \"War\"' />\n",
    "</div>\n",
    "\n",
    "So I called, and they are still functioning! At the start of the pandemic, they were observing social distancing, and all books had to be ordered ahead of time. The library now allows members to borrow five books at a time, extended to six during summer months when kids are not in school. The librarian I spoke to was very patient with me as she updated my decades-old analog membership card - still there along with my mother's, sister's, and brother's! - and listened to what I needed. I explained that I wanted to borrow all the BYT books, and if I could take six at a time, it would be best if I had the first six. She checked on the shelves, and found the second book was checked out by another patron. She pulled books \\#1 and \\#3-7 for me instead. A friend of mine offered to drive over and pick them up the next day during curbside pickup, and then drove over to deliver them to me.\n",
    "\n",
    "Although the books are being reprinted with brand new covers by Menucha Publishers, a newer Haredi publishing house who inherited Targum Press's old titles, it was important to me to have the original copies of the books because of the extra-textual details often included in books. And the copies from the Jewish Youth Library are indeed the originals! Taped up and worn out from years and years of use... I scanned the books (noting fascinating details like a writing contest for readers announced at the back of some books), and sent them off to Quinn. Since then, Quinn has managed to get copies of the books held in Harvard's library via Inter-library Loan."
   ]
  },
  {
   "cell_type": "markdown",
   "id": "d1666da2",
   "metadata": {},
   "source": [
    "## Quinn\n",
    "\n",
    "### Baby-Sitters meets Sweet Valley, but make it Orthodox?\n",
    "\n",
    "<div style='float: right; width: 200px;margin-left: 7px;margin-top: 0px;'>\n",
    "<img src='_static/images/dsc15_bytstack.jpg' alt='A stack of pristine BYT books' />\n",
    "</div>\n",
    "\n",
    "Thanks to Harvard’s extensive Judaica collection, we finally pieced together the entire series – a project nearly 18 months in the making. A trip to Greece in April gave me the opportunity to sit down and read through them all, and thanks to Mara Wilson’s article, I brought a truckload of assumptions with me. Newspaper angle aside, this was going to be the Orthodox Jewish Baby-Sitters Club. I was on the lookout for Kristy, Claudia, Mary Anne, and Stacey, ready for whatever they looked like transposed into a new cultural context.\n",
    "\n",
    "Except it turned out things were more complicated. *BY Times* isn’t just a spin-off of the BSC: it’s a culturally-shifted mashup of (at least) the two biggest girls’ series of the 90s, not just the BSC but *Sweet Valley* as well. Of the two series, *Sweet Valley* is the one that more obviously needs an overhaul to be appropriate for Orthodox Jewish readers. Even my mother, who was not usually very censorious, did not approve of me reading the *Sweet Valley High* books, which feature a pair of rich, blonde, beautiful California twins in a classic good-twin/bad-twin setup. There’s lots of mildly steamy romance, some adolescent drinking, sexual assault, car crashes, amnesia, and just about every other soap opera trope you can think of – and every book ended with a cliffhanger of some sort. I found them tedious, especially in their kid-friendly formulations, *Sweet Valley Twins* and *Sweet Valley Kids*, whose age-appropriate drama lacked the titillation of *Sweet Valley High*.\n",
    "\n",
    "Let me introduce you to the initial staff of the BY Times, as I, a non-Jewish childhood reader of 90’s girls books, experienced them:\n",
    "\n",
    "* Shani Baum: clearly identifiable as “the Kristy”: she’s short, loud, bossy, and started the newspaper.\n",
    "* Raizy Segal: a genius like Janine, but shy like Mary Anne\n",
    "* Batya Ben-Levi: an only child like Mary Anne, who wishes she had more siblings\n",
    "* Nechama Orenstein: Like Mallory, a redhead and the youngest in a big family, but she doesn’t like reading, is bad at school, and is generally wild and irresponsible\n",
    "* Chani Kaufman: honestly, it took me a lot of books to realize she was a separate character from Shani. Her distinctive feature, such as it is, is that she’s extremely short.\n",
    "* Pinky & Chinky Chinn: (yes, you read that right) are the rich twins. It wouldn’t do to have a “good” and “bad” twin, so instead we get a Claudia-type as the foil to a responsible, organized twin (much like Elizabeth, the “good” twin in Sweet Valley.) Pinky, the Claudia-type, is really into fashion and design, and also likes eating caramels constantly. Unlike Claudia, whose complexion and figure are unaffected by her sweet tooth, there’s a whole book about fat-shaming Pinky for weighing a couple pounds more than Chinky.\n",
    "\n",
    "<div style='float: right; width: 400px;margin-left: 7px;margin-top: 0px;'>\n",
    "<img src='_static/images/dsc15_littleworld.jpg' alt=\"Batya's Search book cover and sick Dusty the computer with a virus\" />\n",
    "</div>\n",
    "\n",
    "I found these girls’ adventures to be fascinating and strange. Where the *Baby-Sitters Club* books are written in a way that now reads as “timeless”, that’s also another way to say that it’s disconnected from the time, place, and sociopolitical context in which it was written. In a talk we gave last year, Data-Sitter Maria Sachiko Cecire mused over how we could explore the ways in which the *Baby-Sitters Club* forms a sort of “small world” (as J.M. Barrie describes a “map of a child’s mind, which is not only confused, but keeps going round all the time”) that captures some things about the adult world (like capitalism and divorce and bra shopping and British palace guards) but leaves out others (collapse of the USSR, the Persian Gulf War, computer viruses, etc.) The *BY Times* offers a point of contrast where the author made a different set of choices about what made it into her narrative “small world”. On one hand, the characters live in an insular community with a specific set of rules: no one’s eating a bacon cheeseburger or wearing tie-dye leggings with overall shorts. But on another hand, no member of the *Baby-Sitters Club* learns how to correctly put on a gas mask, or survives a scud missile attack, or helps “Russian” Jewish refugees from Kyiv resettle in the US, or picks up the pieces when the club’s computer is infected with a virus.\n",
    "\n",
    "I really wanted to do something to explore the scope and nature of the worldbuilding between the *BY Times* and the *Baby-Sitters Club*, but Russia’s invasion of Ukraine blew up the small world of multilingual and feminist DH projects that I’d created for myself at work, and tackling something that big felt out of reach. Dainy and I had talked about “how Jewish” vs “how American” these books were, but that also meant some hard decisions about how to model each of those things. I wanted something more straightforward, something that I could use to try out a new-to-me text analysis technique.\n",
    "\n",
    "And I finally found it in the 9th *BY Times* book, *Here We Go Again*, which prominently features a new character: a blonde health-food fanatic who’s just moved to town from California.\n",
    "\n",
    "Sound familiar?"
   ]
  },
  {
   "cell_type": "markdown",
   "id": "2d5da656",
   "metadata": {},
   "source": [
    "### Ilana the California Girl\n",
    "With many *BY Times* characters, you can only see the shadows and contours of influence from the Baby-Sitters Club. Not so with Ilana Silver. Ilana is Dawn with valley girl stereotypes turned up all the way. (Also: Ilana is a **really hard name** to reliably OCR in the font they used to print BY Times books. She’s “Hana”, “Dana”, “Tiana”, or even “Bana” as often as “Ilana”.)\n",
    "\n",
    "You’ll have to wait for DSC 17 to read about Junior Data-Sitter Cadence Cordell’s trip to visit the Ann M. Martin Papers at Smith College, but one major discovery was a repeated, explicit concern about Dawn and California stereotypes. At the top of the notes for *BSC \\#23: Dawn on the Coast*, Martin wrote “No stereotyping CA kids”. In the folder for that same book, it notes that she had already received complaints about Dawn fitting the California stereotype of “blond-haired, blue-eyed, laidback, vegetarian health-nuts”. It comes up again in *Super Special \\#11: Here Come the Bridesmaids!*, via Martin’s wanting Carol and Mr. Schafer’s wedding to “seem traditional without smacking of California stereotypes”.\n",
    "\n",
    "Suffice it to say that Miriam Stark Zakon had no such qualms – either about her depiction of Ilana, or how the other characters interpreted her mannerisms. Ilana gets introduced as the cliffhanger of *BYT \\#8: Summer Daze*, when Chani struggles to describe the new arrival from California who had been attending her summer camp:\n",
    "\n",
    ">What could she write? Ilana was… was so… so…\n",
    ">\n",
    ">No, she couldn’t really describe her. Not without risking *lashon hara*[*](#footnote), that was for sure.\n",
    "\n",
    "And so the book concludes:\n",
    "\n",
    ">Why is Ilana Silver so indescribable? … Read all about it in the next edition of *The B.Y. Times*.\n",
    "\n",
    "Ilana’s first appearance doesn’t come until about ⅓ of the way through book 9, where she makes quite the debut after failing to show up to the first BY Times meeting:\n",
    "\n",
    ">“I’m super sorry, really,” Ilana said earnestly. “I was talking to this really amazing girl and she told me the most amazing things about her grandmother’s life. It was just so exciting! I hope I didn’t miss much at the meeting.” She flashed a sparkling smile at Nechama before pulling out a brown paper bag. Ilana held it out invitingly. “Sprouts, anyone?” she offered.\n",
    ">\n",
    ">\\[...\\]\n",
    ">\n",
    ">“Sprouts, huh?” \\[Chani\\] said loudly. “They’re from your mother’s health-food store, aren’t they?”\n",
    ">\n",
    ">“That’s right,” Ilana beamed. “It’s the first kosher health-food store in Bloomfield! It totally blows my mind that you’ve managed without one until now.”\n",
    ">\n",
    ">“Oh, we got by somehow,” said Chani with a smile as she mentally rolled her eyes. “Still, it’s so nice that we have one now!”\n",
    ">\n",
    ">“For sure,” said Ilana placidly, smiling brightly at the two girls. “I mean, like, there’s so much delicious food that’s healthy, too! It’s really much better for people to eat this way—and it’s better for the whole planet, too.” Ilana tossed a lock of blond hair over her shoulder. \n",
    "\n",
    "<div style='float: right; width: 400px;margin-left: 7px;margin-top: 0px;'>\n",
    "<img src='_static/images/dsc15_dusty.jpg' alt='Dusty the computer' />\n",
    "</div>\n",
    "\n",
    "\n",
    "The *BY Times* gets a free computer, and all the girls struggle to use it except for Ilana. As Chani puts it, “Ilana comes from California, and everyone probably has computers there. It’s no crime to know less than she does.”\n",
    "\n",
    "The book concludes with a surprise birthday party catered by Ilana’s family’s kosher health-food store, where even Ilana’s mother makes fun of her manner of speech: “No problem,” said Mrs. Silver with a smile. “As my daughter would say”—she ruffled Ilana’s blond hair fondly—“It’s, like, no problem at all!”\n",
    "\n",
    "Amazing! We, like, totally found something that we could measure: how distinctive was Ilana’s speech, compared to Dawn’s? \n",
    "\n",
    "### Dialogue to Data\n",
    "How do we figure out if something is, like, totally distinctive? We test to see if you can reliably tell it apart from the thing you’re comparing it to. There’s lots of ways to do that, and not all of them involve computers. But all of them do involve turning the things you want to compare into something that looks like data. Even if you wanted a human (instead of a computer) to evaluate Ilana vs. non-Ilana quotes to see if they can reliably tell them apart, you couldn’t just hand that person a *BY Times* book, or even a *BY Times* book that you’ve covered with sticky notes pointing to relevant sections of dialogue. For starters, it’d be hard for them to avoid seeing text like “said Ilana” or “Chani exclaimed” that would give away the answer! What you need to do is take the quotes out of their narrative context and put them into something like a spreadsheet where you can view the quote by itself, but also connect it to metadata like speaker (Ilana/non-Ilana) and source (which book).\n",
    "\n",
    "It may come as a surprise that automatic quote extraction and attribution is a pretty difficult computational task. There are systems that try to do it (like David Bamman’s [BookNLP](https://github.com/booknlp/booknlp), and I was thinking of trying it out when Dainy suggested a classic alternative that would almost certainly be more accurate: ey offered to read through the books and add all the Ilana quotes to a spreadsheet. 🥳 Usually I’d have protested more – let’s leave this to the computers, they’re imperfect but close enough! But I realized that we weren’t going to have a ton of data, since Ilana only appears in books 9-17. And a big part of what makes some degree of computer-error okay is scale: 10 mis-attributions are a much bigger problem if you have 100 examples than if you have 1,000, and by the time you get to 10,000 examples, I’d expect human labor to produce at least that many mistakes. So I took Dainy up on the offer, and ey found 673 instances of Ilana-speech and added them to the spreadsheet.\n",
    "\n",
    "The process for finding non-Ilana quotes was much less precise. I wasn’t trying to find every quote, and I definitely wasn’t trying to figure out quote attribution. I just wanted stuff that non-Ilana characters said. So I wrote some code to go through the books and pull out everything between quotation marks."
   ]
  },
  {
   "cell_type": "code",
   "execution_count": 1,
   "id": "7c559a6d",
   "metadata": {},
   "outputs": [],
   "source": [
    "#Importing this to navigate directories\n",
    "import os\n",
    "#This lets us use regular expression syntax\n",
    "import re\n",
    "#This lets us randomly sample from things\n",
    "import random\n",
    "\n",
    "#Specifies the folder where my book text files are\n",
    "filedirectory = '/Users/qad/Documents/dsc_byt'\n",
    "#Changes to that folder\n",
    "os.chdir(filedirectory)"
   ]
  },
  {
   "cell_type": "code",
   "execution_count": 2,
   "id": "0c6faf78",
   "metadata": {},
   "outputs": [],
   "source": [
    "#For each file in our directory of text files\n",
    "for file in os.listdir(filedirectory):\n",
    "    #If the file ends with .txt\n",
    "    if file.endswith('.txt'):\n",
    "        #Open the source file\n",
    "        with open(file, 'r') as sourcebook:\n",
    "            #Read the source file\n",
    "            text = sourcebook.read()\n",
    "            #Find all things between quotes\n",
    "            quotes = re.findall(r'“(.*?)”', text)"
   ]
  },
  {
   "cell_type": "code",
   "execution_count": 3,
   "id": "9ae468f7",
   "metadata": {},
   "outputs": [],
   "source": [
    "#Randomly samples our list of quotes for 300 quotes\n",
    "randomquotes = random.sample(quotes, 300)\n",
    "\n",
    "#Opens our output file\n",
    "with open('/Users/qad/Documents/nonilana.csv', 'w') as out:\n",
    "    #For each quote in our random sample\n",
    "    for randomquote in randomquotes:\n",
    "        #Write it to the output file\n",
    "        out.write(randomquote + '\\n')"
   ]
  },
  {
   "cell_type": "markdown",
   "id": "295e0773",
   "metadata": {},
   "source": [
    "The problem is, that will get us Ilana quotes along with non-Ilana quotes. But thankfully, we have Dainy's comprehensive list of Ilana quotes and can use that to remove the Ilana quotes. There's a catch, though: it will also remove any non-Ilana quotes that are identical to Ilana quotes -- thereby increasing the distinctiveness of the two sets, because anything said by both Ilana and non-Ilana characters will only appear in the Ilana data set. In this corpus, that's only likely to happen with very short quotes, like \"Oh?\" and \"Yes\" so we're going to say it's not a big deal. But in other corpora, it might be a bigger problem: imagine you're looking at Star Wars novels to compare Luke Skywalker's speech vs. other characters. You could accidentally end up modifying your data in such a way that it looks like Luke is the only person who ever says \"May the Force be with you.\" Collecting your data in a way where you won't run into this issue is harder, and would involve across-the-board quote attribution. That's why it really helps to know your data, or work with someone who does -- and why there's no one-size-fits-all workflow for most text analysis stuff. Depending on the particularities of your data, you may be able to take shortcuts that will cut down on labor or complicated algorithms, like we've done here.\n",
    "\n",
    "### Dawn's Dialogue\n",
    "\n",
    "Unlike with Ilana, there's no shortage of Dawn dialogue -- even though she, similarly, shows up after the first book and doesn't stick around until the end of the series. We're not trying to comprehensively get all of Dawn's dialogue, just a quantity similar to what we have for Ilana. We don't have any particular reason to think that the way Dawn's dialogue is tagged (e.g. \"said Dawn\" / \"Dawn said\" vs. \"Dawn exclaimed\" vs. Dawn dialogue that isn't explicitly labeled with her name) has anything to do with the Dawn-ness of the dialogue -- though that is something we could test if we felt so inclined. (The BY Times books sometimes use \"drawled\" with Ilana's speech.) So I wrote some code to look for any line (i.e. paragraph) in any Baby-Sitters Club book that included \"said Dawn\" or \"Dawn said\", then extracted only the text within quotation marks from those lines."
   ]
  },
  {
   "cell_type": "code",
   "execution_count": 4,
   "id": "d529d8b7",
   "metadata": {},
   "outputs": [
    {
     "data": {
      "text/plain": [
       "1019"
      ]
     },
     "execution_count": 4,
     "metadata": {},
     "output_type": "execute_result"
    }
   ],
   "source": [
    "#File directory for BSC books\n",
    "filedirectory = '/Users/qad/Documents/dsc_corpus_clean'\n",
    "os.chdir(filedirectory)\n",
    "\n",
    "#Create a list for Dawn quotes\n",
    "dawnlines = []\n",
    "#For each file in the file directory\n",
    "for file in os.listdir(filedirectory):\n",
    "    #If it ends with .txt\n",
    "    if file.endswith('.txt'):\n",
    "        #Open the text file\n",
    "        with open(file, 'r') as book:\n",
    "            #Read in each line into a list\n",
    "            lines = book.readlines()\n",
    "            #For each line\n",
    "            for line in lines:\n",
    "                #If it includes 'said Dawn'\n",
    "                if 'said Dawn' in line:\n",
    "                    #Add it to the list\n",
    "                    dawnlines.append(line)\n",
    "                #If it includes 'Dawn said'\n",
    "                if 'Dawn said' in line:\n",
    "                    #Add it to the list\n",
    "                    dawnlines.append(line)\n",
    "#Print how many Dawn lines we have\n",
    "len(dawnlines)"
   ]
  },
  {
   "cell_type": "code",
   "execution_count": 5,
   "id": "127b7943",
   "metadata": {},
   "outputs": [],
   "source": [
    "#Make a new list for just the Dawn quotes\n",
    "dawnwords = []\n",
    "#For each line we pulled out\n",
    "for dawnline in dawnlines:\n",
    "    #Get the part between quotation marks\n",
    "    dawnquotes = re.findall(r'“(.*?)”', dawnline)\n",
    "    #Fore each quote\n",
    "    for dawnquote in dawnquotes:\n",
    "        #Add it to the list\n",
    "        dawnwords.append(dawnquote)"
   ]
  },
  {
   "cell_type": "code",
   "execution_count": 6,
   "id": "46b68424",
   "metadata": {},
   "outputs": [],
   "source": [
    "#Randomly samples our list of Dawn quotes for 300 quotes\n",
    "randomdawns = random.sample(dawnwords, 300)\n",
    "#Opens our output file\n",
    "with open('/Users/qad/Documents/dawn.csv', 'w') as dawnout:\n",
    "    #For each quote in our random sample\n",
    "    for randomdawn in randomdawns:\n",
    "        #Write it to the output file\n",
    "        dawnout.write(randomdawn + '\\n')"
   ]
  },
  {
   "cell_type": "markdown",
   "id": "3026eddb",
   "metadata": {},
   "source": [
    "This is, once again, a hack for quote attribution and it could backfire, for instance, if Mary Anne said, “I heard that Dawn said I was a bad step-sister.” Thanks to [AntConc](dsc4.html), we can double-check to make sure there aren’t any examples like that:\n",
    "\n",
    "<img src='_static/images/dsc15_antconc.jpg' alt='Antconc results for \"Dawn said that\"' />\n",
    "\n",
    "Or we could check the text we get once we extract only the things in quotation marks and remove anything that includes the words “Dawn” (since Dawn doesn’t ever talk about herself in the third person).\n",
    "\n",
    "Non-Dawn dialogue is also easier with the Baby-Sitters Club books. Again, we don’t need all non-Dawn dialogue, we just need a comparably-sized sample. Thanks to the narrative structure of the Baby-Sitters Club, any book with “Dawn” in the title is narrated by Dawn, which means she’s less likely to be speaking, and any tagged speech will use the pronoun “I”. There’s the possibility of some non-tagged Dawn speech (where she says something in quotation marks, but it isn’t labeled as such) getting through, but that’s an edge case that we won’t worry about too much.\n"
   ]
  },
  {
   "cell_type": "markdown",
   "id": "faf2f14f",
   "metadata": {},
   "source": [
    "### Do You See Anything Weird Here?\n",
    "When you’re doing computational text analysis, following along with a tutorial or workflow you’ve found online, it’s easy to forget about one of the most important steps that you’ll almost never see written out. That major lifehack, one-weird-trick step is something I like to call “do you see anything weird here?” And sometimes you might not be the right person to do this step – you may need to call in your collaborator with the relevant disciplinary or language expertise. For this project, if something had changed with how Ilana was using Hebrew words, I wouldn’t notice it but Dainy would. But as luck would have it, there was something in the data that was obviously weird to even me: Ilana suddenly and completely drops her “California girl” speech habits in books 13-17. You could be generous and say that it’s a sign she’s adapted to her environment… but it’s harder to believe it would happen so suddenly and completely.\n",
    "\n",
    "<img src='_static/images/dsc15_nocagirl.jpg' alt='Spreadsheet of Ilana quotes without any valley girl speak' />\n",
    "\n",
    "It’s worth running the “do you see anything weird here” check often as you work on a text analysis project – and not every weird thing means you need to make a change! But don’t brush off your skepticism: even if you decide to carry on despite some weirdness, remember that you had questions. Those doubts might be helpful when you reach the point where you need to interpret the results.\n",
    "\n",
    "In this case, it was clear that we needed to change the plan. We couldn’t use all 674 Ilana speech acts – the Ilana of the early books speaks noticeably differently than the Ilana of the later books. The “California girl” Ilana from books 9-12 only said 230 things according to Dainy’s list, so that’s all we had to work with. I brought this small data set, and a random sample of 230 non-Ilana quotes, to Associate Data-Sitter Mark Algee-Hewitt, to see what he’d suggest."
   ]
  },
  {
   "cell_type": "markdown",
   "id": "e1bac598",
   "metadata": {},
   "source": [
    "### Length and Normal Distribution\n",
    "\"Okay, I have all the Ilana quotes and non-Ilana quotes ... now what?\" I asked.\n",
    "\n",
    "Mark pulled out his laptop and opened up RStudio. \"Before we do anything about Ilana as such, we need to check to make sure any length differences between the samples aren't significant.\"\n",
    "\n",
    "I looked at Mark quizzically. \"I mean... it's not like there's a character who's super into speechifying or anything. And definitely not in the sample we generated. Why do we think length is going to be a problem?\"\n",
    "\n",
    "Mark laughed. \"Okay, so this is one of those things that happens at DH conferences -- where, like, you'll walk into a room and we'll be playing with the BSC corpus, looking for ways to see if Ilana's dialogue is different than other dialogue, and some bearded guy with a scarf will say, 'excuse me, did you test for statistical significance in the difference in speech length, and did you assume a normal distribution?' And everyone's going to hate him, but he's not wrong.\"\n",
    "\n",
    "I knew the type, and appreciated the value of preemptively heading off the bearded scarf-wearing guy type. I was in.\n",
    "\n",
    " \"First, we need to run qqnorm to test for normality. We need to know if it has a normal distribution before we can use a t-test to make sure that differences in length aren't significant,\" said Mark.\n",
    "\n",
    "Mark opened RStudio, and imported the data Dainy and I had prepared for Ilana and non-Ilana quotes."
   ]
  },
  {
   "cell_type": "markdown",
   "id": "a24b98b7",
   "metadata": {},
   "source": [
    "<div class=\"alert alert-block alert-warning\"><b>Warning: R incoming</b><p>Mark mostly codes in R; I mostly work in Python, and the <em>Data-Sitters Club</em> is published as a <a href=\"https://jupyterbook.org/en/stable/intro.html\">Jupyter Book</a> using a Python kernel – the thing that interprets and executes the code. So like we <a href=\"https://datasittersclub.github.io/site/dsc10.html#fitting-an-r-shaped-peg-into-a-jupyter-shaped-hole\">discussed in DSC 10</a>, I have to put <code>%%R</code> at the top of each cell of R code that I want to be interpreted as R, rather than Python. If you’re just running R, you don’t need that part.</p>\n",
    "</div>"
   ]
  },
  {
   "cell_type": "code",
   "execution_count": 7,
   "id": "cb1c3178",
   "metadata": {},
   "outputs": [
    {
     "name": "stdout",
     "output_type": "stream",
     "text": [
      "Requirement already satisfied: rpy2 in /Users/qad/anaconda3/lib/python3.8/site-packages (3.4.5)\r\n",
      "Requirement already satisfied: cffi>=1.10.0 in /Users/qad/anaconda3/lib/python3.8/site-packages (from rpy2) (1.14.5)\r\n",
      "Requirement already satisfied: tzlocal in /Users/qad/anaconda3/lib/python3.8/site-packages (from rpy2) (2.1)\r\n",
      "Requirement already satisfied: jinja2 in /Users/qad/anaconda3/lib/python3.8/site-packages (from rpy2) (2.11.3)\r\n",
      "Requirement already satisfied: pytz in /Users/qad/anaconda3/lib/python3.8/site-packages (from rpy2) (2021.1)\r\n",
      "Requirement already satisfied: pycparser in /Users/qad/anaconda3/lib/python3.8/site-packages (from cffi>=1.10.0->rpy2) (2.20)\r\n",
      "Requirement already satisfied: MarkupSafe>=0.23 in /Users/qad/anaconda3/lib/python3.8/site-packages (from jinja2->rpy2) (1.1.1)\r\n"
     ]
    }
   ],
   "source": [
    "#This installs rpy2, which is my Python-to-R adapter\n",
    "import sys\n",
    "!{sys.executable} -m pip install rpy2\n",
    "#This loads the Jupyter Notebook extension that lets me\n",
    "#run R code in a notebook that's otherwise Python by default\n",
    "%load_ext rpy2.ipython"
   ]
  },
  {
   "cell_type": "markdown",
   "id": "5829bec3",
   "metadata": {},
   "source": [
    "<div class=\"alert alert-block alert-success\">\n",
    "<b>Note:</b> We have more non-Ilana quotes than Ilana quotes, and random sampling will give you different results each time. In order to not have to change the text of this book every time we rerun the code, we’re importing a pre-sampled version of the non-Ilana quotes. If you need to sample data that you’ve imported, though, you can do it like this:\n",
    "    <code>length.nonilana.table&lt;-length.nonilana[sample(nrow(length.nonilana), 230),]</code>\n",
    "\n",
    "</div>"
   ]
  },
  {
   "cell_type": "code",
   "execution_count": 8,
   "id": "7bf95a7d",
   "metadata": {},
   "outputs": [
    {
     "name": "stdout",
     "output_type": "stream",
     "text": [
      "[1]"
     ]
    },
    {
     "name": "stdout",
     "output_type": "stream",
     "text": [
      " 230"
     ]
    },
    {
     "name": "stdout",
     "output_type": "stream",
     "text": [
      "   2"
     ]
    },
    {
     "name": "stdout",
     "output_type": "stream",
     "text": [
      "\n"
     ]
    }
   ],
   "source": [
    "%%R\n",
    "#Sets the working directory (e.g. where it looks for files)\n",
    "setwd(\"/Users/qad/Documents/GitHub/dsc15\")\n",
    "#Reads the non-Ilana quotes CSV\n",
    "length.nonilana<-read.csv(file='non_ilana_sample.csv', header=T)\n",
    "#Reads the Ilana quotes CSV\n",
    "length.ilana<-read.csv(file='ilana.csv', header=T)\n",
    "#Sets the column names on the Ilana quotes to be attribution, source, quote\n",
    "colnames(length.ilana)<-c(\"Attribution\", \"Source\", \"Quote\")\n",
    "#Checks the dimensions (rows, columns) for the non-Ilana quotes\n",
    "dim(length.nonilana)"
   ]
  },
  {
   "cell_type": "markdown",
   "id": "ac2fad0e",
   "metadata": {},
   "source": [
    "“Let’s limit the Ilana quotes to the ones in the books where she has the distinctive speech,” said Mark. “Once we do that, we can also drop the source column.”"
   ]
  },
  {
   "cell_type": "code",
   "execution_count": 9,
   "id": "3599b967",
   "metadata": {},
   "outputs": [
    {
     "name": "stdout",
     "output_type": "stream",
     "text": [
      "[1]"
     ]
    },
    {
     "name": "stdout",
     "output_type": "stream",
     "text": [
      " 230"
     ]
    },
    {
     "name": "stdout",
     "output_type": "stream",
     "text": [
      "   2"
     ]
    },
    {
     "name": "stdout",
     "output_type": "stream",
     "text": [
      "\n"
     ]
    }
   ],
   "source": [
    "%%R\n",
    "#Book source for the quotes is in the second column in this data\n",
    "#This code only keeps quotes where the source is one of the books \n",
    "length.ilana.table<-length.ilana[which(length.ilana[,2] %in% c(\"BYT9\", \"BYT10\", \"BYT11\", \"BYT12\")),]\n",
    "#Keep only the first column (attribution, i.e. \"Ilana\") and third (the text)\n",
    "length.ilana.table<-length.ilana.table[,c(1,3)]\n",
    "#Create a table with the non-Ilana quotes\n",
    "length.nonilana.table<-length.nonilana\n",
    "#Rename the columns of the Ilana table to match the non-Ilana table\n",
    "colnames(length.ilana.table)<-colnames(length.nonilana.table)\n",
    "#Check the dimensions of the Ilana table\n",
    "dim(length.ilana.table)"
   ]
  },
  {
   "cell_type": "markdown",
   "id": "65850cc1",
   "metadata": {},
   "source": [
    "“Now, let’s create a table that combines both the Ilana and the non-Ilana quotes.”"
   ]
  },
  {
   "cell_type": "code",
   "execution_count": 10,
   "id": "af788c1d",
   "metadata": {},
   "outputs": [
    {
     "name": "stdout",
     "output_type": "stream",
     "text": [
      "[1]"
     ]
    },
    {
     "name": "stdout",
     "output_type": "stream",
     "text": [
      " 460"
     ]
    },
    {
     "name": "stdout",
     "output_type": "stream",
     "text": [
      "   2"
     ]
    },
    {
     "name": "stdout",
     "output_type": "stream",
     "text": [
      "\n"
     ]
    }
   ],
   "source": [
    "%%R\n",
    "length.final.table<-rbind(length.ilana.table, length.nonilana.table)\n",
    "dim(length.final.table)"
   ]
  },
  {
   "cell_type": "markdown",
   "id": "582c21c6",
   "metadata": {},
   "source": [
    "“There’s a cleaning function I always use,” said Mark. “It lower-cases the text, and removes punctuation and such. Since we’ll be using that when we look for distinctive words, let’s do that here before we look for the length; it can make a small difference in the word count.”\n",
    "\n",
    "“Oh, like how ‘Baby-Sitters Club’ could be two or three words, depending on your code?”\n",
    "\n",
    "“Exactly.”\n"
   ]
  },
  {
   "cell_type": "code",
   "execution_count": 11,
   "id": "7f4a13c8",
   "metadata": {},
   "outputs": [],
   "source": [
    "%%R\n",
    "#Mark's cleaning function\n",
    "fullClean<-function(raw.text){\n",
    "  raw.text<-unlist(strsplit(raw.text, \"\"))\n",
    "  raw.text<-tolower(raw.text)\n",
    "  clean.text<-raw.text[which(raw.text %in% c(letters, LETTERS, \" \"))]\n",
    "  clean.text<-paste(clean.text, collapse=\"\")\n",
    "  return(clean.text)\n",
    "}\n",
    "\n",
    "#Clean the Ilana quotes\n",
    "clean.length.ilana<-lapply(length.ilana.table$Text, function(x) fullClean(x))\n",
    "#Clean the non-Ilana quotes\n",
    "clean.length.nonilana<-lapply(length.nonilana.table$Text, function(x) fullClean(x))\n",
    "\n",
    "#Adds a CleanText column to the Ilana table\n",
    "length.ilana.table$CleanText<-clean.length.ilana\n",
    "#Adds a CleanText column to the non-Ilana table\n",
    "length.nonilana.table$CleanText<-clean.length.nonilana\n",
    "#Counts the length and adds a Length column to the Ilana table\n",
    "text.length<-unlist(lapply(clean.length.ilana, function(x) length(unlist(strsplit(x, \" \")))))\n",
    "length.ilana.table$Length<-text.length\n",
    "#Counts the length and adds a Length column to the non-Ilana table\n",
    "text.length<-unlist(lapply(clean.length.nonilana, function(x) length(unlist(strsplit(x, \" \")))))\n",
    "length.nonilana.table$Length<-text.length"
   ]
  },
  {
   "cell_type": "markdown",
   "id": "4efb1c9c",
   "metadata": {},
   "source": [
    "“Let’s look at the mean length of the Ilana and non-Ilana quotes.”"
   ]
  },
  {
   "cell_type": "code",
   "execution_count": 12,
   "id": "1405d13e",
   "metadata": {},
   "outputs": [
    {
     "name": "stdout",
     "output_type": "stream",
     "text": [
      "[1]"
     ]
    },
    {
     "name": "stdout",
     "output_type": "stream",
     "text": [
      " 9.095652"
     ]
    },
    {
     "name": "stdout",
     "output_type": "stream",
     "text": [
      "\n"
     ]
    }
   ],
   "source": [
    "%%R\n",
    "#Average (mean) length of Ilana quotes\n",
    "mean(length.ilana.table$Length)"
   ]
  },
  {
   "cell_type": "code",
   "execution_count": 13,
   "id": "2794880d",
   "metadata": {},
   "outputs": [
    {
     "name": "stdout",
     "output_type": "stream",
     "text": [
      "[1]"
     ]
    },
    {
     "name": "stdout",
     "output_type": "stream",
     "text": [
      " 11.13913"
     ]
    },
    {
     "name": "stdout",
     "output_type": "stream",
     "text": [
      "\n"
     ]
    }
   ],
   "source": [
    "%%R\n",
    "#Average (mean) length of non-Ilana quotes\n",
    "mean(length.nonilana.table$Length)"
   ]
  },
  {
   "cell_type": "markdown",
   "id": "4b316126",
   "metadata": {},
   "source": [
    "“Now we’ll put all this data together in a single table.”"
   ]
  },
  {
   "cell_type": "code",
   "execution_count": 14,
   "id": "43c86593",
   "metadata": {},
   "outputs": [
    {
     "name": "stdout",
     "output_type": "stream",
     "text": [
      "[1]"
     ]
    },
    {
     "name": "stdout",
     "output_type": "stream",
     "text": [
      " 460"
     ]
    },
    {
     "name": "stdout",
     "output_type": "stream",
     "text": [
      "   4"
     ]
    },
    {
     "name": "stdout",
     "output_type": "stream",
     "text": [
      "\n"
     ]
    }
   ],
   "source": [
    "%%R\n",
    "#Combine Ilana and non-Ilana tables in a single table\n",
    "length.table<-rbind(length.ilana.table, length.nonilana.table)\n",
    "dim(length.table)"
   ]
  },
  {
   "cell_type": "markdown",
   "id": "35913a4c",
   "metadata": {},
   "source": [
    "“Let’s check the mean of all the data together.”"
   ]
  },
  {
   "cell_type": "code",
   "execution_count": 15,
   "id": "a6431528",
   "metadata": {},
   "outputs": [
    {
     "name": "stdout",
     "output_type": "stream",
     "text": [
      "[1]"
     ]
    },
    {
     "name": "stdout",
     "output_type": "stream",
     "text": [
      " 10.11739"
     ]
    },
    {
     "name": "stdout",
     "output_type": "stream",
     "text": [
      "\n"
     ]
    }
   ],
   "source": [
    "%%R\n",
    "mean(length.table$Length)"
   ]
  },
  {
   "cell_type": "markdown",
   "id": "332a5ec2",
   "metadata": {},
   "source": [
    "\"We know that the average length of the Ilana quotes is 9.1 words, and the average for non-Ilana quotes is 11.1 words. What we want to do is compare them, check on whether there's a meaningful difference between them. The statistical method we'd usually reach for is a *t-test* -- also known as the student's t-test -- which is a statistical test of whether or not the difference in the means of two distributions is significant. We compare the output to an *alpha*, which is a threshold value used to judge whether a test statistic is statistically significant. By convention, we use .05 -- if it's less than or equal to .05, we say it's statistically significant. But there's a catch: the t-test only works if the data is distributed *normally* -- normally in the statistical sense, where most of the values cluster in the central region, and they trail off equally in both directions. A normal distribution looks like a bell curve if you were to visualize it. For this data, that would mean that there'd be (roughly equally) few very long and very short quotes, and most of the quotes would be middle-length.\"\n",
    "\n",
    "\"How do we figure that out?\" I asked. \"There's got to be a better way than making a chart and eyeballing it, right?\"\n",
    "\n",
    "\"Yes,\" said Mark. \"We can use what's called a quantile-quantile plot, or qqplot, which is available as an R package. What it does is take two sets of data, and plots each quantile of one data set against the same quantile of the second data set. A quantile is just a way to break up data into chunks with the same probability -- you might have heard of *quartiles*, which break data into four pieces with equal probability: the second quartile is the *median* of the data, the first quartile is halfway between the starting point and the median, so that 25% of the data is below that point. The third quartile is the middle value between the median and the highest value, so that 75% of the data is below the third quartile. Anyhow, if the data follows a normal distribution, all the points should roughly fall along the reference line.\""
   ]
  },
  {
   "cell_type": "code",
   "execution_count": 16,
   "id": "1c3d70bd",
   "metadata": {},
   "outputs": [
    {
     "data": {
      "image/png": "[encoded data removed]"
     },
     "metadata": {
      "filenames": {
       "image/png": "/Users/qad/Documents/GitHub/site/site/_build/jupyter_execute/dsc15_33_0.png"
      }
     },
     "output_type": "display_data"
    }
   ],
   "source": [
    "%%R\n",
    "#Creates the qqnorm plot\n",
    "qqnorm(length.table$Length, pch=1, frame=F)\n",
    "#Adds the reference line\n",
    "qqline(length.table$Length, col=\"firebrick\", lwd=2)"
   ]
  },
  {
   "cell_type": "markdown",
   "id": "8f7bb8e8",
   "metadata": {},
   "source": [
    "“It’s not normal. Look how not-normal it is!” Mark exclaimed. “This data is wonky at the ends – especially the long end. So we have some kind of funky-tail distribution. It’s not normal enough to do a t-test… which means, we have to use a… you know …” Mark gestured vaguely.\n",
    "\n",
    "“Nope, definitely don’t know.”\n",
    "\n",
    "It was gratifying to see Mark pull up a web browser and Google for the answer, the same way I do. “Test difference non-parametric data…” and then, scrutinizing the results, he added “in R”. Success, apparently! “That’s it – there’s Mann-Whitney U test, also known as Wilcoxon rank-sum test, two names for, in our case, effectively the same thing – they both allow us to test for the difference between two samples of non-parametric, or non-normal, data. Instead of using mean values like we would use in a t-test, the Mann-Whitney asks: if we choose two random data points from sample A (Ilana) and sample B (non-Ilana), is the probability that A>B equal to the probability that B>A?  This is for independent variables – if we had dependent variables, then we could use a Wilcoxon Signed Rank test.” \n",
    "\n",
    "“Wait a minute, I’m confused again,” I said. “If I’m remembering right, ‘independent’ variables are things that you change in an experiment like this, and ‘dependent’ variables are things that change as a result of how you’ve changed the independent variable. Why are we saying we’re looking at independent variables? Couldn’t we argue that length is a dependent variable resulting from the independent variable of Ilana vs. non-Ilana?”\n",
    "\n",
    "“Yes, the length of both Ilana and non-Ilana quotes are dependent on who’s speaking them – that’s exactly the point of what we’re looking at,” said Mark. “But the question here is: are they dependent **on each other**? Does having short Ilana quotes mean that the length of the non-Ilana quotes will be affected, or vice-versa? Maybe if we knew the author had a very strict word-count limit or something, but the answer there is no, so we don’t have to worry about dependence.”\n",
    "\n",
    "“When *would* you have to worry about it?” I angsted.\n",
    "\n",
    "“Imagine if we had a data set where one feature is the number of times the word ‘a’ appeared in English-language texts, and another feature is the number of articles from a part-of-speech parse. Since increasing one increases the other, that means they are dependent.”\n",
    "\n",
    "“That makes sense” I said, relieved.\n",
    "\n",
    "Mark closed his browser and opened RStudio. “What we want to do is regress length onto attribution – a regression analysis helps us measure the influence of one or more independent variables – attribution, in this case – on a dependent variable, length.”\n"
   ]
  },
  {
   "cell_type": "code",
   "execution_count": 17,
   "id": "0c1eaa7d",
   "metadata": {},
   "outputs": [
    {
     "name": "stdout",
     "output_type": "stream",
     "text": [
      "\n"
     ]
    },
    {
     "name": "stdout",
     "output_type": "stream",
     "text": [
      "\tWilcoxon rank sum test with continuity correction"
     ]
    },
    {
     "name": "stdout",
     "output_type": "stream",
     "text": [
      "\n"
     ]
    },
    {
     "name": "stdout",
     "output_type": "stream",
     "text": [
      "\n"
     ]
    },
    {
     "name": "stdout",
     "output_type": "stream",
     "text": [
      "data:  "
     ]
    },
    {
     "name": "stdout",
     "output_type": "stream",
     "text": [
      "Length by Attribution"
     ]
    },
    {
     "name": "stdout",
     "output_type": "stream",
     "text": [
      "\n"
     ]
    },
    {
     "name": "stdout",
     "output_type": "stream",
     "text": [
      "W = 24564, p-value = 0.1849"
     ]
    },
    {
     "name": "stdout",
     "output_type": "stream",
     "text": [
      "\n"
     ]
    },
    {
     "name": "stdout",
     "output_type": "stream",
     "text": [
      "alternative hypothesis: "
     ]
    },
    {
     "name": "stdout",
     "output_type": "stream",
     "text": [
      "true "
     ]
    },
    {
     "name": "stdout",
     "output_type": "stream",
     "text": [
      "location shift"
     ]
    },
    {
     "name": "stdout",
     "output_type": "stream",
     "text": [
      " is "
     ]
    },
    {
     "name": "stdout",
     "output_type": "stream",
     "text": [
      "not equal to"
     ]
    },
    {
     "name": "stdout",
     "output_type": "stream",
     "text": [
      " "
     ]
    },
    {
     "name": "stdout",
     "output_type": "stream",
     "text": [
      "0"
     ]
    },
    {
     "name": "stdout",
     "output_type": "stream",
     "text": [
      "\n"
     ]
    },
    {
     "name": "stdout",
     "output_type": "stream",
     "text": [
      "\n"
     ]
    }
   ],
   "source": [
    "%%R\n",
    "w.result<-wilcox.test(Length~Attribution, length.table)\n",
    "w.result"
   ]
  },
  {
   "cell_type": "markdown",
   "id": "5e384fd6",
   "metadata": {},
   "source": [
    "“The p-value is .14, so we can safely say that the fact that non-Ilana dialogue is slightly longer (11.1 vs 9.1 for Ilana dialogue) shouldn’t make a difference,” Mark concluded. “Length has a large effect – in fact, it tends to have an outsized effect on computational results. You can adjust for length, but it’s kind of difficult. So when you’re comparing two groups of things, if there’s a statistically significant difference in length between them, it’s probably going to have an effect and we don’t want it to. We don’t want to create a model that just says “not-Ilana dialogue is longer, so if it’s long, it’s not Ilana.” That’s not going to get us a kind of classification that helps answer our question. Sometimes it can be very accurate – for the LitLab’s short story project, we created a model that predicted with 100% accuracy whether something was a short story or a novel, because it turns out that short stories are shorter than novels. It was extremely accurate, but completely unhelpful. In this case, it’s important that we know whether or not there’s a significant difference in length, because that’s not a difference we’re interested in. Hopefully there are *other* differences that we *are* interested in. Sometimes length could end up being an interesting difference – if the p-value was low for that test, that could be a sign that her dialogue is shorter in a way that merits a second look. It’s not, but now we know that conclusively, and we can discount it as a potentially confounding factor.”"
   ]
  },
  {
   "cell_type": "markdown",
   "id": "551177e9",
   "metadata": {},
   "source": [
    "### Distinctive words\n",
    "Mark pulled out some more code. “Let’s look for some distinctive words. We’ll start by installing some R packages…”"
   ]
  },
  {
   "cell_type": "code",
   "execution_count": 18,
   "id": "d4c73333",
   "metadata": {},
   "outputs": [
    {
     "name": "stderr",
     "output_type": "stream",
     "text": [
      "R[write to console]: Loading required package: tm\n",
      "\n"
     ]
    },
    {
     "name": "stderr",
     "output_type": "stream",
     "text": [
      "R[write to console]: Loading required package: NLP\n",
      "\n"
     ]
    },
    {
     "name": "stderr",
     "output_type": "stream",
     "text": [
      "R[write to console]: Loading required package: MASS\n",
      "\n"
     ]
    },
    {
     "name": "stderr",
     "output_type": "stream",
     "text": [
      "R[write to console]: Loading required package: klaR\n",
      "\n"
     ]
    },
    {
     "name": "stderr",
     "output_type": "stream",
     "text": [
      "R[write to console]: Loading required package: e1071\n",
      "\n"
     ]
    },
    {
     "name": "stderr",
     "output_type": "stream",
     "text": [
      "R[write to console]: Loading required package: SnowballC\n",
      "\n"
     ]
    },
    {
     "name": "stderr",
     "output_type": "stream",
     "text": [
      "R[write to console]: Loading required package: neuralnet\n",
      "\n"
     ]
    }
   ],
   "source": [
    "%%R\n",
    "\n",
    "setwd(\"/Users/qad/Documents/GitHub/dsc15\")\n",
    "if(!require(tm)){\n",
    "install.packages(\"tm\")\n",
    "}\n",
    "if(!require(MASS)){\n",
    "install.packages(\"MASS\")\n",
    "}\n",
    "if(!require(klaR)){\n",
    "install.packages(\"klaR\")\n",
    "}\n",
    "if(!require(e1071)){\n",
    "install.packages(\"e1071\")\n",
    "}\n",
    "if(!require(SnowballC)){\n",
    "install.packages(\"SnowballC\")\n",
    "}\n",
    "if(!require(neuralnet)){\n",
    "install.packages(\"neuralnet\")\n",
    "}\n"
   ]
  },
  {
   "cell_type": "markdown",
   "id": "f1842235",
   "metadata": {},
   "source": [
    "“Now, we’re going to import the data and make sure it looks right.”"
   ]
  },
  {
   "cell_type": "code",
   "execution_count": 19,
   "id": "0579ddb2",
   "metadata": {},
   "outputs": [
    {
     "name": "stdout",
     "output_type": "stream",
     "text": [
      "[1]"
     ]
    },
    {
     "name": "stdout",
     "output_type": "stream",
     "text": [
      " 230"
     ]
    },
    {
     "name": "stdout",
     "output_type": "stream",
     "text": [
      "   2"
     ]
    },
    {
     "name": "stdout",
     "output_type": "stream",
     "text": [
      "\n"
     ]
    }
   ],
   "source": [
    "%%R\n",
    "#Import non-Ilana sample\n",
    "non.ilana.mdws<-read.csv(file='non_ilana_sample.csv', header=T)\n",
    "#Import Ilana quotes\n",
    "ilana.mdws<-read.csv(file='ilana.csv', header=T)\n",
    "#Label the columns for the Ilana quotes\n",
    "colnames(ilana.mdws)<-c(\"Attribution\", \"Group\", \"Text\")\n",
    "#Get the dimensions of the non-Ilana data\n",
    "dim(non.ilana.mdws)"
   ]
  },
  {
   "cell_type": "code",
   "execution_count": 20,
   "id": "80a2df15",
   "metadata": {},
   "outputs": [
    {
     "name": "stdout",
     "output_type": "stream",
     "text": [
      "[1]"
     ]
    },
    {
     "name": "stdout",
     "output_type": "stream",
     "text": [
      " 673"
     ]
    },
    {
     "name": "stdout",
     "output_type": "stream",
     "text": [
      "   3"
     ]
    },
    {
     "name": "stdout",
     "output_type": "stream",
     "text": [
      "\n"
     ]
    }
   ],
   "source": [
    "%%R\n",
    "#Get the dimensions of the Ilana data\n",
    "dim(ilana.mdws)"
   ]
  },
  {
   "cell_type": "markdown",
   "id": "c70ad14f",
   "metadata": {},
   "source": [
    "“So far, so good,” said Mark. “Let’s make sure we’re seeing the right number for the different books with Ilana quotes.”"
   ]
  },
  {
   "cell_type": "code",
   "execution_count": 21,
   "id": "db59ca9c",
   "metadata": {},
   "outputs": [
    {
     "name": "stdout",
     "output_type": "stream",
     "text": [
      "\n"
     ]
    },
    {
     "name": "stdout",
     "output_type": "stream",
     "text": [
      "BYT10 "
     ]
    },
    {
     "name": "stdout",
     "output_type": "stream",
     "text": [
      "BYT11 "
     ]
    },
    {
     "name": "stdout",
     "output_type": "stream",
     "text": [
      "BYT12 "
     ]
    },
    {
     "name": "stdout",
     "output_type": "stream",
     "text": [
      "BYT13 "
     ]
    },
    {
     "name": "stdout",
     "output_type": "stream",
     "text": [
      "BYT14 "
     ]
    },
    {
     "name": "stdout",
     "output_type": "stream",
     "text": [
      "BYT15 "
     ]
    },
    {
     "name": "stdout",
     "output_type": "stream",
     "text": [
      "BYT16 "
     ]
    },
    {
     "name": "stdout",
     "output_type": "stream",
     "text": [
      "BYT17 "
     ]
    },
    {
     "name": "stdout",
     "output_type": "stream",
     "text": [
      " BYT9 "
     ]
    },
    {
     "name": "stdout",
     "output_type": "stream",
     "text": [
      "\n"
     ]
    },
    {
     "name": "stdout",
     "output_type": "stream",
     "text": [
      "   36 "
     ]
    },
    {
     "name": "stdout",
     "output_type": "stream",
     "text": [
      "  100 "
     ]
    },
    {
     "name": "stdout",
     "output_type": "stream",
     "text": [
      "   38 "
     ]
    },
    {
     "name": "stdout",
     "output_type": "stream",
     "text": [
      "  126 "
     ]
    },
    {
     "name": "stdout",
     "output_type": "stream",
     "text": [
      "  108 "
     ]
    },
    {
     "name": "stdout",
     "output_type": "stream",
     "text": [
      "   64 "
     ]
    },
    {
     "name": "stdout",
     "output_type": "stream",
     "text": [
      "   88 "
     ]
    },
    {
     "name": "stdout",
     "output_type": "stream",
     "text": [
      "   57 "
     ]
    },
    {
     "name": "stdout",
     "output_type": "stream",
     "text": [
      "   56 "
     ]
    },
    {
     "name": "stdout",
     "output_type": "stream",
     "text": [
      "\n"
     ]
    }
   ],
   "source": [
    "%%R\n",
    "#Get Ilana quotes, grouped by book\n",
    "table(ilana.mdws$Group)"
   ]
  },
  {
   "cell_type": "markdown",
   "id": "7498ffde",
   "metadata": {},
   "source": [
    "“Now, we need to limit our Ilana quotes to just those books where she has the distinctive speech patterns.”"
   ]
  },
  {
   "cell_type": "code",
   "execution_count": 22,
   "id": "697747cb",
   "metadata": {},
   "outputs": [
    {
     "name": "stdout",
     "output_type": "stream",
     "text": [
      "[1]"
     ]
    },
    {
     "name": "stdout",
     "output_type": "stream",
     "text": [
      " 230"
     ]
    },
    {
     "name": "stdout",
     "output_type": "stream",
     "text": [
      "\n"
     ]
    }
   ],
   "source": [
    "%%R \n",
    "#Use only the Ilana quotes from books 9-12\n",
    "ilana.quotes.mdws<-ilana.mdws$Text[which(ilana.mdws$Group %in% c('BYT9', 'BYT10', \"BYT11\", \"BYT12\"))]\n",
    "#Get the length of the Ilana quotes from the distinctive books\n",
    "length(ilana.quotes.mdws)"
   ]
  },
  {
   "cell_type": "markdown",
   "id": "0c74633a",
   "metadata": {},
   "source": [
    "“We’ve already imported the same sample as before for the non-Ilana quotes, so we have the same number as the Ilana quotes. Now, we’ll put all the quotes together into a single R vector.”"
   ]
  },
  {
   "cell_type": "code",
   "execution_count": 23,
   "id": "28819fb8",
   "metadata": {},
   "outputs": [
    {
     "name": "stdout",
     "output_type": "stream",
     "text": [
      "[1]"
     ]
    },
    {
     "name": "stdout",
     "output_type": "stream",
     "text": [
      " 460"
     ]
    },
    {
     "name": "stdout",
     "output_type": "stream",
     "text": [
      "\n"
     ]
    }
   ],
   "source": [
    "%%R\n",
    "#Create a vector of just the text of non-Ilana quotes\n",
    "non.ilana.quotes.mdws<-non.ilana.mdws$Text\n",
    "#Combine Ilana and non-Ilana quotes\n",
    "quotes.mdws<-c(ilana.quotes.mdws, non.ilana.quotes.mdws)\n",
    "length(quotes.mdws)"
   ]
  },
  {
   "cell_type": "code",
   "execution_count": 24,
   "id": "a537de2b",
   "metadata": {},
   "outputs": [
    {
     "name": "stdout",
     "output_type": "stream",
     "text": [
      "[1]"
     ]
    },
    {
     "name": "stdout",
     "output_type": "stream",
     "text": [
      " 460"
     ]
    },
    {
     "name": "stdout",
     "output_type": "stream",
     "text": [
      "\n"
     ]
    }
   ],
   "source": [
    "%%R\n",
    "#Create a vector for groups, to label Ilana & non-Ilana data\n",
    "groups.mdws<-c(rep(\"Ilana\", 230), rep(\"nonIlana\", 230))\n",
    "length(groups.mdws)"
   ]
  },
  {
   "cell_type": "markdown",
   "id": "1c5b6437",
   "metadata": {},
   "source": [
    "“Finally, we’ll create a new table out of the corpus of quotes and the group designations.”"
   ]
  },
  {
   "cell_type": "code",
   "execution_count": 25,
   "id": "44435561",
   "metadata": {},
   "outputs": [],
   "source": [
    "%%R\n",
    "#make a new table out of the sampled corpus and group designations\n",
    "new.ilana.table.mdws<-data.frame(groups.mdws, quotes.mdws)\n",
    "metadata.table.mdws<-new.ilana.table.mdws"
   ]
  },
  {
   "cell_type": "markdown",
   "id": "0aea2dbb",
   "metadata": {},
   "source": [
    "“Let’s clean our quotes next! We should also check to see if the default English stopwords list includes any of the ‘Ilana words’.”"
   ]
  },
  {
   "cell_type": "code",
   "execution_count": 26,
   "id": "98fb3090",
   "metadata": {},
   "outputs": [
    {
     "name": "stdout",
     "output_type": "stream",
     "text": [
      "  [1]"
     ]
    },
    {
     "name": "stdout",
     "output_type": "stream",
     "text": [
      " \"i\"         "
     ]
    },
    {
     "name": "stdout",
     "output_type": "stream",
     "text": [
      " \"me\"        "
     ]
    },
    {
     "name": "stdout",
     "output_type": "stream",
     "text": [
      " \"my\"        "
     ]
    },
    {
     "name": "stdout",
     "output_type": "stream",
     "text": [
      " \"myself\"    "
     ]
    },
    {
     "name": "stdout",
     "output_type": "stream",
     "text": [
      " \"we\"        "
     ]
    },
    {
     "name": "stdout",
     "output_type": "stream",
     "text": [
      "\n"
     ]
    },
    {
     "name": "stdout",
     "output_type": "stream",
     "text": [
      "  [6]"
     ]
    },
    {
     "name": "stdout",
     "output_type": "stream",
     "text": [
      " \"our\"       "
     ]
    },
    {
     "name": "stdout",
     "output_type": "stream",
     "text": [
      " \"ours\"      "
     ]
    },
    {
     "name": "stdout",
     "output_type": "stream",
     "text": [
      " \"ourselves\" "
     ]
    },
    {
     "name": "stdout",
     "output_type": "stream",
     "text": [
      " \"you\"       "
     ]
    },
    {
     "name": "stdout",
     "output_type": "stream",
     "text": [
      " \"your\"      "
     ]
    },
    {
     "name": "stdout",
     "output_type": "stream",
     "text": [
      "\n"
     ]
    },
    {
     "name": "stdout",
     "output_type": "stream",
     "text": [
      " [11]"
     ]
    },
    {
     "name": "stdout",
     "output_type": "stream",
     "text": [
      " \"yours\"     "
     ]
    },
    {
     "name": "stdout",
     "output_type": "stream",
     "text": [
      " \"yourself\"  "
     ]
    },
    {
     "name": "stdout",
     "output_type": "stream",
     "text": [
      " \"yourselves\""
     ]
    },
    {
     "name": "stdout",
     "output_type": "stream",
     "text": [
      " \"he\"        "
     ]
    },
    {
     "name": "stdout",
     "output_type": "stream",
     "text": [
      " \"him\"       "
     ]
    },
    {
     "name": "stdout",
     "output_type": "stream",
     "text": [
      "\n"
     ]
    },
    {
     "name": "stdout",
     "output_type": "stream",
     "text": [
      " [16]"
     ]
    },
    {
     "name": "stdout",
     "output_type": "stream",
     "text": [
      " \"his\"       "
     ]
    },
    {
     "name": "stdout",
     "output_type": "stream",
     "text": [
      " \"himself\"   "
     ]
    },
    {
     "name": "stdout",
     "output_type": "stream",
     "text": [
      " \"she\"       "
     ]
    },
    {
     "name": "stdout",
     "output_type": "stream",
     "text": [
      " \"her\"       "
     ]
    },
    {
     "name": "stdout",
     "output_type": "stream",
     "text": [
      " \"hers\"      "
     ]
    },
    {
     "name": "stdout",
     "output_type": "stream",
     "text": [
      "\n"
     ]
    },
    {
     "name": "stdout",
     "output_type": "stream",
     "text": [
      " [21]"
     ]
    },
    {
     "name": "stdout",
     "output_type": "stream",
     "text": [
      " \"herself\"   "
     ]
    },
    {
     "name": "stdout",
     "output_type": "stream",
     "text": [
      " \"it\"        "
     ]
    },
    {
     "name": "stdout",
     "output_type": "stream",
     "text": [
      " \"its\"       "
     ]
    },
    {
     "name": "stdout",
     "output_type": "stream",
     "text": [
      " \"itself\"    "
     ]
    },
    {
     "name": "stdout",
     "output_type": "stream",
     "text": [
      " \"they\"      "
     ]
    },
    {
     "name": "stdout",
     "output_type": "stream",
     "text": [
      "\n"
     ]
    },
    {
     "name": "stdout",
     "output_type": "stream",
     "text": [
      " [26]"
     ]
    },
    {
     "name": "stdout",
     "output_type": "stream",
     "text": [
      " \"them\"      "
     ]
    },
    {
     "name": "stdout",
     "output_type": "stream",
     "text": [
      " \"their\"     "
     ]
    },
    {
     "name": "stdout",
     "output_type": "stream",
     "text": [
      " \"theirs\"    "
     ]
    },
    {
     "name": "stdout",
     "output_type": "stream",
     "text": [
      " \"themselves\""
     ]
    },
    {
     "name": "stdout",
     "output_type": "stream",
     "text": [
      " \"what\"      "
     ]
    },
    {
     "name": "stdout",
     "output_type": "stream",
     "text": [
      "\n"
     ]
    },
    {
     "name": "stdout",
     "output_type": "stream",
     "text": [
      " [31]"
     ]
    },
    {
     "name": "stdout",
     "output_type": "stream",
     "text": [
      " \"which\"     "
     ]
    },
    {
     "name": "stdout",
     "output_type": "stream",
     "text": [
      " \"who\"       "
     ]
    },
    {
     "name": "stdout",
     "output_type": "stream",
     "text": [
      " \"whom\"      "
     ]
    },
    {
     "name": "stdout",
     "output_type": "stream",
     "text": [
      " \"this\"      "
     ]
    },
    {
     "name": "stdout",
     "output_type": "stream",
     "text": [
      " \"that\"      "
     ]
    },
    {
     "name": "stdout",
     "output_type": "stream",
     "text": [
      "\n"
     ]
    },
    {
     "name": "stdout",
     "output_type": "stream",
     "text": [
      " [36]"
     ]
    },
    {
     "name": "stdout",
     "output_type": "stream",
     "text": [
      " \"these\"     "
     ]
    },
    {
     "name": "stdout",
     "output_type": "stream",
     "text": [
      " \"those\"     "
     ]
    },
    {
     "name": "stdout",
     "output_type": "stream",
     "text": [
      " \"am\"        "
     ]
    },
    {
     "name": "stdout",
     "output_type": "stream",
     "text": [
      " \"is\"        "
     ]
    },
    {
     "name": "stdout",
     "output_type": "stream",
     "text": [
      " \"are\"       "
     ]
    },
    {
     "name": "stdout",
     "output_type": "stream",
     "text": [
      "\n"
     ]
    },
    {
     "name": "stdout",
     "output_type": "stream",
     "text": [
      " [41]"
     ]
    },
    {
     "name": "stdout",
     "output_type": "stream",
     "text": [
      " \"was\"       "
     ]
    },
    {
     "name": "stdout",
     "output_type": "stream",
     "text": [
      " \"were\"      "
     ]
    },
    {
     "name": "stdout",
     "output_type": "stream",
     "text": [
      " \"be\"        "
     ]
    },
    {
     "name": "stdout",
     "output_type": "stream",
     "text": [
      " \"been\"      "
     ]
    },
    {
     "name": "stdout",
     "output_type": "stream",
     "text": [
      " \"being\"     "
     ]
    },
    {
     "name": "stdout",
     "output_type": "stream",
     "text": [
      "\n"
     ]
    },
    {
     "name": "stdout",
     "output_type": "stream",
     "text": [
      " [46]"
     ]
    },
    {
     "name": "stdout",
     "output_type": "stream",
     "text": [
      " \"have\"      "
     ]
    },
    {
     "name": "stdout",
     "output_type": "stream",
     "text": [
      " \"has\"       "
     ]
    },
    {
     "name": "stdout",
     "output_type": "stream",
     "text": [
      " \"had\"       "
     ]
    },
    {
     "name": "stdout",
     "output_type": "stream",
     "text": [
      " \"having\"    "
     ]
    },
    {
     "name": "stdout",
     "output_type": "stream",
     "text": [
      " \"do\"        "
     ]
    },
    {
     "name": "stdout",
     "output_type": "stream",
     "text": [
      "\n"
     ]
    },
    {
     "name": "stdout",
     "output_type": "stream",
     "text": [
      " [51]"
     ]
    },
    {
     "name": "stdout",
     "output_type": "stream",
     "text": [
      " \"does\"      "
     ]
    },
    {
     "name": "stdout",
     "output_type": "stream",
     "text": [
      " \"did\"       "
     ]
    },
    {
     "name": "stdout",
     "output_type": "stream",
     "text": [
      " \"doing\"     "
     ]
    },
    {
     "name": "stdout",
     "output_type": "stream",
     "text": [
      " \"would\"     "
     ]
    },
    {
     "name": "stdout",
     "output_type": "stream",
     "text": [
      " \"should\"    "
     ]
    },
    {
     "name": "stdout",
     "output_type": "stream",
     "text": [
      "\n"
     ]
    },
    {
     "name": "stdout",
     "output_type": "stream",
     "text": [
      " [56]"
     ]
    },
    {
     "name": "stdout",
     "output_type": "stream",
     "text": [
      " \"could\"     "
     ]
    },
    {
     "name": "stdout",
     "output_type": "stream",
     "text": [
      " \"ought\"     "
     ]
    },
    {
     "name": "stdout",
     "output_type": "stream",
     "text": [
      " \"i'm\"       "
     ]
    },
    {
     "name": "stdout",
     "output_type": "stream",
     "text": [
      " \"you're\"    "
     ]
    },
    {
     "name": "stdout",
     "output_type": "stream",
     "text": [
      " \"he's\"      "
     ]
    },
    {
     "name": "stdout",
     "output_type": "stream",
     "text": [
      "\n"
     ]
    },
    {
     "name": "stdout",
     "output_type": "stream",
     "text": [
      " [61]"
     ]
    },
    {
     "name": "stdout",
     "output_type": "stream",
     "text": [
      " \"she's\"     "
     ]
    },
    {
     "name": "stdout",
     "output_type": "stream",
     "text": [
      " \"it's\"      "
     ]
    },
    {
     "name": "stdout",
     "output_type": "stream",
     "text": [
      " \"we're\"     "
     ]
    },
    {
     "name": "stdout",
     "output_type": "stream",
     "text": [
      " \"they're\"   "
     ]
    },
    {
     "name": "stdout",
     "output_type": "stream",
     "text": [
      " \"i've\"      "
     ]
    },
    {
     "name": "stdout",
     "output_type": "stream",
     "text": [
      "\n"
     ]
    },
    {
     "name": "stdout",
     "output_type": "stream",
     "text": [
      " [66]"
     ]
    },
    {
     "name": "stdout",
     "output_type": "stream",
     "text": [
      " \"you've\"    "
     ]
    },
    {
     "name": "stdout",
     "output_type": "stream",
     "text": [
      " \"we've\"     "
     ]
    },
    {
     "name": "stdout",
     "output_type": "stream",
     "text": [
      " \"they've\"   "
     ]
    },
    {
     "name": "stdout",
     "output_type": "stream",
     "text": [
      " \"i'd\"       "
     ]
    },
    {
     "name": "stdout",
     "output_type": "stream",
     "text": [
      " \"you'd\"     "
     ]
    },
    {
     "name": "stdout",
     "output_type": "stream",
     "text": [
      "\n"
     ]
    },
    {
     "name": "stdout",
     "output_type": "stream",
     "text": [
      " [71]"
     ]
    },
    {
     "name": "stdout",
     "output_type": "stream",
     "text": [
      " \"he'd\"      "
     ]
    },
    {
     "name": "stdout",
     "output_type": "stream",
     "text": [
      " \"she'd\"     "
     ]
    },
    {
     "name": "stdout",
     "output_type": "stream",
     "text": [
      " \"we'd\"      "
     ]
    },
    {
     "name": "stdout",
     "output_type": "stream",
     "text": [
      " \"they'd\"    "
     ]
    },
    {
     "name": "stdout",
     "output_type": "stream",
     "text": [
      " \"i'll\"      "
     ]
    },
    {
     "name": "stdout",
     "output_type": "stream",
     "text": [
      "\n"
     ]
    },
    {
     "name": "stdout",
     "output_type": "stream",
     "text": [
      " [76]"
     ]
    },
    {
     "name": "stdout",
     "output_type": "stream",
     "text": [
      " \"you'll\"    "
     ]
    },
    {
     "name": "stdout",
     "output_type": "stream",
     "text": [
      " \"he'll\"     "
     ]
    },
    {
     "name": "stdout",
     "output_type": "stream",
     "text": [
      " \"she'll\"    "
     ]
    },
    {
     "name": "stdout",
     "output_type": "stream",
     "text": [
      " \"we'll\"     "
     ]
    },
    {
     "name": "stdout",
     "output_type": "stream",
     "text": [
      " \"they'll\"   "
     ]
    },
    {
     "name": "stdout",
     "output_type": "stream",
     "text": [
      "\n"
     ]
    },
    {
     "name": "stdout",
     "output_type": "stream",
     "text": [
      " [81]"
     ]
    },
    {
     "name": "stdout",
     "output_type": "stream",
     "text": [
      " \"isn't\"     "
     ]
    },
    {
     "name": "stdout",
     "output_type": "stream",
     "text": [
      " \"aren't\"    "
     ]
    },
    {
     "name": "stdout",
     "output_type": "stream",
     "text": [
      " \"wasn't\"    "
     ]
    },
    {
     "name": "stdout",
     "output_type": "stream",
     "text": [
      " \"weren't\"   "
     ]
    },
    {
     "name": "stdout",
     "output_type": "stream",
     "text": [
      " \"hasn't\"    "
     ]
    },
    {
     "name": "stdout",
     "output_type": "stream",
     "text": [
      "\n"
     ]
    },
    {
     "name": "stdout",
     "output_type": "stream",
     "text": [
      " [86]"
     ]
    },
    {
     "name": "stdout",
     "output_type": "stream",
     "text": [
      " \"haven't\"   "
     ]
    },
    {
     "name": "stdout",
     "output_type": "stream",
     "text": [
      " \"hadn't\"    "
     ]
    },
    {
     "name": "stdout",
     "output_type": "stream",
     "text": [
      " \"doesn't\"   "
     ]
    },
    {
     "name": "stdout",
     "output_type": "stream",
     "text": [
      " \"don't\"     "
     ]
    },
    {
     "name": "stdout",
     "output_type": "stream",
     "text": [
      " \"didn't\"    "
     ]
    },
    {
     "name": "stdout",
     "output_type": "stream",
     "text": [
      "\n"
     ]
    },
    {
     "name": "stdout",
     "output_type": "stream",
     "text": [
      " [91]"
     ]
    },
    {
     "name": "stdout",
     "output_type": "stream",
     "text": [
      " \"won't\"     "
     ]
    },
    {
     "name": "stdout",
     "output_type": "stream",
     "text": [
      " \"wouldn't\"  "
     ]
    },
    {
     "name": "stdout",
     "output_type": "stream",
     "text": [
      " \"shan't\"    "
     ]
    },
    {
     "name": "stdout",
     "output_type": "stream",
     "text": [
      " \"shouldn't\" "
     ]
    },
    {
     "name": "stdout",
     "output_type": "stream",
     "text": [
      " \"can't\"     "
     ]
    },
    {
     "name": "stdout",
     "output_type": "stream",
     "text": [
      "\n"
     ]
    },
    {
     "name": "stdout",
     "output_type": "stream",
     "text": [
      " [96]"
     ]
    },
    {
     "name": "stdout",
     "output_type": "stream",
     "text": [
      " \"cannot\"    "
     ]
    },
    {
     "name": "stdout",
     "output_type": "stream",
     "text": [
      " \"couldn't\"  "
     ]
    },
    {
     "name": "stdout",
     "output_type": "stream",
     "text": [
      " \"mustn't\"   "
     ]
    },
    {
     "name": "stdout",
     "output_type": "stream",
     "text": [
      " \"let's\"     "
     ]
    },
    {
     "name": "stdout",
     "output_type": "stream",
     "text": [
      " \"that's\"    "
     ]
    },
    {
     "name": "stdout",
     "output_type": "stream",
     "text": [
      "\n"
     ]
    },
    {
     "name": "stdout",
     "output_type": "stream",
     "text": [
      "[101]"
     ]
    },
    {
     "name": "stdout",
     "output_type": "stream",
     "text": [
      " \"who's\"     "
     ]
    },
    {
     "name": "stdout",
     "output_type": "stream",
     "text": [
      " \"what's\"    "
     ]
    },
    {
     "name": "stdout",
     "output_type": "stream",
     "text": [
      " \"here's\"    "
     ]
    },
    {
     "name": "stdout",
     "output_type": "stream",
     "text": [
      " \"there's\"   "
     ]
    },
    {
     "name": "stdout",
     "output_type": "stream",
     "text": [
      " \"when's\"    "
     ]
    },
    {
     "name": "stdout",
     "output_type": "stream",
     "text": [
      "\n"
     ]
    },
    {
     "name": "stdout",
     "output_type": "stream",
     "text": [
      "[106]"
     ]
    },
    {
     "name": "stdout",
     "output_type": "stream",
     "text": [
      " \"where's\"   "
     ]
    },
    {
     "name": "stdout",
     "output_type": "stream",
     "text": [
      " \"why's\"     "
     ]
    },
    {
     "name": "stdout",
     "output_type": "stream",
     "text": [
      " \"how's\"     "
     ]
    },
    {
     "name": "stdout",
     "output_type": "stream",
     "text": [
      " \"a\"         "
     ]
    },
    {
     "name": "stdout",
     "output_type": "stream",
     "text": [
      " \"an\"        "
     ]
    },
    {
     "name": "stdout",
     "output_type": "stream",
     "text": [
      "\n"
     ]
    },
    {
     "name": "stdout",
     "output_type": "stream",
     "text": [
      "[111]"
     ]
    },
    {
     "name": "stdout",
     "output_type": "stream",
     "text": [
      " \"the\"       "
     ]
    },
    {
     "name": "stdout",
     "output_type": "stream",
     "text": [
      " \"and\"       "
     ]
    },
    {
     "name": "stdout",
     "output_type": "stream",
     "text": [
      " \"but\"       "
     ]
    },
    {
     "name": "stdout",
     "output_type": "stream",
     "text": [
      " \"if\"        "
     ]
    },
    {
     "name": "stdout",
     "output_type": "stream",
     "text": [
      " \"or\"        "
     ]
    },
    {
     "name": "stdout",
     "output_type": "stream",
     "text": [
      "\n"
     ]
    },
    {
     "name": "stdout",
     "output_type": "stream",
     "text": [
      "[116]"
     ]
    },
    {
     "name": "stdout",
     "output_type": "stream",
     "text": [
      " \"because\"   "
     ]
    },
    {
     "name": "stdout",
     "output_type": "stream",
     "text": [
      " \"as\"        "
     ]
    },
    {
     "name": "stdout",
     "output_type": "stream",
     "text": [
      " \"until\"     "
     ]
    },
    {
     "name": "stdout",
     "output_type": "stream",
     "text": [
      " \"while\"     "
     ]
    },
    {
     "name": "stdout",
     "output_type": "stream",
     "text": [
      " \"of\"        "
     ]
    },
    {
     "name": "stdout",
     "output_type": "stream",
     "text": [
      "\n"
     ]
    },
    {
     "name": "stdout",
     "output_type": "stream",
     "text": [
      "[121]"
     ]
    },
    {
     "name": "stdout",
     "output_type": "stream",
     "text": [
      " \"at\"        "
     ]
    },
    {
     "name": "stdout",
     "output_type": "stream",
     "text": [
      " \"by\"        "
     ]
    },
    {
     "name": "stdout",
     "output_type": "stream",
     "text": [
      " \"for\"       "
     ]
    },
    {
     "name": "stdout",
     "output_type": "stream",
     "text": [
      " \"with\"      "
     ]
    },
    {
     "name": "stdout",
     "output_type": "stream",
     "text": [
      " \"about\"     "
     ]
    },
    {
     "name": "stdout",
     "output_type": "stream",
     "text": [
      "\n"
     ]
    },
    {
     "name": "stdout",
     "output_type": "stream",
     "text": [
      "[126]"
     ]
    },
    {
     "name": "stdout",
     "output_type": "stream",
     "text": [
      " \"against\"   "
     ]
    },
    {
     "name": "stdout",
     "output_type": "stream",
     "text": [
      " \"between\"   "
     ]
    },
    {
     "name": "stdout",
     "output_type": "stream",
     "text": [
      " \"into\"      "
     ]
    },
    {
     "name": "stdout",
     "output_type": "stream",
     "text": [
      " \"through\"   "
     ]
    },
    {
     "name": "stdout",
     "output_type": "stream",
     "text": [
      " \"during\"    "
     ]
    },
    {
     "name": "stdout",
     "output_type": "stream",
     "text": [
      "\n"
     ]
    },
    {
     "name": "stdout",
     "output_type": "stream",
     "text": [
      "[131]"
     ]
    },
    {
     "name": "stdout",
     "output_type": "stream",
     "text": [
      " \"before\"    "
     ]
    },
    {
     "name": "stdout",
     "output_type": "stream",
     "text": [
      " \"after\"     "
     ]
    },
    {
     "name": "stdout",
     "output_type": "stream",
     "text": [
      " \"above\"     "
     ]
    },
    {
     "name": "stdout",
     "output_type": "stream",
     "text": [
      " \"below\"     "
     ]
    },
    {
     "name": "stdout",
     "output_type": "stream",
     "text": [
      " \"to\"        "
     ]
    },
    {
     "name": "stdout",
     "output_type": "stream",
     "text": [
      "\n"
     ]
    },
    {
     "name": "stdout",
     "output_type": "stream",
     "text": [
      "[136]"
     ]
    },
    {
     "name": "stdout",
     "output_type": "stream",
     "text": [
      " \"from\"      "
     ]
    },
    {
     "name": "stdout",
     "output_type": "stream",
     "text": [
      " \"up\"        "
     ]
    },
    {
     "name": "stdout",
     "output_type": "stream",
     "text": [
      " \"down\"      "
     ]
    },
    {
     "name": "stdout",
     "output_type": "stream",
     "text": [
      " \"in\"        "
     ]
    },
    {
     "name": "stdout",
     "output_type": "stream",
     "text": [
      " \"out\"       "
     ]
    },
    {
     "name": "stdout",
     "output_type": "stream",
     "text": [
      "\n"
     ]
    },
    {
     "name": "stdout",
     "output_type": "stream",
     "text": [
      "[141]"
     ]
    },
    {
     "name": "stdout",
     "output_type": "stream",
     "text": [
      " \"on\"        "
     ]
    },
    {
     "name": "stdout",
     "output_type": "stream",
     "text": [
      " \"off\"       "
     ]
    },
    {
     "name": "stdout",
     "output_type": "stream",
     "text": [
      " \"over\"      "
     ]
    },
    {
     "name": "stdout",
     "output_type": "stream",
     "text": [
      " \"under\"     "
     ]
    },
    {
     "name": "stdout",
     "output_type": "stream",
     "text": [
      " \"again\"     "
     ]
    },
    {
     "name": "stdout",
     "output_type": "stream",
     "text": [
      "\n"
     ]
    },
    {
     "name": "stdout",
     "output_type": "stream",
     "text": [
      "[146]"
     ]
    },
    {
     "name": "stdout",
     "output_type": "stream",
     "text": [
      " \"further\"   "
     ]
    },
    {
     "name": "stdout",
     "output_type": "stream",
     "text": [
      " \"then\"      "
     ]
    },
    {
     "name": "stdout",
     "output_type": "stream",
     "text": [
      " \"once\"      "
     ]
    },
    {
     "name": "stdout",
     "output_type": "stream",
     "text": [
      " \"here\"      "
     ]
    },
    {
     "name": "stdout",
     "output_type": "stream",
     "text": [
      " \"there\"     "
     ]
    },
    {
     "name": "stdout",
     "output_type": "stream",
     "text": [
      "\n"
     ]
    },
    {
     "name": "stdout",
     "output_type": "stream",
     "text": [
      "[151]"
     ]
    },
    {
     "name": "stdout",
     "output_type": "stream",
     "text": [
      " \"when\"      "
     ]
    },
    {
     "name": "stdout",
     "output_type": "stream",
     "text": [
      " \"where\"     "
     ]
    },
    {
     "name": "stdout",
     "output_type": "stream",
     "text": [
      " \"why\"       "
     ]
    },
    {
     "name": "stdout",
     "output_type": "stream",
     "text": [
      " \"how\"       "
     ]
    },
    {
     "name": "stdout",
     "output_type": "stream",
     "text": [
      " \"all\"       "
     ]
    },
    {
     "name": "stdout",
     "output_type": "stream",
     "text": [
      "\n"
     ]
    },
    {
     "name": "stdout",
     "output_type": "stream",
     "text": [
      "[156]"
     ]
    },
    {
     "name": "stdout",
     "output_type": "stream",
     "text": [
      " \"any\"       "
     ]
    },
    {
     "name": "stdout",
     "output_type": "stream",
     "text": [
      " \"both\"      "
     ]
    },
    {
     "name": "stdout",
     "output_type": "stream",
     "text": [
      " \"each\"      "
     ]
    },
    {
     "name": "stdout",
     "output_type": "stream",
     "text": [
      " \"few\"       "
     ]
    },
    {
     "name": "stdout",
     "output_type": "stream",
     "text": [
      " \"more\"      "
     ]
    },
    {
     "name": "stdout",
     "output_type": "stream",
     "text": [
      "\n"
     ]
    },
    {
     "name": "stdout",
     "output_type": "stream",
     "text": [
      "[161]"
     ]
    },
    {
     "name": "stdout",
     "output_type": "stream",
     "text": [
      " \"most\"      "
     ]
    },
    {
     "name": "stdout",
     "output_type": "stream",
     "text": [
      " \"other\"     "
     ]
    },
    {
     "name": "stdout",
     "output_type": "stream",
     "text": [
      " \"some\"      "
     ]
    },
    {
     "name": "stdout",
     "output_type": "stream",
     "text": [
      " \"such\"      "
     ]
    },
    {
     "name": "stdout",
     "output_type": "stream",
     "text": [
      " \"no\"        "
     ]
    },
    {
     "name": "stdout",
     "output_type": "stream",
     "text": [
      "\n"
     ]
    },
    {
     "name": "stdout",
     "output_type": "stream",
     "text": [
      "[166]"
     ]
    },
    {
     "name": "stdout",
     "output_type": "stream",
     "text": [
      " \"nor\"       "
     ]
    },
    {
     "name": "stdout",
     "output_type": "stream",
     "text": [
      " \"not\"       "
     ]
    },
    {
     "name": "stdout",
     "output_type": "stream",
     "text": [
      " \"only\"      "
     ]
    },
    {
     "name": "stdout",
     "output_type": "stream",
     "text": [
      " \"own\"       "
     ]
    },
    {
     "name": "stdout",
     "output_type": "stream",
     "text": [
      " \"same\"      "
     ]
    },
    {
     "name": "stdout",
     "output_type": "stream",
     "text": [
      "\n"
     ]
    },
    {
     "name": "stdout",
     "output_type": "stream",
     "text": [
      "[171]"
     ]
    },
    {
     "name": "stdout",
     "output_type": "stream",
     "text": [
      " \"so\"        "
     ]
    },
    {
     "name": "stdout",
     "output_type": "stream",
     "text": [
      " \"than\"      "
     ]
    },
    {
     "name": "stdout",
     "output_type": "stream",
     "text": [
      " \"too\"       "
     ]
    },
    {
     "name": "stdout",
     "output_type": "stream",
     "text": [
      " \"very\"      "
     ]
    },
    {
     "name": "stdout",
     "output_type": "stream",
     "text": [
      "\n"
     ]
    }
   ],
   "source": [
    "%%R\n",
    "#Extract the text from the table\n",
    "raw.corpus.mdws<-quotes.mdws\n",
    "#Apply the cleaning function\n",
    "clean.corpus.mdws<-lapply(raw.corpus.mdws, function(x) fullClean(x))\n",
    "#Create a vector with the clean corpus\n",
    "clean.corpus.mdws<-Corpus(VectorSource(clean.corpus.mdws))\n",
    "#Remove stopwords\n",
    "clean.corpus.mdws<-tm_map(clean.corpus.mdws, content_transformer(removeWords), stopwords(\"en\"))\n",
    "#Create a vector with the default English stopwords list\n",
    "all.sw<-stopwords('en')\n",
    "#check if stopwords contains Ilana-specific works\n",
    "all.sw\n"
   ]
  },
  {
   "cell_type": "markdown",
   "id": "3108197d",
   "metadata": {},
   "source": [
    "Mark skimmed the list, then frowned. “Let’s double-check that the major ‘Ilana words’ aren’t going to get caught in our stopwords list. We can search for them like this.”\n"
   ]
  },
  {
   "cell_type": "code",
   "execution_count": 27,
   "id": "3b64879f",
   "metadata": {},
   "outputs": [
    {
     "name": "stdout",
     "output_type": "stream",
     "text": [
      "integer(0)\n"
     ]
    }
   ],
   "source": [
    "%%R\n",
    "which(all.sw==\"like\")"
   ]
  },
  {
   "cell_type": "code",
   "execution_count": 28,
   "id": "f481aec5",
   "metadata": {},
   "outputs": [
    {
     "name": "stdout",
     "output_type": "stream",
     "text": [
      "integer(0)\n"
     ]
    }
   ],
   "source": [
    "%%R\n",
    "which(all.sw==\"really\")"
   ]
  },
  {
   "cell_type": "markdown",
   "id": "d9d3daf3",
   "metadata": {},
   "source": [
    "“That means those words aren’t there,” said Mark. “Compared to this, if we pick a word that is on the list:”"
   ]
  },
  {
   "cell_type": "code",
   "execution_count": 29,
   "id": "033ce429",
   "metadata": {},
   "outputs": [
    {
     "name": "stdout",
     "output_type": "stream",
     "text": [
      "[1]"
     ]
    },
    {
     "name": "stdout",
     "output_type": "stream",
     "text": [
      " 47"
     ]
    },
    {
     "name": "stdout",
     "output_type": "stream",
     "text": [
      "\n"
     ]
    }
   ],
   "source": [
    "%%R\n",
    "which(all.sw==\"has\")"
   ]
  },
  {
   "cell_type": "markdown",
   "id": "1415a01e",
   "metadata": {},
   "source": [
    "“This shows that ‘has’ is the 47th word on the stopword list. All right, it’s good to know we won’t be dropping all the Ilana-specific words. Next, let’s make a document-term matrix.”"
   ]
  },
  {
   "cell_type": "code",
   "execution_count": 30,
   "id": "77d13fcb",
   "metadata": {},
   "outputs": [
    {
     "name": "stdout",
     "output_type": "stream",
     "text": [
      "<<DocumentTermMatrix (documents: 460, terms: 988)>>\n"
     ]
    },
    {
     "name": "stdout",
     "output_type": "stream",
     "text": [
      "Non-/sparse entries: 2408/452072\n"
     ]
    },
    {
     "name": "stdout",
     "output_type": "stream",
     "text": [
      "Sparsity           : 99%\n"
     ]
    },
    {
     "name": "stdout",
     "output_type": "stream",
     "text": [
      "Maximal term length: 19\n"
     ]
    },
    {
     "name": "stdout",
     "output_type": "stream",
     "text": [
      "Weighting          : term frequency (tf)\n"
     ]
    }
   ],
   "source": [
    "%%R\n",
    "corpus.dtm.mdws<-DocumentTermMatrix(clean.corpus.mdws, control=list(wordLengths=c(1,Inf)))\n",
    "corpus.dtm.mdws"
   ]
  },
  {
   "cell_type": "markdown",
   "id": "4c53b798",
   "metadata": {},
   "source": [
    "“Let’s see if we have any quotes that just get deleted entirely once we remove stopwords.”"
   ]
  },
  {
   "cell_type": "code",
   "execution_count": 31,
   "id": "8392f413",
   "metadata": {},
   "outputs": [
    {
     "name": "stdout",
     "output_type": "stream",
     "text": [
      " 16 "
     ]
    },
    {
     "name": "stdout",
     "output_type": "stream",
     "text": [
      "171 "
     ]
    },
    {
     "name": "stdout",
     "output_type": "stream",
     "text": [
      "229 "
     ]
    },
    {
     "name": "stdout",
     "output_type": "stream",
     "text": [
      "239 "
     ]
    },
    {
     "name": "stdout",
     "output_type": "stream",
     "text": [
      "252 "
     ]
    },
    {
     "name": "stdout",
     "output_type": "stream",
     "text": [
      "253 "
     ]
    },
    {
     "name": "stdout",
     "output_type": "stream",
     "text": [
      "291 "
     ]
    },
    {
     "name": "stdout",
     "output_type": "stream",
     "text": [
      "309 "
     ]
    },
    {
     "name": "stdout",
     "output_type": "stream",
     "text": [
      "341 "
     ]
    },
    {
     "name": "stdout",
     "output_type": "stream",
     "text": [
      "381 "
     ]
    },
    {
     "name": "stdout",
     "output_type": "stream",
     "text": [
      "403 "
     ]
    },
    {
     "name": "stdout",
     "output_type": "stream",
     "text": [
      "428 "
     ]
    },
    {
     "name": "stdout",
     "output_type": "stream",
     "text": [
      "\n"
     ]
    },
    {
     "name": "stdout",
     "output_type": "stream",
     "text": [
      " 16 "
     ]
    },
    {
     "name": "stdout",
     "output_type": "stream",
     "text": [
      "171 "
     ]
    },
    {
     "name": "stdout",
     "output_type": "stream",
     "text": [
      "229 "
     ]
    },
    {
     "name": "stdout",
     "output_type": "stream",
     "text": [
      "239 "
     ]
    },
    {
     "name": "stdout",
     "output_type": "stream",
     "text": [
      "252 "
     ]
    },
    {
     "name": "stdout",
     "output_type": "stream",
     "text": [
      "253 "
     ]
    },
    {
     "name": "stdout",
     "output_type": "stream",
     "text": [
      "291 "
     ]
    },
    {
     "name": "stdout",
     "output_type": "stream",
     "text": [
      "309 "
     ]
    },
    {
     "name": "stdout",
     "output_type": "stream",
     "text": [
      "341 "
     ]
    },
    {
     "name": "stdout",
     "output_type": "stream",
     "text": [
      "381 "
     ]
    },
    {
     "name": "stdout",
     "output_type": "stream",
     "text": [
      "403 "
     ]
    },
    {
     "name": "stdout",
     "output_type": "stream",
     "text": [
      "428 "
     ]
    },
    {
     "name": "stdout",
     "output_type": "stream",
     "text": [
      "\n"
     ]
    }
   ],
   "source": [
    "%%R\n",
    "#Get the document-term matrix as a matrix\n",
    "corpus.matrix.mdws<-as.matrix(corpus.dtm.mdws)\n",
    "#Add up the word counts for each row (quote)\n",
    "all.sums.mdws<-rowSums(corpus.matrix.mdws)\n",
    "#Which ones have a total word count of zero (i.e. no words)\n",
    "which(all.sums.mdws==0)"
   ]
  },
  {
   "cell_type": "markdown",
   "id": "312074bd",
   "metadata": {},
   "source": [
    "“Hmm… what were those quotes before they got deleted?”\n"
   ]
  },
  {
   "cell_type": "code",
   "execution_count": 32,
   "id": "81c34639",
   "metadata": {},
   "outputs": [
    {
     "name": "stdout",
     "output_type": "stream",
     "text": [
      " [1]"
     ]
    },
    {
     "name": "stdout",
     "output_type": "stream",
     "text": [
      " \"I was here before\""
     ]
    },
    {
     "name": "stdout",
     "output_type": "stream",
     "text": [
      " \"This is it\"       "
     ]
    },
    {
     "name": "stdout",
     "output_type": "stream",
     "text": [
      " \"There she is\"     "
     ]
    },
    {
     "name": "stdout",
     "output_type": "stream",
     "text": [
      "\n"
     ]
    },
    {
     "name": "stdout",
     "output_type": "stream",
     "text": [
      " [4]"
     ]
    },
    {
     "name": "stdout",
     "output_type": "stream",
     "text": [
      " \"So do I.\"         "
     ]
    },
    {
     "name": "stdout",
     "output_type": "stream",
     "text": [
      " \"What is it?\"      "
     ]
    },
    {
     "name": "stdout",
     "output_type": "stream",
     "text": [
      " \"If you have to,\"  "
     ]
    },
    {
     "name": "stdout",
     "output_type": "stream",
     "text": [
      "\n"
     ]
    },
    {
     "name": "stdout",
     "output_type": "stream",
     "text": [
      " [7]"
     ]
    },
    {
     "name": "stdout",
     "output_type": "stream",
     "text": [
      " \"Why is that?\"     "
     ]
    },
    {
     "name": "stdout",
     "output_type": "stream",
     "text": [
      " \"No...\"            "
     ]
    },
    {
     "name": "stdout",
     "output_type": "stream",
     "text": [
      " \"Not me,\"          "
     ]
    },
    {
     "name": "stdout",
     "output_type": "stream",
     "text": [
      "\n"
     ]
    },
    {
     "name": "stdout",
     "output_type": "stream",
     "text": [
      "[10]"
     ]
    },
    {
     "name": "stdout",
     "output_type": "stream",
     "text": [
      " \"What?\"            "
     ]
    },
    {
     "name": "stdout",
     "output_type": "stream",
     "text": [
      " \"No,\"              "
     ]
    },
    {
     "name": "stdout",
     "output_type": "stream",
     "text": [
      " \"You what?!\"       "
     ]
    },
    {
     "name": "stdout",
     "output_type": "stream",
     "text": [
      "\n"
     ]
    }
   ],
   "source": [
    "%%R\n",
    "raw.corpus.mdws[which(all.sums.mdws==0)]"
   ]
  },
  {
   "cell_type": "markdown",
   "id": "23dcd2f3",
   "metadata": {},
   "source": [
    "“Okay, we can live with that. Let’s remake our corpus matrix with only those quotes that don’t get deleted by the stopwords.”"
   ]
  },
  {
   "cell_type": "code",
   "execution_count": 33,
   "id": "05ea3d77",
   "metadata": {},
   "outputs": [
    {
     "name": "stdout",
     "output_type": "stream",
     "text": [
      "[1]"
     ]
    },
    {
     "name": "stdout",
     "output_type": "stream",
     "text": [
      " 448"
     ]
    },
    {
     "name": "stdout",
     "output_type": "stream",
     "text": [
      " 988"
     ]
    },
    {
     "name": "stdout",
     "output_type": "stream",
     "text": [
      "\n"
     ]
    }
   ],
   "source": [
    "%%R\n",
    "corpus.matrix.mdws<-as.matrix(corpus.dtm.mdws)\n",
    "corpus.matrix.mdws<-corpus.matrix.mdws[-which(all.sums.mdws==0),]\n",
    "dim(corpus.matrix.mdws)"
   ]
  },
  {
   "cell_type": "markdown",
   "id": "923be8c9",
   "metadata": {},
   "source": [
    "“And update our metadata table to remove the metadata for quotes that would be deleted by the stopwords.”"
   ]
  },
  {
   "cell_type": "code",
   "execution_count": 34,
   "id": "b2e6639f",
   "metadata": {},
   "outputs": [
    {
     "name": "stdout",
     "output_type": "stream",
     "text": [
      "[1]"
     ]
    },
    {
     "name": "stdout",
     "output_type": "stream",
     "text": [
      " 448"
     ]
    },
    {
     "name": "stdout",
     "output_type": "stream",
     "text": [
      "   2"
     ]
    },
    {
     "name": "stdout",
     "output_type": "stream",
     "text": [
      "\n"
     ]
    }
   ],
   "source": [
    "%%R\n",
    "metadata.table.mdws<-metadata.table.mdws[-which(all.sums.mdws==0),]\n",
    "dim(metadata.table.mdws)"
   ]
  },
  {
   "cell_type": "markdown",
   "id": "298b6194",
   "metadata": {},
   "source": [
    "“Now that we have that in order, we’re going to look for the 500 most frequent words, and sort them in descending order.”"
   ]
  },
  {
   "cell_type": "code",
   "execution_count": 35,
   "id": "4d2fd73f",
   "metadata": {},
   "outputs": [
    {
     "name": "stdout",
     "output_type": "stream",
     "text": [
      "  [1]"
     ]
    },
    {
     "name": "stdout",
     "output_type": "stream",
     "text": [
      " \"like\"               "
     ]
    },
    {
     "name": "stdout",
     "output_type": "stream",
     "text": [
      " \"just\"               "
     ]
    },
    {
     "name": "stdout",
     "output_type": "stream",
     "text": [
      " \"im\"                 "
     ]
    },
    {
     "name": "stdout",
     "output_type": "stream",
     "text": [
      "\n"
     ]
    },
    {
     "name": "stdout",
     "output_type": "stream",
     "text": [
      "  [4]"
     ]
    },
    {
     "name": "stdout",
     "output_type": "stream",
     "text": [
      " \"right\"              "
     ]
    },
    {
     "name": "stdout",
     "output_type": "stream",
     "text": [
      " \"thats\"              "
     ]
    },
    {
     "name": "stdout",
     "output_type": "stream",
     "text": [
      " \"can\"                "
     ]
    },
    {
     "name": "stdout",
     "output_type": "stream",
     "text": [
      "\n"
     ]
    },
    {
     "name": "stdout",
     "output_type": "stream",
     "text": [
      "  [7]"
     ]
    },
    {
     "name": "stdout",
     "output_type": "stream",
     "text": [
      " \"sure\"               "
     ]
    },
    {
     "name": "stdout",
     "output_type": "stream",
     "text": [
      " \"well\"               "
     ]
    },
    {
     "name": "stdout",
     "output_type": "stream",
     "text": [
      " \"get\"                "
     ]
    },
    {
     "name": "stdout",
     "output_type": "stream",
     "text": [
      "\n"
     ]
    },
    {
     "name": "stdout",
     "output_type": "stream",
     "text": [
      " [10]"
     ]
    },
    {
     "name": "stdout",
     "output_type": "stream",
     "text": [
      " \"good\"               "
     ]
    },
    {
     "name": "stdout",
     "output_type": "stream",
     "text": [
      " \"think\"              "
     ]
    },
    {
     "name": "stdout",
     "output_type": "stream",
     "text": [
      " \"really\"             "
     ]
    },
    {
     "name": "stdout",
     "output_type": "stream",
     "text": [
      "\n"
     ]
    },
    {
     "name": "stdout",
     "output_type": "stream",
     "text": [
      " [13]"
     ]
    },
    {
     "name": "stdout",
     "output_type": "stream",
     "text": [
      " \"dont\"               "
     ]
    },
    {
     "name": "stdout",
     "output_type": "stream",
     "text": [
      " \"amazing\"            "
     ]
    },
    {
     "name": "stdout",
     "output_type": "stream",
     "text": [
      " \"now\"                "
     ]
    },
    {
     "name": "stdout",
     "output_type": "stream",
     "text": [
      "\n"
     ]
    },
    {
     "name": "stdout",
     "output_type": "stream",
     "text": [
      " [16]"
     ]
    },
    {
     "name": "stdout",
     "output_type": "stream",
     "text": [
      " \"totally\"            "
     ]
    },
    {
     "name": "stdout",
     "output_type": "stream",
     "text": [
      " \"nechama\"            "
     ]
    },
    {
     "name": "stdout",
     "output_type": "stream",
     "text": [
      " \"one\"                "
     ]
    },
    {
     "name": "stdout",
     "output_type": "stream",
     "text": [
      "\n"
     ]
    },
    {
     "name": "stdout",
     "output_type": "stream",
     "text": [
      " [19]"
     ]
    },
    {
     "name": "stdout",
     "output_type": "stream",
     "text": [
      " \"chani\"              "
     ]
    },
    {
     "name": "stdout",
     "output_type": "stream",
     "text": [
      " \"going\"              "
     ]
    },
    {
     "name": "stdout",
     "output_type": "stream",
     "text": [
      " \"mrs\"                "
     ]
    },
    {
     "name": "stdout",
     "output_type": "stream",
     "text": [
      "\n"
     ]
    },
    {
     "name": "stdout",
     "output_type": "stream",
     "text": [
      " [22]"
     ]
    },
    {
     "name": "stdout",
     "output_type": "stream",
     "text": [
      " \"way\"                "
     ]
    },
    {
     "name": "stdout",
     "output_type": "stream",
     "text": [
      " \"batya\"              "
     ]
    },
    {
     "name": "stdout",
     "output_type": "stream",
     "text": [
      " \"us\"                 "
     ]
    },
    {
     "name": "stdout",
     "output_type": "stream",
     "text": [
      "\n"
     ]
    },
    {
     "name": "stdout",
     "output_type": "stream",
     "text": [
      " [25]"
     ]
    },
    {
     "name": "stdout",
     "output_type": "stream",
     "text": [
      " \"will\"               "
     ]
    },
    {
     "name": "stdout",
     "output_type": "stream",
     "text": [
      " \"pinky\"              "
     ]
    },
    {
     "name": "stdout",
     "output_type": "stream",
     "text": [
      " \"know\"               "
     ]
    },
    {
     "name": "stdout",
     "output_type": "stream",
     "text": [
      "\n"
     ]
    },
    {
     "name": "stdout",
     "output_type": "stream",
     "text": [
      " [28]"
     ]
    },
    {
     "name": "stdout",
     "output_type": "stream",
     "text": [
      " \"okay\"               "
     ]
    },
    {
     "name": "stdout",
     "output_type": "stream",
     "text": [
      " \"theres\"             "
     ]
    },
    {
     "name": "stdout",
     "output_type": "stream",
     "text": [
      " \"come\"               "
     ]
    },
    {
     "name": "stdout",
     "output_type": "stream",
     "text": [
      "\n"
     ]
    },
    {
     "name": "stdout",
     "output_type": "stream",
     "text": [
      " [31]"
     ]
    },
    {
     "name": "stdout",
     "output_type": "stream",
     "text": [
      " \"make\"               "
     ]
    },
    {
     "name": "stdout",
     "output_type": "stream",
     "text": [
      " \"new\"                "
     ]
    },
    {
     "name": "stdout",
     "output_type": "stream",
     "text": [
      " \"time\"               "
     ]
    },
    {
     "name": "stdout",
     "output_type": "stream",
     "text": [
      "\n"
     ]
    },
    {
     "name": "stdout",
     "output_type": "stream",
     "text": [
      " [34]"
     ]
    },
    {
     "name": "stdout",
     "output_type": "stream",
     "text": [
      " \"much\"               "
     ]
    },
    {
     "name": "stdout",
     "output_type": "stream",
     "text": [
      " \"lets\"               "
     ]
    },
    {
     "name": "stdout",
     "output_type": "stream",
     "text": [
      " \"see\"                "
     ]
    },
    {
     "name": "stdout",
     "output_type": "stream",
     "text": [
      "\n"
     ]
    },
    {
     "name": "stdout",
     "output_type": "stream",
     "text": [
      " [37]"
     ]
    },
    {
     "name": "stdout",
     "output_type": "stream",
     "text": [
      " \"hey\"                "
     ]
    },
    {
     "name": "stdout",
     "output_type": "stream",
     "text": [
      " \"shes\"               "
     ]
    },
    {
     "name": "stdout",
     "output_type": "stream",
     "text": [
      " \"look\"               "
     ]
    },
    {
     "name": "stdout",
     "output_type": "stream",
     "text": [
      "\n"
     ]
    },
    {
     "name": "stdout",
     "output_type": "stream",
     "text": [
      " [40]"
     ]
    },
    {
     "name": "stdout",
     "output_type": "stream",
     "text": [
      " \"got\"                "
     ]
    },
    {
     "name": "stdout",
     "output_type": "stream",
     "text": [
      " \"youre\"              "
     ]
    },
    {
     "name": "stdout",
     "output_type": "stream",
     "text": [
      " \"want\"               "
     ]
    },
    {
     "name": "stdout",
     "output_type": "stream",
     "text": [
      "\n"
     ]
    },
    {
     "name": "stdout",
     "output_type": "stream",
     "text": [
      " [43]"
     ]
    },
    {
     "name": "stdout",
     "output_type": "stream",
     "text": [
      " \"work\"               "
     ]
    },
    {
     "name": "stdout",
     "output_type": "stream",
     "text": [
      " \"go\"                 "
     ]
    },
    {
     "name": "stdout",
     "output_type": "stream",
     "text": [
      " \"something\"          "
     ]
    },
    {
     "name": "stdout",
     "output_type": "stream",
     "text": [
      "\n"
     ]
    },
    {
     "name": "stdout",
     "output_type": "stream",
     "text": [
      " [46]"
     ]
    },
    {
     "name": "stdout",
     "output_type": "stream",
     "text": [
      " \"mean\"               "
     ]
    },
    {
     "name": "stdout",
     "output_type": "stream",
     "text": [
      " \"great\"              "
     ]
    },
    {
     "name": "stdout",
     "output_type": "stream",
     "text": [
      " \"take\"               "
     ]
    },
    {
     "name": "stdout",
     "output_type": "stream",
     "text": [
      "\n"
     ]
    },
    {
     "name": "stdout",
     "output_type": "stream",
     "text": [
      " [49]"
     ]
    },
    {
     "name": "stdout",
     "output_type": "stream",
     "text": [
      " \"youll\"              "
     ]
    },
    {
     "name": "stdout",
     "output_type": "stream",
     "text": [
      " \"shani\"              "
     ]
    },
    {
     "name": "stdout",
     "output_type": "stream",
     "text": [
      " \"didnt\"              "
     ]
    },
    {
     "name": "stdout",
     "output_type": "stream",
     "text": [
      "\n"
     ]
    },
    {
     "name": "stdout",
     "output_type": "stream",
     "text": [
      " [52]"
     ]
    },
    {
     "name": "stdout",
     "output_type": "stream",
     "text": [
      " \"meeting\"            "
     ]
    },
    {
     "name": "stdout",
     "output_type": "stream",
     "text": [
      " \"first\"              "
     ]
    },
    {
     "name": "stdout",
     "output_type": "stream",
     "text": [
      " \"computer\"           "
     ]
    },
    {
     "name": "stdout",
     "output_type": "stream",
     "text": [
      "\n"
     ]
    },
    {
     "name": "stdout",
     "output_type": "stream",
     "text": [
      " [55]"
     ]
    },
    {
     "name": "stdout",
     "output_type": "stream",
     "text": [
      " \"school\"             "
     ]
    },
    {
     "name": "stdout",
     "output_type": "stream",
     "text": [
      " \"need\"               "
     ]
    },
    {
     "name": "stdout",
     "output_type": "stream",
     "text": [
      " \"thanks\"             "
     ]
    },
    {
     "name": "stdout",
     "output_type": "stream",
     "text": [
      "\n"
     ]
    },
    {
     "name": "stdout",
     "output_type": "stream",
     "text": [
      " [58]"
     ]
    },
    {
     "name": "stdout",
     "output_type": "stream",
     "text": [
      " \"york\"               "
     ]
    },
    {
     "name": "stdout",
     "output_type": "stream",
     "text": [
      " \"soon\"               "
     ]
    },
    {
     "name": "stdout",
     "output_type": "stream",
     "text": [
      " \"cant\"               "
     ]
    },
    {
     "name": "stdout",
     "output_type": "stream",
     "text": [
      "\n"
     ]
    },
    {
     "name": "stdout",
     "output_type": "stream",
     "text": [
      " [61]"
     ]
    },
    {
     "name": "stdout",
     "output_type": "stream",
     "text": [
      " \"without\"            "
     ]
    },
    {
     "name": "stdout",
     "output_type": "stream",
     "text": [
      " \"eyes\"               "
     ]
    },
    {
     "name": "stdout",
     "output_type": "stream",
     "text": [
      " \"paper\"              "
     ]
    },
    {
     "name": "stdout",
     "output_type": "stream",
     "text": [
      "\n"
     ]
    },
    {
     "name": "stdout",
     "output_type": "stream",
     "text": [
      " [64]"
     ]
    },
    {
     "name": "stdout",
     "output_type": "stream",
     "text": [
      " \"play\"               "
     ]
    },
    {
     "name": "stdout",
     "output_type": "stream",
     "text": [
      " \"whats\"              "
     ]
    },
    {
     "name": "stdout",
     "output_type": "stream",
     "text": [
      " \"party\"              "
     ]
    },
    {
     "name": "stdout",
     "output_type": "stream",
     "text": [
      "\n"
     ]
    },
    {
     "name": "stdout",
     "output_type": "stream",
     "text": [
      " [67]"
     ]
    },
    {
     "name": "stdout",
     "output_type": "stream",
     "text": [
      " \"id\"                 "
     ]
    },
    {
     "name": "stdout",
     "output_type": "stream",
     "text": [
      " \"tell\"               "
     ]
    },
    {
     "name": "stdout",
     "output_type": "stream",
     "text": [
      " \"chinky\"             "
     ]
    },
    {
     "name": "stdout",
     "output_type": "stream",
     "text": [
      "\n"
     ]
    },
    {
     "name": "stdout",
     "output_type": "stream",
     "text": [
      " [70]"
     ]
    },
    {
     "name": "stdout",
     "output_type": "stream",
     "text": [
      " \"ill\"                "
     ]
    },
    {
     "name": "stdout",
     "output_type": "stream",
     "text": [
      " \"already\"            "
     ]
    },
    {
     "name": "stdout",
     "output_type": "stream",
     "text": [
      " \"say\"                "
     ]
    },
    {
     "name": "stdout",
     "output_type": "stream",
     "text": [
      "\n"
     ]
    },
    {
     "name": "stdout",
     "output_type": "stream",
     "text": [
      " [73]"
     ]
    },
    {
     "name": "stdout",
     "output_type": "stream",
     "text": [
      " \"sorry\"              "
     ]
    },
    {
     "name": "stdout",
     "output_type": "stream",
     "text": [
      " \"told\"               "
     ]
    },
    {
     "name": "stdout",
     "output_type": "stream",
     "text": [
      " \"people\"             "
     ]
    },
    {
     "name": "stdout",
     "output_type": "stream",
     "text": [
      "\n"
     ]
    },
    {
     "name": "stdout",
     "output_type": "stream",
     "text": [
      " [76]"
     ]
    },
    {
     "name": "stdout",
     "output_type": "stream",
     "text": [
      " \"little\"             "
     ]
    },
    {
     "name": "stdout",
     "output_type": "stream",
     "text": [
      " \"problem\"            "
     ]
    },
    {
     "name": "stdout",
     "output_type": "stream",
     "text": [
      " \"last\"               "
     ]
    },
    {
     "name": "stdout",
     "output_type": "stream",
     "text": [
      "\n"
     ]
    },
    {
     "name": "stdout",
     "output_type": "stream",
     "text": [
      " [79]"
     ]
    },
    {
     "name": "stdout",
     "output_type": "stream",
     "text": [
      " \"year\"               "
     ]
    },
    {
     "name": "stdout",
     "output_type": "stream",
     "text": [
      " \"working\"            "
     ]
    },
    {
     "name": "stdout",
     "output_type": "stream",
     "text": [
      " \"coming\"             "
     ]
    },
    {
     "name": "stdout",
     "output_type": "stream",
     "text": [
      "\n"
     ]
    },
    {
     "name": "stdout",
     "output_type": "stream",
     "text": [
      " [82]"
     ]
    },
    {
     "name": "stdout",
     "output_type": "stream",
     "text": [
      " \"job\"                "
     ]
    },
    {
     "name": "stdout",
     "output_type": "stream",
     "text": [
      " \"raizy\"              "
     ]
    },
    {
     "name": "stdout",
     "output_type": "stream",
     "text": [
      " \"part\"               "
     ]
    },
    {
     "name": "stdout",
     "output_type": "stream",
     "text": [
      "\n"
     ]
    },
    {
     "name": "stdout",
     "output_type": "stream",
     "text": [
      " [85]"
     ]
    },
    {
     "name": "stdout",
     "output_type": "stream",
     "text": [
      " \"handler\"            "
     ]
    },
    {
     "name": "stdout",
     "output_type": "stream",
     "text": [
      " \"thing\"              "
     ]
    },
    {
     "name": "stdout",
     "output_type": "stream",
     "text": [
      " \"back\"               "
     ]
    },
    {
     "name": "stdout",
     "output_type": "stream",
     "text": [
      "\n"
     ]
    },
    {
     "name": "stdout",
     "output_type": "stream",
     "text": [
      " [88]"
     ]
    },
    {
     "name": "stdout",
     "output_type": "stream",
     "text": [
      " \"trip\"               "
     ]
    },
    {
     "name": "stdout",
     "output_type": "stream",
     "text": [
      " \"virus\"              "
     ]
    },
    {
     "name": "stdout",
     "output_type": "stream",
     "text": [
      " \"home\"               "
     ]
    },
    {
     "name": "stdout",
     "output_type": "stream",
     "text": [
      "\n"
     ]
    },
    {
     "name": "stdout",
     "output_type": "stream",
     "text": [
      " [91]"
     ]
    },
    {
     "name": "stdout",
     "output_type": "stream",
     "text": [
      " \"remember\"           "
     ]
    },
    {
     "name": "stdout",
     "output_type": "stream",
     "text": [
      " \"love\"               "
     ]
    },
    {
     "name": "stdout",
     "output_type": "stream",
     "text": [
      " \"hope\"               "
     ]
    },
    {
     "name": "stdout",
     "output_type": "stream",
     "text": [
      "\n"
     ]
    },
    {
     "name": "stdout",
     "output_type": "stream",
     "text": [
      " [94]"
     ]
    },
    {
     "name": "stdout",
     "output_type": "stream",
     "text": [
      " \"bloomfield\"         "
     ]
    },
    {
     "name": "stdout",
     "output_type": "stream",
     "text": [
      " \"better\"             "
     ]
    },
    {
     "name": "stdout",
     "output_type": "stream",
     "text": [
      " \"different\"          "
     ]
    },
    {
     "name": "stdout",
     "output_type": "stream",
     "text": [
      "\n"
     ]
    },
    {
     "name": "stdout",
     "output_type": "stream",
     "text": [
      " [97]"
     ]
    },
    {
     "name": "stdout",
     "output_type": "stream",
     "text": [
      " \"enough\"             "
     ]
    },
    {
     "name": "stdout",
     "output_type": "stream",
     "text": [
      " \"sometimes\"          "
     ]
    },
    {
     "name": "stdout",
     "output_type": "stream",
     "text": [
      " \"jeworsky\"           "
     ]
    },
    {
     "name": "stdout",
     "output_type": "stream",
     "text": [
      "\n"
     ]
    },
    {
     "name": "stdout",
     "output_type": "stream",
     "text": [
      "[100]"
     ]
    },
    {
     "name": "stdout",
     "output_type": "stream",
     "text": [
      " \"stuff\"              "
     ]
    },
    {
     "name": "stdout",
     "output_type": "stream",
     "text": [
      " \"mellow\"             "
     ]
    },
    {
     "name": "stdout",
     "output_type": "stream",
     "text": [
      " \"wait\"               "
     ]
    },
    {
     "name": "stdout",
     "output_type": "stream",
     "text": [
      "\n"
     ]
    },
    {
     "name": "stdout",
     "output_type": "stream",
     "text": [
      "[103]"
     ]
    },
    {
     "name": "stdout",
     "output_type": "stream",
     "text": [
      " \"staff\"              "
     ]
    },
    {
     "name": "stdout",
     "output_type": "stream",
     "text": [
      " \"times\"              "
     ]
    },
    {
     "name": "stdout",
     "output_type": "stream",
     "text": [
      " \"class\"              "
     ]
    },
    {
     "name": "stdout",
     "output_type": "stream",
     "text": [
      "\n"
     ]
    },
    {
     "name": "stdout",
     "output_type": "stream",
     "text": [
      "[106]"
     ]
    },
    {
     "name": "stdout",
     "output_type": "stream",
     "text": [
      " \"maybe\"              "
     ]
    },
    {
     "name": "stdout",
     "output_type": "stream",
     "text": [
      " \"ever\"               "
     ]
    },
    {
     "name": "stdout",
     "output_type": "stream",
     "text": [
      " \"article\"            "
     ]
    },
    {
     "name": "stdout",
     "output_type": "stream",
     "text": [
      "\n"
     ]
    },
    {
     "name": "stdout",
     "output_type": "stream",
     "text": [
      "[109]"
     ]
    },
    {
     "name": "stdout",
     "output_type": "stream",
     "text": [
      " \"day\"                "
     ]
    },
    {
     "name": "stdout",
     "output_type": "stream",
     "text": [
      " \"everyone\"           "
     ]
    },
    {
     "name": "stdout",
     "output_type": "stream",
     "text": [
      " \"actually\"           "
     ]
    },
    {
     "name": "stdout",
     "output_type": "stream",
     "text": [
      "\n"
     ]
    },
    {
     "name": "stdout",
     "output_type": "stream",
     "text": [
      "[112]"
     ]
    },
    {
     "name": "stdout",
     "output_type": "stream",
     "text": [
      " \"said\"               "
     ]
    },
    {
     "name": "stdout",
     "output_type": "stream",
     "text": [
      " \"done\"               "
     ]
    },
    {
     "name": "stdout",
     "output_type": "stream",
     "text": [
      " \"miss\"               "
     ]
    },
    {
     "name": "stdout",
     "output_type": "stream",
     "text": [
      "\n"
     ]
    },
    {
     "name": "stdout",
     "output_type": "stream",
     "text": [
      "[115]"
     ]
    },
    {
     "name": "stdout",
     "output_type": "stream",
     "text": [
      " \"anyone\"             "
     ]
    },
    {
     "name": "stdout",
     "output_type": "stream",
     "text": [
      " \"mind\"               "
     ]
    },
    {
     "name": "stdout",
     "output_type": "stream",
     "text": [
      " \"whole\"              "
     ]
    },
    {
     "name": "stdout",
     "output_type": "stream",
     "text": [
      "\n"
     ]
    },
    {
     "name": "stdout",
     "output_type": "stream",
     "text": [
      "[118]"
     ]
    },
    {
     "name": "stdout",
     "output_type": "stream",
     "text": [
      " \"let\"                "
     ]
    },
    {
     "name": "stdout",
     "output_type": "stream",
     "text": [
      " \"yesterday\"          "
     ]
    },
    {
     "name": "stdout",
     "output_type": "stream",
     "text": [
      " \"win\"                "
     ]
    },
    {
     "name": "stdout",
     "output_type": "stream",
     "text": [
      "\n"
     ]
    },
    {
     "name": "stdout",
     "output_type": "stream",
     "text": [
      "[121]"
     ]
    },
    {
     "name": "stdout",
     "output_type": "stream",
     "text": [
      " \"mom\"                "
     ]
    },
    {
     "name": "stdout",
     "output_type": "stream",
     "text": [
      " \"tomorrow\"           "
     ]
    },
    {
     "name": "stdout",
     "output_type": "stream",
     "text": [
      " \"course\"             "
     ]
    },
    {
     "name": "stdout",
     "output_type": "stream",
     "text": [
      "\n"
     ]
    },
    {
     "name": "stdout",
     "output_type": "stream",
     "text": [
      "[124]"
     ]
    },
    {
     "name": "stdout",
     "output_type": "stream",
     "text": [
      " \"many\"               "
     ]
    },
    {
     "name": "stdout",
     "output_type": "stream",
     "text": [
      " \"team\"               "
     ]
    },
    {
     "name": "stdout",
     "output_type": "stream",
     "text": [
      " \"ive\"                "
     ]
    },
    {
     "name": "stdout",
     "output_type": "stream",
     "text": [
      "\n"
     ]
    },
    {
     "name": "stdout",
     "output_type": "stream",
     "text": [
      "[127]"
     ]
    },
    {
     "name": "stdout",
     "output_type": "stream",
     "text": [
      " \"called\"             "
     ]
    },
    {
     "name": "stdout",
     "output_type": "stream",
     "text": [
      " \"hi\"                 "
     ]
    },
    {
     "name": "stdout",
     "output_type": "stream",
     "text": [
      " \"asked\"              "
     ]
    },
    {
     "name": "stdout",
     "output_type": "stream",
     "text": [
      "\n"
     ]
    },
    {
     "name": "stdout",
     "output_type": "stream",
     "text": [
      "[130]"
     ]
    },
    {
     "name": "stdout",
     "output_type": "stream",
     "text": [
      " \"still\"              "
     ]
    },
    {
     "name": "stdout",
     "output_type": "stream",
     "text": [
      " \"nice\"               "
     ]
    },
    {
     "name": "stdout",
     "output_type": "stream",
     "text": [
      " \"shell\"              "
     ]
    },
    {
     "name": "stdout",
     "output_type": "stream",
     "text": [
      "\n"
     ]
    },
    {
     "name": "stdout",
     "output_type": "stream",
     "text": [
      "[133]"
     ]
    },
    {
     "name": "stdout",
     "output_type": "stream",
     "text": [
      " \"mitzvah\"            "
     ]
    },
    {
     "name": "stdout",
     "output_type": "stream",
     "text": [
      " \"wouldnt\"            "
     ]
    },
    {
     "name": "stdout",
     "output_type": "stream",
     "text": [
      " \"guess\"              "
     ]
    },
    {
     "name": "stdout",
     "output_type": "stream",
     "text": [
      "\n"
     ]
    },
    {
     "name": "stdout",
     "output_type": "stream",
     "text": [
      "[136]"
     ]
    },
    {
     "name": "stdout",
     "output_type": "stream",
     "text": [
      " \"someone\"            "
     ]
    },
    {
     "name": "stdout",
     "output_type": "stream",
     "text": [
      " \"talk\"               "
     ]
    },
    {
     "name": "stdout",
     "output_type": "stream",
     "text": [
      " \"use\"                "
     ]
    },
    {
     "name": "stdout",
     "output_type": "stream",
     "text": [
      "\n"
     ]
    },
    {
     "name": "stdout",
     "output_type": "stream",
     "text": [
      "[139]"
     ]
    },
    {
     "name": "stdout",
     "output_type": "stream",
     "text": [
      " \"exactly\"            "
     ]
    },
    {
     "name": "stdout",
     "output_type": "stream",
     "text": [
      " \"along\"              "
     ]
    },
    {
     "name": "stdout",
     "output_type": "stream",
     "text": [
      " \"two\"                "
     ]
    },
    {
     "name": "stdout",
     "output_type": "stream",
     "text": [
      "\n"
     ]
    },
    {
     "name": "stdout",
     "output_type": "stream",
     "text": [
      "[142]"
     ]
    },
    {
     "name": "stdout",
     "output_type": "stream",
     "text": [
      " \"started\"            "
     ]
    },
    {
     "name": "stdout",
     "output_type": "stream",
     "text": [
      " \"wont\"               "
     ]
    },
    {
     "name": "stdout",
     "output_type": "stream",
     "text": [
      " \"looks\"              "
     ]
    },
    {
     "name": "stdout",
     "output_type": "stream",
     "text": [
      "\n"
     ]
    },
    {
     "name": "stdout",
     "output_type": "stream",
     "text": [
      "[145]"
     ]
    },
    {
     "name": "stdout",
     "output_type": "stream",
     "text": [
      " \"put\"                "
     ]
    },
    {
     "name": "stdout",
     "output_type": "stream",
     "text": [
      " \"gonna\"              "
     ]
    },
    {
     "name": "stdout",
     "output_type": "stream",
     "text": [
      " \"dusty\"              "
     ]
    },
    {
     "name": "stdout",
     "output_type": "stream",
     "text": [
      "\n"
     ]
    },
    {
     "name": "stdout",
     "output_type": "stream",
     "text": [
      "[148]"
     ]
    },
    {
     "name": "stdout",
     "output_type": "stream",
     "text": [
      " \"whos\"               "
     ]
    },
    {
     "name": "stdout",
     "output_type": "stream",
     "text": [
      " \"isnt\"               "
     ]
    },
    {
     "name": "stdout",
     "output_type": "stream",
     "text": [
      " \"start\"              "
     ]
    },
    {
     "name": "stdout",
     "output_type": "stream",
     "text": [
      "\n"
     ]
    },
    {
     "name": "stdout",
     "output_type": "stream",
     "text": [
      "[151]"
     ]
    },
    {
     "name": "stdout",
     "output_type": "stream",
     "text": [
      " \"youd\"               "
     ]
    },
    {
     "name": "stdout",
     "output_type": "stream",
     "text": [
      " \"oh\"                 "
     ]
    },
    {
     "name": "stdout",
     "output_type": "stream",
     "text": [
      " \"please\"             "
     ]
    },
    {
     "name": "stdout",
     "output_type": "stream",
     "text": [
      "\n"
     ]
    },
    {
     "name": "stdout",
     "output_type": "stream",
     "text": [
      "[154]"
     ]
    },
    {
     "name": "stdout",
     "output_type": "stream",
     "text": [
      " \"hold\"               "
     ]
    },
    {
     "name": "stdout",
     "output_type": "stream",
     "text": [
      " \"anything\"           "
     ]
    },
    {
     "name": "stdout",
     "output_type": "stream",
     "text": [
      " \"girls\"              "
     ]
    },
    {
     "name": "stdout",
     "output_type": "stream",
     "text": [
      "\n"
     ]
    },
    {
     "name": "stdout",
     "output_type": "stream",
     "text": [
      "[157]"
     ]
    },
    {
     "name": "stdout",
     "output_type": "stream",
     "text": [
      " \"convention\"         "
     ]
    },
    {
     "name": "stdout",
     "output_type": "stream",
     "text": [
      " \"family\"             "
     ]
    },
    {
     "name": "stdout",
     "output_type": "stream",
     "text": [
      " \"bring\"              "
     ]
    },
    {
     "name": "stdout",
     "output_type": "stream",
     "text": [
      "\n"
     ]
    },
    {
     "name": "stdout",
     "output_type": "stream",
     "text": [
      "[160]"
     ]
    },
    {
     "name": "stdout",
     "output_type": "stream",
     "text": [
      " \"looking\"            "
     ]
    },
    {
     "name": "stdout",
     "output_type": "stream",
     "text": [
      " \"super\"              "
     ]
    },
    {
     "name": "stdout",
     "output_type": "stream",
     "text": [
      " \"life\"               "
     ]
    },
    {
     "name": "stdout",
     "output_type": "stream",
     "text": [
      "\n"
     ]
    },
    {
     "name": "stdout",
     "output_type": "stream",
     "text": [
      "[163]"
     ]
    },
    {
     "name": "stdout",
     "output_type": "stream",
     "text": [
      " \"talking\"            "
     ]
    },
    {
     "name": "stdout",
     "output_type": "stream",
     "text": [
      " \"things\"             "
     ]
    },
    {
     "name": "stdout",
     "output_type": "stream",
     "text": [
      " \"youve\"              "
     ]
    },
    {
     "name": "stdout",
     "output_type": "stream",
     "text": [
      "\n"
     ]
    },
    {
     "name": "stdout",
     "output_type": "stream",
     "text": [
      "[166]"
     ]
    },
    {
     "name": "stdout",
     "output_type": "stream",
     "text": [
      " \"food\"               "
     ]
    },
    {
     "name": "stdout",
     "output_type": "stream",
     "text": [
      " \"weve\"               "
     ]
    },
    {
     "name": "stdout",
     "output_type": "stream",
     "text": [
      " \"change\"             "
     ]
    },
    {
     "name": "stdout",
     "output_type": "stream",
     "text": [
      "\n"
     ]
    },
    {
     "name": "stdout",
     "output_type": "stream",
     "text": [
      "[169]"
     ]
    },
    {
     "name": "stdout",
     "output_type": "stream",
     "text": [
      " \"keep\"               "
     ]
    },
    {
     "name": "stdout",
     "output_type": "stream",
     "text": [
      " \"perspective\"        "
     ]
    },
    {
     "name": "stdout",
     "output_type": "stream",
     "text": [
      " \"else\"               "
     ]
    },
    {
     "name": "stdout",
     "output_type": "stream",
     "text": [
      "\n"
     ]
    },
    {
     "name": "stdout",
     "output_type": "stream",
     "text": [
      "[172]"
     ]
    },
    {
     "name": "stdout",
     "output_type": "stream",
     "text": [
      " \"office\"             "
     ]
    },
    {
     "name": "stdout",
     "output_type": "stream",
     "text": [
      " \"went\"               "
     ]
    },
    {
     "name": "stdout",
     "output_type": "stream",
     "text": [
      " \"came\"               "
     ]
    },
    {
     "name": "stdout",
     "output_type": "stream",
     "text": [
      "\n"
     ]
    },
    {
     "name": "stdout",
     "output_type": "stream",
     "text": [
      "[175]"
     ]
    },
    {
     "name": "stdout",
     "output_type": "stream",
     "text": [
      " \"early\"              "
     ]
    },
    {
     "name": "stdout",
     "output_type": "stream",
     "text": [
      " \"shop\"               "
     ]
    },
    {
     "name": "stdout",
     "output_type": "stream",
     "text": [
      " \"never\"              "
     ]
    },
    {
     "name": "stdout",
     "output_type": "stream",
     "text": [
      "\n"
     ]
    },
    {
     "name": "stdout",
     "output_type": "stream",
     "text": [
      "[178]"
     ]
    },
    {
     "name": "stdout",
     "output_type": "stream",
     "text": [
      " \"thought\"            "
     ]
    },
    {
     "name": "stdout",
     "output_type": "stream",
     "text": [
      " \"uhhuh\"              "
     ]
    },
    {
     "name": "stdout",
     "output_type": "stream",
     "text": [
      " \"type\"               "
     ]
    },
    {
     "name": "stdout",
     "output_type": "stream",
     "text": [
      "\n"
     ]
    },
    {
     "name": "stdout",
     "output_type": "stream",
     "text": [
      "[181]"
     ]
    },
    {
     "name": "stdout",
     "output_type": "stream",
     "text": [
      " \"doesnt\"             "
     ]
    },
    {
     "name": "stdout",
     "output_type": "stream",
     "text": [
      " \"together\"           "
     ]
    },
    {
     "name": "stdout",
     "output_type": "stream",
     "text": [
      " \"newsroom\"           "
     ]
    },
    {
     "name": "stdout",
     "output_type": "stream",
     "text": [
      "\n"
     ]
    },
    {
     "name": "stdout",
     "output_type": "stream",
     "text": [
      "[184]"
     ]
    },
    {
     "name": "stdout",
     "output_type": "stream",
     "text": [
      " \"second\"             "
     ]
    },
    {
     "name": "stdout",
     "output_type": "stream",
     "text": [
      " \"print\"              "
     ]
    },
    {
     "name": "stdout",
     "output_type": "stream",
     "text": [
      " \"issue\"              "
     ]
    },
    {
     "name": "stdout",
     "output_type": "stream",
     "text": [
      "\n"
     ]
    },
    {
     "name": "stdout",
     "output_type": "stream",
     "text": [
      "[187]"
     ]
    },
    {
     "name": "stdout",
     "output_type": "stream",
     "text": [
      " \"rest\"               "
     ]
    },
    {
     "name": "stdout",
     "output_type": "stream",
     "text": [
      " \"chedva\"             "
     ]
    },
    {
     "name": "stdout",
     "output_type": "stream",
     "text": [
      " \"interview\"          "
     ]
    },
    {
     "name": "stdout",
     "output_type": "stream",
     "text": [
      "\n"
     ]
    },
    {
     "name": "stdout",
     "output_type": "stream",
     "text": [
      "[190]"
     ]
    },
    {
     "name": "stdout",
     "output_type": "stream",
     "text": [
      " \"happy\"              "
     ]
    },
    {
     "name": "stdout",
     "output_type": "stream",
     "text": [
      " \"yeah\"               "
     ]
    },
    {
     "name": "stdout",
     "output_type": "stream",
     "text": [
      " \"jen\"                "
     ]
    },
    {
     "name": "stdout",
     "output_type": "stream",
     "text": [
      "\n"
     ]
    },
    {
     "name": "stdout",
     "output_type": "stream",
     "text": [
      "[193]"
     ]
    },
    {
     "name": "stdout",
     "output_type": "stream",
     "text": [
      " \"feel\"               "
     ]
    },
    {
     "name": "stdout",
     "output_type": "stream",
     "text": [
      " \"big\"                "
     ]
    },
    {
     "name": "stdout",
     "output_type": "stream",
     "text": [
      " \"lot\"                "
     ]
    },
    {
     "name": "stdout",
     "output_type": "stream",
     "text": [
      "\n"
     ]
    },
    {
     "name": "stdout",
     "output_type": "stream",
     "text": [
      "[196]"
     ]
    },
    {
     "name": "stdout",
     "output_type": "stream",
     "text": [
      " \"tidbits\"            "
     ]
    },
    {
     "name": "stdout",
     "output_type": "stream",
     "text": [
      " \"five\"               "
     ]
    },
    {
     "name": "stdout",
     "output_type": "stream",
     "text": [
      " \"everything\"         "
     ]
    },
    {
     "name": "stdout",
     "output_type": "stream",
     "text": [
      "\n"
     ]
    },
    {
     "name": "stdout",
     "output_type": "stream",
     "text": [
      "[199]"
     ]
    },
    {
     "name": "stdout",
     "output_type": "stream",
     "text": [
      " \"fine\"               "
     ]
    },
    {
     "name": "stdout",
     "output_type": "stream",
     "text": [
      " \"nothing\"            "
     ]
    },
    {
     "name": "stdout",
     "output_type": "stream",
     "text": [
      " \"set\"                "
     ]
    },
    {
     "name": "stdout",
     "output_type": "stream",
     "text": [
      "\n"
     ]
    },
    {
     "name": "stdout",
     "output_type": "stream",
     "text": [
      "[202]"
     ]
    },
    {
     "name": "stdout",
     "output_type": "stream",
     "text": [
      " \"head\"               "
     ]
    },
    {
     "name": "stdout",
     "output_type": "stream",
     "text": [
      " \"papers\"             "
     ]
    },
    {
     "name": "stdout",
     "output_type": "stream",
     "text": [
      " \"gone\"               "
     ]
    },
    {
     "name": "stdout",
     "output_type": "stream",
     "text": [
      "\n"
     ]
    },
    {
     "name": "stdout",
     "output_type": "stream",
     "text": [
      "[205]"
     ]
    },
    {
     "name": "stdout",
     "output_type": "stream",
     "text": [
      " \"wasnt\"              "
     ]
    },
    {
     "name": "stdout",
     "output_type": "stream",
     "text": [
      " \"happens\"            "
     ]
    },
    {
     "name": "stdout",
     "output_type": "stream",
     "text": [
      " \"bais\"               "
     ]
    },
    {
     "name": "stdout",
     "output_type": "stream",
     "text": [
      "\n"
     ]
    },
    {
     "name": "stdout",
     "output_type": "stream",
     "text": [
      "[208]"
     ]
    },
    {
     "name": "stdout",
     "output_type": "stream",
     "text": [
      " \"yaakov\"             "
     ]
    },
    {
     "name": "stdout",
     "output_type": "stream",
     "text": [
      " \"shouldnt\"           "
     ]
    },
    {
     "name": "stdout",
     "output_type": "stream",
     "text": [
      " \"money\"              "
     ]
    },
    {
     "name": "stdout",
     "output_type": "stream",
     "text": [
      "\n"
     ]
    },
    {
     "name": "stdout",
     "output_type": "stream",
     "text": [
      "[211]"
     ]
    },
    {
     "name": "stdout",
     "output_type": "stream",
     "text": [
      " \"therell\"            "
     ]
    },
    {
     "name": "stdout",
     "output_type": "stream",
     "text": [
      " \"call\"               "
     ]
    },
    {
     "name": "stdout",
     "output_type": "stream",
     "text": [
      " \"getting\"            "
     ]
    },
    {
     "name": "stdout",
     "output_type": "stream",
     "text": [
      "\n"
     ]
    },
    {
     "name": "stdout",
     "output_type": "stream",
     "text": [
      "[214]"
     ]
    },
    {
     "name": "stdout",
     "output_type": "stream",
     "text": [
      " \"far\"                "
     ]
    },
    {
     "name": "stdout",
     "output_type": "stream",
     "text": [
      " \"pizza\"              "
     ]
    },
    {
     "name": "stdout",
     "output_type": "stream",
     "text": [
      " \"abba\"               "
     ]
    },
    {
     "name": "stdout",
     "output_type": "stream",
     "text": [
      "\n"
     ]
    },
    {
     "name": "stdout",
     "output_type": "stream",
     "text": [
      "[217]"
     ]
    },
    {
     "name": "stdout",
     "output_type": "stream",
     "text": [
      " \"half\"               "
     ]
    },
    {
     "name": "stdout",
     "output_type": "stream",
     "text": [
      " \"later\"              "
     ]
    },
    {
     "name": "stdout",
     "output_type": "stream",
     "text": [
      " \"weather\"            "
     ]
    },
    {
     "name": "stdout",
     "output_type": "stream",
     "text": [
      "\n"
     ]
    },
    {
     "name": "stdout",
     "output_type": "stream",
     "text": [
      "[220]"
     ]
    },
    {
     "name": "stdout",
     "output_type": "stream",
     "text": [
      " \"kind\"               "
     ]
    },
    {
     "name": "stdout",
     "output_type": "stream",
     "text": [
      " \"editor\"             "
     ]
    },
    {
     "name": "stdout",
     "output_type": "stream",
     "text": [
      " \"bas\"                "
     ]
    },
    {
     "name": "stdout",
     "output_type": "stream",
     "text": [
      "\n"
     ]
    },
    {
     "name": "stdout",
     "output_type": "stream",
     "text": [
      "[223]"
     ]
    },
    {
     "name": "stdout",
     "output_type": "stream",
     "text": [
      " \"ima\"                "
     ]
    },
    {
     "name": "stdout",
     "output_type": "stream",
     "text": [
      " \"newspaper\"          "
     ]
    },
    {
     "name": "stdout",
     "output_type": "stream",
     "text": [
      " \"today\"              "
     ]
    },
    {
     "name": "stdout",
     "output_type": "stream",
     "text": [
      "\n"
     ]
    },
    {
     "name": "stdout",
     "output_type": "stream",
     "text": [
      "[226]"
     ]
    },
    {
     "name": "stdout",
     "output_type": "stream",
     "text": [
      " \"idea\"               "
     ]
    },
    {
     "name": "stdout",
     "output_type": "stream",
     "text": [
      " \"fair\"               "
     ]
    },
    {
     "name": "stdout",
     "output_type": "stream",
     "text": [
      " \"important\"          "
     ]
    },
    {
     "name": "stdout",
     "output_type": "stream",
     "text": [
      "\n"
     ]
    },
    {
     "name": "stdout",
     "output_type": "stream",
     "text": [
      "[229]"
     ]
    },
    {
     "name": "stdout",
     "output_type": "stream",
     "text": [
      " \"awesome\"            "
     ]
    },
    {
     "name": "stdout",
     "output_type": "stream",
     "text": [
      " \"meetings\"           "
     ]
    },
    {
     "name": "stdout",
     "output_type": "stream",
     "text": [
      " \"girl\"               "
     ]
    },
    {
     "name": "stdout",
     "output_type": "stream",
     "text": [
      "\n"
     ]
    },
    {
     "name": "stdout",
     "output_type": "stream",
     "text": [
      "[232]"
     ]
    },
    {
     "name": "stdout",
     "output_type": "stream",
     "text": [
      " \"kosher\"             "
     ]
    },
    {
     "name": "stdout",
     "output_type": "stream",
     "text": [
      " \"store\"              "
     ]
    },
    {
     "name": "stdout",
     "output_type": "stream",
     "text": [
      " \"happened\"           "
     ]
    },
    {
     "name": "stdout",
     "output_type": "stream",
     "text": [
      "\n"
     ]
    },
    {
     "name": "stdout",
     "output_type": "stream",
     "text": [
      "[235]"
     ]
    },
    {
     "name": "stdout",
     "output_type": "stream",
     "text": [
      " \"games\"              "
     ]
    },
    {
     "name": "stdout",
     "output_type": "stream",
     "text": [
      " \"give\"               "
     ]
    },
    {
     "name": "stdout",
     "output_type": "stream",
     "text": [
      " \"try\"                "
     ]
    },
    {
     "name": "stdout",
     "output_type": "stream",
     "text": [
      "\n"
     ]
    },
    {
     "name": "stdout",
     "output_type": "stream",
     "text": [
      "[238]"
     ]
    },
    {
     "name": "stdout",
     "output_type": "stream",
     "text": [
      " \"capture\"            "
     ]
    },
    {
     "name": "stdout",
     "output_type": "stream",
     "text": [
      " \"game\"               "
     ]
    },
    {
     "name": "stdout",
     "output_type": "stream",
     "text": [
      " \"moving\"             "
     ]
    },
    {
     "name": "stdout",
     "output_type": "stream",
     "text": [
      "\n"
     ]
    },
    {
     "name": "stdout",
     "output_type": "stream",
     "text": [
      "[241]"
     ]
    },
    {
     "name": "stdout",
     "output_type": "stream",
     "text": [
      " \"person\"             "
     ]
    },
    {
     "name": "stdout",
     "output_type": "stream",
     "text": [
      " \"ask\"                "
     ]
    },
    {
     "name": "stdout",
     "output_type": "stream",
     "text": [
      " \"key\"                "
     ]
    },
    {
     "name": "stdout",
     "output_type": "stream",
     "text": [
      "\n"
     ]
    },
    {
     "name": "stdout",
     "output_type": "stream",
     "text": [
      "[244]"
     ]
    },
    {
     "name": "stdout",
     "output_type": "stream",
     "text": [
      " \"fruit\"              "
     ]
    },
    {
     "name": "stdout",
     "output_type": "stream",
     "text": [
      " \"taste\"              "
     ]
    },
    {
     "name": "stdout",
     "output_type": "stream",
     "text": [
      " \"war\"                "
     ]
    },
    {
     "name": "stdout",
     "output_type": "stream",
     "text": [
      "\n"
     ]
    },
    {
     "name": "stdout",
     "output_type": "stream",
     "text": [
      "[247]"
     ]
    },
    {
     "name": "stdout",
     "output_type": "stream",
     "text": [
      " \"quiet\"              "
     ]
    },
    {
     "name": "stdout",
     "output_type": "stream",
     "text": [
      " \"bothering\"          "
     ]
    },
    {
     "name": "stdout",
     "output_type": "stream",
     "text": [
      " \"hard\"               "
     ]
    },
    {
     "name": "stdout",
     "output_type": "stream",
     "text": [
      "\n"
     ]
    },
    {
     "name": "stdout",
     "output_type": "stream",
     "text": [
      "[250]"
     ]
    },
    {
     "name": "stdout",
     "output_type": "stream",
     "text": [
      " \"away\"               "
     ]
    },
    {
     "name": "stdout",
     "output_type": "stream",
     "text": [
      " \"made\"               "
     ]
    },
    {
     "name": "stdout",
     "output_type": "stream",
     "text": [
      " \"vegetables\"         "
     ]
    },
    {
     "name": "stdout",
     "output_type": "stream",
     "text": [
      "\n"
     ]
    },
    {
     "name": "stdout",
     "output_type": "stream",
     "text": [
      "[253]"
     ]
    },
    {
     "name": "stdout",
     "output_type": "stream",
     "text": [
      " \"wow\"                "
     ]
    },
    {
     "name": "stdout",
     "output_type": "stream",
     "text": [
      " \"distribution\"       "
     ]
    },
    {
     "name": "stdout",
     "output_type": "stream",
     "text": [
      " \"lists\"              "
     ]
    },
    {
     "name": "stdout",
     "output_type": "stream",
     "text": [
      "\n"
     ]
    },
    {
     "name": "stdout",
     "output_type": "stream",
     "text": [
      "[256]"
     ]
    },
    {
     "name": "stdout",
     "output_type": "stream",
     "text": [
      " \"taken\"              "
     ]
    },
    {
     "name": "stdout",
     "output_type": "stream",
     "text": [
      " \"boss\"               "
     ]
    },
    {
     "name": "stdout",
     "output_type": "stream",
     "text": [
      " \"world\"              "
     ]
    },
    {
     "name": "stdout",
     "output_type": "stream",
     "text": [
      "\n"
     ]
    },
    {
     "name": "stdout",
     "output_type": "stream",
     "text": [
      "[259]"
     ]
    },
    {
     "name": "stdout",
     "output_type": "stream",
     "text": [
      " \"fonts\"              "
     ]
    },
    {
     "name": "stdout",
     "output_type": "stream",
     "text": [
      " \"printer\"            "
     ]
    },
    {
     "name": "stdout",
     "output_type": "stream",
     "text": [
      " \"wish\"               "
     ]
    },
    {
     "name": "stdout",
     "output_type": "stream",
     "text": [
      "\n"
     ]
    },
    {
     "name": "stdout",
     "output_type": "stream",
     "text": [
      "[262]"
     ]
    },
    {
     "name": "stdout",
     "output_type": "stream",
     "text": [
      " \"sixthgrader\"        "
     ]
    },
    {
     "name": "stdout",
     "output_type": "stream",
     "text": [
      " \"show\"               "
     ]
    },
    {
     "name": "stdout",
     "output_type": "stream",
     "text": [
      " \"easier\"             "
     ]
    },
    {
     "name": "stdout",
     "output_type": "stream",
     "text": [
      "\n"
     ]
    },
    {
     "name": "stdout",
     "output_type": "stream",
     "text": [
      "[265]"
     ]
    },
    {
     "name": "stdout",
     "output_type": "stream",
     "text": [
      " \"itll\"               "
     ]
    },
    {
     "name": "stdout",
     "output_type": "stream",
     "text": [
      " \"birthday\"           "
     ]
    },
    {
     "name": "stdout",
     "output_type": "stream",
     "text": [
      " \"real\"               "
     ]
    },
    {
     "name": "stdout",
     "output_type": "stream",
     "text": [
      "\n"
     ]
    },
    {
     "name": "stdout",
     "output_type": "stream",
     "text": [
      "[268]"
     ]
    },
    {
     "name": "stdout",
     "output_type": "stream",
     "text": [
      " \"friends\"            "
     ]
    },
    {
     "name": "stdout",
     "output_type": "stream",
     "text": [
      " \"sounds\"             "
     ]
    },
    {
     "name": "stdout",
     "output_type": "stream",
     "text": [
      " \"main\"               "
     ]
    },
    {
     "name": "stdout",
     "output_type": "stream",
     "text": [
      "\n"
     ]
    },
    {
     "name": "stdout",
     "output_type": "stream",
     "text": [
      "[271]"
     ]
    },
    {
     "name": "stdout",
     "output_type": "stream",
     "text": [
      " \"youngest\"           "
     ]
    },
    {
     "name": "stdout",
     "output_type": "stream",
     "text": [
      " \"unusual\"            "
     ]
    },
    {
     "name": "stdout",
     "output_type": "stream",
     "text": [
      " \"every\"              "
     ]
    },
    {
     "name": "stdout",
     "output_type": "stream",
     "text": [
      "\n"
     ]
    },
    {
     "name": "stdout",
     "output_type": "stream",
     "text": [
      "[274]"
     ]
    },
    {
     "name": "stdout",
     "output_type": "stream",
     "text": [
      " \"chagigah\"           "
     ]
    },
    {
     "name": "stdout",
     "output_type": "stream",
     "text": [
      " \"cheshvan\"           "
     ]
    },
    {
     "name": "stdout",
     "output_type": "stream",
     "text": [
      " \"forward\"            "
     ]
    },
    {
     "name": "stdout",
     "output_type": "stream",
     "text": [
      "\n"
     ]
    },
    {
     "name": "stdout",
     "output_type": "stream",
     "text": [
      "[277]"
     ]
    },
    {
     "name": "stdout",
     "output_type": "stream",
     "text": [
      " \"california\"         "
     ]
    },
    {
     "name": "stdout",
     "output_type": "stream",
     "text": [
      " \"place\"              "
     ]
    },
    {
     "name": "stdout",
     "output_type": "stream",
     "text": [
      " \"chinese\"            "
     ]
    },
    {
     "name": "stdout",
     "output_type": "stream",
     "text": [
      "\n"
     ]
    },
    {
     "name": "stdout",
     "output_type": "stream",
     "text": [
      "[280]"
     ]
    },
    {
     "name": "stdout",
     "output_type": "stream",
     "text": [
      " \"parents\"            "
     ]
    },
    {
     "name": "stdout",
     "output_type": "stream",
     "text": [
      " \"turn\"               "
     ]
    },
    {
     "name": "stdout",
     "output_type": "stream",
     "text": [
      " \"math\"               "
     ]
    },
    {
     "name": "stdout",
     "output_type": "stream",
     "text": [
      "\n"
     ]
    },
    {
     "name": "stdout",
     "output_type": "stream",
     "text": [
      "[283]"
     ]
    },
    {
     "name": "stdout",
     "output_type": "stream",
     "text": [
      " \"syndicate\"          "
     ]
    },
    {
     "name": "stdout",
     "output_type": "stream",
     "text": [
      " \"taking\"             "
     ]
    },
    {
     "name": "stdout",
     "output_type": "stream",
     "text": [
      " \"hundred\"            "
     ]
    },
    {
     "name": "stdout",
     "output_type": "stream",
     "text": [
      "\n"
     ]
    },
    {
     "name": "stdout",
     "output_type": "stream",
     "text": [
      "[286]"
     ]
    },
    {
     "name": "stdout",
     "output_type": "stream",
     "text": [
      " \"perfect\"            "
     ]
    },
    {
     "name": "stdout",
     "output_type": "stream",
     "text": [
      " \"crazy\"              "
     ]
    },
    {
     "name": "stdout",
     "output_type": "stream",
     "text": [
      " \"prize\"              "
     ]
    },
    {
     "name": "stdout",
     "output_type": "stream",
     "text": [
      "\n"
     ]
    },
    {
     "name": "stdout",
     "output_type": "stream",
     "text": [
      "[289]"
     ]
    },
    {
     "name": "stdout",
     "output_type": "stream",
     "text": [
      " \"clipart\"            "
     ]
    },
    {
     "name": "stdout",
     "output_type": "stream",
     "text": [
      " \"pictures\"           "
     ]
    },
    {
     "name": "stdout",
     "output_type": "stream",
     "text": [
      " \"couple\"             "
     ]
    },
    {
     "name": "stdout",
     "output_type": "stream",
     "text": [
      "\n"
     ]
    },
    {
     "name": "stdout",
     "output_type": "stream",
     "text": [
      "[292]"
     ]
    },
    {
     "name": "stdout",
     "output_type": "stream",
     "text": [
      " \"font\"               "
     ]
    },
    {
     "name": "stdout",
     "output_type": "stream",
     "text": [
      " \"editorial\"          "
     ]
    },
    {
     "name": "stdout",
     "output_type": "stream",
     "text": [
      " \"page\"               "
     ]
    },
    {
     "name": "stdout",
     "output_type": "stream",
     "text": [
      "\n"
     ]
    },
    {
     "name": "stdout",
     "output_type": "stream",
     "text": [
      "[295]"
     ]
    },
    {
     "name": "stdout",
     "output_type": "stream",
     "text": [
      " \"writing\"            "
     ]
    },
    {
     "name": "stdout",
     "output_type": "stream",
     "text": [
      " \"write\"              "
     ]
    },
    {
     "name": "stdout",
     "output_type": "stream",
     "text": [
      " \"ol\"                 "
     ]
    },
    {
     "name": "stdout",
     "output_type": "stream",
     "text": [
      "\n"
     ]
    },
    {
     "name": "stdout",
     "output_type": "stream",
     "text": [
      "[298]"
     ]
    },
    {
     "name": "stdout",
     "output_type": "stream",
     "text": [
      " \"printed\"            "
     ]
    },
    {
     "name": "stdout",
     "output_type": "stream",
     "text": [
      " \"drawing\"            "
     ]
    },
    {
     "name": "stdout",
     "output_type": "stream",
     "text": [
      " \"stop\"               "
     ]
    },
    {
     "name": "stdout",
     "output_type": "stream",
     "text": [
      "\n"
     ]
    },
    {
     "name": "stdout",
     "output_type": "stream",
     "text": [
      "[301]"
     ]
    },
    {
     "name": "stdout",
     "output_type": "stream",
     "text": [
      " \"program\"            "
     ]
    },
    {
     "name": "stdout",
     "output_type": "stream",
     "text": [
      " \"ready\"              "
     ]
    },
    {
     "name": "stdout",
     "output_type": "stream",
     "text": [
      " \"act\"                "
     ]
    },
    {
     "name": "stdout",
     "output_type": "stream",
     "text": [
      "\n"
     ]
    },
    {
     "name": "stdout",
     "output_type": "stream",
     "text": [
      "[304]"
     ]
    },
    {
     "name": "stdout",
     "output_type": "stream",
     "text": [
      " \"makes\"              "
     ]
    },
    {
     "name": "stdout",
     "output_type": "stream",
     "text": [
      " \"snow\"               "
     ]
    },
    {
     "name": "stdout",
     "output_type": "stream",
     "text": [
      " \"drills\"             "
     ]
    },
    {
     "name": "stdout",
     "output_type": "stream",
     "text": [
      "\n"
     ]
    },
    {
     "name": "stdout",
     "output_type": "stream",
     "text": [
      "[307]"
     ]
    },
    {
     "name": "stdout",
     "output_type": "stream",
     "text": [
      " \"kaufman\"            "
     ]
    },
    {
     "name": "stdout",
     "output_type": "stream",
     "text": [
      " \"city\"               "
     ]
    },
    {
     "name": "stdout",
     "output_type": "stream",
     "text": [
      " \"glad\"               "
     ]
    },
    {
     "name": "stdout",
     "output_type": "stream",
     "text": [
      "\n"
     ]
    },
    {
     "name": "stdout",
     "output_type": "stream",
     "text": [
      "[310]"
     ]
    },
    {
     "name": "stdout",
     "output_type": "stream",
     "text": [
      " \"knows\"              "
     ]
    },
    {
     "name": "stdout",
     "output_type": "stream",
     "text": [
      " \"forget\"             "
     ]
    },
    {
     "name": "stdout",
     "output_type": "stream",
     "text": [
      " \"month\"              "
     ]
    },
    {
     "name": "stdout",
     "output_type": "stream",
     "text": [
      "\n"
     ]
    },
    {
     "name": "stdout",
     "output_type": "stream",
     "text": [
      "[313]"
     ]
    },
    {
     "name": "stdout",
     "output_type": "stream",
     "text": [
      " \"buy\"                "
     ]
    },
    {
     "name": "stdout",
     "output_type": "stream",
     "text": [
      " \"articles\"           "
     ]
    },
    {
     "name": "stdout",
     "output_type": "stream",
     "text": [
      " \"father\"             "
     ]
    },
    {
     "name": "stdout",
     "output_type": "stream",
     "text": [
      "\n"
     ]
    },
    {
     "name": "stdout",
     "output_type": "stream",
     "text": [
      "[316]"
     ]
    },
    {
     "name": "stdout",
     "output_type": "stream",
     "text": [
      " \"eight\"              "
     ]
    },
    {
     "name": "stdout",
     "output_type": "stream",
     "text": [
      " \"even\"               "
     ]
    },
    {
     "name": "stdout",
     "output_type": "stream",
     "text": [
      " \"morning\"            "
     ]
    },
    {
     "name": "stdout",
     "output_type": "stream",
     "text": [
      "\n"
     ]
    },
    {
     "name": "stdout",
     "output_type": "stream",
     "text": [
      "[319]"
     ]
    },
    {
     "name": "stdout",
     "output_type": "stream",
     "text": [
      " \"gets\"               "
     ]
    },
    {
     "name": "stdout",
     "output_type": "stream",
     "text": [
      " \"hello\"              "
     ]
    },
    {
     "name": "stdout",
     "output_type": "stream",
     "text": [
      " \"camera\"             "
     ]
    },
    {
     "name": "stdout",
     "output_type": "stream",
     "text": [
      "\n"
     ]
    },
    {
     "name": "stdout",
     "output_type": "stream",
     "text": [
      "[322]"
     ]
    },
    {
     "name": "stdout",
     "output_type": "stream",
     "text": [
      " \"balls\"              "
     ]
    },
    {
     "name": "stdout",
     "output_type": "stream",
     "text": [
      " \"decorating\"         "
     ]
    },
    {
     "name": "stdout",
     "output_type": "stream",
     "text": [
      " \"hashanah\"           "
     ]
    },
    {
     "name": "stdout",
     "output_type": "stream",
     "text": [
      "\n"
     ]
    },
    {
     "name": "stdout",
     "output_type": "stream",
     "text": [
      "[325]"
     ]
    },
    {
     "name": "stdout",
     "output_type": "stream",
     "text": [
      " \"rosh\"               "
     ]
    },
    {
     "name": "stdout",
     "output_type": "stream",
     "text": [
      " \"pay\"                "
     ]
    },
    {
     "name": "stdout",
     "output_type": "stream",
     "text": [
      " \"minutes\"            "
     ]
    },
    {
     "name": "stdout",
     "output_type": "stream",
     "text": [
      "\n"
     ]
    },
    {
     "name": "stdout",
     "output_type": "stream",
     "text": [
      "[328]"
     ]
    },
    {
     "name": "stdout",
     "output_type": "stream",
     "text": [
      " \"must\"               "
     ]
    },
    {
     "name": "stdout",
     "output_type": "stream",
     "text": [
      " \"past\"               "
     ]
    },
    {
     "name": "stdout",
     "output_type": "stream",
     "text": [
      " \"heres\"              "
     ]
    },
    {
     "name": "stdout",
     "output_type": "stream",
     "text": [
      "\n"
     ]
    },
    {
     "name": "stdout",
     "output_type": "stream",
     "text": [
      "[331]"
     ]
    },
    {
     "name": "stdout",
     "output_type": "stream",
     "text": [
      " \"wonder\"             "
     ]
    },
    {
     "name": "stdout",
     "output_type": "stream",
     "text": [
      " \"afternoon\"          "
     ]
    },
    {
     "name": "stdout",
     "output_type": "stream",
     "text": [
      " \"practice\"           "
     ]
    },
    {
     "name": "stdout",
     "output_type": "stream",
     "text": [
      "\n"
     ]
    },
    {
     "name": "stdout",
     "output_type": "stream",
     "text": [
      "[334]"
     ]
    },
    {
     "name": "stdout",
     "output_type": "stream",
     "text": [
      " \"theyre\"             "
     ]
    },
    {
     "name": "stdout",
     "output_type": "stream",
     "text": [
      " \"leave\"              "
     ]
    },
    {
     "name": "stdout",
     "output_type": "stream",
     "text": [
      " \"pick\"               "
     ]
    },
    {
     "name": "stdout",
     "output_type": "stream",
     "text": [
      "\n"
     ]
    },
    {
     "name": "stdout",
     "output_type": "stream",
     "text": [
      "[337]"
     ]
    },
    {
     "name": "stdout",
     "output_type": "stream",
     "text": [
      " \"chavi\"              "
     ]
    },
    {
     "name": "stdout",
     "output_type": "stream",
     "text": [
      " \"lunchroom\"          "
     ]
    },
    {
     "name": "stdout",
     "output_type": "stream",
     "text": [
      " \"whyd\"               "
     ]
    },
    {
     "name": "stdout",
     "output_type": "stream",
     "text": [
      "\n"
     ]
    },
    {
     "name": "stdout",
     "output_type": "stream",
     "text": [
      "[340]"
     ]
    },
    {
     "name": "stdout",
     "output_type": "stream",
     "text": [
      " \"bet\"                "
     ]
    },
    {
     "name": "stdout",
     "output_type": "stream",
     "text": [
      " \"quite\"              "
     ]
    },
    {
     "name": "stdout",
     "output_type": "stream",
     "text": [
      " \"torah\"              "
     ]
    },
    {
     "name": "stdout",
     "output_type": "stream",
     "text": [
      "\n"
     ]
    },
    {
     "name": "stdout",
     "output_type": "stream",
     "text": [
      "[343]"
     ]
    },
    {
     "name": "stdout",
     "output_type": "stream",
     "text": [
      " \"almost\"             "
     ]
    },
    {
     "name": "stdout",
     "output_type": "stream",
     "text": [
      " \"shabbos\"            "
     ]
    },
    {
     "name": "stdout",
     "output_type": "stream",
     "text": [
      " \"park\"               "
     ]
    },
    {
     "name": "stdout",
     "output_type": "stream",
     "text": [
      "\n"
     ]
    },
    {
     "name": "stdout",
     "output_type": "stream",
     "text": [
      "[346]"
     ]
    },
    {
     "name": "stdout",
     "output_type": "stream",
     "text": [
      " \"twin\"               "
     ]
    },
    {
     "name": "stdout",
     "output_type": "stream",
     "text": [
      " \"wanted\"             "
     ]
    },
    {
     "name": "stdout",
     "output_type": "stream",
     "text": [
      " \"least\"              "
     ]
    },
    {
     "name": "stdout",
     "output_type": "stream",
     "text": [
      "\n"
     ]
    },
    {
     "name": "stdout",
     "output_type": "stream",
     "text": [
      "[349]"
     ]
    },
    {
     "name": "stdout",
     "output_type": "stream",
     "text": [
      " \"playing\"            "
     ]
    },
    {
     "name": "stdout",
     "output_type": "stream",
     "text": [
      " \"chicken\"            "
     ]
    },
    {
     "name": "stdout",
     "output_type": "stream",
     "text": [
      " \"minor\"              "
     ]
    },
    {
     "name": "stdout",
     "output_type": "stream",
     "text": [
      "\n"
     ]
    },
    {
     "name": "stdout",
     "output_type": "stream",
     "text": [
      "[352]"
     ]
    },
    {
     "name": "stdout",
     "output_type": "stream",
     "text": [
      " \"point\"              "
     ]
    },
    {
     "name": "stdout",
     "output_type": "stream",
     "text": [
      " \"happen\"             "
     ]
    },
    {
     "name": "stdout",
     "output_type": "stream",
     "text": [
      " \"table\"              "
     ]
    },
    {
     "name": "stdout",
     "output_type": "stream",
     "text": [
      "\n"
     ]
    },
    {
     "name": "stdout",
     "output_type": "stream",
     "text": [
      "[355]"
     ]
    },
    {
     "name": "stdout",
     "output_type": "stream",
     "text": [
      " \"though\"             "
     ]
    },
    {
     "name": "stdout",
     "output_type": "stream",
     "text": [
      " \"terrific\"           "
     ]
    },
    {
     "name": "stdout",
     "output_type": "stream",
     "text": [
      " \"aliza\"              "
     ]
    },
    {
     "name": "stdout",
     "output_type": "stream",
     "text": [
      "\n"
     ]
    },
    {
     "name": "stdout",
     "output_type": "stream",
     "text": [
      "[358]"
     ]
    },
    {
     "name": "stdout",
     "output_type": "stream",
     "text": [
      " \"usually\"            "
     ]
    },
    {
     "name": "stdout",
     "output_type": "stream",
     "text": [
      " \"segal\"              "
     ]
    },
    {
     "name": "stdout",
     "output_type": "stream",
     "text": [
      " \"talents\"            "
     ]
    },
    {
     "name": "stdout",
     "output_type": "stream",
     "text": [
      "\n"
     ]
    },
    {
     "name": "stdout",
     "output_type": "stream",
     "text": [
      "[361]"
     ]
    },
    {
     "name": "stdout",
     "output_type": "stream",
     "text": [
      " \"wedding\"            "
     ]
    },
    {
     "name": "stdout",
     "output_type": "stream",
     "text": [
      " \"begin\"              "
     ]
    },
    {
     "name": "stdout",
     "output_type": "stream",
     "text": [
      " \"meanwhile\"          "
     ]
    },
    {
     "name": "stdout",
     "output_type": "stream",
     "text": [
      "\n"
     ]
    },
    {
     "name": "stdout",
     "output_type": "stream",
     "text": [
      "[364]"
     ]
    },
    {
     "name": "stdout",
     "output_type": "stream",
     "text": [
      " \"cookies\"            "
     ]
    },
    {
     "name": "stdout",
     "output_type": "stream",
     "text": [
      " \"skit\"               "
     ]
    },
    {
     "name": "stdout",
     "output_type": "stream",
     "text": [
      " \"twins\"              "
     ]
    },
    {
     "name": "stdout",
     "output_type": "stream",
     "text": [
      "\n"
     ]
    },
    {
     "name": "stdout",
     "output_type": "stream",
     "text": [
      "[367]"
     ]
    },
    {
     "name": "stdout",
     "output_type": "stream",
     "text": [
      " \"talmidim\"           "
     ]
    },
    {
     "name": "stdout",
     "output_type": "stream",
     "text": [
      " \"inside\"             "
     ]
    },
    {
     "name": "stdout",
     "output_type": "stream",
     "text": [
      " \"journalists\"        "
     ]
    },
    {
     "name": "stdout",
     "output_type": "stream",
     "text": [
      "\n"
     ]
    },
    {
     "name": "stdout",
     "output_type": "stream",
     "text": [
      "[370]"
     ]
    },
    {
     "name": "stdout",
     "output_type": "stream",
     "text": [
      " \"spot\"               "
     ]
    },
    {
     "name": "stdout",
     "output_type": "stream",
     "text": [
      " \"thank\"              "
     ]
    },
    {
     "name": "stdout",
     "output_type": "stream",
     "text": [
      " \"felt\"               "
     ]
    },
    {
     "name": "stdout",
     "output_type": "stream",
     "text": [
      "\n"
     ]
    },
    {
     "name": "stdout",
     "output_type": "stream",
     "text": [
      "[373]"
     ]
    },
    {
     "name": "stdout",
     "output_type": "stream",
     "text": [
      " \"excited\"            "
     ]
    },
    {
     "name": "stdout",
     "output_type": "stream",
     "text": [
      " \"israel\"             "
     ]
    },
    {
     "name": "stdout",
     "output_type": "stream",
     "text": [
      " \"believe\"            "
     ]
    },
    {
     "name": "stdout",
     "output_type": "stream",
     "text": [
      "\n"
     ]
    },
    {
     "name": "stdout",
     "output_type": "stream",
     "text": [
      "[376]"
     ]
    },
    {
     "name": "stdout",
     "output_type": "stream",
     "text": [
      " \"long\"               "
     ]
    },
    {
     "name": "stdout",
     "output_type": "stream",
     "text": [
      " \"answer\"             "
     ]
    },
    {
     "name": "stdout",
     "output_type": "stream",
     "text": [
      " \"everythings\"        "
     ]
    },
    {
     "name": "stdout",
     "output_type": "stream",
     "text": [
      "\n"
     ]
    },
    {
     "name": "stdout",
     "output_type": "stream",
     "text": [
      "[379]"
     ]
    },
    {
     "name": "stdout",
     "output_type": "stream",
     "text": [
      " \"rainbow\"            "
     ]
    },
    {
     "name": "stdout",
     "output_type": "stream",
     "text": [
      " \"psyched\"            "
     ]
    },
    {
     "name": "stdout",
     "output_type": "stream",
     "text": [
      " \"exciting\"           "
     ]
    },
    {
     "name": "stdout",
     "output_type": "stream",
     "text": [
      "\n"
     ]
    },
    {
     "name": "stdout",
     "output_type": "stream",
     "text": [
      "[382]"
     ]
    },
    {
     "name": "stdout",
     "output_type": "stream",
     "text": [
      " \"grandmothers\"       "
     ]
    },
    {
     "name": "stdout",
     "output_type": "stream",
     "text": [
      " \"sprouts\"            "
     ]
    },
    {
     "name": "stdout",
     "output_type": "stream",
     "text": [
      " \"blows\"              "
     ]
    },
    {
     "name": "stdout",
     "output_type": "stream",
     "text": [
      "\n"
     ]
    },
    {
     "name": "stdout",
     "output_type": "stream",
     "text": [
      "[385]"
     ]
    },
    {
     "name": "stdout",
     "output_type": "stream",
     "text": [
      " \"healthfood\"         "
     ]
    },
    {
     "name": "stdout",
     "output_type": "stream",
     "text": [
      " \"managed\"            "
     ]
    },
    {
     "name": "stdout",
     "output_type": "stream",
     "text": [
      " \"delicious\"          "
     ]
    },
    {
     "name": "stdout",
     "output_type": "stream",
     "text": [
      "\n"
     ]
    },
    {
     "name": "stdout",
     "output_type": "stream",
     "text": [
      "[388]"
     ]
    },
    {
     "name": "stdout",
     "output_type": "stream",
     "text": [
      " \"eat\"                "
     ]
    },
    {
     "name": "stdout",
     "output_type": "stream",
     "text": [
      " \"healthy\"            "
     ]
    },
    {
     "name": "stdout",
     "output_type": "stream",
     "text": [
      " \"planet\"             "
     ]
    },
    {
     "name": "stdout",
     "output_type": "stream",
     "text": [
      "\n"
     ]
    },
    {
     "name": "stdout",
     "output_type": "stream",
     "text": [
      "[391]"
     ]
    },
    {
     "name": "stdout",
     "output_type": "stream",
     "text": [
      " \"wayand\"             "
     ]
    },
    {
     "name": "stdout",
     "output_type": "stream",
     "text": [
      " \"changing\"           "
     ]
    },
    {
     "name": "stdout",
     "output_type": "stream",
     "text": [
      " \"dots\"               "
     ]
    },
    {
     "name": "stdout",
     "output_type": "stream",
     "text": [
      "\n"
     ]
    },
    {
     "name": "stdout",
     "output_type": "stream",
     "text": [
      "[394]"
     ]
    },
    {
     "name": "stdout",
     "output_type": "stream",
     "text": [
      " \"dotsbut\"            "
     ]
    },
    {
     "name": "stdout",
     "output_type": "stream",
     "text": [
      " \"dragon\"             "
     ]
    },
    {
     "name": "stdout",
     "output_type": "stream",
     "text": [
      " \"guaranteed\"         "
     ]
    },
    {
     "name": "stdout",
     "output_type": "stream",
     "text": [
      "\n"
     ]
    },
    {
     "name": "stdout",
     "output_type": "stream",
     "text": [
      "[397]"
     ]
    },
    {
     "name": "stdout",
     "output_type": "stream",
     "text": [
      " \"king\"               "
     ]
    },
    {
     "name": "stdout",
     "output_type": "stream",
     "text": [
      " \"knight\"             "
     ]
    },
    {
     "name": "stdout",
     "output_type": "stream",
     "text": [
      " \"mechanism\"          "
     ]
    },
    {
     "name": "stdout",
     "output_type": "stream",
     "text": [
      "\n"
     ]
    },
    {
     "name": "stdout",
     "output_type": "stream",
     "text": [
      "[400]"
     ]
    },
    {
     "name": "stdout",
     "output_type": "stream",
     "text": [
      " \"quickly\"            "
     ]
    },
    {
     "name": "stdout",
     "output_type": "stream",
     "text": [
      " \"telling\"            "
     ]
    },
    {
     "name": "stdout",
     "output_type": "stream",
     "text": [
      " \"track\"              "
     ]
    },
    {
     "name": "stdout",
     "output_type": "stream",
     "text": [
      "\n"
     ]
    },
    {
     "name": "stdout",
     "output_type": "stream",
     "text": [
      "[403]"
     ]
    },
    {
     "name": "stdout",
     "output_type": "stream",
     "text": [
      " \"nobody\"             "
     ]
    },
    {
     "name": "stdout",
     "output_type": "stream",
     "text": [
      " \"cater\"              "
     ]
    },
    {
     "name": "stdout",
     "output_type": "stream",
     "text": [
      " \"dried\"              "
     ]
    },
    {
     "name": "stdout",
     "output_type": "stream",
     "text": [
      "\n"
     ]
    },
    {
     "name": "stdout",
     "output_type": "stream",
     "text": [
      "[406]"
     ]
    },
    {
     "name": "stdout",
     "output_type": "stream",
     "text": [
      " \"foods\"              "
     ]
    },
    {
     "name": "stdout",
     "output_type": "stream",
     "text": [
      " \"natural\"            "
     ]
    },
    {
     "name": "stdout",
     "output_type": "stream",
     "text": [
      " \"color\"              "
     ]
    },
    {
     "name": "stdout",
     "output_type": "stream",
     "text": [
      "\n"
     ]
    },
    {
     "name": "stdout",
     "output_type": "stream",
     "text": [
      "[409]"
     ]
    },
    {
     "name": "stdout",
     "output_type": "stream",
     "text": [
      " \"handle\"             "
     ]
    },
    {
     "name": "stdout",
     "output_type": "stream",
     "text": [
      " \"heard\"              "
     ]
    },
    {
     "name": "stdout",
     "output_type": "stream",
     "text": [
      " \"nervous\"            "
     ]
    },
    {
     "name": "stdout",
     "output_type": "stream",
     "text": [
      "\n"
     ]
    },
    {
     "name": "stdout",
     "output_type": "stream",
     "text": [
      "[412]"
     ]
    },
    {
     "name": "stdout",
     "output_type": "stream",
     "text": [
      " \"relax\"              "
     ]
    },
    {
     "name": "stdout",
     "output_type": "stream",
     "text": [
      " \"saved\"              "
     ]
    },
    {
     "name": "stdout",
     "output_type": "stream",
     "text": [
      " \"absolutely\"         "
     ]
    },
    {
     "name": "stdout",
     "output_type": "stream",
     "text": [
      "\n"
     ]
    },
    {
     "name": "stdout",
     "output_type": "stream",
     "text": [
      "[415]"
     ]
    },
    {
     "name": "stdout",
     "output_type": "stream",
     "text": [
      " \"differently\"        "
     ]
    },
    {
     "name": "stdout",
     "output_type": "stream",
     "text": [
      " \"might\"              "
     ]
    },
    {
     "name": "stdout",
     "output_type": "stream",
     "text": [
      " \"realized\"           "
     ]
    },
    {
     "name": "stdout",
     "output_type": "stream",
     "text": [
      "\n"
     ]
    },
    {
     "name": "stdout",
     "output_type": "stream",
     "text": [
      "[418]"
     ]
    },
    {
     "name": "stdout",
     "output_type": "stream",
     "text": [
      " \"packed\"             "
     ]
    },
    {
     "name": "stdout",
     "output_type": "stream",
     "text": [
      " \"peaceful\"           "
     ]
    },
    {
     "name": "stdout",
     "output_type": "stream",
     "text": [
      " \"locked\"             "
     ]
    },
    {
     "name": "stdout",
     "output_type": "stream",
     "text": [
      "\n"
     ]
    },
    {
     "name": "stdout",
     "output_type": "stream",
     "text": [
      "[421]"
     ]
    },
    {
     "name": "stdout",
     "output_type": "stream",
     "text": [
      " \"psychic\"            "
     ]
    },
    {
     "name": "stdout",
     "output_type": "stream",
     "text": [
      " \"forgive\"            "
     ]
    },
    {
     "name": "stdout",
     "output_type": "stream",
     "text": [
      " \"grumpy\"             "
     ]
    },
    {
     "name": "stdout",
     "output_type": "stream",
     "text": [
      "\n"
     ]
    },
    {
     "name": "stdout",
     "output_type": "stream",
     "text": [
      "[424]"
     ]
    },
    {
     "name": "stdout",
     "output_type": "stream",
     "text": [
      " \"kid\"                "
     ]
    },
    {
     "name": "stdout",
     "output_type": "stream",
     "text": [
      " \"nechamas\"           "
     ]
    },
    {
     "name": "stdout",
     "output_type": "stream",
     "text": [
      " \"sulky\"              "
     ]
    },
    {
     "name": "stdout",
     "output_type": "stream",
     "text": [
      "\n"
     ]
    },
    {
     "name": "stdout",
     "output_type": "stream",
     "text": [
      "[427]"
     ]
    },
    {
     "name": "stdout",
     "output_type": "stream",
     "text": [
      " \"house\"              "
     ]
    },
    {
     "name": "stdout",
     "output_type": "stream",
     "text": [
      " \"planning\"           "
     ]
    },
    {
     "name": "stdout",
     "output_type": "stream",
     "text": [
      " \"dips\"               "
     ]
    },
    {
     "name": "stdout",
     "output_type": "stream",
     "text": [
      "\n"
     ]
    },
    {
     "name": "stdout",
     "output_type": "stream",
     "text": [
      "[430]"
     ]
    },
    {
     "name": "stdout",
     "output_type": "stream",
     "text": [
      " \"granola\"            "
     ]
    },
    {
     "name": "stdout",
     "output_type": "stream",
     "text": [
      " \"juice\"              "
     ]
    },
    {
     "name": "stdout",
     "output_type": "stream",
     "text": [
      " \"able\"               "
     ]
    },
    {
     "name": "stdout",
     "output_type": "stream",
     "text": [
      "\n"
     ]
    },
    {
     "name": "stdout",
     "output_type": "stream",
     "text": [
      "[433]"
     ]
    },
    {
     "name": "stdout",
     "output_type": "stream",
     "text": [
      " \"help\"               "
     ]
    },
    {
     "name": "stdout",
     "output_type": "stream",
     "text": [
      " \"bell\"               "
     ]
    },
    {
     "name": "stdout",
     "output_type": "stream",
     "text": [
      " \"care\"               "
     ]
    },
    {
     "name": "stdout",
     "output_type": "stream",
     "text": [
      "\n"
     ]
    },
    {
     "name": "stdout",
     "output_type": "stream",
     "text": [
      "[436]"
     ]
    },
    {
     "name": "stdout",
     "output_type": "stream",
     "text": [
      " \"rings\"              "
     ]
    },
    {
     "name": "stdout",
     "output_type": "stream",
     "text": [
      " \"best\"               "
     ]
    },
    {
     "name": "stdout",
     "output_type": "stream",
     "text": [
      " \"typefaces\"          "
     ]
    },
    {
     "name": "stdout",
     "output_type": "stream",
     "text": [
      "\n"
     ]
    },
    {
     "name": "stdout",
     "output_type": "stream",
     "text": [
      "[439]"
     ]
    },
    {
     "name": "stdout",
     "output_type": "stream",
     "text": [
      " \"letters\"            "
     ]
    },
    {
     "name": "stdout",
     "output_type": "stream",
     "text": [
      " \"shapes\"             "
     ]
    },
    {
     "name": "stdout",
     "output_type": "stream",
     "text": [
      " \"sizes\"              "
     ]
    },
    {
     "name": "stdout",
     "output_type": "stream",
     "text": [
      "\n"
     ]
    },
    {
     "name": "stdout",
     "output_type": "stream",
     "text": [
      "[442]"
     ]
    },
    {
     "name": "stdout",
     "output_type": "stream",
     "text": [
      " \"types\"              "
     ]
    },
    {
     "name": "stdout",
     "output_type": "stream",
     "text": [
      " \"breeze\"             "
     ]
    },
    {
     "name": "stdout",
     "output_type": "stream",
     "text": [
      " \"total\"              "
     ]
    },
    {
     "name": "stdout",
     "output_type": "stream",
     "text": [
      "\n"
     ]
    },
    {
     "name": "stdout",
     "output_type": "stream",
     "text": [
      "[445]"
     ]
    },
    {
     "name": "stdout",
     "output_type": "stream",
     "text": [
      " \"yes\"                "
     ]
    },
    {
     "name": "stdout",
     "output_type": "stream",
     "text": [
      " \"longer\"             "
     ]
    },
    {
     "name": "stdout",
     "output_type": "stream",
     "text": [
      " \"meyers\"             "
     ]
    },
    {
     "name": "stdout",
     "output_type": "stream",
     "text": [
      "\n"
     ]
    },
    {
     "name": "stdout",
     "output_type": "stream",
     "text": [
      "[448]"
     ]
    },
    {
     "name": "stdout",
     "output_type": "stream",
     "text": [
      " \"major\"              "
     ]
    },
    {
     "name": "stdout",
     "output_type": "stream",
     "text": [
      " \"soshi\"              "
     ]
    },
    {
     "name": "stdout",
     "output_type": "stream",
     "text": [
      " \"expected\"           "
     ]
    },
    {
     "name": "stdout",
     "output_type": "stream",
     "text": [
      "\n"
     ]
    },
    {
     "name": "stdout",
     "output_type": "stream",
     "text": [
      "[451]"
     ]
    },
    {
     "name": "stdout",
     "output_type": "stream",
     "text": [
      " \"written\"            "
     ]
    },
    {
     "name": "stdout",
     "output_type": "stream",
     "text": [
      " \"nope\"               "
     ]
    },
    {
     "name": "stdout",
     "output_type": "stream",
     "text": [
      " \"cmon\"               "
     ]
    },
    {
     "name": "stdout",
     "output_type": "stream",
     "text": [
      "\n"
     ]
    },
    {
     "name": "stdout",
     "output_type": "stream",
     "text": [
      "[454]"
     ]
    },
    {
     "name": "stdout",
     "output_type": "stream",
     "text": [
      " \"cast\"               "
     ]
    },
    {
     "name": "stdout",
     "output_type": "stream",
     "text": [
      " \"chosen\"             "
     ]
    },
    {
     "name": "stdout",
     "output_type": "stream",
     "text": [
      " \"given\"              "
     ]
    },
    {
     "name": "stdout",
     "output_type": "stream",
     "text": [
      "\n"
     ]
    },
    {
     "name": "stdout",
     "output_type": "stream",
     "text": [
      "[457]"
     ]
    },
    {
     "name": "stdout",
     "output_type": "stream",
     "text": [
      " \"less\"               "
     ]
    },
    {
     "name": "stdout",
     "output_type": "stream",
     "text": [
      " \"luck\"               "
     ]
    },
    {
     "name": "stdout",
     "output_type": "stream",
     "text": [
      " \"rooting\"            "
     ]
    },
    {
     "name": "stdout",
     "output_type": "stream",
     "text": [
      "\n"
     ]
    },
    {
     "name": "stdout",
     "output_type": "stream",
     "text": [
      "[460]"
     ]
    },
    {
     "name": "stdout",
     "output_type": "stream",
     "text": [
      " \"single\"             "
     ]
    },
    {
     "name": "stdout",
     "output_type": "stream",
     "text": [
      " \"coast\"              "
     ]
    },
    {
     "name": "stdout",
     "output_type": "stream",
     "text": [
      " \"havent\"             "
     ]
    },
    {
     "name": "stdout",
     "output_type": "stream",
     "text": [
      "\n"
     ]
    },
    {
     "name": "stdout",
     "output_type": "stream",
     "text": [
      "[463]"
     ]
    },
    {
     "name": "stdout",
     "output_type": "stream",
     "text": [
      " \"moved\"              "
     ]
    },
    {
     "name": "stdout",
     "output_type": "stream",
     "text": [
      " \"seen\"               "
     ]
    },
    {
     "name": "stdout",
     "output_type": "stream",
     "text": [
      " \"since\"              "
     ]
    },
    {
     "name": "stdout",
     "output_type": "stream",
     "text": [
      "\n"
     ]
    },
    {
     "name": "stdout",
     "output_type": "stream",
     "text": [
      "[466]"
     ]
    },
    {
     "name": "stdout",
     "output_type": "stream",
     "text": [
      " \"west\"               "
     ]
    },
    {
     "name": "stdout",
     "output_type": "stream",
     "text": [
      " \"apple\"              "
     ]
    },
    {
     "name": "stdout",
     "output_type": "stream",
     "text": [
      " \"hates\"              "
     ]
    },
    {
     "name": "stdout",
     "output_type": "stream",
     "text": [
      "\n"
     ]
    },
    {
     "name": "stdout",
     "output_type": "stream",
     "text": [
      "[469]"
     ]
    },
    {
     "name": "stdout",
     "output_type": "stream",
     "text": [
      " \"officially\"         "
     ]
    },
    {
     "name": "stdout",
     "output_type": "stream",
     "text": [
      " \"rotten\"             "
     ]
    },
    {
     "name": "stdout",
     "output_type": "stream",
     "text": [
      " \"whether\"            "
     ]
    },
    {
     "name": "stdout",
     "output_type": "stream",
     "text": [
      "\n"
     ]
    },
    {
     "name": "stdout",
     "output_type": "stream",
     "text": [
      "[472]"
     ]
    },
    {
     "name": "stdout",
     "output_type": "stream",
     "text": [
      " \"restaurant\"         "
     ]
    },
    {
     "name": "stdout",
     "output_type": "stream",
     "text": [
      " \"health\"             "
     ]
    },
    {
     "name": "stdout",
     "output_type": "stream",
     "text": [
      " \"moms\"               "
     ]
    },
    {
     "name": "stdout",
     "output_type": "stream",
     "text": [
      "\n"
     ]
    },
    {
     "name": "stdout",
     "output_type": "stream",
     "text": [
      "[475]"
     ]
    },
    {
     "name": "stdout",
     "output_type": "stream",
     "text": [
      " \"restaurants\"        "
     ]
    },
    {
     "name": "stdout",
     "output_type": "stream",
     "text": [
      " \"offer\"              "
     ]
    },
    {
     "name": "stdout",
     "output_type": "stream",
     "text": [
      " \"grader\"             "
     ]
    },
    {
     "name": "stdout",
     "output_type": "stream",
     "text": [
      "\n"
     ]
    },
    {
     "name": "stdout",
     "output_type": "stream",
     "text": [
      "[478]"
     ]
    },
    {
     "name": "stdout",
     "output_type": "stream",
     "text": [
      " \"seventh\"            "
     ]
    },
    {
     "name": "stdout",
     "output_type": "stream",
     "text": [
      " \"tutor\"              "
     ]
    },
    {
     "name": "stdout",
     "output_type": "stream",
     "text": [
      " \"seriously\"          "
     ]
    },
    {
     "name": "stdout",
     "output_type": "stream",
     "text": [
      "\n"
     ]
    },
    {
     "name": "stdout",
     "output_type": "stream",
     "text": [
      "[481]"
     ]
    },
    {
     "name": "stdout",
     "output_type": "stream",
     "text": [
      " \"somethingll\"        "
     ]
    },
    {
     "name": "stdout",
     "output_type": "stream",
     "text": [
      " \"collect\"            "
     ]
    },
    {
     "name": "stdout",
     "output_type": "stream",
     "text": [
      " \"dollars\"            "
     ]
    },
    {
     "name": "stdout",
     "output_type": "stream",
     "text": [
      "\n"
     ]
    },
    {
     "name": "stdout",
     "output_type": "stream",
     "text": [
      "[484]"
     ]
    },
    {
     "name": "stdout",
     "output_type": "stream",
     "text": [
      " \"everybody\"          "
     ]
    },
    {
     "name": "stdout",
     "output_type": "stream",
     "text": [
      " \"upset\"              "
     ]
    },
    {
     "name": "stdout",
     "output_type": "stream",
     "text": [
      " \"lots\"               "
     ]
    },
    {
     "name": "stdout",
     "output_type": "stream",
     "text": [
      "\n"
     ]
    },
    {
     "name": "stdout",
     "output_type": "stream",
     "text": [
      "[487]"
     ]
    },
    {
     "name": "stdout",
     "output_type": "stream",
     "text": [
      " \"smoother\"           "
     ]
    },
    {
     "name": "stdout",
     "output_type": "stream",
     "text": [
      " \"professionallooking\""
     ]
    },
    {
     "name": "stdout",
     "output_type": "stream",
     "text": [
      " \"advertisements\"     "
     ]
    },
    {
     "name": "stdout",
     "output_type": "stream",
     "text": [
      "\n"
     ]
    },
    {
     "name": "stdout",
     "output_type": "stream",
     "text": [
      "[490]"
     ]
    },
    {
     "name": "stdout",
     "output_type": "stream",
     "text": [
      " \"glossy\"             "
     ]
    },
    {
     "name": "stdout",
     "output_type": "stream",
     "text": [
      " \"chanis\"             "
     ]
    },
    {
     "name": "stdout",
     "output_type": "stream",
     "text": [
      " \"next\"               "
     ]
    },
    {
     "name": "stdout",
     "output_type": "stream",
     "text": [
      "\n"
     ]
    },
    {
     "name": "stdout",
     "output_type": "stream",
     "text": [
      "[493]"
     ]
    },
    {
     "name": "stdout",
     "output_type": "stream",
     "text": [
      " \"word\"               "
     ]
    },
    {
     "name": "stdout",
     "output_type": "stream",
     "text": [
      " \"outta\"              "
     ]
    },
    {
     "name": "stdout",
     "output_type": "stream",
     "text": [
      " \"sight\"              "
     ]
    },
    {
     "name": "stdout",
     "output_type": "stream",
     "text": [
      "\n"
     ]
    },
    {
     "name": "stdout",
     "output_type": "stream",
     "text": [
      "[496]"
     ]
    },
    {
     "name": "stdout",
     "output_type": "stream",
     "text": [
      " \"quill\"              "
     ]
    },
    {
     "name": "stdout",
     "output_type": "stream",
     "text": [
      " \"side\"               "
     ]
    },
    {
     "name": "stdout",
     "output_type": "stream",
     "text": [
      " \"gave\"               "
     ]
    },
    {
     "name": "stdout",
     "output_type": "stream",
     "text": [
      "\n"
     ]
    },
    {
     "name": "stdout",
     "output_type": "stream",
     "text": [
      "[499]"
     ]
    },
    {
     "name": "stdout",
     "output_type": "stream",
     "text": [
      " \"goahead\"            "
     ]
    },
    {
     "name": "stdout",
     "output_type": "stream",
     "text": [
      " \"old\"                "
     ]
    },
    {
     "name": "stdout",
     "output_type": "stream",
     "text": [
      "\n"
     ]
    }
   ],
   "source": [
    "%%R\n",
    "n=500\n",
    "word.sums.mdws<-colSums(corpus.matrix.mdws)\n",
    "word.sums.mdws<-sort(word.sums.mdws, decreasing=T)\n",
    "mfw.mdws<-names(word.sums.mdws[1:n])\n",
    "mfw.mdws"
   ]
  },
  {
   "cell_type": "markdown",
   "id": "68ef9b44",
   "metadata": {},
   "source": [
    "“Oh yeah, those top most-frequent words are VERY Ilana,” I said, looking at the list. \n",
    "\n",
    "“Let’s run the most distinctive word code that we usually use around the Lab,” said Mark. “We’ll use 0.05 as the cut-off – the usual threshold for statistical significance – though sometimes we use something much smaller to find highly distinctive words.”\n",
    "\n",
    "“How does that code work?” I asked.\n",
    "\n",
    "“Basically, we give it a vector of groups – in this case, we’ve got Ilana and Non-Ilana. For each group, we compare the text in that group to all the text in the other groups combined and ask, ‘What if we take the word frequencies in all the *other* groups as kind of like a default?’ Then we look at what words in the group text occur *statistically significantly more frequently* than in the other groups put together.”"
   ]
  },
  {
   "cell_type": "code",
   "execution_count": 36,
   "id": "d221c5c3",
   "metadata": {},
   "outputs": [],
   "source": [
    "%%R\n",
    "#This code is called by the function below - don't run this by itself\n",
    "#Code takes two variables. \n",
    "#1. A document term matrix (rows as documents, columns as words, cells as counts of words in documents)\n",
    "#2. A vector of group assignments for the texts\n",
    "qdMDWs<-function(dtm.matrix, groups, alpha=0.05){\n",
    "  #let user know what's happening\n",
    "  print(\"MDWs\")\n",
    "  #get all of the actual words from the columns in the document term matrix\n",
    "  all.terms<-colnames(dtm.matrix)\n",
    "  #figure out which columns in the DTM correspond to the target population\n",
    "  target.index<-which(groups==\"Target\")\n",
    "  #Assuming that there are more than one text in the target group\n",
    "  if(length(target.index)>1){\n",
    "    #get the total count of each word for all of the texts in the target group\n",
    "    target.sub<-colSums(dtm.matrix[target.index,])\n",
    "    #if not\n",
    "  } else {\n",
    "    #just get the counts for that text\n",
    "    target.sub<-dtm.matrix[target.index,]\n",
    "  }\n",
    "  #get the total count for all groups of each words\n",
    "  total.obs<-colSums(dtm.matrix)\n",
    "  #get the total word count for all of the words in the target subset of the corpus\n",
    "  target.words<-sum(target.sub)\n",
    "  #calculate frequencies of words in target group by dividing by total words in corpus\n",
    "  target.scaled<-target.sub/sum(target.sub)\n",
    "  #calculate frequencies of all words in the corpus (target and non-target)\n",
    "  total.scaled<-total.obs/sum(total.obs)\n",
    "  #find expected number of each words in the target sub-corpus by multiplying the total frequency across the entire corpus by the number of words in the target corpus\n",
    "  target.exp<-round((total.scaled*target.words), 0)\n",
    "  #find the difference between the expected number of words and the actual number of words in the target subcorpus\n",
    "  term.diff<-target.sub-target.exp\n",
    "  #find all of the words that show up less frequently than expected\n",
    "  keep.index<-which(term.diff>0)\n",
    "  #remove the words that show up less frequently than expected from the total corpus\n",
    "  all.terms<-all.terms[keep.index]\n",
    "  #remove the words that show up less frequently than expected from the target subcorpus\n",
    "  target.sub<-target.sub[keep.index]\n",
    "  #remove the words that show up less frequently than expected from the target expected subcorpus\n",
    "  target.exp<-target.exp[keep.index]\n",
    "  #find the total number of times for each word that it isn't in the target corpus\n",
    "  target.missing<-target.words-target.sub\n",
    "  #find the total number of times for each expected word that would would expect to not find it in the target corpus\n",
    "  target.missing.exp<-target.words-target.exp\n",
    "  #for every word, create a 2x2 contingency table of the number of times the word appears, the number of times it doesn't appear, the number of times we expect it to appear, the number of times we expect it not to appear\n",
    "  all.c.tables<-mapply(function(x,y,z,a) matrix(c(x,y,z,a), ncol=2, byrow=T), target.sub, target.exp, target.missing, target.missing.exp, SIMPLIFY=F)\n",
    "  #run a fisher's exact test on all of the contingency tables (1 ber word)\n",
    "  all.fishers<-lapply(all.c.tables, function(x) fisher.test(x))\n",
    "  #extract the p value from all of the fisher's tests\n",
    "  all.p<-unlist(lapply(all.fishers, function(x) x$p.value))\n",
    "  #figure out which ones are significantly more present\n",
    "  sig.index<-which(all.p<alpha)\n",
    "  #tell the user you are about to print out the number of significant mdws\n",
    "  print(\"Significant MDWs:\")\n",
    "  #print the number of significant mdws\n",
    "  print(length(sig.index))\n",
    "  #if there are more than 0 mdws\n",
    "  if(length(sig.index)>0){\n",
    "    #create a vector of the words (the mdws)\n",
    "    Term<-all.terms[sig.index]\n",
    "    #create a vector of the number of times each word appears in the target corpus\n",
    "    Obs<-target.sub[sig.index]\n",
    "    #create a vector of the frequency of the words in the target corpus\n",
    "    ObsScaled<-Obs/target.words\n",
    "    #create a vector of the observed over expected for each word\n",
    "    Obs_Exp<-Obs/target.exp[sig.index]\n",
    "    #create a vector of the p.values for each word\n",
    "    pValue<-all.p[sig.index]\n",
    "    #merge all of these vectors into a dataframe\n",
    "    final.table<-data.frame(Term, Obs, ObsScaled, Obs_Exp, pValue)\n",
    "    #sort the data frame by the ObsScaled\n",
    "    final.table<-final.table[order(final.table[,3], decreasing=T),]\n",
    "    #create a column ranking the words by their scaled frequency\n",
    "    final.table$Rank<-seq(1, nrow(final.table), by=1)\n",
    "    #return the table\n",
    "    return(final.table)\n",
    "  } else {\n",
    "    #if there are no mdws, return an NA\n",
    "    return(NA)\n",
    "  }\n",
    "}\n",
    "\n",
    "#this is the code to run, it takes two variables\n",
    "#1) a document term matrix (words as columns, texts as rows, cells as individual counts (NOT FREQUENCIES))\n",
    "#2) a vector of group assignments for the texts - the code will find MDWs for each group\n",
    "allMDW<-function(dtm.matrix, group.vector, alpha=0.05){\n",
    "  #find the names of the unique groups\n",
    "  unique.groups<-unique(group.vector)\n",
    "  #find the number of unique groups\n",
    "  num.groups<-length(unique.groups)\n",
    "  #create an empty list to put the mdw tables in\n",
    "  all.mdws<-list()\n",
    "  #for each group\n",
    "  for(i in 1:num.groups){\n",
    "    #get the name of the current group\n",
    "    curr.group<-unique.groups[i]\n",
    "    #print out the name of the current group\n",
    "    print(curr.group)\n",
    "    #move group vector into a temporary variable\n",
    "    temp.groups<-group.vector\n",
    "    #rename all of the elements of that vector that correspond to the current target group as \"Target\"\n",
    "    temp.groups[which(temp.groups==curr.group)]<-\"Target\"\n",
    "    #run the code above, but sending the original dtm, by our modified group vector in which the ones we care about are now named \"Target\"\n",
    "    mdws<-qdMDWs(dtm.matrix, temp.groups, alpha)\n",
    "    #if there are any MDWs\n",
    "    if(!is.na(mdws)){\n",
    "      #On the resulting table from the code above, create a new column labeled by the name of the group\n",
    "      mdws$Group<-rep(curr.group, nrow(mdws))\n",
    "      #add that mdw table (the current one) to the list of all mdw tables\n",
    "      all.mdws<-c(all.mdws, list(mdws))\n",
    "    }\n",
    "  }\n",
    "  #collapse the list of all mdw tables into one big table\n",
    "  all.mdws<-do.call(\"rbind\", all.mdws)\n",
    "  #return it\n",
    "  return(all.mdws)\n",
    "}\n"
   ]
  },
  {
   "cell_type": "markdown",
   "id": "8c1f3041",
   "metadata": {},
   "source": [
    "“Okay, let’s run it!” I said."
   ]
  },
  {
   "cell_type": "code",
   "execution_count": 37,
   "id": "b4fb66fd",
   "metadata": {},
   "outputs": [
    {
     "name": "stdout",
     "output_type": "stream",
     "text": [
      "NULL\n"
     ]
    },
    {
     "name": "stdout",
     "output_type": "stream",
     "text": [
      "[1]"
     ]
    },
    {
     "name": "stdout",
     "output_type": "stream",
     "text": [
      " \"MDWs\""
     ]
    },
    {
     "name": "stdout",
     "output_type": "stream",
     "text": [
      "\n"
     ]
    },
    {
     "name": "stdout",
     "output_type": "stream",
     "text": [
      "[1]"
     ]
    },
    {
     "name": "stdout",
     "output_type": "stream",
     "text": [
      " \"Significant MDWs:\""
     ]
    },
    {
     "name": "stdout",
     "output_type": "stream",
     "text": [
      "\n"
     ]
    },
    {
     "name": "stdout",
     "output_type": "stream",
     "text": [
      "[1]"
     ]
    },
    {
     "name": "stdout",
     "output_type": "stream",
     "text": [
      " 0"
     ]
    },
    {
     "name": "stdout",
     "output_type": "stream",
     "text": [
      "\n"
     ]
    },
    {
     "name": "stdout",
     "output_type": "stream",
     "text": [
      "NULL\n"
     ]
    },
    {
     "name": "stdout",
     "output_type": "stream",
     "text": [
      "[1]"
     ]
    },
    {
     "name": "stdout",
     "output_type": "stream",
     "text": [
      " \"MDWs\""
     ]
    },
    {
     "name": "stdout",
     "output_type": "stream",
     "text": [
      "\n"
     ]
    },
    {
     "name": "stdout",
     "output_type": "stream",
     "text": [
      "[1]"
     ]
    },
    {
     "name": "stdout",
     "output_type": "stream",
     "text": [
      " \"Significant MDWs:\""
     ]
    },
    {
     "name": "stdout",
     "output_type": "stream",
     "text": [
      "\n"
     ]
    },
    {
     "name": "stdout",
     "output_type": "stream",
     "text": [
      "[1]"
     ]
    },
    {
     "name": "stdout",
     "output_type": "stream",
     "text": [
      " 0"
     ]
    },
    {
     "name": "stdout",
     "output_type": "stream",
     "text": [
      "\n"
     ]
    }
   ],
   "source": [
    "%%R\n",
    "#Get the group data from the metadata\n",
    "group.source.mdws<-metadata.table.mdws$Group\n",
    "#Run the allMDW function using the corpus, the groups, and a cut-off of 0.5\n",
    "mdw.table<-allMDW(corpus.matrix.mdws, group.source.mdws, 0.05)\n",
    "#Create a CSV for the MDWs\n",
    "write.csv(mdw.table, file=\"CorpusMDWs.csv\", row.names=F)\n",
    "mdw<-unique(mdw.table[,1])"
   ]
  },
  {
   "cell_type": "markdown",
   "id": "9c115817",
   "metadata": {},
   "source": [
    "“Well, it looks like there are no distinctive words in Ilana quotes vs. non-Ilana,” said Mark.\n",
    "\n",
    "“How can that be?” I asked. “What about ‘totally’, ‘like’, ‘amazing’...?”\n",
    "\n",
    "“They’re a noticeable part of some of the Ilana quotes, sure, but they’re not so frequent across all the Ilana quotes to be picked up here,” Mark replied. “For fun, let’s double the cut-off, though the higher we raise this number the more dubious our results are as ‘most distinctive words’.”\n"
   ]
  },
  {
   "cell_type": "code",
   "execution_count": 38,
   "id": "709209a2",
   "metadata": {},
   "outputs": [
    {
     "name": "stdout",
     "output_type": "stream",
     "text": [
      "NULL\n"
     ]
    },
    {
     "name": "stdout",
     "output_type": "stream",
     "text": [
      "[1]"
     ]
    },
    {
     "name": "stdout",
     "output_type": "stream",
     "text": [
      " \"MDWs\""
     ]
    },
    {
     "name": "stdout",
     "output_type": "stream",
     "text": [
      "\n"
     ]
    },
    {
     "name": "stdout",
     "output_type": "stream",
     "text": [
      "[1]"
     ]
    },
    {
     "name": "stdout",
     "output_type": "stream",
     "text": [
      " \"Significant MDWs:\""
     ]
    },
    {
     "name": "stdout",
     "output_type": "stream",
     "text": [
      "\n"
     ]
    },
    {
     "name": "stdout",
     "output_type": "stream",
     "text": [
      "[1]"
     ]
    },
    {
     "name": "stdout",
     "output_type": "stream",
     "text": [
      " 0"
     ]
    },
    {
     "name": "stdout",
     "output_type": "stream",
     "text": [
      "\n"
     ]
    },
    {
     "name": "stdout",
     "output_type": "stream",
     "text": [
      "NULL\n"
     ]
    },
    {
     "name": "stdout",
     "output_type": "stream",
     "text": [
      "[1]"
     ]
    },
    {
     "name": "stdout",
     "output_type": "stream",
     "text": [
      " \"MDWs\""
     ]
    },
    {
     "name": "stdout",
     "output_type": "stream",
     "text": [
      "\n"
     ]
    },
    {
     "name": "stdout",
     "output_type": "stream",
     "text": [
      "[1]"
     ]
    },
    {
     "name": "stdout",
     "output_type": "stream",
     "text": [
      " \"Significant MDWs:\""
     ]
    },
    {
     "name": "stdout",
     "output_type": "stream",
     "text": [
      "\n"
     ]
    },
    {
     "name": "stdout",
     "output_type": "stream",
     "text": [
      "[1]"
     ]
    },
    {
     "name": "stdout",
     "output_type": "stream",
     "text": [
      " 0"
     ]
    },
    {
     "name": "stdout",
     "output_type": "stream",
     "text": [
      "\n"
     ]
    }
   ],
   "source": [
    "%%R\n",
    "group.source.mdws<-metadata.table.mdws$Group\n",
    "#Now we're using .1 as the cutoff\n",
    "mdw.table<-allMDW(corpus.matrix.mdws, group.source.mdws, 0.1)\n",
    "write.csv(mdw.table, file=\"CorpusMDWs-v2.csv\", row.names=F)\n",
    "mdw<-unique(mdw.table[,1])"
   ]
  },
  {
   "cell_type": "markdown",
   "id": "da6af8fd",
   "metadata": {},
   "source": [
    "### Trying PCA"
   ]
  },
  {
   "cell_type": "markdown",
   "id": "db5a2e22",
   "metadata": {},
   "source": [
    "\"Okay. Let's give the most distinctive words a miss. What if we see if there's any separation using PCA?\"\n",
    "\n",
    "PCA -- finally, that was a method I knew something about thanks to Heather Froehlich in [DSC 10: Heather Likes Principal Component Analysis](https://datasittersclub.github.io/site/dsc10.html). In that book, we used a couple different sets of word frequencies to see how the Baby-Sitters Club books -- and other young-reader series books -- clustered, in ways connected to author and topic.\n",
    "\n",
    "\"We're going to scale our corpus for length by turning word counts into word frequencies -- dividing each word count by the length of the document. We know that there is not a significant difference between Ilana and non-Ilana quotes, but there ARE some that are shorter. We don't want our model to just group these together and tell us they're one thing. So after we scale the corpus, we'll just keep the most frequent words we identified earlier.\""
   ]
  },
  {
   "cell_type": "code",
   "execution_count": 39,
   "id": "da55f88c",
   "metadata": {},
   "outputs": [
    {
     "name": "stdout",
     "output_type": "stream",
     "text": [
      "[1]"
     ]
    },
    {
     "name": "stdout",
     "output_type": "stream",
     "text": [
      " 230"
     ]
    },
    {
     "name": "stdout",
     "output_type": "stream",
     "text": [
      "   2"
     ]
    },
    {
     "name": "stdout",
     "output_type": "stream",
     "text": [
      "\n"
     ]
    }
   ],
   "source": [
    "%%R\n",
    "#Sets the working directory (e.g. where it looks for files)\n",
    "setwd(\"/Users/qad/Documents/GitHub/dsc15\")\n",
    "#Reads the non-Ilana quotes CSV\n",
    "nonilana.pca<-read.csv(file='non_ilana_sample.csv', header=T)\n",
    "#Reads the Ilana quotes CSV\n",
    "ilana.pca<-read.csv(file='ilana.csv', header=T)\n",
    "#Sets the column names on the Ilana quotes to be attribution, source, quote\n",
    "colnames(length.ilana)<-c(\"Attribution\", \"Source\", \"Quote\")\n",
    "#Checks the dimensions (rows, columns) for the non-Ilana quotes\n",
    "dim(length.nonilana)"
   ]
  },
  {
   "cell_type": "code",
   "execution_count": 40,
   "id": "0bc8310d",
   "metadata": {},
   "outputs": [],
   "source": [
    "%%R\n",
    "ilana.quotes.pca<-ilana.mdws$Text[which(ilana.mdws$Group %in% c('BYT9', 'BYT10', \"BYT11\", \"BYT12\"))]\n"
   ]
  },
  {
   "cell_type": "code",
   "execution_count": 41,
   "id": "9576c663",
   "metadata": {},
   "outputs": [
    {
     "name": "stderr",
     "output_type": "stream",
     "text": [
      "R[write to console]: Loading required package: ggplot2\n",
      "\n"
     ]
    },
    {
     "name": "stderr",
     "output_type": "stream",
     "text": [
      "R[write to console]: \n",
      "Attaching package: ‘ggplot2’\n",
      "\n",
      "\n"
     ]
    },
    {
     "name": "stderr",
     "output_type": "stream",
     "text": [
      "R[write to console]: The following object is masked from ‘package:NLP’:\n",
      "\n",
      "    annotate\n",
      "\n",
      "\n"
     ]
    },
    {
     "name": "stderr",
     "output_type": "stream",
     "text": [
      "R[write to console]: Loading required package: plyr\n",
      "\n"
     ]
    },
    {
     "name": "stderr",
     "output_type": "stream",
     "text": [
      "R[write to console]: Loading required package: scales\n",
      "\n"
     ]
    },
    {
     "name": "stderr",
     "output_type": "stream",
     "text": [
      "R[write to console]: Loading required package: grid\n",
      "\n"
     ]
    },
    {
     "data": {
      "image/png": "[encoded data removed]"
     },
     "metadata": {
      "filenames": {
       "image/png": "/Users/qad/Documents/GitHub/site/site/_build/jupyter_execute/dsc15_80_6.png"
      }
     },
     "output_type": "display_data"
    }
   ],
   "source": [
    "%%R\n",
    "#Turn word counts into word frequencies\n",
    "scaled.dtm.pca<-corpus.matrix.mdws/rowSums(corpus.matrix.mdws)\n",
    "#Get the most frequent words using the scaled corpus\n",
    "features.to.keep.mdws<-mfw.mdws\n",
    "#Create the feature table\n",
    "feature.table.pca<-scaled.dtm.pca[,which(colnames(scaled.dtm.pca) %in% features.to.keep.mdws)]\n",
    "feature.names.pca<-colnames(feature.table.pca)\n",
    "\n",
    "#Do PCA to see if there is visual separation between the groups based on all 500 most frequent words\n",
    "colnames(feature.table.pca)<-feature.names.pca\n",
    "test.pca<-prcomp(feature.table.pca)\n",
    "#Load the biplot library\n",
    "library(ggbiplot)\n",
    "#Generate the biplot\n",
    "test.pca<-prcomp(feature.table.pca, scale=T)\n",
    "ggbiplot(test.pca, ellipse=T, groups=metadata.table.mdws$Group)\n"
   ]
  },
  {
   "cell_type": "markdown",
   "id": "d7dea9b1",
   "metadata": {},
   "source": [
    "“Nope. Nope, there is not,” said Mark. \n",
    "\n",
    "I could see what he meant, thanks to [DSC 10](https://datasittersclub.github.io/site/dsc10.html) – everything was all lumped together, rather than distributed across all the quadrants, or arranged in nice clumps. \n",
    "\n",
    "“Maybe the 500 most distinctive words is just too much. Let’s try PCA with just the top 50.”"
   ]
  },
  {
   "cell_type": "code",
   "execution_count": 42,
   "id": "d04d5ffe",
   "metadata": {},
   "outputs": [
    {
     "name": "stdout",
     "output_type": "stream",
     "text": [
      " [1]"
     ]
    },
    {
     "name": "stdout",
     "output_type": "stream",
     "text": [
      " \"like\"     "
     ]
    },
    {
     "name": "stdout",
     "output_type": "stream",
     "text": [
      " \"just\"     "
     ]
    },
    {
     "name": "stdout",
     "output_type": "stream",
     "text": [
      " \"im\"       "
     ]
    },
    {
     "name": "stdout",
     "output_type": "stream",
     "text": [
      " \"right\"    "
     ]
    },
    {
     "name": "stdout",
     "output_type": "stream",
     "text": [
      " \"thats\"    "
     ]
    },
    {
     "name": "stdout",
     "output_type": "stream",
     "text": [
      " \"can\"      "
     ]
    },
    {
     "name": "stdout",
     "output_type": "stream",
     "text": [
      "\n"
     ]
    },
    {
     "name": "stdout",
     "output_type": "stream",
     "text": [
      " [7]"
     ]
    },
    {
     "name": "stdout",
     "output_type": "stream",
     "text": [
      " \"sure\"     "
     ]
    },
    {
     "name": "stdout",
     "output_type": "stream",
     "text": [
      " \"well\"     "
     ]
    },
    {
     "name": "stdout",
     "output_type": "stream",
     "text": [
      " \"get\"      "
     ]
    },
    {
     "name": "stdout",
     "output_type": "stream",
     "text": [
      " \"good\"     "
     ]
    },
    {
     "name": "stdout",
     "output_type": "stream",
     "text": [
      " \"think\"    "
     ]
    },
    {
     "name": "stdout",
     "output_type": "stream",
     "text": [
      " \"really\"   "
     ]
    },
    {
     "name": "stdout",
     "output_type": "stream",
     "text": [
      "\n"
     ]
    },
    {
     "name": "stdout",
     "output_type": "stream",
     "text": [
      "[13]"
     ]
    },
    {
     "name": "stdout",
     "output_type": "stream",
     "text": [
      " \"dont\"     "
     ]
    },
    {
     "name": "stdout",
     "output_type": "stream",
     "text": [
      " \"amazing\"  "
     ]
    },
    {
     "name": "stdout",
     "output_type": "stream",
     "text": [
      " \"now\"      "
     ]
    },
    {
     "name": "stdout",
     "output_type": "stream",
     "text": [
      " \"totally\"  "
     ]
    },
    {
     "name": "stdout",
     "output_type": "stream",
     "text": [
      " \"nechama\"  "
     ]
    },
    {
     "name": "stdout",
     "output_type": "stream",
     "text": [
      " \"one\"      "
     ]
    },
    {
     "name": "stdout",
     "output_type": "stream",
     "text": [
      "\n"
     ]
    },
    {
     "name": "stdout",
     "output_type": "stream",
     "text": [
      "[19]"
     ]
    },
    {
     "name": "stdout",
     "output_type": "stream",
     "text": [
      " \"chani\"    "
     ]
    },
    {
     "name": "stdout",
     "output_type": "stream",
     "text": [
      " \"going\"    "
     ]
    },
    {
     "name": "stdout",
     "output_type": "stream",
     "text": [
      " \"mrs\"      "
     ]
    },
    {
     "name": "stdout",
     "output_type": "stream",
     "text": [
      " \"way\"      "
     ]
    },
    {
     "name": "stdout",
     "output_type": "stream",
     "text": [
      " \"batya\"    "
     ]
    },
    {
     "name": "stdout",
     "output_type": "stream",
     "text": [
      " \"us\"       "
     ]
    },
    {
     "name": "stdout",
     "output_type": "stream",
     "text": [
      "\n"
     ]
    },
    {
     "name": "stdout",
     "output_type": "stream",
     "text": [
      "[25]"
     ]
    },
    {
     "name": "stdout",
     "output_type": "stream",
     "text": [
      " \"will\"     "
     ]
    },
    {
     "name": "stdout",
     "output_type": "stream",
     "text": [
      " \"pinky\"    "
     ]
    },
    {
     "name": "stdout",
     "output_type": "stream",
     "text": [
      " \"know\"     "
     ]
    },
    {
     "name": "stdout",
     "output_type": "stream",
     "text": [
      " \"okay\"     "
     ]
    },
    {
     "name": "stdout",
     "output_type": "stream",
     "text": [
      " \"theres\"   "
     ]
    },
    {
     "name": "stdout",
     "output_type": "stream",
     "text": [
      " \"come\"     "
     ]
    },
    {
     "name": "stdout",
     "output_type": "stream",
     "text": [
      "\n"
     ]
    },
    {
     "name": "stdout",
     "output_type": "stream",
     "text": [
      "[31]"
     ]
    },
    {
     "name": "stdout",
     "output_type": "stream",
     "text": [
      " \"make\"     "
     ]
    },
    {
     "name": "stdout",
     "output_type": "stream",
     "text": [
      " \"new\"      "
     ]
    },
    {
     "name": "stdout",
     "output_type": "stream",
     "text": [
      " \"time\"     "
     ]
    },
    {
     "name": "stdout",
     "output_type": "stream",
     "text": [
      " \"much\"     "
     ]
    },
    {
     "name": "stdout",
     "output_type": "stream",
     "text": [
      " \"lets\"     "
     ]
    },
    {
     "name": "stdout",
     "output_type": "stream",
     "text": [
      " \"see\"      "
     ]
    },
    {
     "name": "stdout",
     "output_type": "stream",
     "text": [
      "\n"
     ]
    },
    {
     "name": "stdout",
     "output_type": "stream",
     "text": [
      "[37]"
     ]
    },
    {
     "name": "stdout",
     "output_type": "stream",
     "text": [
      " \"hey\"      "
     ]
    },
    {
     "name": "stdout",
     "output_type": "stream",
     "text": [
      " \"shes\"     "
     ]
    },
    {
     "name": "stdout",
     "output_type": "stream",
     "text": [
      " \"look\"     "
     ]
    },
    {
     "name": "stdout",
     "output_type": "stream",
     "text": [
      " \"got\"      "
     ]
    },
    {
     "name": "stdout",
     "output_type": "stream",
     "text": [
      " \"youre\"    "
     ]
    },
    {
     "name": "stdout",
     "output_type": "stream",
     "text": [
      " \"want\"     "
     ]
    },
    {
     "name": "stdout",
     "output_type": "stream",
     "text": [
      "\n"
     ]
    },
    {
     "name": "stdout",
     "output_type": "stream",
     "text": [
      "[43]"
     ]
    },
    {
     "name": "stdout",
     "output_type": "stream",
     "text": [
      " \"work\"     "
     ]
    },
    {
     "name": "stdout",
     "output_type": "stream",
     "text": [
      " \"go\"       "
     ]
    },
    {
     "name": "stdout",
     "output_type": "stream",
     "text": [
      " \"something\""
     ]
    },
    {
     "name": "stdout",
     "output_type": "stream",
     "text": [
      " \"mean\"     "
     ]
    },
    {
     "name": "stdout",
     "output_type": "stream",
     "text": [
      " \"great\"    "
     ]
    },
    {
     "name": "stdout",
     "output_type": "stream",
     "text": [
      " \"take\"     "
     ]
    },
    {
     "name": "stdout",
     "output_type": "stream",
     "text": [
      "\n"
     ]
    },
    {
     "name": "stdout",
     "output_type": "stream",
     "text": [
      "[49]"
     ]
    },
    {
     "name": "stdout",
     "output_type": "stream",
     "text": [
      " \"youll\"    "
     ]
    },
    {
     "name": "stdout",
     "output_type": "stream",
     "text": [
      " \"shani\"    "
     ]
    },
    {
     "name": "stdout",
     "output_type": "stream",
     "text": [
      "\n"
     ]
    }
   ],
   "source": [
    "%%R\n",
    "#Try again with 50 words\n",
    "top.mfw.pca<-mfw.mdws[1:50]\n",
    "top.mfw.pca"
   ]
  },
  {
   "cell_type": "code",
   "execution_count": 43,
   "id": "b52ca979",
   "metadata": {},
   "outputs": [
    {
     "name": "stdout",
     "output_type": "stream",
     "text": [
      "[1]"
     ]
    },
    {
     "name": "stdout",
     "output_type": "stream",
     "text": [
      " 448"
     ]
    },
    {
     "name": "stdout",
     "output_type": "stream",
     "text": [
      "  50"
     ]
    },
    {
     "name": "stdout",
     "output_type": "stream",
     "text": [
      "\n"
     ]
    }
   ],
   "source": [
    "%%R\n",
    "#Only keep the top 50 features\n",
    "top.features.pca<-feature.table.pca[,which(colnames(feature.table.pca) %in% top.mfw.pca)]\n",
    "#Get the actual words\n",
    "feature.names.pca<-colnames(feature.table.pca)\n",
    "dim(top.features.pca)"
   ]
  },
  {
   "cell_type": "markdown",
   "id": "989d4183",
   "metadata": {},
   "source": [
    "“We’ve got the 50 most frequent words occurring in our corpus of 448 quotes,” said Mark. “It’s 448 because we lost some to stopwords. Let's see if this does any better with PCA.”"
   ]
  },
  {
   "cell_type": "code",
   "execution_count": 44,
   "id": "84a24c71",
   "metadata": {},
   "outputs": [
    {
     "data": {
      "image/png": "[encoded data removed]"
     },
     "metadata": {
      "filenames": {
       "image/png": "/Users/qad/Documents/GitHub/site/site/_build/jupyter_execute/dsc15_85_0.png"
      }
     },
     "output_type": "display_data"
    }
   ],
   "source": [
    "%%R\n",
    "colnames(feature.table.pca)<-feature.names.pca\n",
    "test2.pca<-prcomp(top.features.pca)\n",
    "library(ggbiplot)\n",
    "test2.pca<-prcomp(top.features.pca, scale=T)\n",
    "ggbiplot(test2.pca, ellipse=T, groups=metadata.table.mdws$Group)"
   ]
  },
  {
   "cell_type": "markdown",
   "id": "be671dda",
   "metadata": {},
   "source": [
    "“Hmm… PC1 still only explains about 4% of the variation,” said Mark grimly. “Maybe we’re just looking at too many features. How about if we try a stepwise variable selection to see if we can find a better feature set for classification?”"
   ]
  },
  {
   "cell_type": "markdown",
   "id": "7ccf0f6a",
   "metadata": {},
   "source": [
    "### Stepwise variable selection\n",
    "“I was with you on PCA, but you’ve lost me again,” I said.\n",
    "\n",
    "“Stepwise selection – sometimes it’s called stepwise regression – involves adding and removing predictors – things that you might use to differentiate one group from another – until you get the set of variables that get you the best-performing model.”\n",
    "\n",
    "“Got it! Let’s see what it gives us!” I exclaimed.\n",
    "\n",
    "“I’ll set the stop criterion to be an improvement of less than 0.1% – so if it doesn’t improve by that much, it will stop adding and subtracting predictors.”\n"
   ]
  },
  {
   "cell_type": "code",
   "execution_count": 45,
   "id": "95a23bfe",
   "metadata": {},
   "outputs": [],
   "source": [
    "%%R\n",
    "setwd(\"/Users/qad/Documents/GitHub/dsc15\")\n",
    "ilana.sc<-read.csv(\"ilana.csv\", header=T)\n",
    "non.ilana.sc<-read.csv(\"non_ilana_sample.csv\", header=T)\n",
    "ilana.quotes.sc<-ilana.sc$Quote[which(ilana.sc$Source %in% c(\"BYT9\", \"BYT10\", \"BYT11\", \"BYT12\"))]\n",
    "all.text.sc<-c(ilana.quotes.sc, non.ilana.sc$Text)\n",
    "groups.sc<-c((rep(\"Ilana\", 230)), rep(\"NonIlana\", 230))"
   ]
  },
  {
   "cell_type": "code",
   "execution_count": 46,
   "id": "b5e793ad",
   "metadata": {},
   "outputs": [
    {
     "name": "stdout",
     "output_type": "stream",
     "text": [
      "<<DocumentTermMatrix (documents: 460, terms: 1095)>>\n"
     ]
    },
    {
     "name": "stdout",
     "output_type": "stream",
     "text": [
      "Non-/sparse entries: 4253/499447\n"
     ]
    },
    {
     "name": "stdout",
     "output_type": "stream",
     "text": [
      "Sparsity           : 99%\n"
     ]
    },
    {
     "name": "stdout",
     "output_type": "stream",
     "text": [
      "Maximal term length: 19\n"
     ]
    },
    {
     "name": "stdout",
     "output_type": "stream",
     "text": [
      "Weighting          : term frequency (tf)\n"
     ]
    }
   ],
   "source": [
    "%%R\n",
    "metadata.table.sc<-data.frame(all.text.sc, groups.sc)\n",
    "colnames(metadata.table.sc)<-c(\"Text\", \"Group\")\n",
    "raw.corpus.sc<-all.text.sc\n",
    "clean.corpus.sc<-lapply(raw.corpus.sc, function(x) fullClean(x))\n",
    "#Create a vector with the clean corpus\n",
    "clean.corpus.sc<-Corpus(VectorSource(clean.corpus.sc))\n",
    "corpus.dtm.sc<-DocumentTermMatrix(clean.corpus.sc, control=list(wordLengths=c(1,Inf)))\n",
    "corpus.matrix.sc<-as.matrix(corpus.dtm.sc)\n",
    "corpus.dtm.sc"
   ]
  },
  {
   "cell_type": "code",
   "execution_count": 47,
   "id": "ad02343c",
   "metadata": {},
   "outputs": [
    {
     "name": "stdout",
     "output_type": "stream",
     "text": [
      "[1]"
     ]
    },
    {
     "name": "stdout",
     "output_type": "stream",
     "text": [
      " 460"
     ]
    },
    {
     "name": "stdout",
     "output_type": "stream",
     "text": [
      "  75"
     ]
    },
    {
     "name": "stdout",
     "output_type": "stream",
     "text": [
      "\n"
     ]
    }
   ],
   "source": [
    "%%R\n",
    "n=75\n",
    "word.sums.sc<-colSums(corpus.matrix.sc)\n",
    "word.sums.sc<-sort(word.sums.sc, decreasing=T)\n",
    "mfw.sc<-names(word.sums.sc[1:n])\n",
    "scaled.dtm.sc<-corpus.matrix.sc/rowSums(corpus.matrix.sc)\n",
    "features.to.keep.sc<-mfw.sc\n",
    "feature.table.sc<-scaled.dtm.sc[,which(colnames(scaled.dtm.sc) %in% features.to.keep.sc)]\n",
    "feature.names.sc<-colnames(feature.table.sc)\n",
    "colnames(feature.table.sc)<-feature.names.sc\n",
    "dim(feature.table.sc)"
   ]
  },
  {
   "cell_type": "code",
   "execution_count": 48,
   "id": "7c254029",
   "metadata": {},
   "outputs": [
    {
     "name": "stderr",
     "output_type": "stream",
     "text": [
      "R[write to console]:  `stepwise classification', using 10-fold cross-validated correctness rate of method lda'.\n",
      "\n"
     ]
    },
    {
     "name": "stderr",
     "output_type": "stream",
     "text": [
      "R[write to console]: 460 observations of 75 variables in 2 classes; direction: both\n",
      "\n"
     ]
    },
    {
     "name": "stderr",
     "output_type": "stream",
     "text": [
      "R[write to console]: stop criterion: improvement less than 0.01%.\n",
      "\n"
     ]
    },
    {
     "name": "stdout",
     "output_type": "stream",
     "text": [
      "correctness rate: 0.54348;  in: \"like\";  "
     ]
    },
    {
     "name": "stdout",
     "output_type": "stream",
     "text": [
      "variables (1):"
     ]
    },
    {
     "name": "stdout",
     "output_type": "stream",
     "text": [
      " "
     ]
    },
    {
     "name": "stdout",
     "output_type": "stream",
     "text": [
      "like"
     ]
    },
    {
     "name": "stdout",
     "output_type": "stream",
     "text": [
      " "
     ]
    },
    {
     "name": "stdout",
     "output_type": "stream",
     "text": [
      "\n"
     ]
    },
    {
     "name": "stdout",
     "output_type": "stream",
     "text": [
      "correctness rate: 0.58043;  in: \"amazing\";  "
     ]
    },
    {
     "name": "stdout",
     "output_type": "stream",
     "text": [
      "variables (2):"
     ]
    },
    {
     "name": "stdout",
     "output_type": "stream",
     "text": [
      " "
     ]
    },
    {
     "name": "stdout",
     "output_type": "stream",
     "text": [
      "like,"
     ]
    },
    {
     "name": "stdout",
     "output_type": "stream",
     "text": [
      " "
     ]
    },
    {
     "name": "stdout",
     "output_type": "stream",
     "text": [
      "amazing"
     ]
    },
    {
     "name": "stdout",
     "output_type": "stream",
     "text": [
      " "
     ]
    },
    {
     "name": "stdout",
     "output_type": "stream",
     "text": [
      "\n"
     ]
    },
    {
     "name": "stdout",
     "output_type": "stream",
     "text": [
      "correctness rate: 0.6087;  in: \"right\";  "
     ]
    },
    {
     "name": "stdout",
     "output_type": "stream",
     "text": [
      "variables (3):"
     ]
    },
    {
     "name": "stdout",
     "output_type": "stream",
     "text": [
      " "
     ]
    },
    {
     "name": "stdout",
     "output_type": "stream",
     "text": [
      "like,"
     ]
    },
    {
     "name": "stdout",
     "output_type": "stream",
     "text": [
      " "
     ]
    },
    {
     "name": "stdout",
     "output_type": "stream",
     "text": [
      "amazing,"
     ]
    },
    {
     "name": "stdout",
     "output_type": "stream",
     "text": [
      " "
     ]
    },
    {
     "name": "stdout",
     "output_type": "stream",
     "text": [
      "right"
     ]
    },
    {
     "name": "stdout",
     "output_type": "stream",
     "text": [
      " "
     ]
    },
    {
     "name": "stdout",
     "output_type": "stream",
     "text": [
      "\n"
     ]
    },
    {
     "name": "stdout",
     "output_type": "stream",
     "text": [
      "correctness rate: 0.62391;  in: \"out\";  "
     ]
    },
    {
     "name": "stdout",
     "output_type": "stream",
     "text": [
      "variables (4):"
     ]
    },
    {
     "name": "stdout",
     "output_type": "stream",
     "text": [
      " "
     ]
    },
    {
     "name": "stdout",
     "output_type": "stream",
     "text": [
      "like,"
     ]
    },
    {
     "name": "stdout",
     "output_type": "stream",
     "text": [
      " "
     ]
    },
    {
     "name": "stdout",
     "output_type": "stream",
     "text": [
      "amazing,"
     ]
    },
    {
     "name": "stdout",
     "output_type": "stream",
     "text": [
      " "
     ]
    },
    {
     "name": "stdout",
     "output_type": "stream",
     "text": [
      "right,"
     ]
    },
    {
     "name": "stdout",
     "output_type": "stream",
     "text": [
      " "
     ]
    },
    {
     "name": "stdout",
     "output_type": "stream",
     "text": [
      "out"
     ]
    },
    {
     "name": "stdout",
     "output_type": "stream",
     "text": [
      " "
     ]
    },
    {
     "name": "stdout",
     "output_type": "stream",
     "text": [
      "\n"
     ]
    },
    {
     "name": "stdout",
     "output_type": "stream",
     "text": [
      "correctness rate: 0.63913;  in: \"can\";  "
     ]
    },
    {
     "name": "stdout",
     "output_type": "stream",
     "text": [
      "variables (5):"
     ]
    },
    {
     "name": "stdout",
     "output_type": "stream",
     "text": [
      " "
     ]
    },
    {
     "name": "stdout",
     "output_type": "stream",
     "text": [
      "like,"
     ]
    },
    {
     "name": "stdout",
     "output_type": "stream",
     "text": [
      " "
     ]
    },
    {
     "name": "stdout",
     "output_type": "stream",
     "text": [
      "amazing,"
     ]
    },
    {
     "name": "stdout",
     "output_type": "stream",
     "text": [
      " "
     ]
    },
    {
     "name": "stdout",
     "output_type": "stream",
     "text": [
      "right,"
     ]
    },
    {
     "name": "stdout",
     "output_type": "stream",
     "text": [
      " "
     ]
    },
    {
     "name": "stdout",
     "output_type": "stream",
     "text": [
      "out,"
     ]
    },
    {
     "name": "stdout",
     "output_type": "stream",
     "text": [
      " "
     ]
    },
    {
     "name": "stdout",
     "output_type": "stream",
     "text": [
      "can"
     ]
    },
    {
     "name": "stdout",
     "output_type": "stream",
     "text": [
      " "
     ]
    },
    {
     "name": "stdout",
     "output_type": "stream",
     "text": [
      "\n"
     ]
    },
    {
     "name": "stdout",
     "output_type": "stream",
     "text": [
      "correctness rate: 0.64348;  in: \"okay\";  "
     ]
    },
    {
     "name": "stdout",
     "output_type": "stream",
     "text": [
      "variables (6):"
     ]
    },
    {
     "name": "stdout",
     "output_type": "stream",
     "text": [
      " "
     ]
    },
    {
     "name": "stdout",
     "output_type": "stream",
     "text": [
      "like,"
     ]
    },
    {
     "name": "stdout",
     "output_type": "stream",
     "text": [
      " "
     ]
    },
    {
     "name": "stdout",
     "output_type": "stream",
     "text": [
      "amazing,"
     ]
    },
    {
     "name": "stdout",
     "output_type": "stream",
     "text": [
      " "
     ]
    },
    {
     "name": "stdout",
     "output_type": "stream",
     "text": [
      "right,"
     ]
    },
    {
     "name": "stdout",
     "output_type": "stream",
     "text": [
      " "
     ]
    },
    {
     "name": "stdout",
     "output_type": "stream",
     "text": [
      "out,"
     ]
    },
    {
     "name": "stdout",
     "output_type": "stream",
     "text": [
      " "
     ]
    },
    {
     "name": "stdout",
     "output_type": "stream",
     "text": [
      "can,"
     ]
    },
    {
     "name": "stdout",
     "output_type": "stream",
     "text": [
      " "
     ]
    },
    {
     "name": "stdout",
     "output_type": "stream",
     "text": [
      "okay"
     ]
    },
    {
     "name": "stdout",
     "output_type": "stream",
     "text": [
      " "
     ]
    },
    {
     "name": "stdout",
     "output_type": "stream",
     "text": [
      "\n"
     ]
    },
    {
     "name": "stdout",
     "output_type": "stream",
     "text": [
      "correctness rate: 0.65217;  in: \"me\";  "
     ]
    },
    {
     "name": "stdout",
     "output_type": "stream",
     "text": [
      "variables (7):"
     ]
    },
    {
     "name": "stdout",
     "output_type": "stream",
     "text": [
      " "
     ]
    },
    {
     "name": "stdout",
     "output_type": "stream",
     "text": [
      "like,"
     ]
    },
    {
     "name": "stdout",
     "output_type": "stream",
     "text": [
      " "
     ]
    },
    {
     "name": "stdout",
     "output_type": "stream",
     "text": [
      "amazing,"
     ]
    },
    {
     "name": "stdout",
     "output_type": "stream",
     "text": [
      " "
     ]
    },
    {
     "name": "stdout",
     "output_type": "stream",
     "text": [
      "right,"
     ]
    },
    {
     "name": "stdout",
     "output_type": "stream",
     "text": [
      " "
     ]
    },
    {
     "name": "stdout",
     "output_type": "stream",
     "text": [
      "out,"
     ]
    },
    {
     "name": "stdout",
     "output_type": "stream",
     "text": [
      " "
     ]
    },
    {
     "name": "stdout",
     "output_type": "stream",
     "text": [
      "can,"
     ]
    },
    {
     "name": "stdout",
     "output_type": "stream",
     "text": [
      " "
     ]
    },
    {
     "name": "stdout",
     "output_type": "stream",
     "text": [
      "okay,"
     ]
    },
    {
     "name": "stdout",
     "output_type": "stream",
     "text": [
      " "
     ]
    },
    {
     "name": "stdout",
     "output_type": "stream",
     "text": [
      "me"
     ]
    },
    {
     "name": "stdout",
     "output_type": "stream",
     "text": [
      " "
     ]
    },
    {
     "name": "stdout",
     "output_type": "stream",
     "text": [
      "\n"
     ]
    },
    {
     "name": "stdout",
     "output_type": "stream",
     "text": [
      "correctness rate: 0.65652;  in: \"sure\";  "
     ]
    },
    {
     "name": "stdout",
     "output_type": "stream",
     "text": [
      "variables (8):"
     ]
    },
    {
     "name": "stdout",
     "output_type": "stream",
     "text": [
      " "
     ]
    },
    {
     "name": "stdout",
     "output_type": "stream",
     "text": [
      "like,"
     ]
    },
    {
     "name": "stdout",
     "output_type": "stream",
     "text": [
      " "
     ]
    },
    {
     "name": "stdout",
     "output_type": "stream",
     "text": [
      "amazing,"
     ]
    },
    {
     "name": "stdout",
     "output_type": "stream",
     "text": [
      " "
     ]
    },
    {
     "name": "stdout",
     "output_type": "stream",
     "text": [
      "right,"
     ]
    },
    {
     "name": "stdout",
     "output_type": "stream",
     "text": [
      " "
     ]
    },
    {
     "name": "stdout",
     "output_type": "stream",
     "text": [
      "out,"
     ]
    },
    {
     "name": "stdout",
     "output_type": "stream",
     "text": [
      " "
     ]
    },
    {
     "name": "stdout",
     "output_type": "stream",
     "text": [
      "can,"
     ]
    },
    {
     "name": "stdout",
     "output_type": "stream",
     "text": [
      " "
     ]
    },
    {
     "name": "stdout",
     "output_type": "stream",
     "text": [
      "okay,"
     ]
    },
    {
     "name": "stdout",
     "output_type": "stream",
     "text": [
      " "
     ]
    },
    {
     "name": "stdout",
     "output_type": "stream",
     "text": [
      "me,"
     ]
    },
    {
     "name": "stdout",
     "output_type": "stream",
     "text": [
      " "
     ]
    },
    {
     "name": "stdout",
     "output_type": "stream",
     "text": [
      "sure"
     ]
    },
    {
     "name": "stdout",
     "output_type": "stream",
     "text": [
      " "
     ]
    },
    {
     "name": "stdout",
     "output_type": "stream",
     "text": [
      "\n"
     ]
    },
    {
     "name": "stdout",
     "output_type": "stream",
     "text": [
      "correctness rate: 0.66522;  in: \"we\";  "
     ]
    },
    {
     "name": "stdout",
     "output_type": "stream",
     "text": [
      "variables (9):"
     ]
    },
    {
     "name": "stdout",
     "output_type": "stream",
     "text": [
      " "
     ]
    },
    {
     "name": "stdout",
     "output_type": "stream",
     "text": [
      "like,"
     ]
    },
    {
     "name": "stdout",
     "output_type": "stream",
     "text": [
      " "
     ]
    },
    {
     "name": "stdout",
     "output_type": "stream",
     "text": [
      "amazing,"
     ]
    },
    {
     "name": "stdout",
     "output_type": "stream",
     "text": [
      " "
     ]
    },
    {
     "name": "stdout",
     "output_type": "stream",
     "text": [
      "right,"
     ]
    },
    {
     "name": "stdout",
     "output_type": "stream",
     "text": [
      " "
     ]
    },
    {
     "name": "stdout",
     "output_type": "stream",
     "text": [
      "out,"
     ]
    },
    {
     "name": "stdout",
     "output_type": "stream",
     "text": [
      " "
     ]
    },
    {
     "name": "stdout",
     "output_type": "stream",
     "text": [
      "can,"
     ]
    },
    {
     "name": "stdout",
     "output_type": "stream",
     "text": [
      " "
     ]
    },
    {
     "name": "stdout",
     "output_type": "stream",
     "text": [
      "okay,"
     ]
    },
    {
     "name": "stdout",
     "output_type": "stream",
     "text": [
      " "
     ]
    },
    {
     "name": "stdout",
     "output_type": "stream",
     "text": [
      "me,"
     ]
    },
    {
     "name": "stdout",
     "output_type": "stream",
     "text": [
      " "
     ]
    },
    {
     "name": "stdout",
     "output_type": "stream",
     "text": [
      "sure,"
     ]
    },
    {
     "name": "stdout",
     "output_type": "stream",
     "text": [
      " "
     ]
    },
    {
     "name": "stdout",
     "output_type": "stream",
     "text": [
      "we"
     ]
    },
    {
     "name": "stdout",
     "output_type": "stream",
     "text": [
      " "
     ]
    },
    {
     "name": "stdout",
     "output_type": "stream",
     "text": [
      "\n"
     ]
    },
    {
     "name": "stdout",
     "output_type": "stream",
     "text": [
      "correctness rate: 0.67174;  in: \"chani\";  "
     ]
    },
    {
     "name": "stdout",
     "output_type": "stream",
     "text": [
      "variables (10):"
     ]
    },
    {
     "name": "stdout",
     "output_type": "stream",
     "text": [
      " "
     ]
    },
    {
     "name": "stdout",
     "output_type": "stream",
     "text": [
      "like,"
     ]
    },
    {
     "name": "stdout",
     "output_type": "stream",
     "text": [
      " "
     ]
    },
    {
     "name": "stdout",
     "output_type": "stream",
     "text": [
      "amazing,"
     ]
    },
    {
     "name": "stdout",
     "output_type": "stream",
     "text": [
      " "
     ]
    },
    {
     "name": "stdout",
     "output_type": "stream",
     "text": [
      "right,"
     ]
    },
    {
     "name": "stdout",
     "output_type": "stream",
     "text": [
      " "
     ]
    },
    {
     "name": "stdout",
     "output_type": "stream",
     "text": [
      "out,"
     ]
    },
    {
     "name": "stdout",
     "output_type": "stream",
     "text": [
      " "
     ]
    },
    {
     "name": "stdout",
     "output_type": "stream",
     "text": [
      "can,"
     ]
    },
    {
     "name": "stdout",
     "output_type": "stream",
     "text": [
      " "
     ]
    },
    {
     "name": "stdout",
     "output_type": "stream",
     "text": [
      "okay,"
     ]
    },
    {
     "name": "stdout",
     "output_type": "stream",
     "text": [
      " "
     ]
    },
    {
     "name": "stdout",
     "output_type": "stream",
     "text": [
      "me,"
     ]
    },
    {
     "name": "stdout",
     "output_type": "stream",
     "text": [
      " "
     ]
    },
    {
     "name": "stdout",
     "output_type": "stream",
     "text": [
      "sure,"
     ]
    },
    {
     "name": "stdout",
     "output_type": "stream",
     "text": [
      " "
     ]
    },
    {
     "name": "stdout",
     "output_type": "stream",
     "text": [
      "we,"
     ]
    },
    {
     "name": "stdout",
     "output_type": "stream",
     "text": [
      " "
     ]
    },
    {
     "name": "stdout",
     "output_type": "stream",
     "text": [
      "chani"
     ]
    },
    {
     "name": "stdout",
     "output_type": "stream",
     "text": [
      " "
     ]
    },
    {
     "name": "stdout",
     "output_type": "stream",
     "text": [
      "\n"
     ]
    },
    {
     "name": "stdout",
     "output_type": "stream",
     "text": [
      "correctness rate: 0.67391;  in: \"totally\";  "
     ]
    },
    {
     "name": "stdout",
     "output_type": "stream",
     "text": [
      "variables (11):"
     ]
    },
    {
     "name": "stdout",
     "output_type": "stream",
     "text": [
      " "
     ]
    },
    {
     "name": "stdout",
     "output_type": "stream",
     "text": [
      "like,"
     ]
    },
    {
     "name": "stdout",
     "output_type": "stream",
     "text": [
      " "
     ]
    },
    {
     "name": "stdout",
     "output_type": "stream",
     "text": [
      "amazing,"
     ]
    },
    {
     "name": "stdout",
     "output_type": "stream",
     "text": [
      " "
     ]
    },
    {
     "name": "stdout",
     "output_type": "stream",
     "text": [
      "right,"
     ]
    },
    {
     "name": "stdout",
     "output_type": "stream",
     "text": [
      " "
     ]
    },
    {
     "name": "stdout",
     "output_type": "stream",
     "text": [
      "out,"
     ]
    },
    {
     "name": "stdout",
     "output_type": "stream",
     "text": [
      " "
     ]
    },
    {
     "name": "stdout",
     "output_type": "stream",
     "text": [
      "can,"
     ]
    },
    {
     "name": "stdout",
     "output_type": "stream",
     "text": [
      " "
     ]
    },
    {
     "name": "stdout",
     "output_type": "stream",
     "text": [
      "okay,"
     ]
    },
    {
     "name": "stdout",
     "output_type": "stream",
     "text": [
      " "
     ]
    },
    {
     "name": "stdout",
     "output_type": "stream",
     "text": [
      "me,"
     ]
    },
    {
     "name": "stdout",
     "output_type": "stream",
     "text": [
      " "
     ]
    },
    {
     "name": "stdout",
     "output_type": "stream",
     "text": [
      "sure,"
     ]
    },
    {
     "name": "stdout",
     "output_type": "stream",
     "text": [
      " "
     ]
    },
    {
     "name": "stdout",
     "output_type": "stream",
     "text": [
      "we,"
     ]
    },
    {
     "name": "stdout",
     "output_type": "stream",
     "text": [
      " "
     ]
    },
    {
     "name": "stdout",
     "output_type": "stream",
     "text": [
      "chani,"
     ]
    },
    {
     "name": "stdout",
     "output_type": "stream",
     "text": [
      " "
     ]
    },
    {
     "name": "stdout",
     "output_type": "stream",
     "text": [
      "totally"
     ]
    },
    {
     "name": "stdout",
     "output_type": "stream",
     "text": [
      " "
     ]
    },
    {
     "name": "stdout",
     "output_type": "stream",
     "text": [
      "\n"
     ]
    },
    {
     "name": "stdout",
     "output_type": "stream",
     "text": [
      "correctness rate: 0.68043;  in: \"theres\";  "
     ]
    },
    {
     "name": "stdout",
     "output_type": "stream",
     "text": [
      "variables (12):"
     ]
    },
    {
     "name": "stdout",
     "output_type": "stream",
     "text": [
      " "
     ]
    },
    {
     "name": "stdout",
     "output_type": "stream",
     "text": [
      "like,"
     ]
    },
    {
     "name": "stdout",
     "output_type": "stream",
     "text": [
      " "
     ]
    },
    {
     "name": "stdout",
     "output_type": "stream",
     "text": [
      "amazing,"
     ]
    },
    {
     "name": "stdout",
     "output_type": "stream",
     "text": [
      " "
     ]
    },
    {
     "name": "stdout",
     "output_type": "stream",
     "text": [
      "right,"
     ]
    },
    {
     "name": "stdout",
     "output_type": "stream",
     "text": [
      " "
     ]
    },
    {
     "name": "stdout",
     "output_type": "stream",
     "text": [
      "out,"
     ]
    },
    {
     "name": "stdout",
     "output_type": "stream",
     "text": [
      " "
     ]
    },
    {
     "name": "stdout",
     "output_type": "stream",
     "text": [
      "can,"
     ]
    },
    {
     "name": "stdout",
     "output_type": "stream",
     "text": [
      " "
     ]
    },
    {
     "name": "stdout",
     "output_type": "stream",
     "text": [
      "okay,"
     ]
    },
    {
     "name": "stdout",
     "output_type": "stream",
     "text": [
      " "
     ]
    },
    {
     "name": "stdout",
     "output_type": "stream",
     "text": [
      "me,"
     ]
    },
    {
     "name": "stdout",
     "output_type": "stream",
     "text": [
      " "
     ]
    },
    {
     "name": "stdout",
     "output_type": "stream",
     "text": [
      "sure,"
     ]
    },
    {
     "name": "stdout",
     "output_type": "stream",
     "text": [
      " "
     ]
    },
    {
     "name": "stdout",
     "output_type": "stream",
     "text": [
      "we,"
     ]
    },
    {
     "name": "stdout",
     "output_type": "stream",
     "text": [
      " "
     ]
    },
    {
     "name": "stdout",
     "output_type": "stream",
     "text": [
      "chani,"
     ]
    },
    {
     "name": "stdout",
     "output_type": "stream",
     "text": [
      " "
     ]
    },
    {
     "name": "stdout",
     "output_type": "stream",
     "text": [
      "totally,"
     ]
    },
    {
     "name": "stdout",
     "output_type": "stream",
     "text": [
      " "
     ]
    },
    {
     "name": "stdout",
     "output_type": "stream",
     "text": [
      "theres"
     ]
    },
    {
     "name": "stdout",
     "output_type": "stream",
     "text": [
      " "
     ]
    },
    {
     "name": "stdout",
     "output_type": "stream",
     "text": [
      "\n"
     ]
    },
    {
     "name": "stdout",
     "output_type": "stream",
     "text": [
      "correctness rate: 0.6913;  in: \"us\";  "
     ]
    },
    {
     "name": "stdout",
     "output_type": "stream",
     "text": [
      "variables (13):"
     ]
    },
    {
     "name": "stdout",
     "output_type": "stream",
     "text": [
      " "
     ]
    },
    {
     "name": "stdout",
     "output_type": "stream",
     "text": [
      "like,"
     ]
    },
    {
     "name": "stdout",
     "output_type": "stream",
     "text": [
      " "
     ]
    },
    {
     "name": "stdout",
     "output_type": "stream",
     "text": [
      "amazing,"
     ]
    },
    {
     "name": "stdout",
     "output_type": "stream",
     "text": [
      " "
     ]
    },
    {
     "name": "stdout",
     "output_type": "stream",
     "text": [
      "right,"
     ]
    },
    {
     "name": "stdout",
     "output_type": "stream",
     "text": [
      " "
     ]
    },
    {
     "name": "stdout",
     "output_type": "stream",
     "text": [
      "out,"
     ]
    },
    {
     "name": "stdout",
     "output_type": "stream",
     "text": [
      " "
     ]
    },
    {
     "name": "stdout",
     "output_type": "stream",
     "text": [
      "can,"
     ]
    },
    {
     "name": "stdout",
     "output_type": "stream",
     "text": [
      " "
     ]
    },
    {
     "name": "stdout",
     "output_type": "stream",
     "text": [
      "okay,"
     ]
    },
    {
     "name": "stdout",
     "output_type": "stream",
     "text": [
      " "
     ]
    },
    {
     "name": "stdout",
     "output_type": "stream",
     "text": [
      "me,"
     ]
    },
    {
     "name": "stdout",
     "output_type": "stream",
     "text": [
      " "
     ]
    },
    {
     "name": "stdout",
     "output_type": "stream",
     "text": [
      "sure,"
     ]
    },
    {
     "name": "stdout",
     "output_type": "stream",
     "text": [
      " "
     ]
    },
    {
     "name": "stdout",
     "output_type": "stream",
     "text": [
      "we,"
     ]
    },
    {
     "name": "stdout",
     "output_type": "stream",
     "text": [
      " "
     ]
    },
    {
     "name": "stdout",
     "output_type": "stream",
     "text": [
      "chani,"
     ]
    },
    {
     "name": "stdout",
     "output_type": "stream",
     "text": [
      " "
     ]
    },
    {
     "name": "stdout",
     "output_type": "stream",
     "text": [
      "totally,"
     ]
    },
    {
     "name": "stdout",
     "output_type": "stream",
     "text": [
      " "
     ]
    },
    {
     "name": "stdout",
     "output_type": "stream",
     "text": [
      "theres,"
     ]
    },
    {
     "name": "stdout",
     "output_type": "stream",
     "text": [
      " "
     ]
    },
    {
     "name": "stdout",
     "output_type": "stream",
     "text": [
      "us"
     ]
    },
    {
     "name": "stdout",
     "output_type": "stream",
     "text": [
      " "
     ]
    },
    {
     "name": "stdout",
     "output_type": "stream",
     "text": [
      "\n"
     ]
    },
    {
     "name": "stdout",
     "output_type": "stream",
     "text": [
      "correctness rate: 0.69348;  in: \"was\";  "
     ]
    },
    {
     "name": "stdout",
     "output_type": "stream",
     "text": [
      "variables (14):"
     ]
    },
    {
     "name": "stdout",
     "output_type": "stream",
     "text": [
      " "
     ]
    },
    {
     "name": "stdout",
     "output_type": "stream",
     "text": [
      "like,"
     ]
    },
    {
     "name": "stdout",
     "output_type": "stream",
     "text": [
      " "
     ]
    },
    {
     "name": "stdout",
     "output_type": "stream",
     "text": [
      "amazing,"
     ]
    },
    {
     "name": "stdout",
     "output_type": "stream",
     "text": [
      " "
     ]
    },
    {
     "name": "stdout",
     "output_type": "stream",
     "text": [
      "right,"
     ]
    },
    {
     "name": "stdout",
     "output_type": "stream",
     "text": [
      " "
     ]
    },
    {
     "name": "stdout",
     "output_type": "stream",
     "text": [
      "out,"
     ]
    },
    {
     "name": "stdout",
     "output_type": "stream",
     "text": [
      " "
     ]
    },
    {
     "name": "stdout",
     "output_type": "stream",
     "text": [
      "can,"
     ]
    },
    {
     "name": "stdout",
     "output_type": "stream",
     "text": [
      " "
     ]
    },
    {
     "name": "stdout",
     "output_type": "stream",
     "text": [
      "okay,"
     ]
    },
    {
     "name": "stdout",
     "output_type": "stream",
     "text": [
      " "
     ]
    },
    {
     "name": "stdout",
     "output_type": "stream",
     "text": [
      "me,"
     ]
    },
    {
     "name": "stdout",
     "output_type": "stream",
     "text": [
      " "
     ]
    },
    {
     "name": "stdout",
     "output_type": "stream",
     "text": [
      "sure,"
     ]
    },
    {
     "name": "stdout",
     "output_type": "stream",
     "text": [
      " "
     ]
    },
    {
     "name": "stdout",
     "output_type": "stream",
     "text": [
      "we,"
     ]
    },
    {
     "name": "stdout",
     "output_type": "stream",
     "text": [
      " "
     ]
    },
    {
     "name": "stdout",
     "output_type": "stream",
     "text": [
      "chani,"
     ]
    },
    {
     "name": "stdout",
     "output_type": "stream",
     "text": [
      " "
     ]
    },
    {
     "name": "stdout",
     "output_type": "stream",
     "text": [
      "totally,"
     ]
    },
    {
     "name": "stdout",
     "output_type": "stream",
     "text": [
      " "
     ]
    },
    {
     "name": "stdout",
     "output_type": "stream",
     "text": [
      "theres,"
     ]
    },
    {
     "name": "stdout",
     "output_type": "stream",
     "text": [
      " "
     ]
    },
    {
     "name": "stdout",
     "output_type": "stream",
     "text": [
      "us,"
     ]
    },
    {
     "name": "stdout",
     "output_type": "stream",
     "text": [
      " "
     ]
    },
    {
     "name": "stdout",
     "output_type": "stream",
     "text": [
      "was"
     ]
    },
    {
     "name": "stdout",
     "output_type": "stream",
     "text": [
      " "
     ]
    },
    {
     "name": "stdout",
     "output_type": "stream",
     "text": [
      "\n"
     ]
    },
    {
     "name": "stdout",
     "output_type": "stream",
     "text": [
      "\n"
     ]
    },
    {
     "name": "stdout",
     "output_type": "stream",
     "text": [
      " hr.elapsed "
     ]
    },
    {
     "name": "stdout",
     "output_type": "stream",
     "text": [
      "min.elapsed "
     ]
    },
    {
     "name": "stdout",
     "output_type": "stream",
     "text": [
      "sec.elapsed "
     ]
    },
    {
     "name": "stdout",
     "output_type": "stream",
     "text": [
      "\n"
     ]
    },
    {
     "name": "stdout",
     "output_type": "stream",
     "text": [
      "      0.000 "
     ]
    },
    {
     "name": "stdout",
     "output_type": "stream",
     "text": [
      "      0.000 "
     ]
    },
    {
     "name": "stdout",
     "output_type": "stream",
     "text": [
      "     28.386 "
     ]
    },
    {
     "name": "stdout",
     "output_type": "stream",
     "text": [
      "\n"
     ]
    },
    {
     "name": "stdout",
     "output_type": "stream",
     "text": [
      "\n"
     ]
    }
   ],
   "source": [
    "%%R\n",
    "library(klaR)\n",
    "feature.names.sc<-gsub(\"’\", \"'\", feature.names.sc)\n",
    "colnames(feature.table.sc)<-feature.names.sc\n",
    "vars<-stepclass(feature.table.sc, metadata.table.sc$Group, method=\"lda\", improvement=0.0001)"
   ]
  },
  {
   "cell_type": "markdown",
   "id": "20e16e07",
   "metadata": {},
   "source": [
    "“This could be worse,” sighed Mark. “But 70% is still not great. Quotations are hard because they’re very short. We need to find the right feature set,” he concluded. “I’m not feeling it.”\n",
    "\n",
    "“Is that it?” I asked, a note of despair creeping into the question. “We just can’t tell the difference computationally?”\n",
    "\n",
    "“Oh no, we’ve only been playing with this for ten minutes,” laughed Mark. “I don’t usually give up this easily.” "
   ]
  },
  {
   "cell_type": "markdown",
   "id": "fb0c1c50",
   "metadata": {},
   "source": [
    "### Measuring the human success rate\n",
    "\n",
    "Mark considered the data for another moment. A little smile crept over his face. “Let’s play a game. I’m going to read you a quote, and you’ll tell me if it’s Ilana or non-Ilana.”\n",
    "\n",
    "“Same way as yesterday.” - “Not Ilana.”\n",
    "\n",
    "“Mellow out, Pinky!” - “Maybe?”\n",
    "\n",
    "“I told you something would come up.” - “Not Ilana.”\n",
    "\n",
    "“Winter, yuk.” - “Oh, that’s Ilana – New York winters are rough if you’re coming from California.”\n",
    "\n",
    "“I wish you’d come with us, Pinky.” - “Not Ilana.”\n",
    "\n",
    "“Could you run down to the grocery and pick up some for me?” - “Not Ilana.”\n",
    "\n",
    "“What size is your sign going to be?” - “Not Ilana! I remember that part, I’m pretty sure that was something with the twins.”\n",
    "\n",
    "“Nechama, look! That’s amazing!” - “Definitely Ilana.”\n",
    "\n",
    "“We have to be able to do things openly.” - “Not Ilana.”\n",
    "\n",
    "We went on in that fashion for a while.\n",
    "\n",
    "Mark tallied the results. “So you got 9 right out of 15 – and of the wrong ones, you said that 6 were not Ilana when, in fact, they were. 60% is better than chance, but not by a whole lot – and that’s you who’s read the books and has the knowledge of the plot. The computer won’t have that, so teaching it to do any better than you is going to be tricky.”\n",
    "\n",
    "That’s a good point to remember when you’re doing this work. Things like narrative context? That’s still pretty much a human-exclusive thing. There are algorithms that “understand” (don’t understand like a human) “context” (a window of words around the word you’re looking at) – things like word vectors, which we’ll cover in a future book. But remembering that something must be a quote from a particular character because of where or how it appeared in a story? That’s a job for squishy human brains.\n",
    "\n",
    "“There are two classic problems with text analysis here,” mused Mark. “One is that I don’t think we have enough text in our examples. Classifying at the dialogic level is not going to be useful. Or possible!”\n",
    "\n",
    "“It’s funny,” I said. “Reading these books as a human, the differences in her speech style are *really prominent*. And the text even brings it up explicitly, through her mother teasing her. But is this one of those cases where it’s just human perception being about more than just frequency?”\n",
    "\n",
    "“I think you’re right, the things that pop out to us as readers or the characters listening to her are just not frequent enough for a computer,” said Mark. “The fact that you have false negatives is telling. When you saw a ‘California girl sentence’, you recognize it as Ilana, but she’s not saying a lot of sentences all the time. If we take this as a representative sample, you only identified 60% of the Ilana sentences – which means around 40% of the time, what Ilana is saying isn’t a ‘California girl sentence’. Which is not to say she doesn’t have a distinctive discourse…”\n",
    "\n",
    "Mark pulled up RStudio.\n",
    "\n",
    "“Based on our stepwise variable selection,” said Mark, “The best three words for differentiating Ilana and non-Ilana are ‘like’, ‘amazing’, and ‘right’. There's 33 Ilana quotes with 'like'... and 11 non-Ilana quotes with it.\"\n",
    "\n",
    "\"And realistically, those 11 are probably mostly verbs,\" I added. \"Or maybe prepositions. But no one's using 'like' like Ilana.\"\n",
    "\n",
    "\"True,\" Mark smiled. \"And I know it's a little uncomfortable, comparing things this way. All we're doing is looking at the frequency of the word 'like', however it's being used. But there's something to that: when it's used as a discourse particle, like Ilana uses it, 'like' appears with a different frequency than when it's used as a verb of preposition. When we see a lot of 'like', odds are it's being used as a discourse particle. Now, if we wanted to be absolutely certain, in theory we have the tools for it: we could use natural-language processing algorithms, like Stanford NLP, to try to parse the syntax of these quotes and identify where 'like' is being used as a verb, vs. preposition, vs. discourse particle. But even for English, I don't think the NLP models are trained on data that would reliably identify the discourse particle usage of 'like' -- a lot of it is news sources!\"\n",
    "\n",
    "We'd been down this road before, with [DSC Multilingual Mystery 2: Beware, Lee and Quinn!](https://datasittersclub.github.io/site/dscm2.html) The French model struggled to identify and categorize entities in French that it could easily do in English. So it's a similar problem here, even if it gets further into the nuances of the model than just named entities.\n",
    "\n",
    "\"What all this shows is what I was thinking when I saw this data,\" concluded Mark. \"Based on words, and trying to classify quotes, Ilana's discourse is just not distinctive enough across all her utterances. Only 40% of the sentences are 'California girl sentences', and that's it. There are three possibilities here: one, we could try moving on to a classifier that's better or more precise... but I don't know how close we're going to get. If you can't do it, I don't think the best neural net is going to do it. Two, we could stop trying to classify sentences and knit this into larger blocks of text. That'd be a little artificial, but if it's all glued together we'll see differences in discourse. Three, we try non-word features. Part-of-speech is one option, punctuation is another, and strings of three characters are another one.\""
   ]
  },
  {
   "cell_type": "markdown",
   "id": "53f408ba",
   "metadata": {},
   "source": [
    "### Three-character sequences\n",
    "\n",
    "I fixed Mark with a hard stare. “I don’t like that last one. Why would you break up words?”\n",
    "\n",
    "“It gets you more things to count, especially when you don’t have a lot of text. And three-character sequences have proven to be more reliable than words for forensic analysis in cases where we have very little text.”\n",
    "\n",
    "“Fine, but… they’re … not … words. Like, we’re getting into English morphology here, but not even rigorously, because you’re going to end up with three-character sequences like ‘ing’ where, okay, that’s a gerund, but you’re going to get other ones that span the root/inflection boundary, and… *I DON’T LIKE IT*,” I sputtered.\n",
    "\n",
    "“Words have their downsides, too,” Mark nudged. “Andrew Piper’s been arguing for years that characters aren’t distinctive, that we the readers bring the distinctiveness of characters to the characters. Insofar as stylometry is ‘right’ – which is to say, if ‘style’ is the product of authorial unconscious word usage – it’s impossible for an author to lose their own ‘style’ to the point where characters can assume distinctive voices. So I could write a California girl, but she’s going to sound like the Mark version of a California girl, and the second I write a sentence for her that doesn’t include ‘like’, ‘totally’, or ‘amazing’... then it’s going to sound like me.”\n",
    "\n",
    "I was very reluctantly willing to try this. We considered the different options together. There was some data we had to throw out because the whole thing was less than three characters (e.g. “Hi”). We decided punctuation might be important here– Ilana likes exclamation marks.\n",
    "\n",
    "Mark picked up on my ongoing anxiety about this approach. “The way I see it, when we do this kind of work, our questions are guided by humanistic inquiry, but our interpretation should be guided by … results. So, if it works, that means that there’s something that’s happening at a differentiable level. Just because strings of three characters aren’t meaningful for us as readers doesn’t mean they’re not meaningful, period.” Mark continued to type away at the R code. “I still don’t think this is going to work…” he said. “On these things, I sit in a weird place between the scarf-wearing crowd…” – and it’s true, Mark does also have a beard – “... and the people who want results to be human-readable. This is a problem at a deep level, like neural nets that create math proofs that work, but we can’t really trace the path to see how. But I think it’s interesting that there’s something about these things that we don’t see as readers, but is legible at a different level.”\n",
    "\n",
    "Mark re-imported all the data, limited Ilana’s quotes to the books where she has distinctive dialogue, used the sample of the non-Ilana dialogue, and added it to a new text vector."
   ]
  },
  {
   "cell_type": "code",
   "execution_count": 49,
   "id": "52caad6d",
   "metadata": {},
   "outputs": [
    {
     "name": "stdout",
     "output_type": "stream",
     "text": [
      "[1]"
     ]
    },
    {
     "name": "stdout",
     "output_type": "stream",
     "text": [
      " 460"
     ]
    },
    {
     "name": "stdout",
     "output_type": "stream",
     "text": [
      "\n"
     ]
    }
   ],
   "source": [
    "%%R\n",
    "setwd(\"/Users/qad/Documents/GitHub/dsc15\")\n",
    "ilana.tg<-read.csv(\"ilana.csv\", header=T)\n",
    "non.ilana.tg<-read.csv(\"non_ilana_sample.csv\", header=T)\n",
    "non.ilana.tg<-non.ilana.tg[,2]\n",
    "ilana.quotes.tg<-ilana.tg$Quote[which(ilana.tg$Source %in% c(\"BYT9\", \"BYT10\", \"BYT11\", \"BYT12\"))]\n",
    "all.text.tg<-c(ilana.quotes.tg, non.ilana.tg)\n",
    "all.groups.tg<-c(rep(\"Ilana\", length(ilana.quotes.tg)), rep(\"NonIlana\", length(non.ilana.tg)))\n",
    "length(all.groups.tg)"
   ]
  },
  {
   "cell_type": "markdown",
   "id": "403ddc56",
   "metadata": {},
   "source": [
    "“And now, let’s write out the code for creating trigrams.”\n"
   ]
  },
  {
   "cell_type": "code",
   "execution_count": 50,
   "id": "df345f03",
   "metadata": {},
   "outputs": [],
   "source": [
    "%%R\n",
    "#Function for creating trigrams\n",
    "#Subs spaces with an underscore, finds start and end points, and applies it to text\n",
    "makeCharacterTrigrams<-function(dialogue, str.length=3){\n",
    "  dialogue<-gsub(\" \", \"_\", dialogue)\n",
    "  dialogue.sep<-unlist(strsplit(dialogue, \"\"))\n",
    "  starting.points<-seq(1,(length(dialogue.sep)-(str.length-1)), by=1)\n",
    "  ending.points<-starting.points+(str.length-1)\n",
    "  all.str<-mapply(function(x,y) dialogue.sep[x:y], starting.points, ending.points, SIMPLIFY = F)\n",
    "  all.str<-unlist(lapply(all.str, function(x) paste(x, collapse=\"\")))\n",
    "  return(all.str)\n",
    "}"
   ]
  },
  {
   "cell_type": "markdown",
   "id": "6ce381c5",
   "metadata": {},
   "source": [
    "“Next, let’s create the trigrams.”"
   ]
  },
  {
   "cell_type": "code",
   "execution_count": 51,
   "id": "4e8c477e",
   "metadata": {},
   "outputs": [
    {
     "name": "stdout",
     "output_type": "stream",
     "text": [
      "[1]"
     ]
    },
    {
     "name": "stdout",
     "output_type": "stream",
     "text": [
      " \"let et’ t’s ’s_ s_s _se see\""
     ]
    },
    {
     "name": "stdout",
     "output_type": "stream",
     "text": [
      "\n"
     ]
    }
   ],
   "source": [
    "%%R\n",
    "#Lower-cases all text\n",
    "all.text.tg<-tolower(all.text.tg)\n",
    "all.text.length.tg<-unlist(lapply(all.text.tg, function(x) length(unlist(strsplit(x, \"\")))))\n",
    "#Identifies quotes with fewer than 3 characters & removes it\n",
    "badtext.tg<-which(all.text.length.tg < 3)\n",
    "if (length(badtext.tg) > 0) {\n",
    "  all.text.tg<-all.text.tg[-badtext.tg]\n",
    "  all.groups.tg<-all.groups.tg[-badtext.tg]\n",
    "}                      \n",
    "#Applies trigram-making code to the text\n",
    "all.trigrams.tg<-lapply(all.text.tg, function(x) makeCharacterTrigrams(x))\n",
    "all.trigrams.tg<-unlist(lapply(all.trigrams.tg, function(x) paste(x, collapse=\" \")))\n",
    "#Print quote 60 in its trigram form\n",
    "all.trigrams.tg[60]"
   ]
  },
  {
   "cell_type": "markdown",
   "id": "8dce0a92",
   "metadata": {},
   "source": [
    "There they were. Mark’s trigrams. “Let's see,” re-formatted into nearly 30 trigrams– the underscore represents a space. Our quotes were looking even more data-ish and even less like literature than ever, separated into three-character strings. I was feeling edgy as we built the new corpus."
   ]
  },
  {
   "cell_type": "code",
   "execution_count": 52,
   "id": "8c51106d",
   "metadata": {},
   "outputs": [
    {
     "name": "stdout",
     "output_type": "stream",
     "text": [
      "<<DocumentTermMatrix (documents: 460, terms: 2933)>>\n"
     ]
    },
    {
     "name": "stdout",
     "output_type": "stream",
     "text": [
      "Non-/sparse entries: 21158/1328022\n"
     ]
    },
    {
     "name": "stdout",
     "output_type": "stream",
     "text": [
      "Sparsity           : 98%\n"
     ]
    },
    {
     "name": "stdout",
     "output_type": "stream",
     "text": [
      "Maximal term length: 3\n"
     ]
    },
    {
     "name": "stdout",
     "output_type": "stream",
     "text": [
      "Weighting          : term frequency (tf)\n"
     ]
    }
   ],
   "source": [
    "%%R\n",
    "#Create a metadata table with all the texts and all the groups\n",
    "metadata.table.tg<-data.frame(all.groups.tg, all.text.tg)\n",
    "#Label the columns\n",
    "colnames(metadata.table.tg)<-c(\"Group\", \"Text\")\n",
    "#Create a corpus with the trigrams\n",
    "raw.corpus.tg<-all.trigrams.tg\n",
    "clean.corpus.tg<-Corpus(VectorSource(raw.corpus.tg))\n",
    "#Create document-term matrix\n",
    "corpus.dtm.tg<-DocumentTermMatrix(clean.corpus.tg, control=list(wordLengths=c(1,Inf)))\n",
    "corpus.matrix.tg<-as.matrix(corpus.dtm.tg)\n",
    "corpus.dtm.tg"
   ]
  },
  {
   "cell_type": "markdown",
   "id": "be40b0ec",
   "metadata": {},
   "source": [
    "“We’ve got 460 ‘docs’ – that’s the quotes – and 2933 ‘terms’.” I squirmed slightly at the use of ‘term’ to refer to these three-character strings. “We’ve also got 98% sparsity – which is to say, most trigrams don’t appear in 98% of the quotes.” \n",
    "\n",
    "That made sense, because of the length of these quotes, if nothing else: a quote like “hi” contains (not even) one three-character string.\n",
    "\n",
    "“A rule of thumb for doing classification: the number of variables you include should not be more than 1/3 the number of observations for the smallest group. You’ve got two groups, and they both have 230 things – so 1/3 of 230 is roughly 76. You shouldn’t be using more than 76 features, as an upper limit. DH folks love to make models with giant numbers of features, and we should not do that because it becomes less significant, the more features you use. It’s why social scientists laugh at us,” Mark commented dryly.\n",
    "\n",
    "“Let’s go with 75 features,” said Mark as he typed away at the R code. “One nice thing about doing subwords is that they solve a lot of problems. Words are collinear with each other, because they’re words and have syntax.”\n",
    "\n",
    "“What does collinear mean?” I asked.\n",
    "\n",
    "“It’s when you have two variables that move in concert with each other. An easy example would be ‘Queen Elizabeth’ – those words are probably always going to appear together, and having words that always appear together will throw weird stuff into the model. The three-character sequences break up those relationships: ‘Queen’ might only appear with ‘Elizabeth’, but once you split it up into three-character sequences, you could also get ‘que’ with ‘question’.”\n",
    "\n",
    "I was starting to appreciate the upside of these three-character sequences, though I still struggled to imagine what I would say as the conclusion if this worked. “Ilana’s speech isn’t reliably distinguishable from the other characters on any level but the three-letter-sequence level, where it is!” For better or worse, though, I didn’t have that problem.\n",
    "\n",
    "“Let’s see how badly they did…”\n"
   ]
  },
  {
   "cell_type": "code",
   "execution_count": 53,
   "id": "91bfd9bf",
   "metadata": {},
   "outputs": [
    {
     "name": "stdout",
     "output_type": "stream",
     "text": [
      "[1]"
     ]
    },
    {
     "name": "stdout",
     "output_type": "stream",
     "text": [
      " \"Ilana\""
     ]
    },
    {
     "name": "stdout",
     "output_type": "stream",
     "text": [
      "\n"
     ]
    },
    {
     "name": "stdout",
     "output_type": "stream",
     "text": [
      "[1]"
     ]
    },
    {
     "name": "stdout",
     "output_type": "stream",
     "text": [
      " \"MDWs\""
     ]
    },
    {
     "name": "stdout",
     "output_type": "stream",
     "text": [
      "\n"
     ]
    },
    {
     "name": "stdout",
     "output_type": "stream",
     "text": [
      "[1]"
     ]
    },
    {
     "name": "stdout",
     "output_type": "stream",
     "text": [
      " \"Significant MDWs:\""
     ]
    },
    {
     "name": "stdout",
     "output_type": "stream",
     "text": [
      "\n"
     ]
    },
    {
     "name": "stdout",
     "output_type": "stream",
     "text": [
      "[1]"
     ]
    },
    {
     "name": "stdout",
     "output_type": "stream",
     "text": [
      " 0"
     ]
    },
    {
     "name": "stdout",
     "output_type": "stream",
     "text": [
      "\n"
     ]
    },
    {
     "name": "stdout",
     "output_type": "stream",
     "text": [
      "[1]"
     ]
    },
    {
     "name": "stdout",
     "output_type": "stream",
     "text": [
      " \"NonIlana\""
     ]
    },
    {
     "name": "stdout",
     "output_type": "stream",
     "text": [
      "\n"
     ]
    },
    {
     "name": "stdout",
     "output_type": "stream",
     "text": [
      "[1]"
     ]
    },
    {
     "name": "stdout",
     "output_type": "stream",
     "text": [
      " \"MDWs\""
     ]
    },
    {
     "name": "stdout",
     "output_type": "stream",
     "text": [
      "\n"
     ]
    },
    {
     "name": "stdout",
     "output_type": "stream",
     "text": [
      "[1]"
     ]
    },
    {
     "name": "stdout",
     "output_type": "stream",
     "text": [
      " \"Significant MDWs:\""
     ]
    },
    {
     "name": "stdout",
     "output_type": "stream",
     "text": [
      "\n"
     ]
    },
    {
     "name": "stdout",
     "output_type": "stream",
     "text": [
      "[1]"
     ]
    },
    {
     "name": "stdout",
     "output_type": "stream",
     "text": [
      " 0"
     ]
    },
    {
     "name": "stdout",
     "output_type": "stream",
     "text": [
      "\n"
     ]
    },
    {
     "name": "stdout",
     "output_type": "stream",
     "text": [
      "NULL\n"
     ]
    }
   ],
   "source": [
    "%%R\n",
    "n=75\n",
    "word.sums.tg<-colSums(corpus.matrix.tg)\n",
    "word.sums.tg<-sort(word.sums.tg, decreasing=T)\n",
    "mfw.tg<-names(word.sums.tg[1:n])\n",
    "group.source.tg<-metadata.table.tg$Group\n",
    "mdw.table.tg<-allMDW(corpus.matrix.tg, group.source.tg, 0.05)\n",
    "mdw.table.tg"
   ]
  },
  {
   "cell_type": "markdown",
   "id": "efc3d732",
   "metadata": {},
   "source": [
    "Once again, MDWs for Ilana were coming up short. How about trying the stepwise variable selection, but for trigrams? We replaced the underscores with spaces again, and set up the feature table."
   ]
  },
  {
   "cell_type": "code",
   "execution_count": 54,
   "id": "db866e55",
   "metadata": {},
   "outputs": [
    {
     "name": "stdout",
     "output_type": "stream",
     "text": [
      "[1]"
     ]
    },
    {
     "name": "stdout",
     "output_type": "stream",
     "text": [
      " 460"
     ]
    },
    {
     "name": "stdout",
     "output_type": "stream",
     "text": [
      "  75"
     ]
    },
    {
     "name": "stdout",
     "output_type": "stream",
     "text": [
      "\n"
     ]
    }
   ],
   "source": [
    "%%R\n",
    "scaled.dtm.tg<-corpus.matrix.tg/rowSums(corpus.matrix.tg)\n",
    "features.to.keep.tg<-mfw.tg\n",
    "feature.table.tg<-scaled.dtm.tg[,which(colnames(scaled.dtm.tg) %in% features.to.keep.tg)]\n",
    "feature.names.tg<-colnames(feature.table.tg)\n",
    "feature.names.tg<-gsub('_', ' ', feature.names.tg)\n",
    "colnames(feature.table.tg)<-feature.names.tg\n",
    "dim(feature.table.tg)"
   ]
  },
  {
   "cell_type": "code",
   "execution_count": 55,
   "id": "1e4fea42",
   "metadata": {},
   "outputs": [
    {
     "name": "stderr",
     "output_type": "stream",
     "text": [
      "R[write to console]:  `stepwise classification', using 10-fold cross-validated correctness rate of method lda'.\n",
      "\n"
     ]
    },
    {
     "name": "stderr",
     "output_type": "stream",
     "text": [
      "R[write to console]: 460 observations of 75 variables in 2 classes; direction: both\n",
      "\n"
     ]
    },
    {
     "name": "stderr",
     "output_type": "stream",
     "text": [
      "R[write to console]: stop criterion: improvement less than 0.01%.\n",
      "\n"
     ]
    },
    {
     "name": "stdout",
     "output_type": "stream",
     "text": [
      "correctness rate: 0.55;  in: \" an\";  "
     ]
    },
    {
     "name": "stdout",
     "output_type": "stream",
     "text": [
      "variables (1):"
     ]
    },
    {
     "name": "stdout",
     "output_type": "stream",
     "text": [
      " "
     ]
    },
    {
     "name": "stdout",
     "output_type": "stream",
     "text": [
      " an"
     ]
    },
    {
     "name": "stdout",
     "output_type": "stream",
     "text": [
      " "
     ]
    },
    {
     "name": "stdout",
     "output_type": "stream",
     "text": [
      "\n"
     ]
    },
    {
     "name": "stdout",
     "output_type": "stream",
     "text": [
      "correctness rate: 0.56739;  in: \" me\";  "
     ]
    },
    {
     "name": "stdout",
     "output_type": "stream",
     "text": [
      "variables (2):"
     ]
    },
    {
     "name": "stdout",
     "output_type": "stream",
     "text": [
      " "
     ]
    },
    {
     "name": "stdout",
     "output_type": "stream",
     "text": [
      " an,"
     ]
    },
    {
     "name": "stdout",
     "output_type": "stream",
     "text": [
      " "
     ]
    },
    {
     "name": "stdout",
     "output_type": "stream",
     "text": [
      " me"
     ]
    },
    {
     "name": "stdout",
     "output_type": "stream",
     "text": [
      " "
     ]
    },
    {
     "name": "stdout",
     "output_type": "stream",
     "text": [
      "\n"
     ]
    },
    {
     "name": "stdout",
     "output_type": "stream",
     "text": [
      "correctness rate: 0.57826;  in: \"ou \";  "
     ]
    },
    {
     "name": "stdout",
     "output_type": "stream",
     "text": [
      "variables (3):"
     ]
    },
    {
     "name": "stdout",
     "output_type": "stream",
     "text": [
      " "
     ]
    },
    {
     "name": "stdout",
     "output_type": "stream",
     "text": [
      " an,"
     ]
    },
    {
     "name": "stdout",
     "output_type": "stream",
     "text": [
      " "
     ]
    },
    {
     "name": "stdout",
     "output_type": "stream",
     "text": [
      " me,"
     ]
    },
    {
     "name": "stdout",
     "output_type": "stream",
     "text": [
      " "
     ]
    },
    {
     "name": "stdout",
     "output_type": "stream",
     "text": [
      "ou "
     ]
    },
    {
     "name": "stdout",
     "output_type": "stream",
     "text": [
      " "
     ]
    },
    {
     "name": "stdout",
     "output_type": "stream",
     "text": [
      "\n"
     ]
    },
    {
     "name": "stdout",
     "output_type": "stream",
     "text": [
      "correctness rate: 0.5913;  in: \"he \";  "
     ]
    },
    {
     "name": "stdout",
     "output_type": "stream",
     "text": [
      "variables (4):"
     ]
    },
    {
     "name": "stdout",
     "output_type": "stream",
     "text": [
      " "
     ]
    },
    {
     "name": "stdout",
     "output_type": "stream",
     "text": [
      " an,"
     ]
    },
    {
     "name": "stdout",
     "output_type": "stream",
     "text": [
      " "
     ]
    },
    {
     "name": "stdout",
     "output_type": "stream",
     "text": [
      " me,"
     ]
    },
    {
     "name": "stdout",
     "output_type": "stream",
     "text": [
      " "
     ]
    },
    {
     "name": "stdout",
     "output_type": "stream",
     "text": [
      "ou ,"
     ]
    },
    {
     "name": "stdout",
     "output_type": "stream",
     "text": [
      " "
     ]
    },
    {
     "name": "stdout",
     "output_type": "stream",
     "text": [
      "he "
     ]
    },
    {
     "name": "stdout",
     "output_type": "stream",
     "text": [
      " "
     ]
    },
    {
     "name": "stdout",
     "output_type": "stream",
     "text": [
      "\n"
     ]
    },
    {
     "name": "stdout",
     "output_type": "stream",
     "text": [
      "correctness rate: 0.60435;  in: \"me \";  "
     ]
    },
    {
     "name": "stdout",
     "output_type": "stream",
     "text": [
      "variables (5):"
     ]
    },
    {
     "name": "stdout",
     "output_type": "stream",
     "text": [
      " "
     ]
    },
    {
     "name": "stdout",
     "output_type": "stream",
     "text": [
      " an,"
     ]
    },
    {
     "name": "stdout",
     "output_type": "stream",
     "text": [
      " "
     ]
    },
    {
     "name": "stdout",
     "output_type": "stream",
     "text": [
      " me,"
     ]
    },
    {
     "name": "stdout",
     "output_type": "stream",
     "text": [
      " "
     ]
    },
    {
     "name": "stdout",
     "output_type": "stream",
     "text": [
      "ou ,"
     ]
    },
    {
     "name": "stdout",
     "output_type": "stream",
     "text": [
      " "
     ]
    },
    {
     "name": "stdout",
     "output_type": "stream",
     "text": [
      "he ,"
     ]
    },
    {
     "name": "stdout",
     "output_type": "stream",
     "text": [
      " "
     ]
    },
    {
     "name": "stdout",
     "output_type": "stream",
     "text": [
      "me "
     ]
    },
    {
     "name": "stdout",
     "output_type": "stream",
     "text": [
      " "
     ]
    },
    {
     "name": "stdout",
     "output_type": "stream",
     "text": [
      "\n"
     ]
    },
    {
     "name": "stdout",
     "output_type": "stream",
     "text": [
      "correctness rate: 0.60652;  in: \" be\";  "
     ]
    },
    {
     "name": "stdout",
     "output_type": "stream",
     "text": [
      "variables (6):"
     ]
    },
    {
     "name": "stdout",
     "output_type": "stream",
     "text": [
      " "
     ]
    },
    {
     "name": "stdout",
     "output_type": "stream",
     "text": [
      " an,"
     ]
    },
    {
     "name": "stdout",
     "output_type": "stream",
     "text": [
      " "
     ]
    },
    {
     "name": "stdout",
     "output_type": "stream",
     "text": [
      " me,"
     ]
    },
    {
     "name": "stdout",
     "output_type": "stream",
     "text": [
      " "
     ]
    },
    {
     "name": "stdout",
     "output_type": "stream",
     "text": [
      "ou ,"
     ]
    },
    {
     "name": "stdout",
     "output_type": "stream",
     "text": [
      " "
     ]
    },
    {
     "name": "stdout",
     "output_type": "stream",
     "text": [
      "he ,"
     ]
    },
    {
     "name": "stdout",
     "output_type": "stream",
     "text": [
      " "
     ]
    },
    {
     "name": "stdout",
     "output_type": "stream",
     "text": [
      "me ,"
     ]
    },
    {
     "name": "stdout",
     "output_type": "stream",
     "text": [
      " "
     ]
    },
    {
     "name": "stdout",
     "output_type": "stream",
     "text": [
      " be"
     ]
    },
    {
     "name": "stdout",
     "output_type": "stream",
     "text": [
      " "
     ]
    },
    {
     "name": "stdout",
     "output_type": "stream",
     "text": [
      "\n"
     ]
    },
    {
     "name": "stdout",
     "output_type": "stream",
     "text": [
      "correctness rate: 0.61957;  in: \"ed \";  "
     ]
    },
    {
     "name": "stdout",
     "output_type": "stream",
     "text": [
      "variables (7):"
     ]
    },
    {
     "name": "stdout",
     "output_type": "stream",
     "text": [
      " "
     ]
    },
    {
     "name": "stdout",
     "output_type": "stream",
     "text": [
      " an,"
     ]
    },
    {
     "name": "stdout",
     "output_type": "stream",
     "text": [
      " "
     ]
    },
    {
     "name": "stdout",
     "output_type": "stream",
     "text": [
      " me,"
     ]
    },
    {
     "name": "stdout",
     "output_type": "stream",
     "text": [
      " "
     ]
    },
    {
     "name": "stdout",
     "output_type": "stream",
     "text": [
      "ou ,"
     ]
    },
    {
     "name": "stdout",
     "output_type": "stream",
     "text": [
      " "
     ]
    },
    {
     "name": "stdout",
     "output_type": "stream",
     "text": [
      "he ,"
     ]
    },
    {
     "name": "stdout",
     "output_type": "stream",
     "text": [
      " "
     ]
    },
    {
     "name": "stdout",
     "output_type": "stream",
     "text": [
      "me ,"
     ]
    },
    {
     "name": "stdout",
     "output_type": "stream",
     "text": [
      " "
     ]
    },
    {
     "name": "stdout",
     "output_type": "stream",
     "text": [
      " be,"
     ]
    },
    {
     "name": "stdout",
     "output_type": "stream",
     "text": [
      " "
     ]
    },
    {
     "name": "stdout",
     "output_type": "stream",
     "text": [
      "ed "
     ]
    },
    {
     "name": "stdout",
     "output_type": "stream",
     "text": [
      " "
     ]
    },
    {
     "name": "stdout",
     "output_type": "stream",
     "text": [
      "\n"
     ]
    },
    {
     "name": "stdout",
     "output_type": "stream",
     "text": [
      "\n"
     ]
    },
    {
     "name": "stdout",
     "output_type": "stream",
     "text": [
      " hr.elapsed "
     ]
    },
    {
     "name": "stdout",
     "output_type": "stream",
     "text": [
      "min.elapsed "
     ]
    },
    {
     "name": "stdout",
     "output_type": "stream",
     "text": [
      "sec.elapsed "
     ]
    },
    {
     "name": "stdout",
     "output_type": "stream",
     "text": [
      "\n"
     ]
    },
    {
     "name": "stdout",
     "output_type": "stream",
     "text": [
      "      0.000 "
     ]
    },
    {
     "name": "stdout",
     "output_type": "stream",
     "text": [
      "      0.000 "
     ]
    },
    {
     "name": "stdout",
     "output_type": "stream",
     "text": [
      "     13.107 "
     ]
    },
    {
     "name": "stdout",
     "output_type": "stream",
     "text": [
      "\n"
     ]
    },
    {
     "name": "stdout",
     "output_type": "stream",
     "text": [
      "\n"
     ]
    }
   ],
   "source": [
    "%%R\n",
    "library(klaR)\n",
    "feature.names.tg<-gsub(\"’\", \"'\", feature.names.tg)\n",
    "colnames(feature.table.tg)<-feature.names.tg\n",
    "vars<-stepclass(feature.table.tg, metadata.table.tg[,1], method=\"lda\", improvement=0.0001)"
   ]
  },
  {
   "cell_type": "markdown",
   "id": "f406ab44",
   "metadata": {},
   "source": [
    "\"... Looks like the trigrams are just slightly better than Quinn.\""
   ]
  },
  {
   "cell_type": "markdown",
   "id": "75cfd8c9",
   "metadata": {},
   "source": [
    "### What have we learned here?\n",
    "\n",
    "Classification is one of those computational methods that often gets whipped out as something that's pretty basic, especially in data science contexts. You've got all this data, and you just wave a magic wand and the computer will give you its idea of how it should be grouped. And especially with all the AI hype (which we've also debunked in [DSC 9](https://datasittersclub.github.io/site/dsc9.html)), it's tempting to think that surely all these algorithmic advances mean that computers should be able to easily tell the difference between groups of things you've identified for it, especially if you as a human can recognize the groups.\n",
    "\n",
    "But there may be a difference between your impression of how well you can identify the groups, and what happens when you actually try it out. I think it's fair to say that, overall, Ilana's speech makes a different impression on readers than the other characters. But that doesn't mean that every one of her utterances contributes equally to that impression -- only around 60% have identifiable \"California girl\" traits. That said, even 60% is more than enough to get the message across.\n",
    "\n",
    "But what, exactly, is the message? Growing up in the Seattle suburbs, the \"California girl\" was an archetype that didn't feel as distant -- and was certainly more accessible to my imagination, thanks to things like the movie Clueless -- as Dainy's life in an Orthodox Jewish community on the other side of the country. What was the deal with Ilana, anyway? Is there an embedded joke about hippies and tree-hugging in her name (which means \"tree\")? How much would the readers of these books recognize the stereotype she embodies? And why did her mannerisms change so completely after book 12? And also, what was the deal with Ilana anyway? It didn't seem too weird for Dawn's divorced mom to move back to her Connecticut hometown from California, but what was up with a family of Orthodox Jews running a kosher health-food store in California to begin with? And then deciding to move to an Orthodox Jewish suburb of New York?\n",
    "\n",
    "The algorithms had come up short on classification, but I knew I could count on Dainy for some context."
   ]
  },
  {
   "cell_type": "markdown",
   "id": "78d2124b",
   "metadata": {},
   "source": [
    "## Dainy\n",
    "\n",
    "### What's up with Ilana anyway?\n",
    "Much like the distinction between the Brooklyn girls and the Bloomfield girls, within the world of the BYT, Ilana’s being from California holds specific Jewish cultural connotations in addition to the American stereotypes of blonde, laid-back, health-food nut. Interestingly, while the Orthodox East Coast girls don't have the same stereotypes as their non-Orthodox or non-Jewish East Coast counterparts, Ilana carries both the broader California stereotypes and specific Orthodox connotations. The Orthodox connotations show up more subtly, but Ilana's association with broader American culture is in itself a symptom. \n",
    "\n",
    "In the last decade of the twentieth century, Orthodox Jewish communities across America were being strengthened. The major hubs of American Jewish life, however, remained in the New York metropolitan area. The slight tension between the Brooklyn girls and the Bloomfield girls in War! is true to real-life dynamics between high school girls of that era. (At the 2006 national convention of Bais Yaakov seniors in Baltimore, my classmates and I - from the largest Bais Yaakov high school in Brooklyn - got a laugh from everyone else when a faculty organizer asked all \"out of towners\" to move to one side of the dining room and we didn't move. We were too used to calling others \"out of towners,\" meaning anyone not from New York City.) Being from \"out of town\" was associated with a somewhat more lenient Jewish religious observance and a porousness between Orthodox and American culture. The smaller the Orthodox community infrastructure, after all, the more its members would need to interact with people outside their community - and the end of the twentieth century was characterized by an increasing push toward as much insularity as possible, leading these smaller, more porous communities to be viewed as somewhat inferior in religious observance by the larger, more insular communities.\n",
    "\n",
    "Los Angeles had a growing Orthodox community, which is rich and vibrant today. But in the 1990s, it seemed like a completely foreign country to Orthodox teens on the East Coast. We didn't watch TV or movies (except for some rebellious kids, of course), but the California stereotype still filtered into our consciousness. Combining these factors - the idea of someone as far away as California being more connected to non-Jewish cultures and the idea of the laid back Californian health nut - explains why Ilana, in this cultural remix of the BSC, retains the mainstream American cultural stereotypes while the other characters are more ambiguously connected to their BSC counterparts.\n",
    "\n",
    "<div style='float: right; width: 400px;margin-left: 7px;margin-top: 0px;'>\n",
    "<img src='_static/images/dsc15_healthfood.jpg' alt='Gemarakup book cover' />\n",
    "</div>\n",
    "\n",
    "As to Quinn's question about why the Silvers would move from California to open a health food store in Bloomfield, I have only conjecture based on these cultural considerations. One of the big Orthodox cultural movements of the 90s and the decades preceding the 90s was the kiruv (religious outreach) movement. Efforts to bring unaffiliated or non-religious Jews into the Orthodox fold dominated quite a bit of time and energy. We get a glimpse of this through the character of Jen Farber, whose American name very clearly labels her a \"returnee\" to religious Judaism. We also see it through the \"Russian\" girls from Kyiv (as people from all Soviet countries were called “Russian” in Orthodox circles) who are rescued from behind the Iron Curtain and brought to America to live freely as religious Jews. \n",
    "\n",
    "Ilana's characterization is built around her California stereotypes, not her status as a ba'alas teshuvah, someone who became frum, a term used by the BYT girls to mean Orthodox, later in life. In Book 10, *The New Kids*, we're introduced to Jen Farber, whose characterization is focused on her status as a ba'alas teshuvah. When the girls of the BYT talk about the newest member of their newspaper, we get an internal thought from Ilana:\n",
    "\n",
    ">\"Okay.\" Chani took a deep breath. \"It seems that Jack Farber himself only became frum very recently, and he sort of persuaded Jen to be frum too. Neither of her parents are frum at all. They're not anti-religious or anything like that, but they're definitely not Orthodox.\"\n",
    ">\"Wow,\" breathed Batya. \"That's tough.\"\n",
    ">\"Yes, it is,\" said Ilana quietly.. None of the girls knew it, but her family, too, were *b'alei teshuvah*. She knew exactly how hard it could be.\n",
    "\n",
    "So we know that Ilana's family used to be non-observant. It makes sense then that her family lived in California, assimilated the typical Californian mannerisms and attitudes, and ran a health shop there. In fact, I would venture to guess that their health shop in California was not kosher! Part of efforts to bring unaffiliated Jewish adults into Orthodoxy involve encouraging them to continue using their talents and expertise within the community. (An extreme example of this is Matisyahu, who began his musical career as a non-observant Jew, then took Orthodoxy upon himself and continued writing reggae but now with a more religious flavor.) It makes perfect sense for the Silvers to use their knowledge and expertise in the health food business as part of building their new lives. It wouldn't even take much - plants are all kosher, so nuts and sprouts wouldn't even need to be sourced differently. The only major change would have been making sure the juices and other processed snacks were produced with a Jew's supervision, making sure no non-kosher ingredients were added. \n",
    "\n",
    "Names are also important in marking Ilana as different. Jen and her brother Jack, whose main characteristics are being *ba'alei teshuvah*, are clearly marked as an outsider in this ultra-Orthodox enclave - the names Jen and Jack are unheard of in ultra-Orthodox communities, where names are generally drawn from the Bible or from Yiddish-speaking ancestors. Most of the BYT girls' names are shortened versions of Biblical names: Shani is Shoshana, Chani is Chana (Hannah), Pinky is Penina, Chinky is Chaya Rochel. Raizy is the nickname for Raizel, a Yiddish name meaning rose (like the Hebrew Shoshana). Nechama and Batya are both Hebrew, but not shortened. Batya's name also identifies her as slightly different: the Ashkenazic pronunciation of her name is Basya, not Batya, and her last name (Ben-Levi) is either Sephardic or Mizrachi. We know she has family in Israel, so that makes sense. She's accepted in the mostly-Ashkenazic ultra-Orthodox community because her background doesn't make her life experiences differ that much from the others.\n",
    "\n",
    "Ilana's family name, Silver, identifies her as Ashkenazi, with European ancestry. Her first name, Ilana, however, is non-Biblical Hebrew, which is unusual in ultra-Orthodox Ashkenazi circles. Non-Biblical Hebrew names, in ultra-Orthodox Ashkenazi perception, signify a more \"modern\" lifestyle and religious identity. Jen's American name situates her more firmly as an outsider on account of her status as a *ba'alas teshuvah*, but Ilana's modern-Hebrew name situates her slightly closer to the BYT girls' lives on the spectrum of religiosity.\n",
    "\n",
    "But we're not told that Ilana was once not Orthodox until the main *ba'alas teshuva* character is introduced. My reading of this is that Zakon wanted to introduce a \"Dawn\" character, for whom an Orthodox parallel does not readily exist, so she colored outside the lines of Orthodox experience and ret-conned Ilana's character as a *ba'alas teshuvah* to make things fit. This would also explain the sudden drop in human-reader-identifiable \"Californian\" speech after Book 12 - Ilana had been sufficiently identified as the outsider, and the focus on her not fitting in was no longer yielding interesting plot points. Besides, Book 13, *Flying High*, introduces yet another character who lives outside the American Orthodox community. The BYT girls find out about a young fan of their school newspaper who is sick, and her rich parents fly the girls to Zurich so she can meet them. There is in fact an Orthodox community in Zurich, but the book spends lots of time talking about how different Swiss people are from Americans. Including Ilana's Californian difference while focusing on the Swiss-American differences may have been too much. This book provided a good moment to drop the focus on Ilana's speech, which might also have become tedious for the readers.\n",
    "\n",
    "I'll admit, I was disappointed to learn that the computer could not distinguish meaningfully between Ilana's speech and the others', and I still have a hard time accepting that what seems so obvious to us as human readers can be statistically not verifiable. Her speech stands out, but maybe that's because the stereotypical phrases are used in ways that sound foreign to the typical American ear: \"Like, hi!\" is not something we expect to hear even from the most stereotypical Californian. \"Like\" is just not used that way, and is clearly inserted by an author with only passing familiarity with stereotypical Californian speech patterns. \n",
    "\n",
    "Markers of insiders and outsiders are like that, though. They rely on minute details like names, verbal tics, clothing, food, etc., all of which is legible only to the insiders who are intimately familiar with community norms. For my own work, this is not a negative result - it's confirmation of the way communal identity is formed and the way that these kids' books strengthen that communal identity.\n"
   ]
  },
  {
   "cell_type": "markdown",
   "id": "8d34177a",
   "metadata": {},
   "source": [
    "## Suggested citation\n",
    "Suggested citation: Bernstein, Dainy, Quinn Dombrowski, and Mark Algee-Hewitt. “DSC \\#15: Little Miss California Stereotype... and the BY Times.” *The Data-Sitters Club*, September 15, 2022. https://datasittersclub.github.io/site/dsc15.html."
   ]
  },
  {
   "cell_type": "markdown",
   "id": "48f06f6c",
   "metadata": {},
   "source": [
    "<a name=\"footnote\" />&#42; \n",
    "Saying something negative about a person even if it’s true. There’s a lot of concern about *lashon hara* in the *BY Times* books, as you might imagine for a series about a newspaper at a girls’ school."
   ]
  }
 ],
 "metadata": {
  "kernelspec": {
   "display_name": "Python 3",
   "language": "python",
   "name": "python3"
  },
  "language_info": {
   "codemirror_mode": {
    "name": "ipython",
    "version": 3
   },
   "file_extension": ".py",
   "mimetype": "text/x-python",
   "name": "python",
   "nbconvert_exporter": "python",
   "pygments_lexer": "ipython3",
   "version": "3.8.8"
  }
 },
 "nbformat": 4,
 "nbformat_minor": 5
}