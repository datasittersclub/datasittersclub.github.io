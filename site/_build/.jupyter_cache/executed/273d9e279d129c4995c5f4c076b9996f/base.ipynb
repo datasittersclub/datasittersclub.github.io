{
 "cells": [
  {
   "cell_type": "code",
   "execution_count": null,
   "id": "1b2ddf39",
   "metadata": {
    "tags": [
     "skip-execution"
    ]
   },
   "outputs": [],
   "source": [
    "#Import the system module to be able to install other libraries\n",
    "import sys\n",
    "#Installs Textblob\n",
    "!{sys.executable} -m pip install textblob\n",
    "#Installs VADER\n",
    "!{sys.executable} -m pip install vaderSentiment\n",
    "#Installs rpy2\n",
    "!{sys.executable} -m pip install rpy2"
   ]
  },
  {
   "cell_type": "code",
   "execution_count": 1,
   "id": "fefc23c2",
   "metadata": {},
   "outputs": [],
   "source": [
    "import os\n",
    "#Import VADER sentiment analyzer\n",
    "from vaderSentiment.vaderSentiment import SentimentIntensityAnalyzer\n",
    "vaderanalyzer = SentimentIntensityAnalyzer()\n",
    "#Import Textblob\n",
    "from textblob import TextBlob\n",
    "from textblob.sentiments import PatternAnalyzer\n",
    "#Import Pandas to be able to create tables of data\n",
    "import pandas as pd\n",
    "import rpy2"
   ]
  },
  {
   "cell_type": "code",
   "execution_count": 2,
   "id": "af23b499",
   "metadata": {},
   "outputs": [],
   "source": [
    "sentences = [\"What I meant was that it was chilling, horrible, disgusting, and the meanest thing in the world -- only I couldn’t say that in front of a little baby.\", \"Something cold and slimy and disgusting and icky touched my neck and then wriggled beneath the collar of my shirt and down my spine.\", \"I was expecting some disgusting vegetarian substitute.\", \"As bad as Saturday night was, Sunday morning was just awful.\", \"He looked awful, as if he’d been crying for hours.\", \"Isn’t prejudice awful?\", \"It’s just that I found out the most terrible thing.\", \"I felt terrible: terrible about the lie, terrible about how badly I had handled the whole thing.\", \"Playing Monopoly with anybody can be a slow and torturous experience, but with Charlotte it’s the absolute worst.\", \"It was her worst baby-sitting experience ever.\", \"We made an awesome pasta dish, with sun-dried tomatoes and basil.\", \"The show is going to be awesome.\", \"You’re a wonderful big sister and a big help to your mommy and daddy.\", \"Richard is a wonderful stepdad, and Mary Anne is the best.\", \"When I got to California, I had an absolutely fantastic time.\", \"And Logan scored a touchdown, which was so fantastic.\", \"This is the best job in the world.\", \"She is the best listener and the most loyal friend.\", \"Suddenly I had a great stepmom, a great stepsister, and a great new house.\", \"We can get great ice-cream sundaes at Friendly's.\"]"
   ]
  },
  {
   "cell_type": "code",
   "execution_count": 3,
   "id": "689f5bdd",
   "metadata": {
    "tags": [
     "output_scroll"
    ]
   },
   "outputs": [
    {
     "data": {
      "text/html": [
       "<div>\n",
       "<style scoped>\n",
       "    .dataframe tbody tr th:only-of-type {\n",
       "        vertical-align: middle;\n",
       "    }\n",
       "\n",
       "    .dataframe tbody tr th {\n",
       "        vertical-align: top;\n",
       "    }\n",
       "\n",
       "    .dataframe thead th {\n",
       "        text-align: right;\n",
       "    }\n",
       "</style>\n",
       "<table border=\"1\" class=\"dataframe\">\n",
       "  <thead>\n",
       "    <tr style=\"text-align: right;\">\n",
       "      <th></th>\n",
       "      <th>sentence</th>\n",
       "    </tr>\n",
       "  </thead>\n",
       "  <tbody>\n",
       "    <tr>\n",
       "      <th>0</th>\n",
       "      <td>What I meant was that it was chilling, horribl...</td>\n",
       "    </tr>\n",
       "    <tr>\n",
       "      <th>1</th>\n",
       "      <td>Something cold and slimy and disgusting and ic...</td>\n",
       "    </tr>\n",
       "    <tr>\n",
       "      <th>2</th>\n",
       "      <td>I was expecting some disgusting vegetarian sub...</td>\n",
       "    </tr>\n",
       "    <tr>\n",
       "      <th>3</th>\n",
       "      <td>As bad as Saturday night was, Sunday morning w...</td>\n",
       "    </tr>\n",
       "    <tr>\n",
       "      <th>4</th>\n",
       "      <td>He looked awful, as if he’d been crying for ho...</td>\n",
       "    </tr>\n",
       "    <tr>\n",
       "      <th>5</th>\n",
       "      <td>Isn’t prejudice awful?</td>\n",
       "    </tr>\n",
       "    <tr>\n",
       "      <th>6</th>\n",
       "      <td>It’s just that I found out the most terrible t...</td>\n",
       "    </tr>\n",
       "    <tr>\n",
       "      <th>7</th>\n",
       "      <td>I felt terrible: terrible about the lie, terri...</td>\n",
       "    </tr>\n",
       "    <tr>\n",
       "      <th>8</th>\n",
       "      <td>Playing Monopoly with anybody can be a slow an...</td>\n",
       "    </tr>\n",
       "    <tr>\n",
       "      <th>9</th>\n",
       "      <td>It was her worst baby-sitting experience ever.</td>\n",
       "    </tr>\n",
       "    <tr>\n",
       "      <th>10</th>\n",
       "      <td>We made an awesome pasta dish, with sun-dried ...</td>\n",
       "    </tr>\n",
       "    <tr>\n",
       "      <th>11</th>\n",
       "      <td>The show is going to be awesome.</td>\n",
       "    </tr>\n",
       "    <tr>\n",
       "      <th>12</th>\n",
       "      <td>You’re a wonderful big sister and a big help t...</td>\n",
       "    </tr>\n",
       "    <tr>\n",
       "      <th>13</th>\n",
       "      <td>Richard is a wonderful stepdad, and Mary Anne ...</td>\n",
       "    </tr>\n",
       "    <tr>\n",
       "      <th>14</th>\n",
       "      <td>When I got to California, I had an absolutely ...</td>\n",
       "    </tr>\n",
       "    <tr>\n",
       "      <th>15</th>\n",
       "      <td>And Logan scored a touchdown, which was so fan...</td>\n",
       "    </tr>\n",
       "    <tr>\n",
       "      <th>16</th>\n",
       "      <td>This is the best job in the world.</td>\n",
       "    </tr>\n",
       "    <tr>\n",
       "      <th>17</th>\n",
       "      <td>She is the best listener and the most loyal fr...</td>\n",
       "    </tr>\n",
       "    <tr>\n",
       "      <th>18</th>\n",
       "      <td>Suddenly I had a great stepmom, a great stepsi...</td>\n",
       "    </tr>\n",
       "    <tr>\n",
       "      <th>19</th>\n",
       "      <td>We can get great ice-cream sundaes at Friendly's.</td>\n",
       "    </tr>\n",
       "  </tbody>\n",
       "</table>\n",
       "</div>"
      ],
      "text/plain": [
       "                                             sentence\n",
       "0   What I meant was that it was chilling, horribl...\n",
       "1   Something cold and slimy and disgusting and ic...\n",
       "2   I was expecting some disgusting vegetarian sub...\n",
       "3   As bad as Saturday night was, Sunday morning w...\n",
       "4   He looked awful, as if he’d been crying for ho...\n",
       "5                              Isn’t prejudice awful?\n",
       "6   It’s just that I found out the most terrible t...\n",
       "7   I felt terrible: terrible about the lie, terri...\n",
       "8   Playing Monopoly with anybody can be a slow an...\n",
       "9      It was her worst baby-sitting experience ever.\n",
       "10  We made an awesome pasta dish, with sun-dried ...\n",
       "11                   The show is going to be awesome.\n",
       "12  You’re a wonderful big sister and a big help t...\n",
       "13  Richard is a wonderful stepdad, and Mary Anne ...\n",
       "14  When I got to California, I had an absolutely ...\n",
       "15  And Logan scored a touchdown, which was so fan...\n",
       "16                 This is the best job in the world.\n",
       "17  She is the best listener and the most loyal fr...\n",
       "18  Suddenly I had a great stepmom, a great stepsi...\n",
       "19  We can get great ice-cream sundaes at Friendly's."
      ]
     },
     "execution_count": 3,
     "metadata": {},
     "output_type": "execute_result"
    }
   ],
   "source": [
    "sentencesdf = pd.DataFrame(sentences, columns =['sentence'])\n",
    "sentencesdf"
   ]
  },
  {
   "cell_type": "code",
   "execution_count": 4,
   "id": "3da77819",
   "metadata": {
    "tags": [
     "output_scroll"
    ]
   },
   "outputs": [
    {
     "data": {
      "text/html": [
       "<div>\n",
       "<style scoped>\n",
       "    .dataframe tbody tr th:only-of-type {\n",
       "        vertical-align: middle;\n",
       "    }\n",
       "\n",
       "    .dataframe tbody tr th {\n",
       "        vertical-align: top;\n",
       "    }\n",
       "\n",
       "    .dataframe thead th {\n",
       "        text-align: right;\n",
       "    }\n",
       "</style>\n",
       "<table border=\"1\" class=\"dataframe\">\n",
       "  <thead>\n",
       "    <tr style=\"text-align: right;\">\n",
       "      <th></th>\n",
       "      <th>sentence</th>\n",
       "      <th>tbsentiment</th>\n",
       "      <th>vadersentiment</th>\n",
       "      <th>vader-neg</th>\n",
       "      <th>vader-neu</th>\n",
       "      <th>vader-pos</th>\n",
       "    </tr>\n",
       "  </thead>\n",
       "  <tbody>\n",
       "    <tr>\n",
       "      <th>0</th>\n",
       "      <td>What I meant was that it was chilling, horribl...</td>\n",
       "      <td>-0.537500</td>\n",
       "      <td>-0.7906</td>\n",
       "      <td>0.235</td>\n",
       "      <td>0.765</td>\n",
       "      <td>0.000</td>\n",
       "    </tr>\n",
       "    <tr>\n",
       "      <th>1</th>\n",
       "      <td>Something cold and slimy and disgusting and ic...</td>\n",
       "      <td>-0.513889</td>\n",
       "      <td>-0.5267</td>\n",
       "      <td>0.129</td>\n",
       "      <td>0.871</td>\n",
       "      <td>0.000</td>\n",
       "    </tr>\n",
       "    <tr>\n",
       "      <th>2</th>\n",
       "      <td>I was expecting some disgusting vegetarian sub...</td>\n",
       "      <td>-1.000000</td>\n",
       "      <td>-0.5267</td>\n",
       "      <td>0.362</td>\n",
       "      <td>0.638</td>\n",
       "      <td>0.000</td>\n",
       "    </tr>\n",
       "    <tr>\n",
       "      <th>3</th>\n",
       "      <td>As bad as Saturday night was, Sunday morning w...</td>\n",
       "      <td>-0.850000</td>\n",
       "      <td>-0.7579</td>\n",
       "      <td>0.419</td>\n",
       "      <td>0.581</td>\n",
       "      <td>0.000</td>\n",
       "    </tr>\n",
       "    <tr>\n",
       "      <th>4</th>\n",
       "      <td>He looked awful, as if he’d been crying for ho...</td>\n",
       "      <td>-0.600000</td>\n",
       "      <td>-0.7269</td>\n",
       "      <td>0.433</td>\n",
       "      <td>0.567</td>\n",
       "      <td>0.000</td>\n",
       "    </tr>\n",
       "    <tr>\n",
       "      <th>5</th>\n",
       "      <td>Isn’t prejudice awful?</td>\n",
       "      <td>-1.000000</td>\n",
       "      <td>-0.7430</td>\n",
       "      <td>0.863</td>\n",
       "      <td>0.137</td>\n",
       "      <td>0.000</td>\n",
       "    </tr>\n",
       "    <tr>\n",
       "      <th>6</th>\n",
       "      <td>It’s just that I found out the most terrible t...</td>\n",
       "      <td>-0.250000</td>\n",
       "      <td>-0.5256</td>\n",
       "      <td>0.274</td>\n",
       "      <td>0.726</td>\n",
       "      <td>0.000</td>\n",
       "    </tr>\n",
       "    <tr>\n",
       "      <th>7</th>\n",
       "      <td>I felt terrible: terrible about the lie, terri...</td>\n",
       "      <td>-0.700000</td>\n",
       "      <td>-0.9081</td>\n",
       "      <td>0.488</td>\n",
       "      <td>0.512</td>\n",
       "      <td>0.000</td>\n",
       "    </tr>\n",
       "    <tr>\n",
       "      <th>8</th>\n",
       "      <td>Playing Monopoly with anybody can be a slow an...</td>\n",
       "      <td>-0.366667</td>\n",
       "      <td>-0.8225</td>\n",
       "      <td>0.328</td>\n",
       "      <td>0.615</td>\n",
       "      <td>0.057</td>\n",
       "    </tr>\n",
       "    <tr>\n",
       "      <th>9</th>\n",
       "      <td>It was her worst baby-sitting experience ever.</td>\n",
       "      <td>-1.000000</td>\n",
       "      <td>-0.6249</td>\n",
       "      <td>0.406</td>\n",
       "      <td>0.594</td>\n",
       "      <td>0.000</td>\n",
       "    </tr>\n",
       "    <tr>\n",
       "      <th>10</th>\n",
       "      <td>We made an awesome pasta dish, with sun-dried ...</td>\n",
       "      <td>1.000000</td>\n",
       "      <td>0.6249</td>\n",
       "      <td>0.000</td>\n",
       "      <td>0.709</td>\n",
       "      <td>0.291</td>\n",
       "    </tr>\n",
       "    <tr>\n",
       "      <th>11</th>\n",
       "      <td>The show is going to be awesome.</td>\n",
       "      <td>1.000000</td>\n",
       "      <td>0.6249</td>\n",
       "      <td>0.000</td>\n",
       "      <td>0.594</td>\n",
       "      <td>0.406</td>\n",
       "    </tr>\n",
       "    <tr>\n",
       "      <th>12</th>\n",
       "      <td>You’re a wonderful big sister and a big help t...</td>\n",
       "      <td>0.333333</td>\n",
       "      <td>0.7506</td>\n",
       "      <td>0.000</td>\n",
       "      <td>0.652</td>\n",
       "      <td>0.348</td>\n",
       "    </tr>\n",
       "    <tr>\n",
       "      <th>13</th>\n",
       "      <td>Richard is a wonderful stepdad, and Mary Anne ...</td>\n",
       "      <td>1.000000</td>\n",
       "      <td>0.8360</td>\n",
       "      <td>0.000</td>\n",
       "      <td>0.533</td>\n",
       "      <td>0.467</td>\n",
       "    </tr>\n",
       "    <tr>\n",
       "      <th>14</th>\n",
       "      <td>When I got to California, I had an absolutely ...</td>\n",
       "      <td>0.400000</td>\n",
       "      <td>0.5984</td>\n",
       "      <td>0.000</td>\n",
       "      <td>0.720</td>\n",
       "      <td>0.280</td>\n",
       "    </tr>\n",
       "    <tr>\n",
       "      <th>15</th>\n",
       "      <td>And Logan scored a touchdown, which was so fan...</td>\n",
       "      <td>0.400000</td>\n",
       "      <td>0.6825</td>\n",
       "      <td>0.000</td>\n",
       "      <td>0.634</td>\n",
       "      <td>0.366</td>\n",
       "    </tr>\n",
       "    <tr>\n",
       "      <th>16</th>\n",
       "      <td>This is the best job in the world.</td>\n",
       "      <td>1.000000</td>\n",
       "      <td>0.6369</td>\n",
       "      <td>0.000</td>\n",
       "      <td>0.625</td>\n",
       "      <td>0.375</td>\n",
       "    </tr>\n",
       "    <tr>\n",
       "      <th>17</th>\n",
       "      <td>She is the best listener and the most loyal fr...</td>\n",
       "      <td>0.611111</td>\n",
       "      <td>0.9016</td>\n",
       "      <td>0.000</td>\n",
       "      <td>0.387</td>\n",
       "      <td>0.613</td>\n",
       "    </tr>\n",
       "    <tr>\n",
       "      <th>18</th>\n",
       "      <td>Suddenly I had a great stepmom, a great stepsi...</td>\n",
       "      <td>0.507273</td>\n",
       "      <td>0.9231</td>\n",
       "      <td>0.000</td>\n",
       "      <td>0.472</td>\n",
       "      <td>0.528</td>\n",
       "    </tr>\n",
       "    <tr>\n",
       "      <th>19</th>\n",
       "      <td>We can get great ice-cream sundaes at Friendly's.</td>\n",
       "      <td>0.587500</td>\n",
       "      <td>0.6249</td>\n",
       "      <td>0.000</td>\n",
       "      <td>0.631</td>\n",
       "      <td>0.369</td>\n",
       "    </tr>\n",
       "  </tbody>\n",
       "</table>\n",
       "</div>"
      ],
      "text/plain": [
       "                                             sentence  tbsentiment  \\\n",
       "0   What I meant was that it was chilling, horribl...    -0.537500   \n",
       "1   Something cold and slimy and disgusting and ic...    -0.513889   \n",
       "2   I was expecting some disgusting vegetarian sub...    -1.000000   \n",
       "3   As bad as Saturday night was, Sunday morning w...    -0.850000   \n",
       "4   He looked awful, as if he’d been crying for ho...    -0.600000   \n",
       "5                              Isn’t prejudice awful?    -1.000000   \n",
       "6   It’s just that I found out the most terrible t...    -0.250000   \n",
       "7   I felt terrible: terrible about the lie, terri...    -0.700000   \n",
       "8   Playing Monopoly with anybody can be a slow an...    -0.366667   \n",
       "9      It was her worst baby-sitting experience ever.    -1.000000   \n",
       "10  We made an awesome pasta dish, with sun-dried ...     1.000000   \n",
       "11                   The show is going to be awesome.     1.000000   \n",
       "12  You’re a wonderful big sister and a big help t...     0.333333   \n",
       "13  Richard is a wonderful stepdad, and Mary Anne ...     1.000000   \n",
       "14  When I got to California, I had an absolutely ...     0.400000   \n",
       "15  And Logan scored a touchdown, which was so fan...     0.400000   \n",
       "16                 This is the best job in the world.     1.000000   \n",
       "17  She is the best listener and the most loyal fr...     0.611111   \n",
       "18  Suddenly I had a great stepmom, a great stepsi...     0.507273   \n",
       "19  We can get great ice-cream sundaes at Friendly's.     0.587500   \n",
       "\n",
       "    vadersentiment  vader-neg  vader-neu  vader-pos  \n",
       "0          -0.7906      0.235      0.765      0.000  \n",
       "1          -0.5267      0.129      0.871      0.000  \n",
       "2          -0.5267      0.362      0.638      0.000  \n",
       "3          -0.7579      0.419      0.581      0.000  \n",
       "4          -0.7269      0.433      0.567      0.000  \n",
       "5          -0.7430      0.863      0.137      0.000  \n",
       "6          -0.5256      0.274      0.726      0.000  \n",
       "7          -0.9081      0.488      0.512      0.000  \n",
       "8          -0.8225      0.328      0.615      0.057  \n",
       "9          -0.6249      0.406      0.594      0.000  \n",
       "10          0.6249      0.000      0.709      0.291  \n",
       "11          0.6249      0.000      0.594      0.406  \n",
       "12          0.7506      0.000      0.652      0.348  \n",
       "13          0.8360      0.000      0.533      0.467  \n",
       "14          0.5984      0.000      0.720      0.280  \n",
       "15          0.6825      0.000      0.634      0.366  \n",
       "16          0.6369      0.000      0.625      0.375  \n",
       "17          0.9016      0.000      0.387      0.613  \n",
       "18          0.9231      0.000      0.472      0.528  \n",
       "19          0.6249      0.000      0.631      0.369  "
      ]
     },
     "execution_count": 4,
     "metadata": {},
     "output_type": "execute_result"
    }
   ],
   "source": [
    "sentencesdf['tbsentiment'] = sentencesdf['sentence'].apply(lambda sentence: TextBlob(sentence).sentiment[0])\n",
    "sentencesdf['vadersentiment'] = [vaderanalyzer.polarity_scores(x)['compound'] for x in sentencesdf['sentence']]\n",
    "sentencesdf['vader-neg'] = [vaderanalyzer.polarity_scores(x)['neg'] for x in sentencesdf['sentence']]\n",
    "sentencesdf['vader-neu'] = [vaderanalyzer.polarity_scores(x)['neu'] for x in sentencesdf['sentence']]\n",
    "sentencesdf['vader-pos'] = [vaderanalyzer.polarity_scores(x)['pos'] for x in sentencesdf['sentence']]\n",
    "\n",
    "sentencesdf"
   ]
  },
  {
   "cell_type": "code",
   "execution_count": 5,
   "id": "7b19d51e",
   "metadata": {},
   "outputs": [
    {
     "name": "stdout",
     "output_type": "stream",
     "text": [
      "Sentiment(polarity=0.0, subjectivity=0.0)\n",
      "{'neg': 0.524, 'neu': 0.476, 'pos': 0.0, 'compound': -0.5106}\n"
     ]
    }
   ],
   "source": [
    "prejudice = \"I think it's prejudice.\"\n",
    "blob = TextBlob(prejudice, analyzer=PatternAnalyzer())\n",
    "print(blob.sentiment)\n",
    "print(vaderanalyzer.polarity_scores(prejudice))"
   ]
  },
  {
   "cell_type": "code",
   "execution_count": 6,
   "id": "c92ab79a",
   "metadata": {},
   "outputs": [
    {
     "name": "stdout",
     "output_type": "stream",
     "text": [
      "Sentiment(polarity=0.55, subjectivity=0.8125)\n",
      "{'neg': 0.0, 'neu': 1.0, 'pos': 0.0, 'compound': 0.0}\n"
     ]
    }
   ],
   "source": [
    "potato = \"The teenagers around here get their own cars (fancy ones) as soon as they’re able to drive.\"\n",
    "blob = TextBlob(potato, analyzer=PatternAnalyzer())\n",
    "print(blob.sentiment)\n",
    "print(vaderanalyzer.polarity_scores(potato))"
   ]
  },
  {
   "cell_type": "code",
   "execution_count": 7,
   "id": "cf546548",
   "metadata": {},
   "outputs": [
    {
     "name": "stdout",
     "output_type": "stream",
     "text": [
      "Sentiment(polarity=0.0, subjectivity=0.0)\n",
      "{'neg': 0.0, 'neu': 0.395, 'pos': 0.605, 'compound': 0.5574}\n"
     ]
    }
   ],
   "source": [
    "potato = \"Well, it's like a potato.\"\n",
    "blob = TextBlob(potato, analyzer=PatternAnalyzer())\n",
    "print(blob.sentiment)\n",
    "print(vaderanalyzer.polarity_scores(potato))"
   ]
  },
  {
   "cell_type": "code",
   "execution_count": 8,
   "id": "8dfa938c",
   "metadata": {},
   "outputs": [],
   "source": [
    "snobpara1 = [\"If there’s one thing I can’t stand, it’s a snob.\",  \"Well, actually, there are a lot of other things I can’t stand.\", \"Cabbage, blood, people who chew with their mouths open, and squirrels are a few of them.\", \"But snobs are way up there on the list.\"]"
   ]
  },
  {
   "cell_type": "code",
   "execution_count": 9,
   "id": "075d5881",
   "metadata": {},
   "outputs": [
    {
     "data": {
      "text/html": [
       "<div>\n",
       "<style scoped>\n",
       "    .dataframe tbody tr th:only-of-type {\n",
       "        vertical-align: middle;\n",
       "    }\n",
       "\n",
       "    .dataframe tbody tr th {\n",
       "        vertical-align: top;\n",
       "    }\n",
       "\n",
       "    .dataframe thead th {\n",
       "        text-align: right;\n",
       "    }\n",
       "</style>\n",
       "<table border=\"1\" class=\"dataframe\">\n",
       "  <thead>\n",
       "    <tr style=\"text-align: right;\">\n",
       "      <th></th>\n",
       "      <th>sentence</th>\n",
       "    </tr>\n",
       "  </thead>\n",
       "  <tbody>\n",
       "    <tr>\n",
       "      <th>0</th>\n",
       "      <td>If there’s one thing I can’t stand, it’s a snob.</td>\n",
       "    </tr>\n",
       "    <tr>\n",
       "      <th>1</th>\n",
       "      <td>Well, actually, there are a lot of other thing...</td>\n",
       "    </tr>\n",
       "    <tr>\n",
       "      <th>2</th>\n",
       "      <td>Cabbage, blood, people who chew with their mou...</td>\n",
       "    </tr>\n",
       "    <tr>\n",
       "      <th>3</th>\n",
       "      <td>But snobs are way up there on the list.</td>\n",
       "    </tr>\n",
       "  </tbody>\n",
       "</table>\n",
       "</div>"
      ],
      "text/plain": [
       "                                            sentence\n",
       "0   If there’s one thing I can’t stand, it’s a snob.\n",
       "1  Well, actually, there are a lot of other thing...\n",
       "2  Cabbage, blood, people who chew with their mou...\n",
       "3            But snobs are way up there on the list."
      ]
     },
     "execution_count": 9,
     "metadata": {},
     "output_type": "execute_result"
    }
   ],
   "source": [
    "snobpara1df = pd.DataFrame(snobpara1, columns =['sentence'])\n",
    "snobpara1df"
   ]
  },
  {
   "cell_type": "code",
   "execution_count": 10,
   "id": "12104b9d",
   "metadata": {},
   "outputs": [
    {
     "data": {
      "text/html": [
       "<div>\n",
       "<style scoped>\n",
       "    .dataframe tbody tr th:only-of-type {\n",
       "        vertical-align: middle;\n",
       "    }\n",
       "\n",
       "    .dataframe tbody tr th {\n",
       "        vertical-align: top;\n",
       "    }\n",
       "\n",
       "    .dataframe thead th {\n",
       "        text-align: right;\n",
       "    }\n",
       "</style>\n",
       "<table border=\"1\" class=\"dataframe\">\n",
       "  <thead>\n",
       "    <tr style=\"text-align: right;\">\n",
       "      <th></th>\n",
       "      <th>sentence</th>\n",
       "      <th>tbsentiment</th>\n",
       "      <th>vadersentiment</th>\n",
       "      <th>vader-neg</th>\n",
       "      <th>vader-neu</th>\n",
       "      <th>vader-pos</th>\n",
       "    </tr>\n",
       "  </thead>\n",
       "  <tbody>\n",
       "    <tr>\n",
       "      <th>0</th>\n",
       "      <td>If there’s one thing I can’t stand, it’s a snob.</td>\n",
       "      <td>0.0000</td>\n",
       "      <td>-0.4588</td>\n",
       "      <td>0.250</td>\n",
       "      <td>0.750</td>\n",
       "      <td>0.00</td>\n",
       "    </tr>\n",
       "    <tr>\n",
       "      <th>1</th>\n",
       "      <td>Well, actually, there are a lot of other thing...</td>\n",
       "      <td>-0.0625</td>\n",
       "      <td>0.2732</td>\n",
       "      <td>0.000</td>\n",
       "      <td>0.840</td>\n",
       "      <td>0.16</td>\n",
       "    </tr>\n",
       "    <tr>\n",
       "      <th>2</th>\n",
       "      <td>Cabbage, blood, people who chew with their mou...</td>\n",
       "      <td>-0.1000</td>\n",
       "      <td>0.0000</td>\n",
       "      <td>0.000</td>\n",
       "      <td>1.000</td>\n",
       "      <td>0.00</td>\n",
       "    </tr>\n",
       "    <tr>\n",
       "      <th>3</th>\n",
       "      <td>But snobs are way up there on the list.</td>\n",
       "      <td>0.0000</td>\n",
       "      <td>-0.4767</td>\n",
       "      <td>0.279</td>\n",
       "      <td>0.721</td>\n",
       "      <td>0.00</td>\n",
       "    </tr>\n",
       "  </tbody>\n",
       "</table>\n",
       "</div>"
      ],
      "text/plain": [
       "                                            sentence  tbsentiment  \\\n",
       "0   If there’s one thing I can’t stand, it’s a snob.       0.0000   \n",
       "1  Well, actually, there are a lot of other thing...      -0.0625   \n",
       "2  Cabbage, blood, people who chew with their mou...      -0.1000   \n",
       "3            But snobs are way up there on the list.       0.0000   \n",
       "\n",
       "   vadersentiment  vader-neg  vader-neu  vader-pos  \n",
       "0         -0.4588      0.250      0.750       0.00  \n",
       "1          0.2732      0.000      0.840       0.16  \n",
       "2          0.0000      0.000      1.000       0.00  \n",
       "3         -0.4767      0.279      0.721       0.00  "
      ]
     },
     "execution_count": 10,
     "metadata": {},
     "output_type": "execute_result"
    }
   ],
   "source": [
    "snobpara1df['tbsentiment'] = snobpara1df['sentence'].apply(lambda sentence: TextBlob(sentence).sentiment[0])\n",
    "snobpara1df['vadersentiment'] = [vaderanalyzer.polarity_scores(x)['compound'] for x in snobpara1df['sentence']]\n",
    "snobpara1df['vader-neg'] = [vaderanalyzer.polarity_scores(x)['neg'] for x in snobpara1df['sentence']]\n",
    "snobpara1df['vader-neu'] = [vaderanalyzer.polarity_scores(x)['neu'] for x in snobpara1df['sentence']]\n",
    "snobpara1df['vader-pos'] = [vaderanalyzer.polarity_scores(x)['pos'] for x in snobpara1df['sentence']]\n",
    "\n",
    "snobpara1df"
   ]
  },
  {
   "cell_type": "code",
   "execution_count": 11,
   "id": "930a3d84",
   "metadata": {},
   "outputs": [
    {
     "data": {
      "text/html": [
       "<div>\n",
       "<style scoped>\n",
       "    .dataframe tbody tr th:only-of-type {\n",
       "        vertical-align: middle;\n",
       "    }\n",
       "\n",
       "    .dataframe tbody tr th {\n",
       "        vertical-align: top;\n",
       "    }\n",
       "\n",
       "    .dataframe thead th {\n",
       "        text-align: right;\n",
       "    }\n",
       "</style>\n",
       "<table border=\"1\" class=\"dataframe\">\n",
       "  <thead>\n",
       "    <tr style=\"text-align: right;\">\n",
       "      <th></th>\n",
       "      <th>sentence</th>\n",
       "      <th>tbsentiment</th>\n",
       "      <th>vadersentiment</th>\n",
       "      <th>vader-neg</th>\n",
       "      <th>vader-neu</th>\n",
       "      <th>vader-pos</th>\n",
       "    </tr>\n",
       "  </thead>\n",
       "  <tbody>\n",
       "    <tr>\n",
       "      <th>0</th>\n",
       "      <td>Anyway, to get back to the snobs — I’m surroun...</td>\n",
       "      <td>0.000000</td>\n",
       "      <td>-0.3400</td>\n",
       "      <td>0.211</td>\n",
       "      <td>0.789</td>\n",
       "      <td>0.000</td>\n",
       "    </tr>\n",
       "    <tr>\n",
       "      <th>1</th>\n",
       "      <td>They’re everywhere in Watson’s neighborhood.</td>\n",
       "      <td>0.000000</td>\n",
       "      <td>0.0000</td>\n",
       "      <td>0.000</td>\n",
       "      <td>1.000</td>\n",
       "      <td>0.000</td>\n",
       "    </tr>\n",
       "    <tr>\n",
       "      <th>2</th>\n",
       "      <td>The teenagers around here get their own cars (...</td>\n",
       "      <td>0.550000</td>\n",
       "      <td>0.0000</td>\n",
       "      <td>0.000</td>\n",
       "      <td>1.000</td>\n",
       "      <td>0.000</td>\n",
       "    </tr>\n",
       "    <tr>\n",
       "      <th>3</th>\n",
       "      <td>They spin along with the radios blaring, looki...</td>\n",
       "      <td>0.400000</td>\n",
       "      <td>0.7096</td>\n",
       "      <td>0.000</td>\n",
       "      <td>0.604</td>\n",
       "      <td>0.396</td>\n",
       "    </tr>\n",
       "    <tr>\n",
       "      <th>4</th>\n",
       "      <td>I am so glad my big brothers, Sam and Charlie,...</td>\n",
       "      <td>0.250000</td>\n",
       "      <td>0.7481</td>\n",
       "      <td>0.000</td>\n",
       "      <td>0.633</td>\n",
       "      <td>0.367</td>\n",
       "    </tr>\n",
       "    <tr>\n",
       "      <th>5</th>\n",
       "      <td>Charlie can drive now, but the only thing he d...</td>\n",
       "      <td>0.000000</td>\n",
       "      <td>0.0000</td>\n",
       "      <td>0.000</td>\n",
       "      <td>1.000</td>\n",
       "      <td>0.000</td>\n",
       "    </tr>\n",
       "    <tr>\n",
       "      <th>6</th>\n",
       "      <td>And my brothers and I still go to public schoo...</td>\n",
       "      <td>0.000000</td>\n",
       "      <td>0.3089</td>\n",
       "      <td>0.000</td>\n",
       "      <td>0.861</td>\n",
       "      <td>0.139</td>\n",
       "    </tr>\n",
       "    <tr>\n",
       "      <th>7</th>\n",
       "      <td>Guess what most families on our street have: (...</td>\n",
       "      <td>-0.083333</td>\n",
       "      <td>0.0000</td>\n",
       "      <td>0.000</td>\n",
       "      <td>1.000</td>\n",
       "      <td>0.000</td>\n",
       "    </tr>\n",
       "    <tr>\n",
       "      <th>8</th>\n",
       "      <td>The answer is (d) all of the above.</td>\n",
       "      <td>0.000000</td>\n",
       "      <td>0.0000</td>\n",
       "      <td>0.000</td>\n",
       "      <td>1.000</td>\n",
       "      <td>0.000</td>\n",
       "    </tr>\n",
       "  </tbody>\n",
       "</table>\n",
       "</div>"
      ],
      "text/plain": [
       "                                            sentence  tbsentiment  \\\n",
       "0  Anyway, to get back to the snobs — I’m surroun...     0.000000   \n",
       "1       They’re everywhere in Watson’s neighborhood.     0.000000   \n",
       "2  The teenagers around here get their own cars (...     0.550000   \n",
       "3  They spin along with the radios blaring, looki...     0.400000   \n",
       "4  I am so glad my big brothers, Sam and Charlie,...     0.250000   \n",
       "5  Charlie can drive now, but the only thing he d...     0.000000   \n",
       "6  And my brothers and I still go to public schoo...     0.000000   \n",
       "7  Guess what most families on our street have: (...    -0.083333   \n",
       "8                The answer is (d) all of the above.     0.000000   \n",
       "\n",
       "   vadersentiment  vader-neg  vader-neu  vader-pos  \n",
       "0         -0.3400      0.211      0.789      0.000  \n",
       "1          0.0000      0.000      1.000      0.000  \n",
       "2          0.0000      0.000      1.000      0.000  \n",
       "3          0.7096      0.000      0.604      0.396  \n",
       "4          0.7481      0.000      0.633      0.367  \n",
       "5          0.0000      0.000      1.000      0.000  \n",
       "6          0.3089      0.000      0.861      0.139  \n",
       "7          0.0000      0.000      1.000      0.000  \n",
       "8          0.0000      0.000      1.000      0.000  "
      ]
     },
     "execution_count": 11,
     "metadata": {},
     "output_type": "execute_result"
    }
   ],
   "source": [
    "snobpara2 = [\"Anyway, to get back to the snobs — I’m surrounded.\", \"They’re everywhere in Watson’s neighborhood.\", \"The teenagers around here get their own cars (fancy ones) as soon as they’re able to drive.\", \"They spin along with the radios blaring, looking fresh and sophisticated.\", \"I am so glad my big brothers, Sam and Charlie, aren’t like that.\", \"Charlie can drive now, but the only thing he drives is Mom’s beat-up station wagon.\", \"And my brothers and I still go to public school, not to snobby private schools.\", \"Guess what most families on our street have: (a) a swimming pool (b) tennis courts (c) a cook named Agnes (d) all of the above.\", \"The answer is (d) all of the above.\"]\n",
    "\n",
    "snobpara2df = pd.DataFrame(snobpara2, columns =['sentence'])\n",
    "\n",
    "snobpara2df['tbsentiment'] = snobpara2df['sentence'].apply(lambda sentence: TextBlob(sentence).sentiment[0])\n",
    "snobpara2df['vadersentiment'] = [vaderanalyzer.polarity_scores(x)['compound'] for x in snobpara2df['sentence']]\n",
    "snobpara2df['vader-neg'] = [vaderanalyzer.polarity_scores(x)['neg'] for x in snobpara2df['sentence']]\n",
    "snobpara2df['vader-neu'] = [vaderanalyzer.polarity_scores(x)['neu'] for x in snobpara2df['sentence']]\n",
    "snobpara2df['vader-pos'] = [vaderanalyzer.polarity_scores(x)['pos'] for x in snobpara2df['sentence']]\n",
    "\n",
    "snobpara2df"
   ]
  },
  {
   "cell_type": "code",
   "execution_count": 12,
   "id": "e7bf71c4",
   "metadata": {},
   "outputs": [],
   "source": [
    "import rpy2\n",
    "#import rpy2.situation\n",
    "%load_ext rpy2.ipython"
   ]
  },
  {
   "cell_type": "code",
   "execution_count": 13,
   "id": "9d9f4784",
   "metadata": {},
   "outputs": [],
   "source": [
    "%%R\n",
    "rsentences <-list(\"What I meant was that it was chilling, horrible, disgusting, and the meanest thing in the world -- only I couldn’t say that in front of a little baby.\", \"Something cold and slimy and disgusting and icky touched my neck and then wriggled beneath the collar of my shirt and down my spine.\", \"I was expecting some disgusting vegetarian substitute.\", \"As bad as Saturday night was, Sunday morning was just awful.\", \"He looked awful, as if he’d been crying for hours.\", \"Isn’t prejudice awful?\", \"It’s just that I found out the most terrible thing.\", \"I felt terrible: terrible about the lie, terrible about how badly I had handled the whole thing.\", \"Playing Monopoly with anybody can be a slow and torturous experience, but with Charlotte it’s the absolute worst.\", \"It was her worst baby-sitting experience ever.\", \"We made an awesome pasta dish, with sun-dried tomatoes and basil.\", \"The show is going to be awesome.\", \"You’re a wonderful big sister and a big help to your mommy and daddy.\", \"Richard is a wonderful stepdad, and Mary Anne is the best.\", \"When I got to California, I had an absolutely fantastic time.\", \"And Logan scored a touchdown, which was so fantastic.\", \"This is the best job in the world.\", \"She is the best listener and the most loyal friend.\", \"Suddenly I had a great stepmom, a great stepsister, and a great new house.\", \"We can get great ice-cream sundaes at Friendly's.\")"
   ]
  },
  {
   "cell_type": "code",
   "execution_count": 14,
   "id": "1752bcee",
   "metadata": {},
   "outputs": [],
   "source": [
    "%Rpush sentences"
   ]
  },
  {
   "cell_type": "code",
   "execution_count": 15,
   "id": "b614cdb2",
   "metadata": {
    "tags": [
     "output_scroll"
    ]
   },
   "outputs": [
    {
     "name": "stdout",
     "output_type": "stream",
     "text": [
      " [1]"
     ]
    },
    {
     "name": "stdout",
     "output_type": "stream",
     "text": [
      " \"What I meant was that it was chilling, horrible, disgusting, and the meanest thing in the world -- only I couldn’t say that in front of a little baby.\""
     ]
    },
    {
     "name": "stdout",
     "output_type": "stream",
     "text": [
      "\n"
     ]
    },
    {
     "name": "stdout",
     "output_type": "stream",
     "text": [
      " [2]"
     ]
    },
    {
     "name": "stdout",
     "output_type": "stream",
     "text": [
      " \"Something cold and slimy and disgusting and icky touched my neck and then wriggled beneath the collar of my shirt and down my spine.\"                  "
     ]
    },
    {
     "name": "stdout",
     "output_type": "stream",
     "text": [
      "\n"
     ]
    },
    {
     "name": "stdout",
     "output_type": "stream",
     "text": [
      " [3]"
     ]
    },
    {
     "name": "stdout",
     "output_type": "stream",
     "text": [
      " \"I was expecting some disgusting vegetarian substitute.\"                                                                                                "
     ]
    },
    {
     "name": "stdout",
     "output_type": "stream",
     "text": [
      "\n"
     ]
    },
    {
     "name": "stdout",
     "output_type": "stream",
     "text": [
      " [4]"
     ]
    },
    {
     "name": "stdout",
     "output_type": "stream",
     "text": [
      " \"As bad as Saturday night was, Sunday morning was just awful.\"                                                                                          "
     ]
    },
    {
     "name": "stdout",
     "output_type": "stream",
     "text": [
      "\n"
     ]
    },
    {
     "name": "stdout",
     "output_type": "stream",
     "text": [
      " [5]"
     ]
    },
    {
     "name": "stdout",
     "output_type": "stream",
     "text": [
      " \"He looked awful, as if he’d been crying for hours.\"                                                                                                    "
     ]
    },
    {
     "name": "stdout",
     "output_type": "stream",
     "text": [
      "\n"
     ]
    },
    {
     "name": "stdout",
     "output_type": "stream",
     "text": [
      " [6]"
     ]
    },
    {
     "name": "stdout",
     "output_type": "stream",
     "text": [
      " \"Isn’t prejudice awful?\"                                                                                                                                "
     ]
    },
    {
     "name": "stdout",
     "output_type": "stream",
     "text": [
      "\n"
     ]
    },
    {
     "name": "stdout",
     "output_type": "stream",
     "text": [
      " [7]"
     ]
    },
    {
     "name": "stdout",
     "output_type": "stream",
     "text": [
      " \"It’s just that I found out the most terrible thing.\"                                                                                                   "
     ]
    },
    {
     "name": "stdout",
     "output_type": "stream",
     "text": [
      "\n"
     ]
    },
    {
     "name": "stdout",
     "output_type": "stream",
     "text": [
      " [8]"
     ]
    },
    {
     "name": "stdout",
     "output_type": "stream",
     "text": [
      " \"I felt terrible: terrible about the lie, terrible about how badly I had handled the whole thing.\"                                                      "
     ]
    },
    {
     "name": "stdout",
     "output_type": "stream",
     "text": [
      "\n"
     ]
    },
    {
     "name": "stdout",
     "output_type": "stream",
     "text": [
      " [9]"
     ]
    },
    {
     "name": "stdout",
     "output_type": "stream",
     "text": [
      " \"Playing Monopoly with anybody can be a slow and torturous experience, but with Charlotte it’s the absolute worst.\"                                     "
     ]
    },
    {
     "name": "stdout",
     "output_type": "stream",
     "text": [
      "\n"
     ]
    },
    {
     "name": "stdout",
     "output_type": "stream",
     "text": [
      "[10]"
     ]
    },
    {
     "name": "stdout",
     "output_type": "stream",
     "text": [
      " \"It was her worst baby-sitting experience ever.\"                                                                                                        "
     ]
    },
    {
     "name": "stdout",
     "output_type": "stream",
     "text": [
      "\n"
     ]
    },
    {
     "name": "stdout",
     "output_type": "stream",
     "text": [
      "[11]"
     ]
    },
    {
     "name": "stdout",
     "output_type": "stream",
     "text": [
      " \"We made an awesome pasta dish, with sun-dried tomatoes and basil.\"                                                                                     "
     ]
    },
    {
     "name": "stdout",
     "output_type": "stream",
     "text": [
      "\n"
     ]
    },
    {
     "name": "stdout",
     "output_type": "stream",
     "text": [
      "[12]"
     ]
    },
    {
     "name": "stdout",
     "output_type": "stream",
     "text": [
      " \"The show is going to be awesome.\"                                                                                                                      "
     ]
    },
    {
     "name": "stdout",
     "output_type": "stream",
     "text": [
      "\n"
     ]
    },
    {
     "name": "stdout",
     "output_type": "stream",
     "text": [
      "[13]"
     ]
    },
    {
     "name": "stdout",
     "output_type": "stream",
     "text": [
      " \"You’re a wonderful big sister and a big help to your mommy and daddy.\"                                                                                 "
     ]
    },
    {
     "name": "stdout",
     "output_type": "stream",
     "text": [
      "\n"
     ]
    },
    {
     "name": "stdout",
     "output_type": "stream",
     "text": [
      "[14]"
     ]
    },
    {
     "name": "stdout",
     "output_type": "stream",
     "text": [
      " \"Richard is a wonderful stepdad, and Mary Anne is the best.\"                                                                                            "
     ]
    },
    {
     "name": "stdout",
     "output_type": "stream",
     "text": [
      "\n"
     ]
    },
    {
     "name": "stdout",
     "output_type": "stream",
     "text": [
      "[15]"
     ]
    },
    {
     "name": "stdout",
     "output_type": "stream",
     "text": [
      " \"When I got to California, I had an absolutely fantastic time.\"                                                                                         "
     ]
    },
    {
     "name": "stdout",
     "output_type": "stream",
     "text": [
      "\n"
     ]
    },
    {
     "name": "stdout",
     "output_type": "stream",
     "text": [
      "[16]"
     ]
    },
    {
     "name": "stdout",
     "output_type": "stream",
     "text": [
      " \"And Logan scored a touchdown, which was so fantastic.\"                                                                                                 "
     ]
    },
    {
     "name": "stdout",
     "output_type": "stream",
     "text": [
      "\n"
     ]
    },
    {
     "name": "stdout",
     "output_type": "stream",
     "text": [
      "[17]"
     ]
    },
    {
     "name": "stdout",
     "output_type": "stream",
     "text": [
      " \"This is the best job in the world.\"                                                                                                                    "
     ]
    },
    {
     "name": "stdout",
     "output_type": "stream",
     "text": [
      "\n"
     ]
    },
    {
     "name": "stdout",
     "output_type": "stream",
     "text": [
      "[18]"
     ]
    },
    {
     "name": "stdout",
     "output_type": "stream",
     "text": [
      " \"She is the best listener and the most loyal friend.\"                                                                                                   "
     ]
    },
    {
     "name": "stdout",
     "output_type": "stream",
     "text": [
      "\n"
     ]
    },
    {
     "name": "stdout",
     "output_type": "stream",
     "text": [
      "[19]"
     ]
    },
    {
     "name": "stdout",
     "output_type": "stream",
     "text": [
      " \"Suddenly I had a great stepmom, a great stepsister, and a great new house.\"                                                                            "
     ]
    },
    {
     "name": "stdout",
     "output_type": "stream",
     "text": [
      "\n"
     ]
    },
    {
     "name": "stdout",
     "output_type": "stream",
     "text": [
      "[20]"
     ]
    },
    {
     "name": "stdout",
     "output_type": "stream",
     "text": [
      " \"We can get great ice-cream sundaes at Friendly's.\"                                                                                                     "
     ]
    },
    {
     "name": "stdout",
     "output_type": "stream",
     "text": [
      "\n"
     ]
    }
   ],
   "source": [
    "%%R\n",
    "sentences"
   ]
  },
  {
   "cell_type": "code",
   "execution_count": 16,
   "id": "31657a4f",
   "metadata": {},
   "outputs": [
    {
     "name": "stdout",
     "output_type": "stream",
     "text": [
      " [1]"
     ]
    },
    {
     "name": "stdout",
     "output_type": "stream",
     "text": [
      " \"What I meant was that it was chilling, horrible, disgusting, and the meanest thing in the world -- only I couldn’t say that in front of a little baby.\""
     ]
    },
    {
     "name": "stdout",
     "output_type": "stream",
     "text": [
      "\n"
     ]
    },
    {
     "name": "stdout",
     "output_type": "stream",
     "text": [
      " [2]"
     ]
    },
    {
     "name": "stdout",
     "output_type": "stream",
     "text": [
      " \"Something cold and slimy and disgusting and icky touched my neck and then wriggled beneath the collar of my shirt and down my spine.\"                  "
     ]
    },
    {
     "name": "stdout",
     "output_type": "stream",
     "text": [
      "\n"
     ]
    },
    {
     "name": "stdout",
     "output_type": "stream",
     "text": [
      " [3]"
     ]
    },
    {
     "name": "stdout",
     "output_type": "stream",
     "text": [
      " \"I was expecting some disgusting vegetarian substitute.\"                                                                                                "
     ]
    },
    {
     "name": "stdout",
     "output_type": "stream",
     "text": [
      "\n"
     ]
    },
    {
     "name": "stdout",
     "output_type": "stream",
     "text": [
      " [4]"
     ]
    },
    {
     "name": "stdout",
     "output_type": "stream",
     "text": [
      " \"As bad as Saturday night was, Sunday morning was just awful.\"                                                                                          "
     ]
    },
    {
     "name": "stdout",
     "output_type": "stream",
     "text": [
      "\n"
     ]
    },
    {
     "name": "stdout",
     "output_type": "stream",
     "text": [
      " [5]"
     ]
    },
    {
     "name": "stdout",
     "output_type": "stream",
     "text": [
      " \"He looked awful, as if he’d been crying for hours.\"                                                                                                    "
     ]
    },
    {
     "name": "stdout",
     "output_type": "stream",
     "text": [
      "\n"
     ]
    },
    {
     "name": "stdout",
     "output_type": "stream",
     "text": [
      " [6]"
     ]
    },
    {
     "name": "stdout",
     "output_type": "stream",
     "text": [
      " \"Isn’t prejudice awful?\"                                                                                                                                "
     ]
    },
    {
     "name": "stdout",
     "output_type": "stream",
     "text": [
      "\n"
     ]
    },
    {
     "name": "stdout",
     "output_type": "stream",
     "text": [
      " [7]"
     ]
    },
    {
     "name": "stdout",
     "output_type": "stream",
     "text": [
      " \"It’s just that I found out the most terrible thing.\"                                                                                                   "
     ]
    },
    {
     "name": "stdout",
     "output_type": "stream",
     "text": [
      "\n"
     ]
    },
    {
     "name": "stdout",
     "output_type": "stream",
     "text": [
      " [8]"
     ]
    },
    {
     "name": "stdout",
     "output_type": "stream",
     "text": [
      " \"I felt terrible: terrible about the lie, terrible about how badly I had handled the whole thing.\"                                                      "
     ]
    },
    {
     "name": "stdout",
     "output_type": "stream",
     "text": [
      "\n"
     ]
    },
    {
     "name": "stdout",
     "output_type": "stream",
     "text": [
      " [9]"
     ]
    },
    {
     "name": "stdout",
     "output_type": "stream",
     "text": [
      " \"Playing Monopoly with anybody can be a slow and torturous experience, but with Charlotte it’s the absolute worst.\"                                     "
     ]
    },
    {
     "name": "stdout",
     "output_type": "stream",
     "text": [
      "\n"
     ]
    },
    {
     "name": "stdout",
     "output_type": "stream",
     "text": [
      "[10]"
     ]
    },
    {
     "name": "stdout",
     "output_type": "stream",
     "text": [
      " \"It was her worst baby-sitting experience ever.\"                                                                                                        "
     ]
    },
    {
     "name": "stdout",
     "output_type": "stream",
     "text": [
      "\n"
     ]
    },
    {
     "name": "stdout",
     "output_type": "stream",
     "text": [
      "[11]"
     ]
    },
    {
     "name": "stdout",
     "output_type": "stream",
     "text": [
      " \"We made an awesome pasta dish, with sun-dried tomatoes and basil.\"                                                                                     "
     ]
    },
    {
     "name": "stdout",
     "output_type": "stream",
     "text": [
      "\n"
     ]
    },
    {
     "name": "stdout",
     "output_type": "stream",
     "text": [
      "[12]"
     ]
    },
    {
     "name": "stdout",
     "output_type": "stream",
     "text": [
      " \"The show is going to be awesome.\"                                                                                                                      "
     ]
    },
    {
     "name": "stdout",
     "output_type": "stream",
     "text": [
      "\n"
     ]
    },
    {
     "name": "stdout",
     "output_type": "stream",
     "text": [
      "[13]"
     ]
    },
    {
     "name": "stdout",
     "output_type": "stream",
     "text": [
      " \"You’re a wonderful big sister and a big help to your mommy and daddy.\"                                                                                 "
     ]
    },
    {
     "name": "stdout",
     "output_type": "stream",
     "text": [
      "\n"
     ]
    },
    {
     "name": "stdout",
     "output_type": "stream",
     "text": [
      "[14]"
     ]
    },
    {
     "name": "stdout",
     "output_type": "stream",
     "text": [
      " \"Richard is a wonderful stepdad, and Mary Anne is the best.\"                                                                                            "
     ]
    },
    {
     "name": "stdout",
     "output_type": "stream",
     "text": [
      "\n"
     ]
    },
    {
     "name": "stdout",
     "output_type": "stream",
     "text": [
      "[15]"
     ]
    },
    {
     "name": "stdout",
     "output_type": "stream",
     "text": [
      " \"When I got to California, I had an absolutely fantastic time.\"                                                                                         "
     ]
    },
    {
     "name": "stdout",
     "output_type": "stream",
     "text": [
      "\n"
     ]
    },
    {
     "name": "stdout",
     "output_type": "stream",
     "text": [
      "[16]"
     ]
    },
    {
     "name": "stdout",
     "output_type": "stream",
     "text": [
      " \"And Logan scored a touchdown, which was so fantastic.\"                                                                                                 "
     ]
    },
    {
     "name": "stdout",
     "output_type": "stream",
     "text": [
      "\n"
     ]
    },
    {
     "name": "stdout",
     "output_type": "stream",
     "text": [
      "[17]"
     ]
    },
    {
     "name": "stdout",
     "output_type": "stream",
     "text": [
      " \"This is the best job in the world.\"                                                                                                                    "
     ]
    },
    {
     "name": "stdout",
     "output_type": "stream",
     "text": [
      "\n"
     ]
    },
    {
     "name": "stdout",
     "output_type": "stream",
     "text": [
      "[18]"
     ]
    },
    {
     "name": "stdout",
     "output_type": "stream",
     "text": [
      " \"She is the best listener and the most loyal friend.\"                                                                                                   "
     ]
    },
    {
     "name": "stdout",
     "output_type": "stream",
     "text": [
      "\n"
     ]
    },
    {
     "name": "stdout",
     "output_type": "stream",
     "text": [
      "[19]"
     ]
    },
    {
     "name": "stdout",
     "output_type": "stream",
     "text": [
      " \"Suddenly I had a great stepmom, a great stepsister, and a great new house.\"                                                                            "
     ]
    },
    {
     "name": "stdout",
     "output_type": "stream",
     "text": [
      "\n"
     ]
    },
    {
     "name": "stdout",
     "output_type": "stream",
     "text": [
      "[20]"
     ]
    },
    {
     "name": "stdout",
     "output_type": "stream",
     "text": [
      " \"We can get great ice-cream sundaes at Friendly's.\"                                                                                                     "
     ]
    },
    {
     "name": "stdout",
     "output_type": "stream",
     "text": [
      "\n"
     ]
    }
   ],
   "source": [
    "%%R\n",
    "sentences <- unlist(sentences)\n",
    "\n",
    "sentences"
   ]
  },
  {
   "cell_type": "code",
   "execution_count": 17,
   "id": "17bf8e3d",
   "metadata": {},
   "outputs": [],
   "source": [
    "%%R\n",
    "library(syuzhet)"
   ]
  },
  {
   "cell_type": "code",
   "execution_count": 18,
   "id": "4df2702d",
   "metadata": {},
   "outputs": [],
   "source": [
    "%%R\n",
    "sentences_syuzhet <- get_sentiment(sentences, method=\"syuzhet\")\n",
    "sentences_bing <- get_sentiment(sentences, method=\"bing\")\n",
    "sentences_afinn <- get_sentiment(sentences, method=\"afinn\")\n",
    "sentences_nrc <- get_sentiment(sentences, method=\"nrc\")"
   ]
  },
  {
   "cell_type": "code",
   "execution_count": 19,
   "id": "851ff3b7",
   "metadata": {},
   "outputs": [
    {
     "name": "stdout",
     "output_type": "stream",
     "text": [
      " [1]"
     ]
    },
    {
     "name": "stdout",
     "output_type": "stream",
     "text": [
      " -2.55"
     ]
    },
    {
     "name": "stdout",
     "output_type": "stream",
     "text": [
      " -3.05"
     ]
    },
    {
     "name": "stdout",
     "output_type": "stream",
     "text": [
      " -1.00"
     ]
    },
    {
     "name": "stdout",
     "output_type": "stream",
     "text": [
      " -1.50"
     ]
    },
    {
     "name": "stdout",
     "output_type": "stream",
     "text": [
      " -1.25"
     ]
    },
    {
     "name": "stdout",
     "output_type": "stream",
     "text": [
      " -1.25"
     ]
    },
    {
     "name": "stdout",
     "output_type": "stream",
     "text": [
      " -0.15"
     ]
    },
    {
     "name": "stdout",
     "output_type": "stream",
     "text": [
      " -2.00"
     ]
    },
    {
     "name": "stdout",
     "output_type": "stream",
     "text": [
      " -2.00"
     ]
    },
    {
     "name": "stdout",
     "output_type": "stream",
     "text": [
      " -0.50"
     ]
    },
    {
     "name": "stdout",
     "output_type": "stream",
     "text": [
      "  0.60"
     ]
    },
    {
     "name": "stdout",
     "output_type": "stream",
     "text": [
      "  0.60"
     ]
    },
    {
     "name": "stdout",
     "output_type": "stream",
     "text": [
      "\n"
     ]
    },
    {
     "name": "stdout",
     "output_type": "stream",
     "text": [
      "[13]"
     ]
    },
    {
     "name": "stdout",
     "output_type": "stream",
     "text": [
      "  1.00"
     ]
    },
    {
     "name": "stdout",
     "output_type": "stream",
     "text": [
      "  1.25"
     ]
    },
    {
     "name": "stdout",
     "output_type": "stream",
     "text": [
      "  0.75"
     ]
    },
    {
     "name": "stdout",
     "output_type": "stream",
     "text": [
      "  0.75"
     ]
    },
    {
     "name": "stdout",
     "output_type": "stream",
     "text": [
      "  0.50"
     ]
    },
    {
     "name": "stdout",
     "output_type": "stream",
     "text": [
      "  2.30"
     ]
    },
    {
     "name": "stdout",
     "output_type": "stream",
     "text": [
      "  1.30"
     ]
    },
    {
     "name": "stdout",
     "output_type": "stream",
     "text": [
      "  0.50"
     ]
    },
    {
     "name": "stdout",
     "output_type": "stream",
     "text": [
      "\n"
     ]
    }
   ],
   "source": [
    "%%R\n",
    "sentences_syuzhet"
   ]
  },
  {
   "cell_type": "code",
   "execution_count": 20,
   "id": "baa04077",
   "metadata": {},
   "outputs": [
    {
     "name": "stdout",
     "output_type": "stream",
     "text": [
      " [1]"
     ]
    },
    {
     "name": "stdout",
     "output_type": "stream",
     "text": [
      " -2"
     ]
    },
    {
     "name": "stdout",
     "output_type": "stream",
     "text": [
      " -2"
     ]
    },
    {
     "name": "stdout",
     "output_type": "stream",
     "text": [
      " -1"
     ]
    },
    {
     "name": "stdout",
     "output_type": "stream",
     "text": [
      " -2"
     ]
    },
    {
     "name": "stdout",
     "output_type": "stream",
     "text": [
      " -1"
     ]
    },
    {
     "name": "stdout",
     "output_type": "stream",
     "text": [
      " -2"
     ]
    },
    {
     "name": "stdout",
     "output_type": "stream",
     "text": [
      " -1"
     ]
    },
    {
     "name": "stdout",
     "output_type": "stream",
     "text": [
      " -3"
     ]
    },
    {
     "name": "stdout",
     "output_type": "stream",
     "text": [
      " -3"
     ]
    },
    {
     "name": "stdout",
     "output_type": "stream",
     "text": [
      " -1"
     ]
    },
    {
     "name": "stdout",
     "output_type": "stream",
     "text": [
      "  1"
     ]
    },
    {
     "name": "stdout",
     "output_type": "stream",
     "text": [
      "  1"
     ]
    },
    {
     "name": "stdout",
     "output_type": "stream",
     "text": [
      "  1"
     ]
    },
    {
     "name": "stdout",
     "output_type": "stream",
     "text": [
      "  2"
     ]
    },
    {
     "name": "stdout",
     "output_type": "stream",
     "text": [
      "  1"
     ]
    },
    {
     "name": "stdout",
     "output_type": "stream",
     "text": [
      "  1"
     ]
    },
    {
     "name": "stdout",
     "output_type": "stream",
     "text": [
      "  1"
     ]
    },
    {
     "name": "stdout",
     "output_type": "stream",
     "text": [
      "  2"
     ]
    },
    {
     "name": "stdout",
     "output_type": "stream",
     "text": [
      "  1"
     ]
    },
    {
     "name": "stdout",
     "output_type": "stream",
     "text": [
      "  1"
     ]
    },
    {
     "name": "stdout",
     "output_type": "stream",
     "text": [
      "\n"
     ]
    }
   ],
   "source": [
    "%%R\n",
    "sentences_bing"
   ]
  },
  {
   "cell_type": "code",
   "execution_count": 21,
   "id": "2422532e",
   "metadata": {},
   "outputs": [
    {
     "name": "stdout",
     "output_type": "stream",
     "text": [
      " [1]"
     ]
    },
    {
     "name": "stdout",
     "output_type": "stream",
     "text": [
      " -7"
     ]
    },
    {
     "name": "stdout",
     "output_type": "stream",
     "text": [
      " -6"
     ]
    },
    {
     "name": "stdout",
     "output_type": "stream",
     "text": [
      " -3"
     ]
    },
    {
     "name": "stdout",
     "output_type": "stream",
     "text": [
      " -6"
     ]
    },
    {
     "name": "stdout",
     "output_type": "stream",
     "text": [
      " -5"
     ]
    },
    {
     "name": "stdout",
     "output_type": "stream",
     "text": [
      " -3"
     ]
    },
    {
     "name": "stdout",
     "output_type": "stream",
     "text": [
      " -3"
     ]
    },
    {
     "name": "stdout",
     "output_type": "stream",
     "text": [
      " -6"
     ]
    },
    {
     "name": "stdout",
     "output_type": "stream",
     "text": [
      " -3"
     ]
    },
    {
     "name": "stdout",
     "output_type": "stream",
     "text": [
      " -3"
     ]
    },
    {
     "name": "stdout",
     "output_type": "stream",
     "text": [
      "  4"
     ]
    },
    {
     "name": "stdout",
     "output_type": "stream",
     "text": [
      "  4"
     ]
    },
    {
     "name": "stdout",
     "output_type": "stream",
     "text": [
      "  7"
     ]
    },
    {
     "name": "stdout",
     "output_type": "stream",
     "text": [
      "  7"
     ]
    },
    {
     "name": "stdout",
     "output_type": "stream",
     "text": [
      "  4"
     ]
    },
    {
     "name": "stdout",
     "output_type": "stream",
     "text": [
      "  4"
     ]
    },
    {
     "name": "stdout",
     "output_type": "stream",
     "text": [
      "  3"
     ]
    },
    {
     "name": "stdout",
     "output_type": "stream",
     "text": [
      "  7"
     ]
    },
    {
     "name": "stdout",
     "output_type": "stream",
     "text": [
      "  3"
     ]
    },
    {
     "name": "stdout",
     "output_type": "stream",
     "text": [
      "  3"
     ]
    },
    {
     "name": "stdout",
     "output_type": "stream",
     "text": [
      "\n"
     ]
    }
   ],
   "source": [
    "%%R\n",
    "sentences_afinn"
   ]
  },
  {
   "cell_type": "code",
   "execution_count": 22,
   "id": "b5f7cdde",
   "metadata": {},
   "outputs": [
    {
     "name": "stdout",
     "output_type": "stream",
     "text": [
      " [1]"
     ]
    },
    {
     "name": "stdout",
     "output_type": "stream",
     "text": [
      " -1"
     ]
    },
    {
     "name": "stdout",
     "output_type": "stream",
     "text": [
      " -4"
     ]
    },
    {
     "name": "stdout",
     "output_type": "stream",
     "text": [
      " -1"
     ]
    },
    {
     "name": "stdout",
     "output_type": "stream",
     "text": [
      " -2"
     ]
    },
    {
     "name": "stdout",
     "output_type": "stream",
     "text": [
      " -2"
     ]
    },
    {
     "name": "stdout",
     "output_type": "stream",
     "text": [
      " -2"
     ]
    },
    {
     "name": "stdout",
     "output_type": "stream",
     "text": [
      "  0"
     ]
    },
    {
     "name": "stdout",
     "output_type": "stream",
     "text": [
      " -3"
     ]
    },
    {
     "name": "stdout",
     "output_type": "stream",
     "text": [
      "  1"
     ]
    },
    {
     "name": "stdout",
     "output_type": "stream",
     "text": [
      "  1"
     ]
    },
    {
     "name": "stdout",
     "output_type": "stream",
     "text": [
      "  1"
     ]
    },
    {
     "name": "stdout",
     "output_type": "stream",
     "text": [
      "  0"
     ]
    },
    {
     "name": "stdout",
     "output_type": "stream",
     "text": [
      "  1"
     ]
    },
    {
     "name": "stdout",
     "output_type": "stream",
     "text": [
      "  1"
     ]
    },
    {
     "name": "stdout",
     "output_type": "stream",
     "text": [
      "  0"
     ]
    },
    {
     "name": "stdout",
     "output_type": "stream",
     "text": [
      "  0"
     ]
    },
    {
     "name": "stdout",
     "output_type": "stream",
     "text": [
      "  1"
     ]
    },
    {
     "name": "stdout",
     "output_type": "stream",
     "text": [
      "  2"
     ]
    },
    {
     "name": "stdout",
     "output_type": "stream",
     "text": [
      "  0"
     ]
    },
    {
     "name": "stdout",
     "output_type": "stream",
     "text": [
      "  1"
     ]
    },
    {
     "name": "stdout",
     "output_type": "stream",
     "text": [
      "\n"
     ]
    }
   ],
   "source": [
    "%%R\n",
    "sentences_nrc"
   ]
  },
  {
   "cell_type": "code",
   "execution_count": 23,
   "id": "225862a3",
   "metadata": {},
   "outputs": [],
   "source": [
    "%%R\n",
    "setwd('/Users/qad/Documents/dsc/dsc_corpus_syuzhet')"
   ]
  },
  {
   "cell_type": "code",
   "execution_count": null,
   "id": "e5b73c63",
   "metadata": {
    "tags": [
     "skip-execution"
    ]
   },
   "outputs": [],
   "source": [
    "%%R\n",
    "library(syuzhet)\n",
    "\n",
    "files <- list.files('.', pattern = \"txt\")\n",
    "for (file in files) {\n",
    "book <- get_text_as_string(file)\n",
    "booksentences <- get_sentences(book)\n",
    "#Other methods are 'syuzhet', 'bing', 'afinn', 'nrc'\n",
    "syuzhet_vector <- get_sentiment(booksentences, method=\"syuzhet\")\n",
    "outputname <- paste(file, \"-plotonly.jpg\")\n",
    "jpeg(file=outputname)\n",
    "plot(syuzhet_vector, type = \"h\", main=file, xlab = 'time', ylab = 'emotion', col = 'red')\n",
    "dev.off()\n",
    "}"
   ]
  },
  {
   "cell_type": "code",
   "execution_count": null,
   "id": "de45f396",
   "metadata": {
    "tags": [
     "skip-execution"
    ]
   },
   "outputs": [],
   "source": [
    "%%R\n",
    "library(syuzhet)\n",
    "\n",
    "#Creates a list of all the files in the current directory\n",
    "files <- list.files('.', pattern = \"txt\")\n",
    "#For each file in the directory...\n",
    "for (file in files) {\n",
    "#Reads the file's contents into a string\n",
    "book <- get_text_as_string(file)\n",
    "#Breaks the string into sentences\n",
    "booksentences <- get_sentences(book)\n",
    "#Does the sentiment scores for each sentence, using the default 'syuzhet' lexicon\n",
    "syuzhet_vector <- get_sentiment(booksentences, method=\"syuzhet\")\n",
    "#Creates an output filename for the plot image\n",
    "outputname <- paste(file, \"-simpleplot.jpg\")\n",
    "#Creates an empty image file for the plot image\n",
    "jpeg(file=outputname, width = 2400, height = 800)\n",
    "#Generates the plot\n",
    "simple_plot(syuzhet_vector)\n",
    "#Saves the plot to the image file\n",
    "dev.off()\n",
    "}"
   ]
  },
  {
   "cell_type": "code",
   "execution_count": 24,
   "id": "8b73cbbf",
   "metadata": {},
   "outputs": [
    {
     "data": {
      "image/png": "[encoded data removed]",
      "text/plain": [
       "<IPython.core.display.Image object>"
      ]
     },
     "metadata": {},
     "output_type": "display_data"
    }
   ],
   "source": [
    "%%R\n",
    "\n",
    "katia <- c(2, 1, 7, 2, 4, 1, 3, 7, 6, 2, 6, 3, 2, 8, 10, 6, 2, 5, 7, 5, 4, 1, 6, 2, 1, 6, 8, 4, 5, 7, 5, 3, 4, 5, 5, 5, 5, 6, 4, 3, 2, 1, 5, 3, 2, 9, 4, 1, 4, 6, 3, 2, 1, 6, 3, 2, 7, 3, 2, 1, 4, 3, 6, 6, 6, 6, 3, 1, 7, 6, 7, 7, 4, 3, 8, 7, 5, 5, 5, 2, 6, 8, 7, 9, 3, 6, 7, 7, 7, 7)\n",
    "simple_plot(katia, title=\"Katia's sentiment scores\")\n",
    "quinn <- c(3, 5, 3, 7, 3, 4, 3, 5, 5, 5, 6, 4, 6, 5, 5, 4, 3, 3, 6, 4, 3, 1, 3, 1, 2, 3, 3, 4, 4, 6, 6, 4, 4, 5, 5, 4, 6, 8, 8, 3, 2, 7, 4, 5, 5, 3, 3, 4, 4, 4, 3, 3, 3, 6, 3, 6, 2, 2, 2, 1, 2, 5, 5, 5, 5, 6, 3, 3, 6, 7, 7, 4, 4, 6, 6, 8, 8, 5, 4, 6, 7, 7, 10, 9, 7, 7, 7, 6, 6, 8)\n",
    "simple_plot(quinn, title=\"Quinn's sentiment scores\")"
   ]
  },
  {
   "cell_type": "code",
   "execution_count": 25,
   "id": "7e215030",
   "metadata": {},
   "outputs": [],
   "source": [
    "#Used for listing files in a directory\n",
    "import os\n",
    "#Used to split up text into sentences\n",
    "from nltk import tokenize\n",
    "#Used to make random selection\n",
    "import random"
   ]
  },
  {
   "cell_type": "code",
   "execution_count": null,
   "id": "15765f17",
   "metadata": {
    "tags": [
     "skip-execution"
    ]
   },
   "outputs": [],
   "source": [
    "#Creates an empty list for the sentences\n",
    "bsc_sentences = []\n",
    "#For each filename in the current directory...\n",
    "#Remember that we used R to change directories to where the corpus is\n",
    "#If you need to do this in Python, you can run os.chdir('/some/directory/path') first\n",
    "for filename in os.listdir('.'):\n",
    "    #If the file is a text file\n",
    "    if filename.endswith('.txt'):\n",
    "        #Open it\n",
    "        with open(filename, 'r') as f:\n",
    "            #Read it\n",
    "            text = f.read()\n",
    "            #Replace newlines with spaces\n",
    "            text = text.replace('\\n', ' ')\n",
    "            #Split the text up into sentences\n",
    "            sentences = tokenize.sent_tokenize(text)\n",
    "            #For each sentences in the list of sentences\n",
    "            for sentence in sentences:\n",
    "                #Add the sentence to the list of sentences\n",
    "                bsc_sentences.append(sentence)\n",
    "\n",
    "#Define a random sample of 2000 sentences from the list of sentences\n",
    "random_sentences = random.sample(bsc_sentences, 2000)\n",
    "\n",
    "#Open the output file\n",
    "with open('bsc-sentences.csv', 'w') as out:\n",
    "    #For each sentence\n",
    "    for random_sentence in random_sentences:\n",
    "        #Write it to the output file\n",
    "        out.write(random_sentence)\n",
    "        #Write a newline character\n",
    "        out.write('\\n')"
   ]
  }
 ],
 "metadata": {
  "kernelspec": {
   "display_name": "Python 3",
   "language": "python",
   "name": "python3"
  },
  "language_info": {
   "codemirror_mode": {
    "name": "ipython",
    "version": 3
   },
   "file_extension": ".py",
   "mimetype": "text/x-python",
   "name": "python",
   "nbconvert_exporter": "python",
   "pygments_lexer": "ipython3",
   "version": "3.7.12"
  }
 },
 "nbformat": 4,
 "nbformat_minor": 5
}