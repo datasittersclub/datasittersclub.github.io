{
 "cells": [
  {
   "cell_type": "code",
   "execution_count": 1,
   "id": "7c559a6d",
   "metadata": {},
   "outputs": [],
   "source": [
    "#Importing this to navigate directories\n",
    "import os\n",
    "#This lets us use regular expression syntax\n",
    "import re\n",
    "#This lets us randomly sample from things\n",
    "import random\n",
    "\n",
    "#Specifies the folder where my book text files are\n",
    "filedirectory = '/Users/qad/Documents/dsc_byt'\n",
    "#Changes to that folder\n",
    "os.chdir(filedirectory)"
   ]
  },
  {
   "cell_type": "code",
   "execution_count": 2,
   "id": "0c6faf78",
   "metadata": {},
   "outputs": [],
   "source": [
    "#For each file in our directory of text files\n",
    "for file in os.listdir(filedirectory):\n",
    "    #If the file ends with .txt\n",
    "    if file.endswith('.txt'):\n",
    "        #Open the source file\n",
    "        with open(file, 'r') as sourcebook:\n",
    "            #Read the source file\n",
    "            text = sourcebook.read()\n",
    "            #Find all things between quotes\n",
    "            quotes = re.findall(r'“(.*?)”', text)"
   ]
  },
  {
   "cell_type": "code",
   "execution_count": 3,
   "id": "9ae468f7",
   "metadata": {},
   "outputs": [],
   "source": [
    "#Randomly samples our list of quotes for 300 quotes\n",
    "randomquotes = random.sample(quotes, 300)\n",
    "\n",
    "#Opens our output file\n",
    "with open('/Users/qad/Documents/nonilana.csv', 'w') as out:\n",
    "    #For each quote in our random sample\n",
    "    for randomquote in randomquotes:\n",
    "        #Write it to the output file\n",
    "        out.write(randomquote + '\\n')"
   ]
  },
  {
   "cell_type": "code",
   "execution_count": 4,
   "id": "d529d8b7",
   "metadata": {},
   "outputs": [
    {
     "data": {
      "text/plain": [
       "1019"
      ]
     },
     "execution_count": 4,
     "metadata": {},
     "output_type": "execute_result"
    }
   ],
   "source": [
    "#File directory for BSC books\n",
    "filedirectory = '/Users/qad/Documents/dsc_corpus_clean'\n",
    "os.chdir(filedirectory)\n",
    "\n",
    "#Create a list for Dawn quotes\n",
    "dawnlines = []\n",
    "#For each file in the file directory\n",
    "for file in os.listdir(filedirectory):\n",
    "    #If it ends with .txt\n",
    "    if file.endswith('.txt'):\n",
    "        #Open the text file\n",
    "        with open(file, 'r') as book:\n",
    "            #Read in each line into a list\n",
    "            lines = book.readlines()\n",
    "            #For each line\n",
    "            for line in lines:\n",
    "                #If it includes 'said Dawn'\n",
    "                if 'said Dawn' in line:\n",
    "                    #Add it to the list\n",
    "                    dawnlines.append(line)\n",
    "                #If it includes 'Dawn said'\n",
    "                if 'Dawn said' in line:\n",
    "                    #Add it to the list\n",
    "                    dawnlines.append(line)\n",
    "#Print how many Dawn lines we have\n",
    "len(dawnlines)"
   ]
  },
  {
   "cell_type": "code",
   "execution_count": 5,
   "id": "127b7943",
   "metadata": {},
   "outputs": [],
   "source": [
    "#Make a new list for just the Dawn quotes\n",
    "dawnwords = []\n",
    "#For each line we pulled out\n",
    "for dawnline in dawnlines:\n",
    "    #Get the part between quotation marks\n",
    "    dawnquotes = re.findall(r'“(.*?)”', dawnline)\n",
    "    #Fore each quote\n",
    "    for dawnquote in dawnquotes:\n",
    "        #Add it to the list\n",
    "        dawnwords.append(dawnquote)"
   ]
  },
  {
   "cell_type": "code",
   "execution_count": 6,
   "id": "46b68424",
   "metadata": {},
   "outputs": [],
   "source": [
    "#Randomly samples our list of Dawn quotes for 300 quotes\n",
    "randomdawns = random.sample(dawnwords, 300)\n",
    "#Opens our output file\n",
    "with open('/Users/qad/Documents/dawn.csv', 'w') as dawnout:\n",
    "    #For each quote in our random sample\n",
    "    for randomdawn in randomdawns:\n",
    "        #Write it to the output file\n",
    "        dawnout.write(randomdawn + '\\n')"
   ]
  },
  {
   "cell_type": "code",
   "execution_count": 7,
   "id": "cb1c3178",
   "metadata": {},
   "outputs": [
    {
     "name": "stdout",
     "output_type": "stream",
     "text": [
      "Requirement already satisfied: rpy2 in /Users/qad/anaconda3/lib/python3.9/site-packages (3.5.10)\r\n"
     ]
    },
    {
     "name": "stdout",
     "output_type": "stream",
     "text": [
      "Requirement already satisfied: pytz in /Users/qad/anaconda3/lib/python3.9/site-packages (from rpy2) (2022.1)\r\n",
      "Requirement already satisfied: cffi>=1.10.0 in /Users/qad/anaconda3/lib/python3.9/site-packages (from rpy2) (1.15.1)\r\n",
      "Requirement already satisfied: jinja2 in /Users/qad/anaconda3/lib/python3.9/site-packages (from rpy2) (2.11.3)\r\n",
      "Requirement already satisfied: tzlocal in /Users/qad/anaconda3/lib/python3.9/site-packages (from rpy2) (4.3)\r\n",
      "Requirement already satisfied: pycparser in /Users/qad/anaconda3/lib/python3.9/site-packages (from cffi>=1.10.0->rpy2) (2.21)\r\n",
      "Requirement already satisfied: MarkupSafe>=0.23 in /Users/qad/anaconda3/lib/python3.9/site-packages (from jinja2->rpy2) (2.0.1)\r\n",
      "Requirement already satisfied: pytz-deprecation-shim in /Users/qad/anaconda3/lib/python3.9/site-packages (from tzlocal->rpy2) (0.1.0.post0)\r\n",
      "Requirement already satisfied: tzdata in /Users/qad/anaconda3/lib/python3.9/site-packages (from pytz-deprecation-shim->tzlocal->rpy2) (2022.7)\r\n"
     ]
    }
   ],
   "source": [
    "#This installs rpy2, which is my Python-to-R adapter\n",
    "import sys\n",
    "!{sys.executable} -m pip install rpy2\n",
    "#This loads the Jupyter Notebook extension that lets me\n",
    "#run R code in a notebook that's otherwise Python by default\n",
    "%load_ext rpy2.ipython"
   ]
  },
  {
   "cell_type": "code",
   "execution_count": 8,
   "id": "7bf95a7d",
   "metadata": {},
   "outputs": [
    {
     "name": "stdout",
     "output_type": "stream",
     "text": [
      "[1]"
     ]
    },
    {
     "name": "stdout",
     "output_type": "stream",
     "text": [
      " 230"
     ]
    },
    {
     "name": "stdout",
     "output_type": "stream",
     "text": [
      "   2"
     ]
    },
    {
     "name": "stdout",
     "output_type": "stream",
     "text": [
      "\n"
     ]
    }
   ],
   "source": [
    "%%R\n",
    "#Sets the working directory (e.g. where it looks for files)\n",
    "setwd(\"/Users/qad/Documents/GitHub/dsc15\")\n",
    "#Reads the non-Ilana quotes CSV\n",
    "length.nonilana<-read.csv(file='non_ilana_sample.csv', header=T)\n",
    "#Reads the Ilana quotes CSV\n",
    "length.ilana<-read.csv(file='ilana.csv', header=T)\n",
    "#Sets the column names on the Ilana quotes to be attribution, source, quote\n",
    "colnames(length.ilana)<-c(\"Attribution\", \"Source\", \"Quote\")\n",
    "#Checks the dimensions (rows, columns) for the non-Ilana quotes\n",
    "dim(length.nonilana)"
   ]
  },
  {
   "cell_type": "code",
   "execution_count": 9,
   "id": "3599b967",
   "metadata": {},
   "outputs": [
    {
     "name": "stdout",
     "output_type": "stream",
     "text": [
      "[1]"
     ]
    },
    {
     "name": "stdout",
     "output_type": "stream",
     "text": [
      " 230"
     ]
    },
    {
     "name": "stdout",
     "output_type": "stream",
     "text": [
      "   2"
     ]
    },
    {
     "name": "stdout",
     "output_type": "stream",
     "text": [
      "\n"
     ]
    }
   ],
   "source": [
    "%%R\n",
    "#Book source for the quotes is in the second column in this data\n",
    "#This code only keeps quotes where the source is one of the books \n",
    "length.ilana.table<-length.ilana[which(length.ilana[,2] %in% c(\"BYT9\", \"BYT10\", \"BYT11\", \"BYT12\")),]\n",
    "#Keep only the first column (attribution, i.e. \"Ilana\") and third (the text)\n",
    "length.ilana.table<-length.ilana.table[,c(1,3)]\n",
    "#Create a table with the non-Ilana quotes\n",
    "length.nonilana.table<-length.nonilana\n",
    "#Rename the columns of the Ilana table to match the non-Ilana table\n",
    "colnames(length.ilana.table)<-colnames(length.nonilana.table)\n",
    "#Check the dimensions of the Ilana table\n",
    "dim(length.ilana.table)"
   ]
  },
  {
   "cell_type": "code",
   "execution_count": 10,
   "id": "af788c1d",
   "metadata": {},
   "outputs": [
    {
     "name": "stdout",
     "output_type": "stream",
     "text": [
      "[1]"
     ]
    },
    {
     "name": "stdout",
     "output_type": "stream",
     "text": [
      " 460"
     ]
    },
    {
     "name": "stdout",
     "output_type": "stream",
     "text": [
      "   2"
     ]
    },
    {
     "name": "stdout",
     "output_type": "stream",
     "text": [
      "\n"
     ]
    }
   ],
   "source": [
    "%%R\n",
    "length.final.table<-rbind(length.ilana.table, length.nonilana.table)\n",
    "dim(length.final.table)"
   ]
  },
  {
   "cell_type": "code",
   "execution_count": 11,
   "id": "7f4a13c8",
   "metadata": {},
   "outputs": [],
   "source": [
    "%%R\n",
    "#Mark's cleaning function\n",
    "fullClean<-function(raw.text){\n",
    "  raw.text<-unlist(strsplit(raw.text, \"\"))\n",
    "  raw.text<-tolower(raw.text)\n",
    "  clean.text<-raw.text[which(raw.text %in% c(letters, LETTERS, \" \"))]\n",
    "  clean.text<-paste(clean.text, collapse=\"\")\n",
    "  return(clean.text)\n",
    "}\n",
    "\n",
    "#Clean the Ilana quotes\n",
    "clean.length.ilana<-lapply(length.ilana.table$Text, function(x) fullClean(x))\n",
    "#Clean the non-Ilana quotes\n",
    "clean.length.nonilana<-lapply(length.nonilana.table$Text, function(x) fullClean(x))\n",
    "\n",
    "#Adds a CleanText column to the Ilana table\n",
    "length.ilana.table$CleanText<-clean.length.ilana\n",
    "#Adds a CleanText column to the non-Ilana table\n",
    "length.nonilana.table$CleanText<-clean.length.nonilana\n",
    "#Counts the length and adds a Length column to the Ilana table\n",
    "text.length<-unlist(lapply(clean.length.ilana, function(x) length(unlist(strsplit(x, \" \")))))\n",
    "length.ilana.table$Length<-text.length\n",
    "#Counts the length and adds a Length column to the non-Ilana table\n",
    "text.length<-unlist(lapply(clean.length.nonilana, function(x) length(unlist(strsplit(x, \" \")))))\n",
    "length.nonilana.table$Length<-text.length"
   ]
  },
  {
   "cell_type": "code",
   "execution_count": 12,
   "id": "1405d13e",
   "metadata": {},
   "outputs": [
    {
     "name": "stdout",
     "output_type": "stream",
     "text": [
      "[1]"
     ]
    },
    {
     "name": "stdout",
     "output_type": "stream",
     "text": [
      " 9.095652"
     ]
    },
    {
     "name": "stdout",
     "output_type": "stream",
     "text": [
      "\n"
     ]
    }
   ],
   "source": [
    "%%R\n",
    "#Average (mean) length of Ilana quotes\n",
    "mean(length.ilana.table$Length)"
   ]
  },
  {
   "cell_type": "code",
   "execution_count": 13,
   "id": "2794880d",
   "metadata": {},
   "outputs": [
    {
     "name": "stdout",
     "output_type": "stream",
     "text": [
      "[1]"
     ]
    },
    {
     "name": "stdout",
     "output_type": "stream",
     "text": [
      " 11.13913"
     ]
    },
    {
     "name": "stdout",
     "output_type": "stream",
     "text": [
      "\n"
     ]
    }
   ],
   "source": [
    "%%R\n",
    "#Average (mean) length of non-Ilana quotes\n",
    "mean(length.nonilana.table$Length)"
   ]
  },
  {
   "cell_type": "code",
   "execution_count": 14,
   "id": "43c86593",
   "metadata": {},
   "outputs": [
    {
     "name": "stdout",
     "output_type": "stream",
     "text": [
      "[1]"
     ]
    },
    {
     "name": "stdout",
     "output_type": "stream",
     "text": [
      " 460"
     ]
    },
    {
     "name": "stdout",
     "output_type": "stream",
     "text": [
      "   4"
     ]
    },
    {
     "name": "stdout",
     "output_type": "stream",
     "text": [
      "\n"
     ]
    }
   ],
   "source": [
    "%%R\n",
    "#Combine Ilana and non-Ilana tables in a single table\n",
    "length.table<-rbind(length.ilana.table, length.nonilana.table)\n",
    "dim(length.table)"
   ]
  },
  {
   "cell_type": "code",
   "execution_count": 15,
   "id": "a6431528",
   "metadata": {},
   "outputs": [
    {
     "name": "stdout",
     "output_type": "stream",
     "text": [
      "[1]"
     ]
    },
    {
     "name": "stdout",
     "output_type": "stream",
     "text": [
      " 10.11739"
     ]
    },
    {
     "name": "stdout",
     "output_type": "stream",
     "text": [
      "\n"
     ]
    }
   ],
   "source": [
    "%%R\n",
    "mean(length.table$Length)"
   ]
  },
  {
   "cell_type": "code",
   "execution_count": 16,
   "id": "1c3d70bd",
   "metadata": {},
   "outputs": [
    {
     "data": {
      "image/png": "[encoded data removed]",
      "text/plain": [
       "<IPython.core.display.Image object>"
      ]
     },
     "metadata": {},
     "output_type": "display_data"
    }
   ],
   "source": [
    "%%R\n",
    "#Creates the qqnorm plot\n",
    "qqnorm(length.table$Length, pch=1, frame=F)\n",
    "#Adds the reference line\n",
    "qqline(length.table$Length, col=\"firebrick\", lwd=2)"
   ]
  },
  {
   "cell_type": "code",
   "execution_count": 17,
   "id": "0c1eaa7d",
   "metadata": {},
   "outputs": [
    {
     "name": "stdout",
     "output_type": "stream",
     "text": [
      "\n"
     ]
    },
    {
     "name": "stdout",
     "output_type": "stream",
     "text": [
      "\tWilcoxon rank sum test with continuity correction"
     ]
    },
    {
     "name": "stdout",
     "output_type": "stream",
     "text": [
      "\n"
     ]
    },
    {
     "name": "stdout",
     "output_type": "stream",
     "text": [
      "\n"
     ]
    },
    {
     "name": "stdout",
     "output_type": "stream",
     "text": [
      "data:  "
     ]
    },
    {
     "name": "stdout",
     "output_type": "stream",
     "text": [
      "Length by Attribution"
     ]
    },
    {
     "name": "stdout",
     "output_type": "stream",
     "text": [
      "\n"
     ]
    },
    {
     "name": "stdout",
     "output_type": "stream",
     "text": [
      "W = 24564, p-value = 0.1849"
     ]
    },
    {
     "name": "stdout",
     "output_type": "stream",
     "text": [
      "\n"
     ]
    },
    {
     "name": "stdout",
     "output_type": "stream",
     "text": [
      "alternative hypothesis: "
     ]
    },
    {
     "name": "stdout",
     "output_type": "stream",
     "text": [
      "true "
     ]
    },
    {
     "name": "stdout",
     "output_type": "stream",
     "text": [
      "location shift"
     ]
    },
    {
     "name": "stdout",
     "output_type": "stream",
     "text": [
      " is "
     ]
    },
    {
     "name": "stdout",
     "output_type": "stream",
     "text": [
      "not equal to"
     ]
    },
    {
     "name": "stdout",
     "output_type": "stream",
     "text": [
      " "
     ]
    },
    {
     "name": "stdout",
     "output_type": "stream",
     "text": [
      "0"
     ]
    },
    {
     "name": "stdout",
     "output_type": "stream",
     "text": [
      "\n"
     ]
    },
    {
     "name": "stdout",
     "output_type": "stream",
     "text": [
      "\n"
     ]
    }
   ],
   "source": [
    "%%R\n",
    "w.result<-wilcox.test(Length~Attribution, length.table)\n",
    "w.result"
   ]
  },
  {
   "cell_type": "code",
   "execution_count": 18,
   "id": "d4c73333",
   "metadata": {},
   "outputs": [
    {
     "name": "stderr",
     "output_type": "stream",
     "text": [
      "R[write to console]: Loading required package: tm\n",
      "\n"
     ]
    },
    {
     "name": "stderr",
     "output_type": "stream",
     "text": [
      "R[write to console]: Loading required package: NLP\n",
      "\n"
     ]
    },
    {
     "name": "stderr",
     "output_type": "stream",
     "text": [
      "R[write to console]: Loading required package: MASS\n",
      "\n"
     ]
    },
    {
     "name": "stderr",
     "output_type": "stream",
     "text": [
      "R[write to console]: Loading required package: klaR\n",
      "\n"
     ]
    },
    {
     "name": "stdout",
     "output_type": "stream",
     "text": [
      "--- Please select a CRAN mirror for use in this session ---"
     ]
    },
    {
     "name": "stdout",
     "output_type": "stream",
     "text": [
      "\n"
     ]
    },
    {
     "name": "stderr",
     "output_type": "stream",
     "text": [
      "R[write to console]: also installing the dependencies ‘proxy’, ‘e1071’, ‘classInt’, ‘labelled’, ‘combinat’, ‘questionr’\n",
      "\n",
      "\n"
     ]
    },
    {
     "name": "stderr",
     "output_type": "stream",
     "text": [
      "R[write to console]: trying URL 'https://ftp.osuosl.org/pub/cran/bin/macosx/contrib/4.2/proxy_0.4-27.tgz'\n",
      "\n"
     ]
    },
    {
     "name": "stderr",
     "output_type": "stream",
     "text": [
      "R[write to console]: Content type 'application/x-gzip'\n"
     ]
    },
    {
     "name": "stderr",
     "output_type": "stream",
     "text": [
      "R[write to console]:  length 190492 bytes (186 KB)\n",
      "\n"
     ]
    },
    {
     "name": "stderr",
     "output_type": "stream",
     "text": [
      "R[write to console]: =\n"
     ]
    },
    {
     "name": "stderr",
     "output_type": "stream",
     "text": [
      "R[write to console]: =\n"
     ]
    },
    {
     "name": "stderr",
     "output_type": "stream",
     "text": [
      "R[write to console]: =\n"
     ]
    },
    {
     "name": "stderr",
     "output_type": "stream",
     "text": [
      "R[write to console]: =\n"
     ]
    },
    {
     "name": "stderr",
     "output_type": "stream",
     "text": [
      "R[write to console]: =\n"
     ]
    },
    {
     "name": "stderr",
     "output_type": "stream",
     "text": [
      "R[write to console]: =\n"
     ]
    },
    {
     "name": "stderr",
     "output_type": "stream",
     "text": [
      "R[write to console]: =\n"
     ]
    },
    {
     "name": "stderr",
     "output_type": "stream",
     "text": [
      "R[write to console]: =\n"
     ]
    },
    {
     "name": "stderr",
     "output_type": "stream",
     "text": [
      "R[write to console]: =\n"
     ]
    },
    {
     "name": "stderr",
     "output_type": "stream",
     "text": [
      "R[write to console]: =\n"
     ]
    },
    {
     "name": "stderr",
     "output_type": "stream",
     "text": [
      "R[write to console]: =\n"
     ]
    },
    {
     "name": "stderr",
     "output_type": "stream",
     "text": [
      "R[write to console]: =\n"
     ]
    },
    {
     "name": "stderr",
     "output_type": "stream",
     "text": [
      "R[write to console]: =\n"
     ]
    },
    {
     "name": "stderr",
     "output_type": "stream",
     "text": [
      "R[write to console]: =\n"
     ]
    },
    {
     "name": "stderr",
     "output_type": "stream",
     "text": [
      "R[write to console]: =\n"
     ]
    },
    {
     "name": "stderr",
     "output_type": "stream",
     "text": [
      "R[write to console]: =\n"
     ]
    },
    {
     "name": "stderr",
     "output_type": "stream",
     "text": [
      "R[write to console]: =\n"
     ]
    },
    {
     "name": "stderr",
     "output_type": "stream",
     "text": [
      "R[write to console]: =\n"
     ]
    },
    {
     "name": "stderr",
     "output_type": "stream",
     "text": [
      "R[write to console]: =\n"
     ]
    },
    {
     "name": "stderr",
     "output_type": "stream",
     "text": [
      "R[write to console]: =\n"
     ]
    },
    {
     "name": "stderr",
     "output_type": "stream",
     "text": [
      "R[write to console]: =\n"
     ]
    },
    {
     "name": "stderr",
     "output_type": "stream",
     "text": [
      "R[write to console]: =\n"
     ]
    },
    {
     "name": "stderr",
     "output_type": "stream",
     "text": [
      "R[write to console]: =\n"
     ]
    },
    {
     "name": "stderr",
     "output_type": "stream",
     "text": [
      "R[write to console]: =\n"
     ]
    },
    {
     "name": "stderr",
     "output_type": "stream",
     "text": [
      "R[write to console]: =\n"
     ]
    },
    {
     "name": "stderr",
     "output_type": "stream",
     "text": [
      "R[write to console]: =\n"
     ]
    },
    {
     "name": "stderr",
     "output_type": "stream",
     "text": [
      "R[write to console]: =\n"
     ]
    },
    {
     "name": "stderr",
     "output_type": "stream",
     "text": [
      "R[write to console]: =\n"
     ]
    },
    {
     "name": "stderr",
     "output_type": "stream",
     "text": [
      "R[write to console]: =\n"
     ]
    },
    {
     "name": "stderr",
     "output_type": "stream",
     "text": [
      "R[write to console]: =\n"
     ]
    },
    {
     "name": "stderr",
     "output_type": "stream",
     "text": [
      "R[write to console]: =\n"
     ]
    },
    {
     "name": "stderr",
     "output_type": "stream",
     "text": [
      "R[write to console]: =\n"
     ]
    },
    {
     "name": "stderr",
     "output_type": "stream",
     "text": [
      "R[write to console]: =\n"
     ]
    },
    {
     "name": "stderr",
     "output_type": "stream",
     "text": [
      "R[write to console]: =\n"
     ]
    },
    {
     "name": "stderr",
     "output_type": "stream",
     "text": [
      "R[write to console]: =\n"
     ]
    },
    {
     "name": "stderr",
     "output_type": "stream",
     "text": [
      "R[write to console]: =\n"
     ]
    },
    {
     "name": "stderr",
     "output_type": "stream",
     "text": [
      "R[write to console]: =\n"
     ]
    },
    {
     "name": "stderr",
     "output_type": "stream",
     "text": [
      "R[write to console]: =\n"
     ]
    },
    {
     "name": "stderr",
     "output_type": "stream",
     "text": [
      "R[write to console]: =\n"
     ]
    },
    {
     "name": "stderr",
     "output_type": "stream",
     "text": [
      "R[write to console]: =\n"
     ]
    },
    {
     "name": "stderr",
     "output_type": "stream",
     "text": [
      "R[write to console]: =\n"
     ]
    },
    {
     "name": "stderr",
     "output_type": "stream",
     "text": [
      "R[write to console]: =\n"
     ]
    },
    {
     "name": "stderr",
     "output_type": "stream",
     "text": [
      "R[write to console]: =\n"
     ]
    },
    {
     "name": "stderr",
     "output_type": "stream",
     "text": [
      "R[write to console]: =\n"
     ]
    },
    {
     "name": "stderr",
     "output_type": "stream",
     "text": [
      "R[write to console]: =\n"
     ]
    },
    {
     "name": "stderr",
     "output_type": "stream",
     "text": [
      "R[write to console]: =\n"
     ]
    },
    {
     "name": "stderr",
     "output_type": "stream",
     "text": [
      "R[write to console]: =\n"
     ]
    },
    {
     "name": "stderr",
     "output_type": "stream",
     "text": [
      "R[write to console]: =\n"
     ]
    },
    {
     "name": "stderr",
     "output_type": "stream",
     "text": [
      "R[write to console]: =\n"
     ]
    },
    {
     "name": "stderr",
     "output_type": "stream",
     "text": [
      "R[write to console]: =\n"
     ]
    },
    {
     "name": "stderr",
     "output_type": "stream",
     "text": [
      "R[write to console]: \n",
      "\n"
     ]
    },
    {
     "name": "stderr",
     "output_type": "stream",
     "text": [
      "R[write to console]: downloaded 186 KB\n",
      "\n",
      "\n"
     ]
    },
    {
     "name": "stderr",
     "output_type": "stream",
     "text": [
      "R[write to console]: trying URL 'https://ftp.osuosl.org/pub/cran/bin/macosx/contrib/4.2/e1071_1.7-13.tgz'\n",
      "\n"
     ]
    },
    {
     "name": "stderr",
     "output_type": "stream",
     "text": [
      "R[write to console]: Content type 'application/x-gzip'\n"
     ]
    },
    {
     "name": "stderr",
     "output_type": "stream",
     "text": [
      "R[write to console]:  length 660266 bytes (644 KB)\n",
      "\n"
     ]
    },
    {
     "name": "stderr",
     "output_type": "stream",
     "text": [
      "R[write to console]: =\n"
     ]
    },
    {
     "name": "stderr",
     "output_type": "stream",
     "text": [
      "R[write to console]: =\n"
     ]
    },
    {
     "name": "stderr",
     "output_type": "stream",
     "text": [
      "R[write to console]: =\n"
     ]
    },
    {
     "name": "stderr",
     "output_type": "stream",
     "text": [
      "R[write to console]: =\n"
     ]
    },
    {
     "name": "stderr",
     "output_type": "stream",
     "text": [
      "R[write to console]: =\n"
     ]
    },
    {
     "name": "stderr",
     "output_type": "stream",
     "text": [
      "R[write to console]: =\n"
     ]
    },
    {
     "name": "stderr",
     "output_type": "stream",
     "text": [
      "R[write to console]: =\n"
     ]
    },
    {
     "name": "stderr",
     "output_type": "stream",
     "text": [
      "R[write to console]: =\n"
     ]
    },
    {
     "name": "stderr",
     "output_type": "stream",
     "text": [
      "R[write to console]: =\n"
     ]
    },
    {
     "name": "stderr",
     "output_type": "stream",
     "text": [
      "R[write to console]: =\n"
     ]
    },
    {
     "name": "stderr",
     "output_type": "stream",
     "text": [
      "R[write to console]: =\n"
     ]
    },
    {
     "name": "stderr",
     "output_type": "stream",
     "text": [
      "R[write to console]: =\n"
     ]
    },
    {
     "name": "stderr",
     "output_type": "stream",
     "text": [
      "R[write to console]: =\n"
     ]
    },
    {
     "name": "stderr",
     "output_type": "stream",
     "text": [
      "R[write to console]: =\n"
     ]
    },
    {
     "name": "stderr",
     "output_type": "stream",
     "text": [
      "R[write to console]: =\n"
     ]
    },
    {
     "name": "stderr",
     "output_type": "stream",
     "text": [
      "R[write to console]: =\n"
     ]
    },
    {
     "name": "stderr",
     "output_type": "stream",
     "text": [
      "R[write to console]: =\n"
     ]
    },
    {
     "name": "stderr",
     "output_type": "stream",
     "text": [
      "R[write to console]: =\n"
     ]
    },
    {
     "name": "stderr",
     "output_type": "stream",
     "text": [
      "R[write to console]: =\n"
     ]
    },
    {
     "name": "stderr",
     "output_type": "stream",
     "text": [
      "R[write to console]: =\n"
     ]
    },
    {
     "name": "stderr",
     "output_type": "stream",
     "text": [
      "R[write to console]: =\n"
     ]
    },
    {
     "name": "stderr",
     "output_type": "stream",
     "text": [
      "R[write to console]: =\n"
     ]
    },
    {
     "name": "stderr",
     "output_type": "stream",
     "text": [
      "R[write to console]: =\n"
     ]
    },
    {
     "name": "stderr",
     "output_type": "stream",
     "text": [
      "R[write to console]: =\n"
     ]
    },
    {
     "name": "stderr",
     "output_type": "stream",
     "text": [
      "R[write to console]: =\n"
     ]
    },
    {
     "name": "stderr",
     "output_type": "stream",
     "text": [
      "R[write to console]: =\n"
     ]
    },
    {
     "name": "stderr",
     "output_type": "stream",
     "text": [
      "R[write to console]: =\n"
     ]
    },
    {
     "name": "stderr",
     "output_type": "stream",
     "text": [
      "R[write to console]: =\n"
     ]
    },
    {
     "name": "stderr",
     "output_type": "stream",
     "text": [
      "R[write to console]: =\n"
     ]
    },
    {
     "name": "stderr",
     "output_type": "stream",
     "text": [
      "R[write to console]: =\n"
     ]
    },
    {
     "name": "stderr",
     "output_type": "stream",
     "text": [
      "R[write to console]: =\n"
     ]
    },
    {
     "name": "stderr",
     "output_type": "stream",
     "text": [
      "R[write to console]: =\n"
     ]
    },
    {
     "name": "stderr",
     "output_type": "stream",
     "text": [
      "R[write to console]: =\n"
     ]
    },
    {
     "name": "stderr",
     "output_type": "stream",
     "text": [
      "R[write to console]: =\n"
     ]
    },
    {
     "name": "stderr",
     "output_type": "stream",
     "text": [
      "R[write to console]: =\n"
     ]
    },
    {
     "name": "stderr",
     "output_type": "stream",
     "text": [
      "R[write to console]: =\n"
     ]
    },
    {
     "name": "stderr",
     "output_type": "stream",
     "text": [
      "R[write to console]: =\n"
     ]
    },
    {
     "name": "stderr",
     "output_type": "stream",
     "text": [
      "R[write to console]: =\n"
     ]
    },
    {
     "name": "stderr",
     "output_type": "stream",
     "text": [
      "R[write to console]: =\n"
     ]
    },
    {
     "name": "stderr",
     "output_type": "stream",
     "text": [
      "R[write to console]: =\n"
     ]
    },
    {
     "name": "stderr",
     "output_type": "stream",
     "text": [
      "R[write to console]: =\n"
     ]
    },
    {
     "name": "stderr",
     "output_type": "stream",
     "text": [
      "R[write to console]: =\n"
     ]
    },
    {
     "name": "stderr",
     "output_type": "stream",
     "text": [
      "R[write to console]: =\n"
     ]
    },
    {
     "name": "stderr",
     "output_type": "stream",
     "text": [
      "R[write to console]: =\n"
     ]
    },
    {
     "name": "stderr",
     "output_type": "stream",
     "text": [
      "R[write to console]: =\n"
     ]
    },
    {
     "name": "stderr",
     "output_type": "stream",
     "text": [
      "R[write to console]: =\n"
     ]
    },
    {
     "name": "stderr",
     "output_type": "stream",
     "text": [
      "R[write to console]: =\n"
     ]
    },
    {
     "name": "stderr",
     "output_type": "stream",
     "text": [
      "R[write to console]: =\n"
     ]
    },
    {
     "name": "stderr",
     "output_type": "stream",
     "text": [
      "R[write to console]: =\n"
     ]
    },
    {
     "name": "stderr",
     "output_type": "stream",
     "text": [
      "R[write to console]: =\n"
     ]
    },
    {
     "name": "stderr",
     "output_type": "stream",
     "text": [
      "R[write to console]: \n",
      "\n"
     ]
    },
    {
     "name": "stderr",
     "output_type": "stream",
     "text": [
      "R[write to console]: downloaded 644 KB\n",
      "\n",
      "\n"
     ]
    },
    {
     "name": "stderr",
     "output_type": "stream",
     "text": [
      "R[write to console]: trying URL 'https://ftp.osuosl.org/pub/cran/bin/macosx/contrib/4.2/classInt_0.4-10.tgz'\n",
      "\n"
     ]
    },
    {
     "name": "stderr",
     "output_type": "stream",
     "text": [
      "R[write to console]: Content type 'application/x-gzip'\n"
     ]
    },
    {
     "name": "stderr",
     "output_type": "stream",
     "text": [
      "R[write to console]:  length 498504 bytes (486 KB)\n",
      "\n"
     ]
    },
    {
     "name": "stderr",
     "output_type": "stream",
     "text": [
      "R[write to console]: =\n"
     ]
    },
    {
     "name": "stderr",
     "output_type": "stream",
     "text": [
      "R[write to console]: =\n"
     ]
    },
    {
     "name": "stderr",
     "output_type": "stream",
     "text": [
      "R[write to console]: =\n"
     ]
    },
    {
     "name": "stderr",
     "output_type": "stream",
     "text": [
      "R[write to console]: =\n"
     ]
    },
    {
     "name": "stderr",
     "output_type": "stream",
     "text": [
      "R[write to console]: =\n"
     ]
    },
    {
     "name": "stderr",
     "output_type": "stream",
     "text": [
      "R[write to console]: =\n"
     ]
    },
    {
     "name": "stderr",
     "output_type": "stream",
     "text": [
      "R[write to console]: =\n"
     ]
    },
    {
     "name": "stderr",
     "output_type": "stream",
     "text": [
      "R[write to console]: =\n"
     ]
    },
    {
     "name": "stderr",
     "output_type": "stream",
     "text": [
      "R[write to console]: =\n"
     ]
    },
    {
     "name": "stderr",
     "output_type": "stream",
     "text": [
      "R[write to console]: =\n"
     ]
    },
    {
     "name": "stderr",
     "output_type": "stream",
     "text": [
      "R[write to console]: =\n"
     ]
    },
    {
     "name": "stderr",
     "output_type": "stream",
     "text": [
      "R[write to console]: =\n"
     ]
    },
    {
     "name": "stderr",
     "output_type": "stream",
     "text": [
      "R[write to console]: =\n"
     ]
    },
    {
     "name": "stderr",
     "output_type": "stream",
     "text": [
      "R[write to console]: =\n"
     ]
    },
    {
     "name": "stderr",
     "output_type": "stream",
     "text": [
      "R[write to console]: =\n"
     ]
    },
    {
     "name": "stderr",
     "output_type": "stream",
     "text": [
      "R[write to console]: =\n"
     ]
    },
    {
     "name": "stderr",
     "output_type": "stream",
     "text": [
      "R[write to console]: =\n"
     ]
    },
    {
     "name": "stderr",
     "output_type": "stream",
     "text": [
      "R[write to console]: =\n"
     ]
    },
    {
     "name": "stderr",
     "output_type": "stream",
     "text": [
      "R[write to console]: =\n"
     ]
    },
    {
     "name": "stderr",
     "output_type": "stream",
     "text": [
      "R[write to console]: =\n"
     ]
    },
    {
     "name": "stderr",
     "output_type": "stream",
     "text": [
      "R[write to console]: =\n"
     ]
    },
    {
     "name": "stderr",
     "output_type": "stream",
     "text": [
      "R[write to console]: =\n"
     ]
    },
    {
     "name": "stderr",
     "output_type": "stream",
     "text": [
      "R[write to console]: =\n"
     ]
    },
    {
     "name": "stderr",
     "output_type": "stream",
     "text": [
      "R[write to console]: =\n"
     ]
    },
    {
     "name": "stderr",
     "output_type": "stream",
     "text": [
      "R[write to console]: =\n"
     ]
    },
    {
     "name": "stderr",
     "output_type": "stream",
     "text": [
      "R[write to console]: =\n"
     ]
    },
    {
     "name": "stderr",
     "output_type": "stream",
     "text": [
      "R[write to console]: =\n"
     ]
    },
    {
     "name": "stderr",
     "output_type": "stream",
     "text": [
      "R[write to console]: =\n"
     ]
    },
    {
     "name": "stderr",
     "output_type": "stream",
     "text": [
      "R[write to console]: =\n"
     ]
    },
    {
     "name": "stderr",
     "output_type": "stream",
     "text": [
      "R[write to console]: =\n"
     ]
    },
    {
     "name": "stderr",
     "output_type": "stream",
     "text": [
      "R[write to console]: =\n"
     ]
    },
    {
     "name": "stderr",
     "output_type": "stream",
     "text": [
      "R[write to console]: =\n"
     ]
    },
    {
     "name": "stderr",
     "output_type": "stream",
     "text": [
      "R[write to console]: =\n"
     ]
    },
    {
     "name": "stderr",
     "output_type": "stream",
     "text": [
      "R[write to console]: =\n"
     ]
    },
    {
     "name": "stderr",
     "output_type": "stream",
     "text": [
      "R[write to console]: =\n"
     ]
    },
    {
     "name": "stderr",
     "output_type": "stream",
     "text": [
      "R[write to console]: =\n"
     ]
    },
    {
     "name": "stderr",
     "output_type": "stream",
     "text": [
      "R[write to console]: =\n"
     ]
    },
    {
     "name": "stderr",
     "output_type": "stream",
     "text": [
      "R[write to console]: =\n"
     ]
    },
    {
     "name": "stderr",
     "output_type": "stream",
     "text": [
      "R[write to console]: =\n"
     ]
    },
    {
     "name": "stderr",
     "output_type": "stream",
     "text": [
      "R[write to console]: =\n"
     ]
    },
    {
     "name": "stderr",
     "output_type": "stream",
     "text": [
      "R[write to console]: =\n"
     ]
    },
    {
     "name": "stderr",
     "output_type": "stream",
     "text": [
      "R[write to console]: =\n"
     ]
    },
    {
     "name": "stderr",
     "output_type": "stream",
     "text": [
      "R[write to console]: =\n"
     ]
    },
    {
     "name": "stderr",
     "output_type": "stream",
     "text": [
      "R[write to console]: =\n"
     ]
    },
    {
     "name": "stderr",
     "output_type": "stream",
     "text": [
      "R[write to console]: =\n"
     ]
    },
    {
     "name": "stderr",
     "output_type": "stream",
     "text": [
      "R[write to console]: =\n"
     ]
    },
    {
     "name": "stderr",
     "output_type": "stream",
     "text": [
      "R[write to console]: =\n"
     ]
    },
    {
     "name": "stderr",
     "output_type": "stream",
     "text": [
      "R[write to console]: =\n"
     ]
    },
    {
     "name": "stderr",
     "output_type": "stream",
     "text": [
      "R[write to console]: =\n"
     ]
    },
    {
     "name": "stderr",
     "output_type": "stream",
     "text": [
      "R[write to console]: =\n"
     ]
    },
    {
     "name": "stderr",
     "output_type": "stream",
     "text": [
      "R[write to console]: \n",
      "\n"
     ]
    },
    {
     "name": "stderr",
     "output_type": "stream",
     "text": [
      "R[write to console]: downloaded 486 KB\n",
      "\n",
      "\n"
     ]
    },
    {
     "name": "stderr",
     "output_type": "stream",
     "text": [
      "R[write to console]: trying URL 'https://ftp.osuosl.org/pub/cran/bin/macosx/contrib/4.2/labelled_2.12.0.tgz'\n",
      "\n"
     ]
    },
    {
     "name": "stderr",
     "output_type": "stream",
     "text": [
      "R[write to console]: Content type 'application/x-gzip'\n"
     ]
    },
    {
     "name": "stderr",
     "output_type": "stream",
     "text": [
      "R[write to console]:  length 307814 bytes (300 KB)\n",
      "\n"
     ]
    },
    {
     "name": "stderr",
     "output_type": "stream",
     "text": [
      "R[write to console]: =\n"
     ]
    },
    {
     "name": "stderr",
     "output_type": "stream",
     "text": [
      "R[write to console]: =\n"
     ]
    },
    {
     "name": "stderr",
     "output_type": "stream",
     "text": [
      "R[write to console]: =\n"
     ]
    },
    {
     "name": "stderr",
     "output_type": "stream",
     "text": [
      "R[write to console]: =\n"
     ]
    },
    {
     "name": "stderr",
     "output_type": "stream",
     "text": [
      "R[write to console]: =\n"
     ]
    },
    {
     "name": "stderr",
     "output_type": "stream",
     "text": [
      "R[write to console]: =\n"
     ]
    },
    {
     "name": "stderr",
     "output_type": "stream",
     "text": [
      "R[write to console]: =\n"
     ]
    },
    {
     "name": "stderr",
     "output_type": "stream",
     "text": [
      "R[write to console]: =\n"
     ]
    },
    {
     "name": "stderr",
     "output_type": "stream",
     "text": [
      "R[write to console]: =\n"
     ]
    },
    {
     "name": "stderr",
     "output_type": "stream",
     "text": [
      "R[write to console]: =\n"
     ]
    },
    {
     "name": "stderr",
     "output_type": "stream",
     "text": [
      "R[write to console]: =\n"
     ]
    },
    {
     "name": "stderr",
     "output_type": "stream",
     "text": [
      "R[write to console]: =\n"
     ]
    },
    {
     "name": "stderr",
     "output_type": "stream",
     "text": [
      "R[write to console]: =\n"
     ]
    },
    {
     "name": "stderr",
     "output_type": "stream",
     "text": [
      "R[write to console]: =\n"
     ]
    },
    {
     "name": "stderr",
     "output_type": "stream",
     "text": [
      "R[write to console]: =\n"
     ]
    },
    {
     "name": "stderr",
     "output_type": "stream",
     "text": [
      "R[write to console]: =\n"
     ]
    },
    {
     "name": "stderr",
     "output_type": "stream",
     "text": [
      "R[write to console]: =\n"
     ]
    },
    {
     "name": "stderr",
     "output_type": "stream",
     "text": [
      "R[write to console]: =\n"
     ]
    },
    {
     "name": "stderr",
     "output_type": "stream",
     "text": [
      "R[write to console]: =\n"
     ]
    },
    {
     "name": "stderr",
     "output_type": "stream",
     "text": [
      "R[write to console]: =\n"
     ]
    },
    {
     "name": "stderr",
     "output_type": "stream",
     "text": [
      "R[write to console]: =\n"
     ]
    },
    {
     "name": "stderr",
     "output_type": "stream",
     "text": [
      "R[write to console]: =\n"
     ]
    },
    {
     "name": "stderr",
     "output_type": "stream",
     "text": [
      "R[write to console]: =\n"
     ]
    },
    {
     "name": "stderr",
     "output_type": "stream",
     "text": [
      "R[write to console]: =\n"
     ]
    },
    {
     "name": "stderr",
     "output_type": "stream",
     "text": [
      "R[write to console]: =\n"
     ]
    },
    {
     "name": "stderr",
     "output_type": "stream",
     "text": [
      "R[write to console]: =\n"
     ]
    },
    {
     "name": "stderr",
     "output_type": "stream",
     "text": [
      "R[write to console]: =\n"
     ]
    },
    {
     "name": "stderr",
     "output_type": "stream",
     "text": [
      "R[write to console]: =\n"
     ]
    },
    {
     "name": "stderr",
     "output_type": "stream",
     "text": [
      "R[write to console]: =\n"
     ]
    },
    {
     "name": "stderr",
     "output_type": "stream",
     "text": [
      "R[write to console]: =\n"
     ]
    },
    {
     "name": "stderr",
     "output_type": "stream",
     "text": [
      "R[write to console]: =\n"
     ]
    },
    {
     "name": "stderr",
     "output_type": "stream",
     "text": [
      "R[write to console]: =\n"
     ]
    },
    {
     "name": "stderr",
     "output_type": "stream",
     "text": [
      "R[write to console]: =\n"
     ]
    },
    {
     "name": "stderr",
     "output_type": "stream",
     "text": [
      "R[write to console]: =\n"
     ]
    },
    {
     "name": "stderr",
     "output_type": "stream",
     "text": [
      "R[write to console]: =\n"
     ]
    },
    {
     "name": "stderr",
     "output_type": "stream",
     "text": [
      "R[write to console]: =\n"
     ]
    },
    {
     "name": "stderr",
     "output_type": "stream",
     "text": [
      "R[write to console]: =\n"
     ]
    },
    {
     "name": "stderr",
     "output_type": "stream",
     "text": [
      "R[write to console]: =\n"
     ]
    },
    {
     "name": "stderr",
     "output_type": "stream",
     "text": [
      "R[write to console]: =\n"
     ]
    },
    {
     "name": "stderr",
     "output_type": "stream",
     "text": [
      "R[write to console]: =\n"
     ]
    },
    {
     "name": "stderr",
     "output_type": "stream",
     "text": [
      "R[write to console]: =\n"
     ]
    },
    {
     "name": "stderr",
     "output_type": "stream",
     "text": [
      "R[write to console]: =\n"
     ]
    },
    {
     "name": "stderr",
     "output_type": "stream",
     "text": [
      "R[write to console]: =\n"
     ]
    },
    {
     "name": "stderr",
     "output_type": "stream",
     "text": [
      "R[write to console]: =\n"
     ]
    },
    {
     "name": "stderr",
     "output_type": "stream",
     "text": [
      "R[write to console]: =\n"
     ]
    },
    {
     "name": "stderr",
     "output_type": "stream",
     "text": [
      "R[write to console]: =\n"
     ]
    },
    {
     "name": "stderr",
     "output_type": "stream",
     "text": [
      "R[write to console]: =\n"
     ]
    },
    {
     "name": "stderr",
     "output_type": "stream",
     "text": [
      "R[write to console]: =\n"
     ]
    },
    {
     "name": "stderr",
     "output_type": "stream",
     "text": [
      "R[write to console]: =\n"
     ]
    },
    {
     "name": "stderr",
     "output_type": "stream",
     "text": [
      "R[write to console]: =\n"
     ]
    },
    {
     "name": "stderr",
     "output_type": "stream",
     "text": [
      "R[write to console]: \n",
      "\n"
     ]
    },
    {
     "name": "stderr",
     "output_type": "stream",
     "text": [
      "R[write to console]: downloaded 300 KB\n",
      "\n",
      "\n"
     ]
    },
    {
     "name": "stderr",
     "output_type": "stream",
     "text": [
      "R[write to console]: trying URL 'https://ftp.osuosl.org/pub/cran/bin/macosx/contrib/4.2/combinat_0.0-8.tgz'\n",
      "\n"
     ]
    },
    {
     "name": "stderr",
     "output_type": "stream",
     "text": [
      "R[write to console]: Content type 'application/x-gzip'\n"
     ]
    },
    {
     "name": "stderr",
     "output_type": "stream",
     "text": [
      "R[write to console]:  length 40732 bytes (39 KB)\n",
      "\n"
     ]
    },
    {
     "name": "stderr",
     "output_type": "stream",
     "text": [
      "R[write to console]: =\n"
     ]
    },
    {
     "name": "stderr",
     "output_type": "stream",
     "text": [
      "R[write to console]: =\n"
     ]
    },
    {
     "name": "stderr",
     "output_type": "stream",
     "text": [
      "R[write to console]: =\n"
     ]
    },
    {
     "name": "stderr",
     "output_type": "stream",
     "text": [
      "R[write to console]: =\n"
     ]
    },
    {
     "name": "stderr",
     "output_type": "stream",
     "text": [
      "R[write to console]: =\n"
     ]
    },
    {
     "name": "stderr",
     "output_type": "stream",
     "text": [
      "R[write to console]: =\n"
     ]
    },
    {
     "name": "stderr",
     "output_type": "stream",
     "text": [
      "R[write to console]: =\n"
     ]
    },
    {
     "name": "stderr",
     "output_type": "stream",
     "text": [
      "R[write to console]: =\n"
     ]
    },
    {
     "name": "stderr",
     "output_type": "stream",
     "text": [
      "R[write to console]: =\n"
     ]
    },
    {
     "name": "stderr",
     "output_type": "stream",
     "text": [
      "R[write to console]: =\n"
     ]
    },
    {
     "name": "stderr",
     "output_type": "stream",
     "text": [
      "R[write to console]: =\n"
     ]
    },
    {
     "name": "stderr",
     "output_type": "stream",
     "text": [
      "R[write to console]: =\n"
     ]
    },
    {
     "name": "stderr",
     "output_type": "stream",
     "text": [
      "R[write to console]: =\n"
     ]
    },
    {
     "name": "stderr",
     "output_type": "stream",
     "text": [
      "R[write to console]: =\n"
     ]
    },
    {
     "name": "stderr",
     "output_type": "stream",
     "text": [
      "R[write to console]: =\n"
     ]
    },
    {
     "name": "stderr",
     "output_type": "stream",
     "text": [
      "R[write to console]: =\n"
     ]
    },
    {
     "name": "stderr",
     "output_type": "stream",
     "text": [
      "R[write to console]: =\n"
     ]
    },
    {
     "name": "stderr",
     "output_type": "stream",
     "text": [
      "R[write to console]: =\n"
     ]
    },
    {
     "name": "stderr",
     "output_type": "stream",
     "text": [
      "R[write to console]: =\n"
     ]
    },
    {
     "name": "stderr",
     "output_type": "stream",
     "text": [
      "R[write to console]: =\n"
     ]
    },
    {
     "name": "stderr",
     "output_type": "stream",
     "text": [
      "R[write to console]: =\n"
     ]
    },
    {
     "name": "stderr",
     "output_type": "stream",
     "text": [
      "R[write to console]: =\n"
     ]
    },
    {
     "name": "stderr",
     "output_type": "stream",
     "text": [
      "R[write to console]: =\n"
     ]
    },
    {
     "name": "stderr",
     "output_type": "stream",
     "text": [
      "R[write to console]: =\n"
     ]
    },
    {
     "name": "stderr",
     "output_type": "stream",
     "text": [
      "R[write to console]: =\n"
     ]
    },
    {
     "name": "stderr",
     "output_type": "stream",
     "text": [
      "R[write to console]: =\n"
     ]
    },
    {
     "name": "stderr",
     "output_type": "stream",
     "text": [
      "R[write to console]: =\n"
     ]
    },
    {
     "name": "stderr",
     "output_type": "stream",
     "text": [
      "R[write to console]: =\n"
     ]
    },
    {
     "name": "stderr",
     "output_type": "stream",
     "text": [
      "R[write to console]: =\n"
     ]
    },
    {
     "name": "stderr",
     "output_type": "stream",
     "text": [
      "R[write to console]: =\n"
     ]
    },
    {
     "name": "stderr",
     "output_type": "stream",
     "text": [
      "R[write to console]: =\n"
     ]
    },
    {
     "name": "stderr",
     "output_type": "stream",
     "text": [
      "R[write to console]: =\n"
     ]
    },
    {
     "name": "stderr",
     "output_type": "stream",
     "text": [
      "R[write to console]: =\n"
     ]
    },
    {
     "name": "stderr",
     "output_type": "stream",
     "text": [
      "R[write to console]: =\n"
     ]
    },
    {
     "name": "stderr",
     "output_type": "stream",
     "text": [
      "R[write to console]: =\n"
     ]
    },
    {
     "name": "stderr",
     "output_type": "stream",
     "text": [
      "R[write to console]: =\n"
     ]
    },
    {
     "name": "stderr",
     "output_type": "stream",
     "text": [
      "R[write to console]: =\n"
     ]
    },
    {
     "name": "stderr",
     "output_type": "stream",
     "text": [
      "R[write to console]: =\n"
     ]
    },
    {
     "name": "stderr",
     "output_type": "stream",
     "text": [
      "R[write to console]: =\n"
     ]
    },
    {
     "name": "stderr",
     "output_type": "stream",
     "text": [
      "R[write to console]: =\n"
     ]
    },
    {
     "name": "stderr",
     "output_type": "stream",
     "text": [
      "R[write to console]: =\n"
     ]
    },
    {
     "name": "stderr",
     "output_type": "stream",
     "text": [
      "R[write to console]: =\n"
     ]
    },
    {
     "name": "stderr",
     "output_type": "stream",
     "text": [
      "R[write to console]: =\n"
     ]
    },
    {
     "name": "stderr",
     "output_type": "stream",
     "text": [
      "R[write to console]: =\n"
     ]
    },
    {
     "name": "stderr",
     "output_type": "stream",
     "text": [
      "R[write to console]: =\n"
     ]
    },
    {
     "name": "stderr",
     "output_type": "stream",
     "text": [
      "R[write to console]: =\n"
     ]
    },
    {
     "name": "stderr",
     "output_type": "stream",
     "text": [
      "R[write to console]: =\n"
     ]
    },
    {
     "name": "stderr",
     "output_type": "stream",
     "text": [
      "R[write to console]: =\n"
     ]
    },
    {
     "name": "stderr",
     "output_type": "stream",
     "text": [
      "R[write to console]: =\n"
     ]
    },
    {
     "name": "stderr",
     "output_type": "stream",
     "text": [
      "R[write to console]: =\n"
     ]
    },
    {
     "name": "stderr",
     "output_type": "stream",
     "text": [
      "R[write to console]: \n",
      "\n"
     ]
    },
    {
     "name": "stderr",
     "output_type": "stream",
     "text": [
      "R[write to console]: downloaded 39 KB\n",
      "\n",
      "\n"
     ]
    },
    {
     "name": "stderr",
     "output_type": "stream",
     "text": [
      "R[write to console]: trying URL 'https://ftp.osuosl.org/pub/cran/bin/macosx/contrib/4.2/questionr_0.7.8.tgz'\n",
      "\n"
     ]
    },
    {
     "name": "stderr",
     "output_type": "stream",
     "text": [
      "R[write to console]: Content type 'application/x-gzip'\n"
     ]
    },
    {
     "name": "stderr",
     "output_type": "stream",
     "text": [
      "R[write to console]:  length 3888081 bytes (3.7 MB)\n",
      "\n"
     ]
    },
    {
     "name": "stderr",
     "output_type": "stream",
     "text": [
      "R[write to console]: =\n"
     ]
    },
    {
     "name": "stderr",
     "output_type": "stream",
     "text": [
      "R[write to console]: =\n"
     ]
    },
    {
     "name": "stderr",
     "output_type": "stream",
     "text": [
      "R[write to console]: =\n"
     ]
    },
    {
     "name": "stderr",
     "output_type": "stream",
     "text": [
      "R[write to console]: =\n"
     ]
    },
    {
     "name": "stderr",
     "output_type": "stream",
     "text": [
      "R[write to console]: =\n"
     ]
    },
    {
     "name": "stderr",
     "output_type": "stream",
     "text": [
      "R[write to console]: =\n"
     ]
    },
    {
     "name": "stderr",
     "output_type": "stream",
     "text": [
      "R[write to console]: =\n"
     ]
    },
    {
     "name": "stderr",
     "output_type": "stream",
     "text": [
      "R[write to console]: =\n"
     ]
    },
    {
     "name": "stderr",
     "output_type": "stream",
     "text": [
      "R[write to console]: =\n"
     ]
    },
    {
     "name": "stderr",
     "output_type": "stream",
     "text": [
      "R[write to console]: =\n"
     ]
    },
    {
     "name": "stderr",
     "output_type": "stream",
     "text": [
      "R[write to console]: =\n"
     ]
    },
    {
     "name": "stderr",
     "output_type": "stream",
     "text": [
      "R[write to console]: =\n"
     ]
    },
    {
     "name": "stderr",
     "output_type": "stream",
     "text": [
      "R[write to console]: =\n"
     ]
    },
    {
     "name": "stderr",
     "output_type": "stream",
     "text": [
      "R[write to console]: =\n"
     ]
    },
    {
     "name": "stderr",
     "output_type": "stream",
     "text": [
      "R[write to console]: =\n"
     ]
    },
    {
     "name": "stderr",
     "output_type": "stream",
     "text": [
      "R[write to console]: =\n"
     ]
    },
    {
     "name": "stderr",
     "output_type": "stream",
     "text": [
      "R[write to console]: =\n"
     ]
    },
    {
     "name": "stderr",
     "output_type": "stream",
     "text": [
      "R[write to console]: =\n"
     ]
    },
    {
     "name": "stderr",
     "output_type": "stream",
     "text": [
      "R[write to console]: =\n"
     ]
    },
    {
     "name": "stderr",
     "output_type": "stream",
     "text": [
      "R[write to console]: =\n"
     ]
    },
    {
     "name": "stderr",
     "output_type": "stream",
     "text": [
      "R[write to console]: =\n"
     ]
    },
    {
     "name": "stderr",
     "output_type": "stream",
     "text": [
      "R[write to console]: =\n"
     ]
    },
    {
     "name": "stderr",
     "output_type": "stream",
     "text": [
      "R[write to console]: =\n"
     ]
    },
    {
     "name": "stderr",
     "output_type": "stream",
     "text": [
      "R[write to console]: =\n"
     ]
    },
    {
     "name": "stderr",
     "output_type": "stream",
     "text": [
      "R[write to console]: =\n"
     ]
    },
    {
     "name": "stderr",
     "output_type": "stream",
     "text": [
      "R[write to console]: =\n"
     ]
    },
    {
     "name": "stderr",
     "output_type": "stream",
     "text": [
      "R[write to console]: =\n"
     ]
    },
    {
     "name": "stderr",
     "output_type": "stream",
     "text": [
      "R[write to console]: =\n"
     ]
    },
    {
     "name": "stderr",
     "output_type": "stream",
     "text": [
      "R[write to console]: =\n"
     ]
    },
    {
     "name": "stderr",
     "output_type": "stream",
     "text": [
      "R[write to console]: =\n"
     ]
    },
    {
     "name": "stderr",
     "output_type": "stream",
     "text": [
      "R[write to console]: =\n"
     ]
    },
    {
     "name": "stderr",
     "output_type": "stream",
     "text": [
      "R[write to console]: =\n"
     ]
    },
    {
     "name": "stderr",
     "output_type": "stream",
     "text": [
      "R[write to console]: =\n"
     ]
    },
    {
     "name": "stderr",
     "output_type": "stream",
     "text": [
      "R[write to console]: =\n"
     ]
    },
    {
     "name": "stderr",
     "output_type": "stream",
     "text": [
      "R[write to console]: =\n"
     ]
    },
    {
     "name": "stderr",
     "output_type": "stream",
     "text": [
      "R[write to console]: =\n"
     ]
    },
    {
     "name": "stderr",
     "output_type": "stream",
     "text": [
      "R[write to console]: =\n"
     ]
    },
    {
     "name": "stderr",
     "output_type": "stream",
     "text": [
      "R[write to console]: =\n"
     ]
    },
    {
     "name": "stderr",
     "output_type": "stream",
     "text": [
      "R[write to console]: =\n"
     ]
    },
    {
     "name": "stderr",
     "output_type": "stream",
     "text": [
      "R[write to console]: =\n"
     ]
    },
    {
     "name": "stderr",
     "output_type": "stream",
     "text": [
      "R[write to console]: =\n"
     ]
    },
    {
     "name": "stderr",
     "output_type": "stream",
     "text": [
      "R[write to console]: =\n"
     ]
    },
    {
     "name": "stderr",
     "output_type": "stream",
     "text": [
      "R[write to console]: =\n"
     ]
    },
    {
     "name": "stderr",
     "output_type": "stream",
     "text": [
      "R[write to console]: =\n"
     ]
    },
    {
     "name": "stderr",
     "output_type": "stream",
     "text": [
      "R[write to console]: =\n"
     ]
    },
    {
     "name": "stderr",
     "output_type": "stream",
     "text": [
      "R[write to console]: =\n"
     ]
    },
    {
     "name": "stderr",
     "output_type": "stream",
     "text": [
      "R[write to console]: =\n"
     ]
    },
    {
     "name": "stderr",
     "output_type": "stream",
     "text": [
      "R[write to console]: =\n"
     ]
    },
    {
     "name": "stderr",
     "output_type": "stream",
     "text": [
      "R[write to console]: =\n"
     ]
    },
    {
     "name": "stderr",
     "output_type": "stream",
     "text": [
      "R[write to console]: =\n"
     ]
    },
    {
     "name": "stderr",
     "output_type": "stream",
     "text": [
      "R[write to console]: \n",
      "\n"
     ]
    },
    {
     "name": "stderr",
     "output_type": "stream",
     "text": [
      "R[write to console]: downloaded 3.7 MB\n",
      "\n",
      "\n"
     ]
    },
    {
     "name": "stderr",
     "output_type": "stream",
     "text": [
      "R[write to console]: trying URL 'https://ftp.osuosl.org/pub/cran/bin/macosx/contrib/4.2/klaR_1.7-2.tgz'\n",
      "\n"
     ]
    },
    {
     "name": "stderr",
     "output_type": "stream",
     "text": [
      "R[write to console]: Content type 'application/x-gzip'\n"
     ]
    },
    {
     "name": "stderr",
     "output_type": "stream",
     "text": [
      "R[write to console]:  length 566651 bytes (553 KB)\n",
      "\n"
     ]
    },
    {
     "name": "stderr",
     "output_type": "stream",
     "text": [
      "R[write to console]: =\n"
     ]
    },
    {
     "name": "stderr",
     "output_type": "stream",
     "text": [
      "R[write to console]: =\n"
     ]
    },
    {
     "name": "stderr",
     "output_type": "stream",
     "text": [
      "R[write to console]: =\n"
     ]
    },
    {
     "name": "stderr",
     "output_type": "stream",
     "text": [
      "R[write to console]: =\n"
     ]
    },
    {
     "name": "stderr",
     "output_type": "stream",
     "text": [
      "R[write to console]: =\n"
     ]
    },
    {
     "name": "stderr",
     "output_type": "stream",
     "text": [
      "R[write to console]: =\n"
     ]
    },
    {
     "name": "stderr",
     "output_type": "stream",
     "text": [
      "R[write to console]: =\n"
     ]
    },
    {
     "name": "stderr",
     "output_type": "stream",
     "text": [
      "R[write to console]: =\n"
     ]
    },
    {
     "name": "stderr",
     "output_type": "stream",
     "text": [
      "R[write to console]: =\n"
     ]
    },
    {
     "name": "stderr",
     "output_type": "stream",
     "text": [
      "R[write to console]: =\n"
     ]
    },
    {
     "name": "stderr",
     "output_type": "stream",
     "text": [
      "R[write to console]: =\n"
     ]
    },
    {
     "name": "stderr",
     "output_type": "stream",
     "text": [
      "R[write to console]: =\n"
     ]
    },
    {
     "name": "stderr",
     "output_type": "stream",
     "text": [
      "R[write to console]: =\n"
     ]
    },
    {
     "name": "stderr",
     "output_type": "stream",
     "text": [
      "R[write to console]: =\n"
     ]
    },
    {
     "name": "stderr",
     "output_type": "stream",
     "text": [
      "R[write to console]: =\n"
     ]
    },
    {
     "name": "stderr",
     "output_type": "stream",
     "text": [
      "R[write to console]: =\n"
     ]
    },
    {
     "name": "stderr",
     "output_type": "stream",
     "text": [
      "R[write to console]: =\n"
     ]
    },
    {
     "name": "stderr",
     "output_type": "stream",
     "text": [
      "R[write to console]: =\n"
     ]
    },
    {
     "name": "stderr",
     "output_type": "stream",
     "text": [
      "R[write to console]: =\n"
     ]
    },
    {
     "name": "stderr",
     "output_type": "stream",
     "text": [
      "R[write to console]: =\n"
     ]
    },
    {
     "name": "stderr",
     "output_type": "stream",
     "text": [
      "R[write to console]: =\n"
     ]
    },
    {
     "name": "stderr",
     "output_type": "stream",
     "text": [
      "R[write to console]: =\n"
     ]
    },
    {
     "name": "stderr",
     "output_type": "stream",
     "text": [
      "R[write to console]: =\n"
     ]
    },
    {
     "name": "stderr",
     "output_type": "stream",
     "text": [
      "R[write to console]: =\n"
     ]
    },
    {
     "name": "stderr",
     "output_type": "stream",
     "text": [
      "R[write to console]: =\n"
     ]
    },
    {
     "name": "stderr",
     "output_type": "stream",
     "text": [
      "R[write to console]: =\n"
     ]
    },
    {
     "name": "stderr",
     "output_type": "stream",
     "text": [
      "R[write to console]: =\n"
     ]
    },
    {
     "name": "stderr",
     "output_type": "stream",
     "text": [
      "R[write to console]: =\n"
     ]
    },
    {
     "name": "stderr",
     "output_type": "stream",
     "text": [
      "R[write to console]: =\n"
     ]
    },
    {
     "name": "stderr",
     "output_type": "stream",
     "text": [
      "R[write to console]: =\n"
     ]
    },
    {
     "name": "stderr",
     "output_type": "stream",
     "text": [
      "R[write to console]: =\n"
     ]
    },
    {
     "name": "stderr",
     "output_type": "stream",
     "text": [
      "R[write to console]: =\n"
     ]
    },
    {
     "name": "stderr",
     "output_type": "stream",
     "text": [
      "R[write to console]: =\n"
     ]
    },
    {
     "name": "stderr",
     "output_type": "stream",
     "text": [
      "R[write to console]: =\n"
     ]
    },
    {
     "name": "stderr",
     "output_type": "stream",
     "text": [
      "R[write to console]: =\n"
     ]
    },
    {
     "name": "stderr",
     "output_type": "stream",
     "text": [
      "R[write to console]: =\n"
     ]
    },
    {
     "name": "stderr",
     "output_type": "stream",
     "text": [
      "R[write to console]: =\n"
     ]
    },
    {
     "name": "stderr",
     "output_type": "stream",
     "text": [
      "R[write to console]: =\n"
     ]
    },
    {
     "name": "stderr",
     "output_type": "stream",
     "text": [
      "R[write to console]: =\n"
     ]
    },
    {
     "name": "stderr",
     "output_type": "stream",
     "text": [
      "R[write to console]: =\n"
     ]
    },
    {
     "name": "stderr",
     "output_type": "stream",
     "text": [
      "R[write to console]: =\n"
     ]
    },
    {
     "name": "stderr",
     "output_type": "stream",
     "text": [
      "R[write to console]: =\n"
     ]
    },
    {
     "name": "stderr",
     "output_type": "stream",
     "text": [
      "R[write to console]: =\n"
     ]
    },
    {
     "name": "stderr",
     "output_type": "stream",
     "text": [
      "R[write to console]: =\n"
     ]
    },
    {
     "name": "stderr",
     "output_type": "stream",
     "text": [
      "R[write to console]: =\n"
     ]
    },
    {
     "name": "stderr",
     "output_type": "stream",
     "text": [
      "R[write to console]: =\n"
     ]
    },
    {
     "name": "stderr",
     "output_type": "stream",
     "text": [
      "R[write to console]: =\n"
     ]
    },
    {
     "name": "stderr",
     "output_type": "stream",
     "text": [
      "R[write to console]: =\n"
     ]
    },
    {
     "name": "stderr",
     "output_type": "stream",
     "text": [
      "R[write to console]: =\n"
     ]
    },
    {
     "name": "stderr",
     "output_type": "stream",
     "text": [
      "R[write to console]: =\n"
     ]
    },
    {
     "name": "stderr",
     "output_type": "stream",
     "text": [
      "R[write to console]: \n",
      "\n"
     ]
    },
    {
     "name": "stderr",
     "output_type": "stream",
     "text": [
      "R[write to console]: downloaded 553 KB\n",
      "\n",
      "\n"
     ]
    },
    {
     "name": "stdout",
     "output_type": "stream",
     "text": [
      "\n"
     ]
    },
    {
     "name": "stdout",
     "output_type": "stream",
     "text": [
      "The downloaded binary packages are in\n",
      "\t/var/folders/3r/55b5kjpd4s14_tg80r24vs7r0000gq/T//RtmppUu9zV/downloaded_packages"
     ]
    },
    {
     "name": "stdout",
     "output_type": "stream",
     "text": [
      "\n"
     ]
    },
    {
     "name": "stderr",
     "output_type": "stream",
     "text": [
      "R[write to console]: Loading required package: e1071\n",
      "\n"
     ]
    },
    {
     "name": "stderr",
     "output_type": "stream",
     "text": [
      "R[write to console]: Loading required package: SnowballC\n",
      "\n"
     ]
    },
    {
     "name": "stderr",
     "output_type": "stream",
     "text": [
      "R[write to console]: trying URL 'https://ftp.osuosl.org/pub/cran/bin/macosx/contrib/4.2/SnowballC_0.7.1.tgz'\n",
      "\n"
     ]
    },
    {
     "name": "stderr",
     "output_type": "stream",
     "text": [
      "R[write to console]: Content type 'application/x-gzip'\n"
     ]
    },
    {
     "name": "stderr",
     "output_type": "stream",
     "text": [
      "R[write to console]:  length 654025 bytes (638 KB)\n",
      "\n"
     ]
    },
    {
     "name": "stderr",
     "output_type": "stream",
     "text": [
      "R[write to console]: =\n"
     ]
    },
    {
     "name": "stderr",
     "output_type": "stream",
     "text": [
      "R[write to console]: =\n"
     ]
    },
    {
     "name": "stderr",
     "output_type": "stream",
     "text": [
      "R[write to console]: =\n"
     ]
    },
    {
     "name": "stderr",
     "output_type": "stream",
     "text": [
      "R[write to console]: =\n"
     ]
    },
    {
     "name": "stderr",
     "output_type": "stream",
     "text": [
      "R[write to console]: =\n"
     ]
    },
    {
     "name": "stderr",
     "output_type": "stream",
     "text": [
      "R[write to console]: =\n"
     ]
    },
    {
     "name": "stderr",
     "output_type": "stream",
     "text": [
      "R[write to console]: =\n"
     ]
    },
    {
     "name": "stderr",
     "output_type": "stream",
     "text": [
      "R[write to console]: =\n"
     ]
    },
    {
     "name": "stderr",
     "output_type": "stream",
     "text": [
      "R[write to console]: =\n"
     ]
    },
    {
     "name": "stderr",
     "output_type": "stream",
     "text": [
      "R[write to console]: =\n"
     ]
    },
    {
     "name": "stderr",
     "output_type": "stream",
     "text": [
      "R[write to console]: =\n"
     ]
    },
    {
     "name": "stderr",
     "output_type": "stream",
     "text": [
      "R[write to console]: =\n"
     ]
    },
    {
     "name": "stderr",
     "output_type": "stream",
     "text": [
      "R[write to console]: =\n"
     ]
    },
    {
     "name": "stderr",
     "output_type": "stream",
     "text": [
      "R[write to console]: =\n"
     ]
    },
    {
     "name": "stderr",
     "output_type": "stream",
     "text": [
      "R[write to console]: =\n"
     ]
    },
    {
     "name": "stderr",
     "output_type": "stream",
     "text": [
      "R[write to console]: =\n"
     ]
    },
    {
     "name": "stderr",
     "output_type": "stream",
     "text": [
      "R[write to console]: =\n"
     ]
    },
    {
     "name": "stderr",
     "output_type": "stream",
     "text": [
      "R[write to console]: =\n"
     ]
    },
    {
     "name": "stderr",
     "output_type": "stream",
     "text": [
      "R[write to console]: =\n"
     ]
    },
    {
     "name": "stderr",
     "output_type": "stream",
     "text": [
      "R[write to console]: =\n"
     ]
    },
    {
     "name": "stderr",
     "output_type": "stream",
     "text": [
      "R[write to console]: =\n"
     ]
    },
    {
     "name": "stderr",
     "output_type": "stream",
     "text": [
      "R[write to console]: =\n"
     ]
    },
    {
     "name": "stderr",
     "output_type": "stream",
     "text": [
      "R[write to console]: =\n"
     ]
    },
    {
     "name": "stderr",
     "output_type": "stream",
     "text": [
      "R[write to console]: =\n"
     ]
    },
    {
     "name": "stderr",
     "output_type": "stream",
     "text": [
      "R[write to console]: =\n"
     ]
    },
    {
     "name": "stderr",
     "output_type": "stream",
     "text": [
      "R[write to console]: =\n"
     ]
    },
    {
     "name": "stderr",
     "output_type": "stream",
     "text": [
      "R[write to console]: =\n"
     ]
    },
    {
     "name": "stderr",
     "output_type": "stream",
     "text": [
      "R[write to console]: =\n"
     ]
    },
    {
     "name": "stderr",
     "output_type": "stream",
     "text": [
      "R[write to console]: =\n"
     ]
    },
    {
     "name": "stderr",
     "output_type": "stream",
     "text": [
      "R[write to console]: =\n"
     ]
    },
    {
     "name": "stderr",
     "output_type": "stream",
     "text": [
      "R[write to console]: =\n"
     ]
    },
    {
     "name": "stderr",
     "output_type": "stream",
     "text": [
      "R[write to console]: =\n"
     ]
    },
    {
     "name": "stderr",
     "output_type": "stream",
     "text": [
      "R[write to console]: =\n"
     ]
    },
    {
     "name": "stderr",
     "output_type": "stream",
     "text": [
      "R[write to console]: =\n"
     ]
    },
    {
     "name": "stderr",
     "output_type": "stream",
     "text": [
      "R[write to console]: =\n"
     ]
    },
    {
     "name": "stderr",
     "output_type": "stream",
     "text": [
      "R[write to console]: =\n"
     ]
    },
    {
     "name": "stderr",
     "output_type": "stream",
     "text": [
      "R[write to console]: =\n"
     ]
    },
    {
     "name": "stderr",
     "output_type": "stream",
     "text": [
      "R[write to console]: =\n"
     ]
    },
    {
     "name": "stderr",
     "output_type": "stream",
     "text": [
      "R[write to console]: =\n"
     ]
    },
    {
     "name": "stderr",
     "output_type": "stream",
     "text": [
      "R[write to console]: =\n"
     ]
    },
    {
     "name": "stderr",
     "output_type": "stream",
     "text": [
      "R[write to console]: =\n"
     ]
    },
    {
     "name": "stderr",
     "output_type": "stream",
     "text": [
      "R[write to console]: =\n"
     ]
    },
    {
     "name": "stderr",
     "output_type": "stream",
     "text": [
      "R[write to console]: =\n"
     ]
    },
    {
     "name": "stderr",
     "output_type": "stream",
     "text": [
      "R[write to console]: =\n"
     ]
    },
    {
     "name": "stderr",
     "output_type": "stream",
     "text": [
      "R[write to console]: =\n"
     ]
    },
    {
     "name": "stderr",
     "output_type": "stream",
     "text": [
      "R[write to console]: =\n"
     ]
    },
    {
     "name": "stderr",
     "output_type": "stream",
     "text": [
      "R[write to console]: =\n"
     ]
    },
    {
     "name": "stderr",
     "output_type": "stream",
     "text": [
      "R[write to console]: =\n"
     ]
    },
    {
     "name": "stderr",
     "output_type": "stream",
     "text": [
      "R[write to console]: =\n"
     ]
    },
    {
     "name": "stderr",
     "output_type": "stream",
     "text": [
      "R[write to console]: =\n"
     ]
    },
    {
     "name": "stderr",
     "output_type": "stream",
     "text": [
      "R[write to console]: \n",
      "\n"
     ]
    },
    {
     "name": "stderr",
     "output_type": "stream",
     "text": [
      "R[write to console]: downloaded 638 KB\n",
      "\n",
      "\n"
     ]
    },
    {
     "name": "stdout",
     "output_type": "stream",
     "text": [
      "\n"
     ]
    },
    {
     "name": "stdout",
     "output_type": "stream",
     "text": [
      "The downloaded binary packages are in\n",
      "\t/var/folders/3r/55b5kjpd4s14_tg80r24vs7r0000gq/T//RtmppUu9zV/downloaded_packages"
     ]
    },
    {
     "name": "stdout",
     "output_type": "stream",
     "text": [
      "\n"
     ]
    },
    {
     "name": "stderr",
     "output_type": "stream",
     "text": [
      "R[write to console]: Loading required package: neuralnet\n",
      "\n"
     ]
    },
    {
     "name": "stderr",
     "output_type": "stream",
     "text": [
      "R[write to console]: also installing the dependency ‘Deriv’\n",
      "\n",
      "\n"
     ]
    },
    {
     "name": "stderr",
     "output_type": "stream",
     "text": [
      "R[write to console]: trying URL 'https://ftp.osuosl.org/pub/cran/bin/macosx/contrib/4.2/Deriv_4.1.3.tgz'\n",
      "\n"
     ]
    },
    {
     "name": "stderr",
     "output_type": "stream",
     "text": [
      "R[write to console]: Content type 'application/x-gzip'\n"
     ]
    },
    {
     "name": "stderr",
     "output_type": "stream",
     "text": [
      "R[write to console]:  length 147018 bytes (143 KB)\n",
      "\n"
     ]
    },
    {
     "name": "stderr",
     "output_type": "stream",
     "text": [
      "R[write to console]: =\n"
     ]
    },
    {
     "name": "stderr",
     "output_type": "stream",
     "text": [
      "R[write to console]: =\n"
     ]
    },
    {
     "name": "stderr",
     "output_type": "stream",
     "text": [
      "R[write to console]: =\n"
     ]
    },
    {
     "name": "stderr",
     "output_type": "stream",
     "text": [
      "R[write to console]: =\n"
     ]
    },
    {
     "name": "stderr",
     "output_type": "stream",
     "text": [
      "R[write to console]: =\n"
     ]
    },
    {
     "name": "stderr",
     "output_type": "stream",
     "text": [
      "R[write to console]: =\n"
     ]
    },
    {
     "name": "stderr",
     "output_type": "stream",
     "text": [
      "R[write to console]: =\n"
     ]
    },
    {
     "name": "stderr",
     "output_type": "stream",
     "text": [
      "R[write to console]: =\n"
     ]
    },
    {
     "name": "stderr",
     "output_type": "stream",
     "text": [
      "R[write to console]: =\n"
     ]
    },
    {
     "name": "stderr",
     "output_type": "stream",
     "text": [
      "R[write to console]: =\n"
     ]
    },
    {
     "name": "stderr",
     "output_type": "stream",
     "text": [
      "R[write to console]: =\n"
     ]
    },
    {
     "name": "stderr",
     "output_type": "stream",
     "text": [
      "R[write to console]: =\n"
     ]
    },
    {
     "name": "stderr",
     "output_type": "stream",
     "text": [
      "R[write to console]: =\n"
     ]
    },
    {
     "name": "stderr",
     "output_type": "stream",
     "text": [
      "R[write to console]: =\n"
     ]
    },
    {
     "name": "stderr",
     "output_type": "stream",
     "text": [
      "R[write to console]: =\n"
     ]
    },
    {
     "name": "stderr",
     "output_type": "stream",
     "text": [
      "R[write to console]: =\n"
     ]
    },
    {
     "name": "stderr",
     "output_type": "stream",
     "text": [
      "R[write to console]: =\n"
     ]
    },
    {
     "name": "stderr",
     "output_type": "stream",
     "text": [
      "R[write to console]: =\n"
     ]
    },
    {
     "name": "stderr",
     "output_type": "stream",
     "text": [
      "R[write to console]: =\n"
     ]
    },
    {
     "name": "stderr",
     "output_type": "stream",
     "text": [
      "R[write to console]: =\n"
     ]
    },
    {
     "name": "stderr",
     "output_type": "stream",
     "text": [
      "R[write to console]: =\n"
     ]
    },
    {
     "name": "stderr",
     "output_type": "stream",
     "text": [
      "R[write to console]: =\n"
     ]
    },
    {
     "name": "stderr",
     "output_type": "stream",
     "text": [
      "R[write to console]: =\n"
     ]
    },
    {
     "name": "stderr",
     "output_type": "stream",
     "text": [
      "R[write to console]: =\n"
     ]
    },
    {
     "name": "stderr",
     "output_type": "stream",
     "text": [
      "R[write to console]: =\n"
     ]
    },
    {
     "name": "stderr",
     "output_type": "stream",
     "text": [
      "R[write to console]: =\n"
     ]
    },
    {
     "name": "stderr",
     "output_type": "stream",
     "text": [
      "R[write to console]: =\n"
     ]
    },
    {
     "name": "stderr",
     "output_type": "stream",
     "text": [
      "R[write to console]: =\n"
     ]
    },
    {
     "name": "stderr",
     "output_type": "stream",
     "text": [
      "R[write to console]: =\n"
     ]
    },
    {
     "name": "stderr",
     "output_type": "stream",
     "text": [
      "R[write to console]: =\n"
     ]
    },
    {
     "name": "stderr",
     "output_type": "stream",
     "text": [
      "R[write to console]: =\n"
     ]
    },
    {
     "name": "stderr",
     "output_type": "stream",
     "text": [
      "R[write to console]: =\n"
     ]
    },
    {
     "name": "stderr",
     "output_type": "stream",
     "text": [
      "R[write to console]: =\n"
     ]
    },
    {
     "name": "stderr",
     "output_type": "stream",
     "text": [
      "R[write to console]: =\n"
     ]
    },
    {
     "name": "stderr",
     "output_type": "stream",
     "text": [
      "R[write to console]: =\n"
     ]
    },
    {
     "name": "stderr",
     "output_type": "stream",
     "text": [
      "R[write to console]: =\n"
     ]
    },
    {
     "name": "stderr",
     "output_type": "stream",
     "text": [
      "R[write to console]: =\n"
     ]
    },
    {
     "name": "stderr",
     "output_type": "stream",
     "text": [
      "R[write to console]: =\n"
     ]
    },
    {
     "name": "stderr",
     "output_type": "stream",
     "text": [
      "R[write to console]: =\n"
     ]
    },
    {
     "name": "stderr",
     "output_type": "stream",
     "text": [
      "R[write to console]: =\n"
     ]
    },
    {
     "name": "stderr",
     "output_type": "stream",
     "text": [
      "R[write to console]: =\n"
     ]
    },
    {
     "name": "stderr",
     "output_type": "stream",
     "text": [
      "R[write to console]: =\n"
     ]
    },
    {
     "name": "stderr",
     "output_type": "stream",
     "text": [
      "R[write to console]: =\n"
     ]
    },
    {
     "name": "stderr",
     "output_type": "stream",
     "text": [
      "R[write to console]: =\n"
     ]
    },
    {
     "name": "stderr",
     "output_type": "stream",
     "text": [
      "R[write to console]: =\n"
     ]
    },
    {
     "name": "stderr",
     "output_type": "stream",
     "text": [
      "R[write to console]: =\n"
     ]
    },
    {
     "name": "stderr",
     "output_type": "stream",
     "text": [
      "R[write to console]: =\n"
     ]
    },
    {
     "name": "stderr",
     "output_type": "stream",
     "text": [
      "R[write to console]: =\n"
     ]
    },
    {
     "name": "stderr",
     "output_type": "stream",
     "text": [
      "R[write to console]: =\n"
     ]
    },
    {
     "name": "stderr",
     "output_type": "stream",
     "text": [
      "R[write to console]: =\n"
     ]
    },
    {
     "name": "stderr",
     "output_type": "stream",
     "text": [
      "R[write to console]: \n",
      "\n"
     ]
    },
    {
     "name": "stderr",
     "output_type": "stream",
     "text": [
      "R[write to console]: downloaded 143 KB\n",
      "\n",
      "\n"
     ]
    },
    {
     "name": "stderr",
     "output_type": "stream",
     "text": [
      "R[write to console]: trying URL 'https://ftp.osuosl.org/pub/cran/bin/macosx/contrib/4.2/neuralnet_1.44.2.tgz'\n",
      "\n"
     ]
    },
    {
     "name": "stderr",
     "output_type": "stream",
     "text": [
      "R[write to console]: Content type 'application/x-gzip'\n"
     ]
    },
    {
     "name": "stderr",
     "output_type": "stream",
     "text": [
      "R[write to console]:  length 121688 bytes (118 KB)\n",
      "\n"
     ]
    },
    {
     "name": "stderr",
     "output_type": "stream",
     "text": [
      "R[write to console]: =\n"
     ]
    },
    {
     "name": "stderr",
     "output_type": "stream",
     "text": [
      "R[write to console]: =\n"
     ]
    },
    {
     "name": "stderr",
     "output_type": "stream",
     "text": [
      "R[write to console]: =\n"
     ]
    },
    {
     "name": "stderr",
     "output_type": "stream",
     "text": [
      "R[write to console]: =\n"
     ]
    },
    {
     "name": "stderr",
     "output_type": "stream",
     "text": [
      "R[write to console]: =\n"
     ]
    },
    {
     "name": "stderr",
     "output_type": "stream",
     "text": [
      "R[write to console]: =\n"
     ]
    },
    {
     "name": "stderr",
     "output_type": "stream",
     "text": [
      "R[write to console]: =\n"
     ]
    },
    {
     "name": "stderr",
     "output_type": "stream",
     "text": [
      "R[write to console]: =\n"
     ]
    },
    {
     "name": "stderr",
     "output_type": "stream",
     "text": [
      "R[write to console]: =\n"
     ]
    },
    {
     "name": "stderr",
     "output_type": "stream",
     "text": [
      "R[write to console]: =\n"
     ]
    },
    {
     "name": "stderr",
     "output_type": "stream",
     "text": [
      "R[write to console]: =\n"
     ]
    },
    {
     "name": "stderr",
     "output_type": "stream",
     "text": [
      "R[write to console]: =\n"
     ]
    },
    {
     "name": "stderr",
     "output_type": "stream",
     "text": [
      "R[write to console]: =\n"
     ]
    },
    {
     "name": "stderr",
     "output_type": "stream",
     "text": [
      "R[write to console]: =\n"
     ]
    },
    {
     "name": "stderr",
     "output_type": "stream",
     "text": [
      "R[write to console]: =\n"
     ]
    },
    {
     "name": "stderr",
     "output_type": "stream",
     "text": [
      "R[write to console]: =\n"
     ]
    },
    {
     "name": "stderr",
     "output_type": "stream",
     "text": [
      "R[write to console]: =\n"
     ]
    },
    {
     "name": "stderr",
     "output_type": "stream",
     "text": [
      "R[write to console]: =\n"
     ]
    },
    {
     "name": "stderr",
     "output_type": "stream",
     "text": [
      "R[write to console]: =\n"
     ]
    },
    {
     "name": "stderr",
     "output_type": "stream",
     "text": [
      "R[write to console]: =\n"
     ]
    },
    {
     "name": "stderr",
     "output_type": "stream",
     "text": [
      "R[write to console]: =\n"
     ]
    },
    {
     "name": "stderr",
     "output_type": "stream",
     "text": [
      "R[write to console]: =\n"
     ]
    },
    {
     "name": "stderr",
     "output_type": "stream",
     "text": [
      "R[write to console]: =\n"
     ]
    },
    {
     "name": "stderr",
     "output_type": "stream",
     "text": [
      "R[write to console]: =\n"
     ]
    },
    {
     "name": "stderr",
     "output_type": "stream",
     "text": [
      "R[write to console]: =\n"
     ]
    },
    {
     "name": "stderr",
     "output_type": "stream",
     "text": [
      "R[write to console]: =\n"
     ]
    },
    {
     "name": "stderr",
     "output_type": "stream",
     "text": [
      "R[write to console]: =\n"
     ]
    },
    {
     "name": "stderr",
     "output_type": "stream",
     "text": [
      "R[write to console]: =\n"
     ]
    },
    {
     "name": "stderr",
     "output_type": "stream",
     "text": [
      "R[write to console]: =\n"
     ]
    },
    {
     "name": "stderr",
     "output_type": "stream",
     "text": [
      "R[write to console]: =\n"
     ]
    },
    {
     "name": "stderr",
     "output_type": "stream",
     "text": [
      "R[write to console]: =\n"
     ]
    },
    {
     "name": "stderr",
     "output_type": "stream",
     "text": [
      "R[write to console]: =\n"
     ]
    },
    {
     "name": "stderr",
     "output_type": "stream",
     "text": [
      "R[write to console]: =\n"
     ]
    },
    {
     "name": "stderr",
     "output_type": "stream",
     "text": [
      "R[write to console]: =\n"
     ]
    },
    {
     "name": "stderr",
     "output_type": "stream",
     "text": [
      "R[write to console]: =\n"
     ]
    },
    {
     "name": "stderr",
     "output_type": "stream",
     "text": [
      "R[write to console]: =\n"
     ]
    },
    {
     "name": "stderr",
     "output_type": "stream",
     "text": [
      "R[write to console]: =\n"
     ]
    },
    {
     "name": "stderr",
     "output_type": "stream",
     "text": [
      "R[write to console]: =\n"
     ]
    },
    {
     "name": "stderr",
     "output_type": "stream",
     "text": [
      "R[write to console]: =\n"
     ]
    },
    {
     "name": "stderr",
     "output_type": "stream",
     "text": [
      "R[write to console]: =\n"
     ]
    },
    {
     "name": "stderr",
     "output_type": "stream",
     "text": [
      "R[write to console]: =\n"
     ]
    },
    {
     "name": "stderr",
     "output_type": "stream",
     "text": [
      "R[write to console]: =\n"
     ]
    },
    {
     "name": "stderr",
     "output_type": "stream",
     "text": [
      "R[write to console]: =\n"
     ]
    },
    {
     "name": "stderr",
     "output_type": "stream",
     "text": [
      "R[write to console]: =\n"
     ]
    },
    {
     "name": "stderr",
     "output_type": "stream",
     "text": [
      "R[write to console]: =\n"
     ]
    },
    {
     "name": "stderr",
     "output_type": "stream",
     "text": [
      "R[write to console]: =\n"
     ]
    },
    {
     "name": "stderr",
     "output_type": "stream",
     "text": [
      "R[write to console]: =\n"
     ]
    },
    {
     "name": "stderr",
     "output_type": "stream",
     "text": [
      "R[write to console]: =\n"
     ]
    },
    {
     "name": "stderr",
     "output_type": "stream",
     "text": [
      "R[write to console]: =\n"
     ]
    },
    {
     "name": "stderr",
     "output_type": "stream",
     "text": [
      "R[write to console]: =\n"
     ]
    },
    {
     "name": "stderr",
     "output_type": "stream",
     "text": [
      "R[write to console]: \n",
      "\n"
     ]
    },
    {
     "name": "stderr",
     "output_type": "stream",
     "text": [
      "R[write to console]: downloaded 118 KB\n",
      "\n",
      "\n"
     ]
    },
    {
     "name": "stdout",
     "output_type": "stream",
     "text": [
      "\n"
     ]
    },
    {
     "name": "stdout",
     "output_type": "stream",
     "text": [
      "The downloaded binary packages are in\n",
      "\t/var/folders/3r/55b5kjpd4s14_tg80r24vs7r0000gq/T//RtmppUu9zV/downloaded_packages"
     ]
    },
    {
     "name": "stdout",
     "output_type": "stream",
     "text": [
      "\n"
     ]
    }
   ],
   "source": [
    "%%R\n",
    "\n",
    "setwd(\"/Users/qad/Documents/GitHub/dsc15\")\n",
    "if(!require(tm)){\n",
    "install.packages(\"tm\")\n",
    "}\n",
    "if(!require(MASS)){\n",
    "install.packages(\"MASS\")\n",
    "}\n",
    "if(!require(klaR)){\n",
    "install.packages(\"klaR\")\n",
    "}\n",
    "if(!require(e1071)){\n",
    "install.packages(\"e1071\")\n",
    "}\n",
    "if(!require(SnowballC)){\n",
    "install.packages(\"SnowballC\")\n",
    "}\n",
    "if(!require(neuralnet)){\n",
    "install.packages(\"neuralnet\")\n",
    "}\n"
   ]
  },
  {
   "cell_type": "code",
   "execution_count": 19,
   "id": "0579ddb2",
   "metadata": {},
   "outputs": [
    {
     "name": "stdout",
     "output_type": "stream",
     "text": [
      "[1]"
     ]
    },
    {
     "name": "stdout",
     "output_type": "stream",
     "text": [
      " 230"
     ]
    },
    {
     "name": "stdout",
     "output_type": "stream",
     "text": [
      "   2"
     ]
    },
    {
     "name": "stdout",
     "output_type": "stream",
     "text": [
      "\n"
     ]
    }
   ],
   "source": [
    "%%R\n",
    "#Import non-Ilana sample\n",
    "non.ilana.mdws<-read.csv(file='non_ilana_sample.csv', header=T)\n",
    "#Import Ilana quotes\n",
    "ilana.mdws<-read.csv(file='ilana.csv', header=T)\n",
    "#Label the columns for the Ilana quotes\n",
    "colnames(ilana.mdws)<-c(\"Attribution\", \"Group\", \"Text\")\n",
    "#Get the dimensions of the non-Ilana data\n",
    "dim(non.ilana.mdws)"
   ]
  },
  {
   "cell_type": "code",
   "execution_count": 20,
   "id": "80a2df15",
   "metadata": {},
   "outputs": [
    {
     "name": "stdout",
     "output_type": "stream",
     "text": [
      "[1]"
     ]
    },
    {
     "name": "stdout",
     "output_type": "stream",
     "text": [
      " 673"
     ]
    },
    {
     "name": "stdout",
     "output_type": "stream",
     "text": [
      "   3"
     ]
    },
    {
     "name": "stdout",
     "output_type": "stream",
     "text": [
      "\n"
     ]
    }
   ],
   "source": [
    "%%R\n",
    "#Get the dimensions of the Ilana data\n",
    "dim(ilana.mdws)"
   ]
  },
  {
   "cell_type": "code",
   "execution_count": 21,
   "id": "db59ca9c",
   "metadata": {},
   "outputs": [
    {
     "name": "stdout",
     "output_type": "stream",
     "text": [
      "\n"
     ]
    },
    {
     "name": "stdout",
     "output_type": "stream",
     "text": [
      "BYT10 "
     ]
    },
    {
     "name": "stdout",
     "output_type": "stream",
     "text": [
      "BYT11 "
     ]
    },
    {
     "name": "stdout",
     "output_type": "stream",
     "text": [
      "BYT12 "
     ]
    },
    {
     "name": "stdout",
     "output_type": "stream",
     "text": [
      "BYT13 "
     ]
    },
    {
     "name": "stdout",
     "output_type": "stream",
     "text": [
      "BYT14 "
     ]
    },
    {
     "name": "stdout",
     "output_type": "stream",
     "text": [
      "BYT15 "
     ]
    },
    {
     "name": "stdout",
     "output_type": "stream",
     "text": [
      "BYT16 "
     ]
    },
    {
     "name": "stdout",
     "output_type": "stream",
     "text": [
      "BYT17 "
     ]
    },
    {
     "name": "stdout",
     "output_type": "stream",
     "text": [
      " BYT9 "
     ]
    },
    {
     "name": "stdout",
     "output_type": "stream",
     "text": [
      "\n"
     ]
    },
    {
     "name": "stdout",
     "output_type": "stream",
     "text": [
      "   36 "
     ]
    },
    {
     "name": "stdout",
     "output_type": "stream",
     "text": [
      "  100 "
     ]
    },
    {
     "name": "stdout",
     "output_type": "stream",
     "text": [
      "   38 "
     ]
    },
    {
     "name": "stdout",
     "output_type": "stream",
     "text": [
      "  126 "
     ]
    },
    {
     "name": "stdout",
     "output_type": "stream",
     "text": [
      "  108 "
     ]
    },
    {
     "name": "stdout",
     "output_type": "stream",
     "text": [
      "   64 "
     ]
    },
    {
     "name": "stdout",
     "output_type": "stream",
     "text": [
      "   88 "
     ]
    },
    {
     "name": "stdout",
     "output_type": "stream",
     "text": [
      "   57 "
     ]
    },
    {
     "name": "stdout",
     "output_type": "stream",
     "text": [
      "   56 "
     ]
    },
    {
     "name": "stdout",
     "output_type": "stream",
     "text": [
      "\n"
     ]
    }
   ],
   "source": [
    "%%R\n",
    "#Get Ilana quotes, grouped by book\n",
    "table(ilana.mdws$Group)"
   ]
  },
  {
   "cell_type": "code",
   "execution_count": 22,
   "id": "697747cb",
   "metadata": {},
   "outputs": [
    {
     "name": "stdout",
     "output_type": "stream",
     "text": [
      "[1]"
     ]
    },
    {
     "name": "stdout",
     "output_type": "stream",
     "text": [
      " 230"
     ]
    },
    {
     "name": "stdout",
     "output_type": "stream",
     "text": [
      "\n"
     ]
    }
   ],
   "source": [
    "%%R \n",
    "#Use only the Ilana quotes from books 9-12\n",
    "ilana.quotes.mdws<-ilana.mdws$Text[which(ilana.mdws$Group %in% c('BYT9', 'BYT10', \"BYT11\", \"BYT12\"))]\n",
    "#Get the length of the Ilana quotes from the distinctive books\n",
    "length(ilana.quotes.mdws)"
   ]
  },
  {
   "cell_type": "code",
   "execution_count": 23,
   "id": "28819fb8",
   "metadata": {},
   "outputs": [
    {
     "name": "stdout",
     "output_type": "stream",
     "text": [
      "[1]"
     ]
    },
    {
     "name": "stdout",
     "output_type": "stream",
     "text": [
      " 460"
     ]
    },
    {
     "name": "stdout",
     "output_type": "stream",
     "text": [
      "\n"
     ]
    }
   ],
   "source": [
    "%%R\n",
    "#Create a vector of just the text of non-Ilana quotes\n",
    "non.ilana.quotes.mdws<-non.ilana.mdws$Text\n",
    "#Combine Ilana and non-Ilana quotes\n",
    "quotes.mdws<-c(ilana.quotes.mdws, non.ilana.quotes.mdws)\n",
    "length(quotes.mdws)"
   ]
  },
  {
   "cell_type": "code",
   "execution_count": 24,
   "id": "a537de2b",
   "metadata": {},
   "outputs": [
    {
     "name": "stdout",
     "output_type": "stream",
     "text": [
      "[1]"
     ]
    },
    {
     "name": "stdout",
     "output_type": "stream",
     "text": [
      " 460"
     ]
    },
    {
     "name": "stdout",
     "output_type": "stream",
     "text": [
      "\n"
     ]
    }
   ],
   "source": [
    "%%R\n",
    "#Create a vector for groups, to label Ilana & non-Ilana data\n",
    "groups.mdws<-c(rep(\"Ilana\", 230), rep(\"nonIlana\", 230))\n",
    "length(groups.mdws)"
   ]
  },
  {
   "cell_type": "code",
   "execution_count": 25,
   "id": "44435561",
   "metadata": {},
   "outputs": [],
   "source": [
    "%%R\n",
    "#make a new table out of the sampled corpus and group designations\n",
    "new.ilana.table.mdws<-data.frame(groups.mdws, quotes.mdws)\n",
    "metadata.table.mdws<-new.ilana.table.mdws"
   ]
  },
  {
   "cell_type": "code",
   "execution_count": 26,
   "id": "98fb3090",
   "metadata": {},
   "outputs": [],
   "source": [
    "%%R\n",
    "#Extract the text from the table\n",
    "raw.corpus.mdws<-quotes.mdws\n",
    "#Apply the cleaning function\n",
    "clean.corpus.mdws<-lapply(raw.corpus.mdws, function(x) fullClean(x))\n",
    "#Create a vector with the clean corpus\n",
    "clean.corpus.mdws<-Corpus(VectorSource(clean.corpus.mdws))\n",
    "#Remove stopwords\n",
    "clean.corpus.mdws<-tm_map(clean.corpus.mdws, content_transformer(removeWords), stopwords(\"en\"))\n",
    "#Create a vector with the default English stopwords list\n",
    "all.sw<-stopwords('en')\n"
   ]
  },
  {
   "cell_type": "code",
   "execution_count": 27,
   "id": "3b64879f",
   "metadata": {},
   "outputs": [
    {
     "name": "stdout",
     "output_type": "stream",
     "text": [
      "integer(0)\n"
     ]
    }
   ],
   "source": [
    "%%R\n",
    "which(all.sw==\"like\")"
   ]
  },
  {
   "cell_type": "code",
   "execution_count": 28,
   "id": "f481aec5",
   "metadata": {},
   "outputs": [
    {
     "name": "stdout",
     "output_type": "stream",
     "text": [
      "integer(0)\n"
     ]
    }
   ],
   "source": [
    "%%R\n",
    "which(all.sw==\"really\")"
   ]
  },
  {
   "cell_type": "code",
   "execution_count": 29,
   "id": "033ce429",
   "metadata": {},
   "outputs": [
    {
     "name": "stdout",
     "output_type": "stream",
     "text": [
      "[1]"
     ]
    },
    {
     "name": "stdout",
     "output_type": "stream",
     "text": [
      " 47"
     ]
    },
    {
     "name": "stdout",
     "output_type": "stream",
     "text": [
      "\n"
     ]
    }
   ],
   "source": [
    "%%R\n",
    "which(all.sw==\"has\")"
   ]
  },
  {
   "cell_type": "code",
   "execution_count": 30,
   "id": "77d13fcb",
   "metadata": {},
   "outputs": [
    {
     "name": "stdout",
     "output_type": "stream",
     "text": [
      "<<DocumentTermMatrix (documents: 460, terms: 988)>>\n"
     ]
    },
    {
     "name": "stdout",
     "output_type": "stream",
     "text": [
      "Non-/sparse entries: 2408/452072\n"
     ]
    },
    {
     "name": "stdout",
     "output_type": "stream",
     "text": [
      "Sparsity           : 99%\n"
     ]
    },
    {
     "name": "stdout",
     "output_type": "stream",
     "text": [
      "Maximal term length: 19\n"
     ]
    },
    {
     "name": "stdout",
     "output_type": "stream",
     "text": [
      "Weighting          : term frequency (tf)\n"
     ]
    }
   ],
   "source": [
    "%%R\n",
    "corpus.dtm.mdws<-DocumentTermMatrix(clean.corpus.mdws, control=list(wordLengths=c(1,Inf)))\n",
    "corpus.dtm.mdws"
   ]
  },
  {
   "cell_type": "code",
   "execution_count": 31,
   "id": "8392f413",
   "metadata": {},
   "outputs": [
    {
     "name": "stdout",
     "output_type": "stream",
     "text": [
      "[1]"
     ]
    },
    {
     "name": "stdout",
     "output_type": "stream",
     "text": [
      " 460"
     ]
    },
    {
     "name": "stdout",
     "output_type": "stream",
     "text": [
      "\n"
     ]
    }
   ],
   "source": [
    "%%R\n",
    "#Get the document-term matrix as a matrix\n",
    "corpus.matrix.mdws<-as.matrix(corpus.dtm.mdws)\n",
    "#Add up the word counts for each row (quote)\n",
    "all.sums.mdws<-rowSums(corpus.matrix.mdws)\n",
    "#Which ones have a total word count of zero (i.e. no words)\n",
    "length(all.sums.mdws==0)"
   ]
  },
  {
   "cell_type": "code",
   "execution_count": 32,
   "id": "81c34639",
   "metadata": {},
   "outputs": [
    {
     "name": "stdout",
     "output_type": "stream",
     "text": [
      " [1]"
     ]
    },
    {
     "name": "stdout",
     "output_type": "stream",
     "text": [
      " \"I was here before\""
     ]
    },
    {
     "name": "stdout",
     "output_type": "stream",
     "text": [
      " \"This is it\"       "
     ]
    },
    {
     "name": "stdout",
     "output_type": "stream",
     "text": [
      " \"There she is\"     "
     ]
    },
    {
     "name": "stdout",
     "output_type": "stream",
     "text": [
      "\n"
     ]
    },
    {
     "name": "stdout",
     "output_type": "stream",
     "text": [
      " [4]"
     ]
    },
    {
     "name": "stdout",
     "output_type": "stream",
     "text": [
      " \"So do I.\"         "
     ]
    },
    {
     "name": "stdout",
     "output_type": "stream",
     "text": [
      " \"What is it?\"      "
     ]
    },
    {
     "name": "stdout",
     "output_type": "stream",
     "text": [
      " \"If you have to,\"  "
     ]
    },
    {
     "name": "stdout",
     "output_type": "stream",
     "text": [
      "\n"
     ]
    },
    {
     "name": "stdout",
     "output_type": "stream",
     "text": [
      " [7]"
     ]
    },
    {
     "name": "stdout",
     "output_type": "stream",
     "text": [
      " \"Why is that?\"     "
     ]
    },
    {
     "name": "stdout",
     "output_type": "stream",
     "text": [
      " \"No...\"            "
     ]
    },
    {
     "name": "stdout",
     "output_type": "stream",
     "text": [
      " \"Not me,\"          "
     ]
    },
    {
     "name": "stdout",
     "output_type": "stream",
     "text": [
      "\n"
     ]
    },
    {
     "name": "stdout",
     "output_type": "stream",
     "text": [
      "[10]"
     ]
    },
    {
     "name": "stdout",
     "output_type": "stream",
     "text": [
      " \"What?\"            "
     ]
    },
    {
     "name": "stdout",
     "output_type": "stream",
     "text": [
      " \"No,\"              "
     ]
    },
    {
     "name": "stdout",
     "output_type": "stream",
     "text": [
      " \"You what?!\"       "
     ]
    },
    {
     "name": "stdout",
     "output_type": "stream",
     "text": [
      "\n"
     ]
    }
   ],
   "source": [
    "%%R\n",
    "raw.corpus.mdws[which(all.sums.mdws==0)]"
   ]
  },
  {
   "cell_type": "code",
   "execution_count": 33,
   "id": "05ea3d77",
   "metadata": {},
   "outputs": [
    {
     "name": "stdout",
     "output_type": "stream",
     "text": [
      "[1]"
     ]
    },
    {
     "name": "stdout",
     "output_type": "stream",
     "text": [
      " 448"
     ]
    },
    {
     "name": "stdout",
     "output_type": "stream",
     "text": [
      " 988"
     ]
    },
    {
     "name": "stdout",
     "output_type": "stream",
     "text": [
      "\n"
     ]
    }
   ],
   "source": [
    "%%R\n",
    "corpus.matrix.mdws<-as.matrix(corpus.dtm.mdws)\n",
    "corpus.matrix.mdws<-corpus.matrix.mdws[-which(all.sums.mdws==0),]\n",
    "dim(corpus.matrix.mdws)"
   ]
  },
  {
   "cell_type": "code",
   "execution_count": 34,
   "id": "b2e6639f",
   "metadata": {},
   "outputs": [
    {
     "name": "stdout",
     "output_type": "stream",
     "text": [
      "[1]"
     ]
    },
    {
     "name": "stdout",
     "output_type": "stream",
     "text": [
      " 448"
     ]
    },
    {
     "name": "stdout",
     "output_type": "stream",
     "text": [
      "   2"
     ]
    },
    {
     "name": "stdout",
     "output_type": "stream",
     "text": [
      "\n"
     ]
    }
   ],
   "source": [
    "%%R\n",
    "metadata.table.mdws<-metadata.table.mdws[-which(all.sums.mdws==0),]\n",
    "dim(metadata.table.mdws)"
   ]
  },
  {
   "cell_type": "code",
   "execution_count": 35,
   "id": "4d2fd73f",
   "metadata": {},
   "outputs": [
    {
     "name": "stdout",
     "output_type": "stream",
     "text": [
      " [1]"
     ]
    },
    {
     "name": "stdout",
     "output_type": "stream",
     "text": [
      " \"like\"   "
     ]
    },
    {
     "name": "stdout",
     "output_type": "stream",
     "text": [
      " \"just\"   "
     ]
    },
    {
     "name": "stdout",
     "output_type": "stream",
     "text": [
      " \"im\"     "
     ]
    },
    {
     "name": "stdout",
     "output_type": "stream",
     "text": [
      " \"right\"  "
     ]
    },
    {
     "name": "stdout",
     "output_type": "stream",
     "text": [
      " \"thats\"  "
     ]
    },
    {
     "name": "stdout",
     "output_type": "stream",
     "text": [
      " \"can\"    "
     ]
    },
    {
     "name": "stdout",
     "output_type": "stream",
     "text": [
      " \"sure\"   "
     ]
    },
    {
     "name": "stdout",
     "output_type": "stream",
     "text": [
      "\n"
     ]
    },
    {
     "name": "stdout",
     "output_type": "stream",
     "text": [
      " [8]"
     ]
    },
    {
     "name": "stdout",
     "output_type": "stream",
     "text": [
      " \"well\"   "
     ]
    },
    {
     "name": "stdout",
     "output_type": "stream",
     "text": [
      " \"get\"    "
     ]
    },
    {
     "name": "stdout",
     "output_type": "stream",
     "text": [
      " \"good\"   "
     ]
    },
    {
     "name": "stdout",
     "output_type": "stream",
     "text": [
      " \"think\"  "
     ]
    },
    {
     "name": "stdout",
     "output_type": "stream",
     "text": [
      " \"really\" "
     ]
    },
    {
     "name": "stdout",
     "output_type": "stream",
     "text": [
      " \"dont\"   "
     ]
    },
    {
     "name": "stdout",
     "output_type": "stream",
     "text": [
      " \"amazing\""
     ]
    },
    {
     "name": "stdout",
     "output_type": "stream",
     "text": [
      "\n"
     ]
    },
    {
     "name": "stdout",
     "output_type": "stream",
     "text": [
      "[15]"
     ]
    },
    {
     "name": "stdout",
     "output_type": "stream",
     "text": [
      " \"now\"    "
     ]
    },
    {
     "name": "stdout",
     "output_type": "stream",
     "text": [
      "\n"
     ]
    }
   ],
   "source": [
    "%%R\n",
    "n=500\n",
    "word.sums.mdws<-colSums(corpus.matrix.mdws)\n",
    "word.sums.mdws<-sort(word.sums.mdws, decreasing=T)\n",
    "mfw.mdws<-names(word.sums.mdws[1:n])\n",
    "mfw.mdws[1:15]"
   ]
  },
  {
   "cell_type": "code",
   "execution_count": 36,
   "id": "d221c5c3",
   "metadata": {},
   "outputs": [],
   "source": [
    "%%R\n",
    "#This code is called by the function below - don't run this by itself\n",
    "#Code takes two variables. \n",
    "#1. A document term matrix (rows as documents, columns as words, cells as counts of words in documents)\n",
    "#2. A vector of group assignments for the texts\n",
    "qdMDWs<-function(dtm.matrix, groups, alpha=0.05){\n",
    "  #let user know what's happening\n",
    "  print(\"MDWs\")\n",
    "  #get all of the actual words from the columns in the document term matrix\n",
    "  all.terms<-colnames(dtm.matrix)\n",
    "  #figure out which columns in the DTM correspond to the target population\n",
    "  target.index<-which(groups==\"Target\")\n",
    "  #Assuming that there are more than one text in the target group\n",
    "  if(length(target.index)>1){\n",
    "    #get the total count of each word for all of the texts in the target group\n",
    "    target.sub<-colSums(dtm.matrix[target.index,])\n",
    "    #if not\n",
    "  } else {\n",
    "    #just get the counts for that text\n",
    "    target.sub<-dtm.matrix[target.index,]\n",
    "  }\n",
    "  #get the total count for all groups of each words\n",
    "  total.obs<-colSums(dtm.matrix)\n",
    "  #get the total word count for all of the words in the target subset of the corpus\n",
    "  target.words<-sum(target.sub)\n",
    "  #calculate frequencies of words in target group by dividing by total words in corpus\n",
    "  target.scaled<-target.sub/sum(target.sub)\n",
    "  #calculate frequencies of all words in the corpus (target and non-target)\n",
    "  total.scaled<-total.obs/sum(total.obs)\n",
    "  #find expected number of each words in the target sub-corpus by multiplying the total frequency across the entire corpus by the number of words in the target corpus\n",
    "  target.exp<-round((total.scaled*target.words), 0)\n",
    "  #find the difference between the expected number of words and the actual number of words in the target subcorpus\n",
    "  term.diff<-target.sub-target.exp\n",
    "  #find all of the words that show up less frequently than expected\n",
    "  keep.index<-which(term.diff>0)\n",
    "  #remove the words that show up less frequently than expected from the total corpus\n",
    "  all.terms<-all.terms[keep.index]\n",
    "  #remove the words that show up less frequently than expected from the target subcorpus\n",
    "  target.sub<-target.sub[keep.index]\n",
    "  #remove the words that show up less frequently than expected from the target expected subcorpus\n",
    "  target.exp<-target.exp[keep.index]\n",
    "  #find the total number of times for each word that it isn't in the target corpus\n",
    "  target.missing<-target.words-target.sub\n",
    "  #find the total number of times for each expected word that would would expect to not find it in the target corpus\n",
    "  target.missing.exp<-target.words-target.exp\n",
    "  #for every word, create a 2x2 contingency table of the number of times the word appears, the number of times it doesn't appear, the number of times we expect it to appear, the number of times we expect it not to appear\n",
    "  all.c.tables<-mapply(function(x,y,z,a) matrix(c(x,y,z,a), ncol=2, byrow=T), target.sub, target.exp, target.missing, target.missing.exp, SIMPLIFY=F)\n",
    "  #run a fisher's exact test on all of the contingency tables (1 ber word)\n",
    "  all.fishers<-lapply(all.c.tables, function(x) fisher.test(x))\n",
    "  #extract the p value from all of the fisher's tests\n",
    "  all.p<-unlist(lapply(all.fishers, function(x) x$p.value))\n",
    "  #figure out which ones are significantly more present\n",
    "  sig.index<-which(all.p<alpha)\n",
    "  #tell the user you are about to print out the number of significant mdws\n",
    "  print(\"Significant MDWs:\")\n",
    "  #print the number of significant mdws\n",
    "  print(length(sig.index))\n",
    "  #if there are more than 0 mdws\n",
    "  if(length(sig.index)>0){\n",
    "    #create a vector of the words (the mdws)\n",
    "    Term<-all.terms[sig.index]\n",
    "    #create a vector of the number of times each word appears in the target corpus\n",
    "    Obs<-target.sub[sig.index]\n",
    "    #create a vector of the frequency of the words in the target corpus\n",
    "    ObsScaled<-Obs/target.words\n",
    "    #create a vector of the observed over expected for each word\n",
    "    Obs_Exp<-Obs/target.exp[sig.index]\n",
    "    #create a vector of the p.values for each word\n",
    "    pValue<-all.p[sig.index]\n",
    "    #merge all of these vectors into a dataframe\n",
    "    final.table<-data.frame(Term, Obs, ObsScaled, Obs_Exp, pValue)\n",
    "    #sort the data frame by the ObsScaled\n",
    "    final.table<-final.table[order(final.table[,3], decreasing=T),]\n",
    "    #create a column ranking the words by their scaled frequency\n",
    "    final.table$Rank<-seq(1, nrow(final.table), by=1)\n",
    "    #return the table\n",
    "    return(final.table)\n",
    "  } else {\n",
    "    #if there are no mdws, return an NA\n",
    "    return(NA)\n",
    "  }\n",
    "}\n",
    "\n",
    "#this is the code to run, it takes two variables\n",
    "#1) a document term matrix (words as columns, texts as rows, cells as individual counts (NOT FREQUENCIES))\n",
    "#2) a vector of group assignments for the texts - the code will find MDWs for each group\n",
    "allMDW<-function(dtm.matrix, group.vector, alpha=0.05){\n",
    "  #find the names of the unique groups\n",
    "  unique.groups<-unique(group.vector)\n",
    "  #find the number of unique groups\n",
    "  num.groups<-length(unique.groups)\n",
    "  #create an empty list to put the mdw tables in\n",
    "  all.mdws<-list()\n",
    "  #for each group\n",
    "  for(i in 1:num.groups){\n",
    "    #get the name of the current group\n",
    "    curr.group<-unique.groups[i]\n",
    "    #print out the name of the current group\n",
    "    print(curr.group)\n",
    "    #move group vector into a temporary variable\n",
    "    temp.groups<-group.vector\n",
    "    #rename all of the elements of that vector that correspond to the current target group as \"Target\"\n",
    "    temp.groups[which(temp.groups==curr.group)]<-\"Target\"\n",
    "    #run the code above, but sending the original dtm, by our modified group vector in which the ones we care about are now named \"Target\"\n",
    "    mdws<-qdMDWs(dtm.matrix, temp.groups, alpha)\n",
    "    #if there are any MDWs\n",
    "    if(!is.na(mdws)){\n",
    "      #On the resulting table from the code above, create a new column labeled by the name of the group\n",
    "      mdws$Group<-rep(curr.group, nrow(mdws))\n",
    "      #add that mdw table (the current one) to the list of all mdw tables\n",
    "      all.mdws<-c(all.mdws, list(mdws))\n",
    "    }\n",
    "  }\n",
    "  #collapse the list of all mdw tables into one big table\n",
    "  all.mdws<-do.call(\"rbind\", all.mdws)\n",
    "  #return it\n",
    "  return(all.mdws)\n",
    "}\n"
   ]
  },
  {
   "cell_type": "code",
   "execution_count": 37,
   "id": "b4fb66fd",
   "metadata": {},
   "outputs": [
    {
     "name": "stdout",
     "output_type": "stream",
     "text": [
      "NULL\n"
     ]
    },
    {
     "name": "stdout",
     "output_type": "stream",
     "text": [
      "[1]"
     ]
    },
    {
     "name": "stdout",
     "output_type": "stream",
     "text": [
      " \"MDWs\""
     ]
    },
    {
     "name": "stdout",
     "output_type": "stream",
     "text": [
      "\n"
     ]
    },
    {
     "name": "stdout",
     "output_type": "stream",
     "text": [
      "[1]"
     ]
    },
    {
     "name": "stdout",
     "output_type": "stream",
     "text": [
      " \"Significant MDWs:\""
     ]
    },
    {
     "name": "stdout",
     "output_type": "stream",
     "text": [
      "\n"
     ]
    },
    {
     "name": "stdout",
     "output_type": "stream",
     "text": [
      "[1]"
     ]
    },
    {
     "name": "stdout",
     "output_type": "stream",
     "text": [
      " 0"
     ]
    },
    {
     "name": "stdout",
     "output_type": "stream",
     "text": [
      "\n"
     ]
    },
    {
     "name": "stdout",
     "output_type": "stream",
     "text": [
      "NULL\n"
     ]
    },
    {
     "name": "stdout",
     "output_type": "stream",
     "text": [
      "[1]"
     ]
    },
    {
     "name": "stdout",
     "output_type": "stream",
     "text": [
      " \"MDWs\""
     ]
    },
    {
     "name": "stdout",
     "output_type": "stream",
     "text": [
      "\n"
     ]
    },
    {
     "name": "stdout",
     "output_type": "stream",
     "text": [
      "[1]"
     ]
    },
    {
     "name": "stdout",
     "output_type": "stream",
     "text": [
      " \"Significant MDWs:\""
     ]
    },
    {
     "name": "stdout",
     "output_type": "stream",
     "text": [
      "\n"
     ]
    },
    {
     "name": "stdout",
     "output_type": "stream",
     "text": [
      "[1]"
     ]
    },
    {
     "name": "stdout",
     "output_type": "stream",
     "text": [
      " 0"
     ]
    },
    {
     "name": "stdout",
     "output_type": "stream",
     "text": [
      "\n"
     ]
    }
   ],
   "source": [
    "%%R\n",
    "#Get the group data from the metadata\n",
    "group.source.mdws<-metadata.table.mdws$Group\n",
    "#Run the allMDW function using the corpus, the groups, and a cut-off of 0.5\n",
    "mdw.table<-allMDW(corpus.matrix.mdws, group.source.mdws, 0.05)\n",
    "#Create a CSV for the MDWs\n",
    "write.csv(mdw.table, file=\"CorpusMDWs.csv\", row.names=F)\n",
    "mdw<-unique(mdw.table[,1])"
   ]
  },
  {
   "cell_type": "code",
   "execution_count": 38,
   "id": "709209a2",
   "metadata": {},
   "outputs": [
    {
     "name": "stdout",
     "output_type": "stream",
     "text": [
      "NULL\n"
     ]
    },
    {
     "name": "stdout",
     "output_type": "stream",
     "text": [
      "[1]"
     ]
    },
    {
     "name": "stdout",
     "output_type": "stream",
     "text": [
      " \"MDWs\""
     ]
    },
    {
     "name": "stdout",
     "output_type": "stream",
     "text": [
      "\n"
     ]
    },
    {
     "name": "stdout",
     "output_type": "stream",
     "text": [
      "[1]"
     ]
    },
    {
     "name": "stdout",
     "output_type": "stream",
     "text": [
      " \"Significant MDWs:\""
     ]
    },
    {
     "name": "stdout",
     "output_type": "stream",
     "text": [
      "\n"
     ]
    },
    {
     "name": "stdout",
     "output_type": "stream",
     "text": [
      "[1]"
     ]
    },
    {
     "name": "stdout",
     "output_type": "stream",
     "text": [
      " 0"
     ]
    },
    {
     "name": "stdout",
     "output_type": "stream",
     "text": [
      "\n"
     ]
    },
    {
     "name": "stdout",
     "output_type": "stream",
     "text": [
      "NULL\n"
     ]
    },
    {
     "name": "stdout",
     "output_type": "stream",
     "text": [
      "[1]"
     ]
    },
    {
     "name": "stdout",
     "output_type": "stream",
     "text": [
      " \"MDWs\""
     ]
    },
    {
     "name": "stdout",
     "output_type": "stream",
     "text": [
      "\n"
     ]
    },
    {
     "name": "stdout",
     "output_type": "stream",
     "text": [
      "[1]"
     ]
    },
    {
     "name": "stdout",
     "output_type": "stream",
     "text": [
      " \"Significant MDWs:\""
     ]
    },
    {
     "name": "stdout",
     "output_type": "stream",
     "text": [
      "\n"
     ]
    },
    {
     "name": "stdout",
     "output_type": "stream",
     "text": [
      "[1]"
     ]
    },
    {
     "name": "stdout",
     "output_type": "stream",
     "text": [
      " 0"
     ]
    },
    {
     "name": "stdout",
     "output_type": "stream",
     "text": [
      "\n"
     ]
    }
   ],
   "source": [
    "%%R\n",
    "group.source.mdws<-metadata.table.mdws$Group\n",
    "#Now we're using .1 as the cutoff\n",
    "mdw.table<-allMDW(corpus.matrix.mdws, group.source.mdws, 0.1)\n",
    "write.csv(mdw.table, file=\"CorpusMDWs-v2.csv\", row.names=F)\n",
    "mdw<-unique(mdw.table[,1])"
   ]
  },
  {
   "cell_type": "code",
   "execution_count": 39,
   "id": "da55f88c",
   "metadata": {},
   "outputs": [
    {
     "name": "stdout",
     "output_type": "stream",
     "text": [
      "[1]"
     ]
    },
    {
     "name": "stdout",
     "output_type": "stream",
     "text": [
      " 230"
     ]
    },
    {
     "name": "stdout",
     "output_type": "stream",
     "text": [
      "   2"
     ]
    },
    {
     "name": "stdout",
     "output_type": "stream",
     "text": [
      "\n"
     ]
    }
   ],
   "source": [
    "%%R\n",
    "#Sets the working directory (e.g. where it looks for files)\n",
    "setwd(\"/Users/qad/Documents/GitHub/dsc15\")\n",
    "#Reads the non-Ilana quotes CSV\n",
    "nonilana.pca<-read.csv(file='non_ilana_sample.csv', header=T)\n",
    "#Reads the Ilana quotes CSV\n",
    "ilana.pca<-read.csv(file='ilana.csv', header=T)\n",
    "#Sets the column names on the Ilana quotes to be attribution, source, quote\n",
    "colnames(length.ilana)<-c(\"Attribution\", \"Source\", \"Quote\")\n",
    "#Checks the dimensions (rows, columns) for the non-Ilana quotes\n",
    "dim(length.nonilana)"
   ]
  },
  {
   "cell_type": "code",
   "execution_count": 40,
   "id": "0bc8310d",
   "metadata": {},
   "outputs": [],
   "source": [
    "%%R\n",
    "ilana.quotes.pca<-ilana.mdws$Text[which(ilana.mdws$Group %in% c('BYT9', 'BYT10', \"BYT11\", \"BYT12\"))]\n"
   ]
  },
  {
   "cell_type": "code",
   "execution_count": 41,
   "id": "9576c663",
   "metadata": {},
   "outputs": [
    {
     "name": "stderr",
     "output_type": "stream",
     "text": [
      "R[write to console]: Loading required package: ggplot2\n",
      "\n"
     ]
    },
    {
     "name": "stderr",
     "output_type": "stream",
     "text": [
      "R[write to console]: \n",
      "Attaching package: ‘ggplot2’\n",
      "\n",
      "\n"
     ]
    },
    {
     "name": "stderr",
     "output_type": "stream",
     "text": [
      "R[write to console]: The following object is masked from ‘package:NLP’:\n",
      "\n",
      "    annotate\n",
      "\n",
      "\n"
     ]
    },
    {
     "name": "stderr",
     "output_type": "stream",
     "text": [
      "R[write to console]: Loading required package: plyr\n",
      "\n"
     ]
    },
    {
     "name": "stderr",
     "output_type": "stream",
     "text": [
      "R[write to console]: Loading required package: scales\n",
      "\n"
     ]
    },
    {
     "name": "stderr",
     "output_type": "stream",
     "text": [
      "R[write to console]: Loading required package: grid\n",
      "\n"
     ]
    },
    {
     "data": {
      "image/png": "[encoded data removed]",
      "text/plain": [
       "<IPython.core.display.Image object>"
      ]
     },
     "metadata": {},
     "output_type": "display_data"
    }
   ],
   "source": [
    "%%R\n",
    "#Turn word counts into word frequencies\n",
    "scaled.dtm.pca<-corpus.matrix.mdws/rowSums(corpus.matrix.mdws)\n",
    "#Get the most frequent words using the scaled corpus\n",
    "features.to.keep.mdws<-mfw.mdws\n",
    "#Create the feature table\n",
    "feature.table.pca<-scaled.dtm.pca[,which(colnames(scaled.dtm.pca) %in% features.to.keep.mdws)]\n",
    "feature.names.pca<-colnames(feature.table.pca)\n",
    "\n",
    "#Do PCA to see if there is visual separation between the groups based on all 500 most frequent words\n",
    "colnames(feature.table.pca)<-feature.names.pca\n",
    "test.pca<-prcomp(feature.table.pca)\n",
    "#Load the biplot library\n",
    "library(ggbiplot)\n",
    "#Generate the biplot\n",
    "test.pca<-prcomp(feature.table.pca, scale=T)\n",
    "ggbiplot(test.pca, ellipse=T, groups=metadata.table.mdws$Group)\n"
   ]
  },
  {
   "cell_type": "code",
   "execution_count": 42,
   "id": "d04d5ffe",
   "metadata": {},
   "outputs": [
    {
     "name": "stdout",
     "output_type": "stream",
     "text": [
      " [1]"
     ]
    },
    {
     "name": "stdout",
     "output_type": "stream",
     "text": [
      " \"like\"     "
     ]
    },
    {
     "name": "stdout",
     "output_type": "stream",
     "text": [
      " \"just\"     "
     ]
    },
    {
     "name": "stdout",
     "output_type": "stream",
     "text": [
      " \"im\"       "
     ]
    },
    {
     "name": "stdout",
     "output_type": "stream",
     "text": [
      " \"right\"    "
     ]
    },
    {
     "name": "stdout",
     "output_type": "stream",
     "text": [
      " \"thats\"    "
     ]
    },
    {
     "name": "stdout",
     "output_type": "stream",
     "text": [
      " \"can\"      "
     ]
    },
    {
     "name": "stdout",
     "output_type": "stream",
     "text": [
      "\n"
     ]
    },
    {
     "name": "stdout",
     "output_type": "stream",
     "text": [
      " [7]"
     ]
    },
    {
     "name": "stdout",
     "output_type": "stream",
     "text": [
      " \"sure\"     "
     ]
    },
    {
     "name": "stdout",
     "output_type": "stream",
     "text": [
      " \"well\"     "
     ]
    },
    {
     "name": "stdout",
     "output_type": "stream",
     "text": [
      " \"get\"      "
     ]
    },
    {
     "name": "stdout",
     "output_type": "stream",
     "text": [
      " \"good\"     "
     ]
    },
    {
     "name": "stdout",
     "output_type": "stream",
     "text": [
      " \"think\"    "
     ]
    },
    {
     "name": "stdout",
     "output_type": "stream",
     "text": [
      " \"really\"   "
     ]
    },
    {
     "name": "stdout",
     "output_type": "stream",
     "text": [
      "\n"
     ]
    },
    {
     "name": "stdout",
     "output_type": "stream",
     "text": [
      "[13]"
     ]
    },
    {
     "name": "stdout",
     "output_type": "stream",
     "text": [
      " \"dont\"     "
     ]
    },
    {
     "name": "stdout",
     "output_type": "stream",
     "text": [
      " \"amazing\"  "
     ]
    },
    {
     "name": "stdout",
     "output_type": "stream",
     "text": [
      " \"now\"      "
     ]
    },
    {
     "name": "stdout",
     "output_type": "stream",
     "text": [
      " \"totally\"  "
     ]
    },
    {
     "name": "stdout",
     "output_type": "stream",
     "text": [
      " \"nechama\"  "
     ]
    },
    {
     "name": "stdout",
     "output_type": "stream",
     "text": [
      " \"one\"      "
     ]
    },
    {
     "name": "stdout",
     "output_type": "stream",
     "text": [
      "\n"
     ]
    },
    {
     "name": "stdout",
     "output_type": "stream",
     "text": [
      "[19]"
     ]
    },
    {
     "name": "stdout",
     "output_type": "stream",
     "text": [
      " \"chani\"    "
     ]
    },
    {
     "name": "stdout",
     "output_type": "stream",
     "text": [
      " \"going\"    "
     ]
    },
    {
     "name": "stdout",
     "output_type": "stream",
     "text": [
      " \"mrs\"      "
     ]
    },
    {
     "name": "stdout",
     "output_type": "stream",
     "text": [
      " \"way\"      "
     ]
    },
    {
     "name": "stdout",
     "output_type": "stream",
     "text": [
      " \"batya\"    "
     ]
    },
    {
     "name": "stdout",
     "output_type": "stream",
     "text": [
      " \"us\"       "
     ]
    },
    {
     "name": "stdout",
     "output_type": "stream",
     "text": [
      "\n"
     ]
    },
    {
     "name": "stdout",
     "output_type": "stream",
     "text": [
      "[25]"
     ]
    },
    {
     "name": "stdout",
     "output_type": "stream",
     "text": [
      " \"will\"     "
     ]
    },
    {
     "name": "stdout",
     "output_type": "stream",
     "text": [
      " \"pinky\"    "
     ]
    },
    {
     "name": "stdout",
     "output_type": "stream",
     "text": [
      " \"know\"     "
     ]
    },
    {
     "name": "stdout",
     "output_type": "stream",
     "text": [
      " \"okay\"     "
     ]
    },
    {
     "name": "stdout",
     "output_type": "stream",
     "text": [
      " \"theres\"   "
     ]
    },
    {
     "name": "stdout",
     "output_type": "stream",
     "text": [
      " \"come\"     "
     ]
    },
    {
     "name": "stdout",
     "output_type": "stream",
     "text": [
      "\n"
     ]
    },
    {
     "name": "stdout",
     "output_type": "stream",
     "text": [
      "[31]"
     ]
    },
    {
     "name": "stdout",
     "output_type": "stream",
     "text": [
      " \"make\"     "
     ]
    },
    {
     "name": "stdout",
     "output_type": "stream",
     "text": [
      " \"new\"      "
     ]
    },
    {
     "name": "stdout",
     "output_type": "stream",
     "text": [
      " \"time\"     "
     ]
    },
    {
     "name": "stdout",
     "output_type": "stream",
     "text": [
      " \"much\"     "
     ]
    },
    {
     "name": "stdout",
     "output_type": "stream",
     "text": [
      " \"lets\"     "
     ]
    },
    {
     "name": "stdout",
     "output_type": "stream",
     "text": [
      " \"see\"      "
     ]
    },
    {
     "name": "stdout",
     "output_type": "stream",
     "text": [
      "\n"
     ]
    },
    {
     "name": "stdout",
     "output_type": "stream",
     "text": [
      "[37]"
     ]
    },
    {
     "name": "stdout",
     "output_type": "stream",
     "text": [
      " \"hey\"      "
     ]
    },
    {
     "name": "stdout",
     "output_type": "stream",
     "text": [
      " \"shes\"     "
     ]
    },
    {
     "name": "stdout",
     "output_type": "stream",
     "text": [
      " \"look\"     "
     ]
    },
    {
     "name": "stdout",
     "output_type": "stream",
     "text": [
      " \"got\"      "
     ]
    },
    {
     "name": "stdout",
     "output_type": "stream",
     "text": [
      " \"youre\"    "
     ]
    },
    {
     "name": "stdout",
     "output_type": "stream",
     "text": [
      " \"want\"     "
     ]
    },
    {
     "name": "stdout",
     "output_type": "stream",
     "text": [
      "\n"
     ]
    },
    {
     "name": "stdout",
     "output_type": "stream",
     "text": [
      "[43]"
     ]
    },
    {
     "name": "stdout",
     "output_type": "stream",
     "text": [
      " \"work\"     "
     ]
    },
    {
     "name": "stdout",
     "output_type": "stream",
     "text": [
      " \"go\"       "
     ]
    },
    {
     "name": "stdout",
     "output_type": "stream",
     "text": [
      " \"something\""
     ]
    },
    {
     "name": "stdout",
     "output_type": "stream",
     "text": [
      " \"mean\"     "
     ]
    },
    {
     "name": "stdout",
     "output_type": "stream",
     "text": [
      " \"great\"    "
     ]
    },
    {
     "name": "stdout",
     "output_type": "stream",
     "text": [
      " \"take\"     "
     ]
    },
    {
     "name": "stdout",
     "output_type": "stream",
     "text": [
      "\n"
     ]
    },
    {
     "name": "stdout",
     "output_type": "stream",
     "text": [
      "[49]"
     ]
    },
    {
     "name": "stdout",
     "output_type": "stream",
     "text": [
      " \"youll\"    "
     ]
    },
    {
     "name": "stdout",
     "output_type": "stream",
     "text": [
      " \"shani\"    "
     ]
    },
    {
     "name": "stdout",
     "output_type": "stream",
     "text": [
      "\n"
     ]
    }
   ],
   "source": [
    "%%R\n",
    "#Try again with 50 words\n",
    "top.mfw.pca<-mfw.mdws[1:50]\n",
    "top.mfw.pca"
   ]
  },
  {
   "cell_type": "code",
   "execution_count": 43,
   "id": "b52ca979",
   "metadata": {},
   "outputs": [
    {
     "name": "stdout",
     "output_type": "stream",
     "text": [
      "[1]"
     ]
    },
    {
     "name": "stdout",
     "output_type": "stream",
     "text": [
      " 448"
     ]
    },
    {
     "name": "stdout",
     "output_type": "stream",
     "text": [
      "  50"
     ]
    },
    {
     "name": "stdout",
     "output_type": "stream",
     "text": [
      "\n"
     ]
    }
   ],
   "source": [
    "%%R\n",
    "#Only keep the top 50 features\n",
    "top.features.pca<-feature.table.pca[,which(colnames(feature.table.pca) %in% top.mfw.pca)]\n",
    "#Get the actual words\n",
    "feature.names.pca<-colnames(feature.table.pca)\n",
    "dim(top.features.pca)"
   ]
  },
  {
   "cell_type": "code",
   "execution_count": 44,
   "id": "84a24c71",
   "metadata": {},
   "outputs": [
    {
     "data": {
      "image/png": "[encoded data removed]",
      "text/plain": [
       "<IPython.core.display.Image object>"
      ]
     },
     "metadata": {},
     "output_type": "display_data"
    }
   ],
   "source": [
    "%%R\n",
    "colnames(feature.table.pca)<-feature.names.pca\n",
    "test2.pca<-prcomp(top.features.pca)\n",
    "library(ggbiplot)\n",
    "test2.pca<-prcomp(top.features.pca, scale=T)\n",
    "ggbiplot(test2.pca, ellipse=T, groups=metadata.table.mdws$Group)"
   ]
  },
  {
   "cell_type": "code",
   "execution_count": 45,
   "id": "95a23bfe",
   "metadata": {},
   "outputs": [],
   "source": [
    "%%R\n",
    "setwd(\"/Users/qad/Documents/GitHub/dsc15\")\n",
    "ilana.sc<-read.csv(\"ilana.csv\", header=T)\n",
    "non.ilana.sc<-read.csv(\"non_ilana_sample.csv\", header=T)\n",
    "ilana.quotes.sc<-ilana.sc$Quote[which(ilana.sc$Source %in% c(\"BYT9\", \"BYT10\", \"BYT11\", \"BYT12\"))]\n",
    "all.text.sc<-c(ilana.quotes.sc, non.ilana.sc$Text)\n",
    "groups.sc<-c((rep(\"Ilana\", 230)), rep(\"NonIlana\", 230))"
   ]
  },
  {
   "cell_type": "code",
   "execution_count": 46,
   "id": "b5e793ad",
   "metadata": {},
   "outputs": [
    {
     "name": "stdout",
     "output_type": "stream",
     "text": [
      "<<DocumentTermMatrix (documents: 460, terms: 1095)>>\n"
     ]
    },
    {
     "name": "stdout",
     "output_type": "stream",
     "text": [
      "Non-/sparse entries: 4253/499447\n"
     ]
    },
    {
     "name": "stdout",
     "output_type": "stream",
     "text": [
      "Sparsity           : 99%\n"
     ]
    },
    {
     "name": "stdout",
     "output_type": "stream",
     "text": [
      "Maximal term length: 19\n"
     ]
    },
    {
     "name": "stdout",
     "output_type": "stream",
     "text": [
      "Weighting          : term frequency (tf)\n"
     ]
    }
   ],
   "source": [
    "%%R\n",
    "metadata.table.sc<-data.frame(all.text.sc, groups.sc)\n",
    "colnames(metadata.table.sc)<-c(\"Text\", \"Group\")\n",
    "raw.corpus.sc<-all.text.sc\n",
    "clean.corpus.sc<-lapply(raw.corpus.sc, function(x) fullClean(x))\n",
    "#Create a vector with the clean corpus\n",
    "clean.corpus.sc<-Corpus(VectorSource(clean.corpus.sc))\n",
    "corpus.dtm.sc<-DocumentTermMatrix(clean.corpus.sc, control=list(wordLengths=c(1,Inf)))\n",
    "corpus.matrix.sc<-as.matrix(corpus.dtm.sc)\n",
    "corpus.dtm.sc"
   ]
  },
  {
   "cell_type": "code",
   "execution_count": 47,
   "id": "ad02343c",
   "metadata": {},
   "outputs": [
    {
     "name": "stdout",
     "output_type": "stream",
     "text": [
      "[1]"
     ]
    },
    {
     "name": "stdout",
     "output_type": "stream",
     "text": [
      " 460"
     ]
    },
    {
     "name": "stdout",
     "output_type": "stream",
     "text": [
      "  75"
     ]
    },
    {
     "name": "stdout",
     "output_type": "stream",
     "text": [
      "\n"
     ]
    }
   ],
   "source": [
    "%%R\n",
    "n=75\n",
    "word.sums.sc<-colSums(corpus.matrix.sc)\n",
    "word.sums.sc<-sort(word.sums.sc, decreasing=T)\n",
    "mfw.sc<-names(word.sums.sc[1:n])\n",
    "scaled.dtm.sc<-corpus.matrix.sc/rowSums(corpus.matrix.sc)\n",
    "features.to.keep.sc<-mfw.sc\n",
    "feature.table.sc<-scaled.dtm.sc[,which(colnames(scaled.dtm.sc) %in% features.to.keep.sc)]\n",
    "feature.names.sc<-colnames(feature.table.sc)\n",
    "colnames(feature.table.sc)<-feature.names.sc\n",
    "dim(feature.table.sc)"
   ]
  },
  {
   "cell_type": "code",
   "execution_count": 48,
   "id": "7c254029",
   "metadata": {},
   "outputs": [
    {
     "name": "stderr",
     "output_type": "stream",
     "text": [
      "R[write to console]:  `stepwise classification', using 10-fold cross-validated correctness rate of method lda'.\n",
      "\n"
     ]
    },
    {
     "name": "stderr",
     "output_type": "stream",
     "text": [
      "R[write to console]: 460 observations of 75 variables in 2 classes; direction: both\n",
      "\n"
     ]
    },
    {
     "name": "stderr",
     "output_type": "stream",
     "text": [
      "R[write to console]: stop criterion: improvement less than 0.01%.\n",
      "\n"
     ]
    },
    {
     "name": "stdout",
     "output_type": "stream",
     "text": [
      "correctness rate: 0.5413;  in: \"like\";  "
     ]
    },
    {
     "name": "stdout",
     "output_type": "stream",
     "text": [
      "variables (1):"
     ]
    },
    {
     "name": "stdout",
     "output_type": "stream",
     "text": [
      " "
     ]
    },
    {
     "name": "stdout",
     "output_type": "stream",
     "text": [
      "like"
     ]
    },
    {
     "name": "stdout",
     "output_type": "stream",
     "text": [
      " "
     ]
    },
    {
     "name": "stdout",
     "output_type": "stream",
     "text": [
      "\n"
     ]
    },
    {
     "name": "stdout",
     "output_type": "stream",
     "text": [
      "correctness rate: 0.57826;  in: \"amazing\";  "
     ]
    },
    {
     "name": "stdout",
     "output_type": "stream",
     "text": [
      "variables (2):"
     ]
    },
    {
     "name": "stdout",
     "output_type": "stream",
     "text": [
      " "
     ]
    },
    {
     "name": "stdout",
     "output_type": "stream",
     "text": [
      "like,"
     ]
    },
    {
     "name": "stdout",
     "output_type": "stream",
     "text": [
      " "
     ]
    },
    {
     "name": "stdout",
     "output_type": "stream",
     "text": [
      "amazing"
     ]
    },
    {
     "name": "stdout",
     "output_type": "stream",
     "text": [
      " "
     ]
    },
    {
     "name": "stdout",
     "output_type": "stream",
     "text": [
      "\n"
     ]
    },
    {
     "name": "stdout",
     "output_type": "stream",
     "text": [
      "correctness rate: 0.60652;  in: \"right\";  "
     ]
    },
    {
     "name": "stdout",
     "output_type": "stream",
     "text": [
      "variables (3):"
     ]
    },
    {
     "name": "stdout",
     "output_type": "stream",
     "text": [
      " "
     ]
    },
    {
     "name": "stdout",
     "output_type": "stream",
     "text": [
      "like,"
     ]
    },
    {
     "name": "stdout",
     "output_type": "stream",
     "text": [
      " "
     ]
    },
    {
     "name": "stdout",
     "output_type": "stream",
     "text": [
      "amazing,"
     ]
    },
    {
     "name": "stdout",
     "output_type": "stream",
     "text": [
      " "
     ]
    },
    {
     "name": "stdout",
     "output_type": "stream",
     "text": [
      "right"
     ]
    },
    {
     "name": "stdout",
     "output_type": "stream",
     "text": [
      " "
     ]
    },
    {
     "name": "stdout",
     "output_type": "stream",
     "text": [
      "\n"
     ]
    },
    {
     "name": "stdout",
     "output_type": "stream",
     "text": [
      "correctness rate: 0.62174;  in: \"out\";  "
     ]
    },
    {
     "name": "stdout",
     "output_type": "stream",
     "text": [
      "variables (4):"
     ]
    },
    {
     "name": "stdout",
     "output_type": "stream",
     "text": [
      " "
     ]
    },
    {
     "name": "stdout",
     "output_type": "stream",
     "text": [
      "like,"
     ]
    },
    {
     "name": "stdout",
     "output_type": "stream",
     "text": [
      " "
     ]
    },
    {
     "name": "stdout",
     "output_type": "stream",
     "text": [
      "amazing,"
     ]
    },
    {
     "name": "stdout",
     "output_type": "stream",
     "text": [
      " "
     ]
    },
    {
     "name": "stdout",
     "output_type": "stream",
     "text": [
      "right,"
     ]
    },
    {
     "name": "stdout",
     "output_type": "stream",
     "text": [
      " "
     ]
    },
    {
     "name": "stdout",
     "output_type": "stream",
     "text": [
      "out"
     ]
    },
    {
     "name": "stdout",
     "output_type": "stream",
     "text": [
      " "
     ]
    },
    {
     "name": "stdout",
     "output_type": "stream",
     "text": [
      "\n"
     ]
    },
    {
     "name": "stdout",
     "output_type": "stream",
     "text": [
      "correctness rate: 0.63478;  in: \"can\";  "
     ]
    },
    {
     "name": "stdout",
     "output_type": "stream",
     "text": [
      "variables (5):"
     ]
    },
    {
     "name": "stdout",
     "output_type": "stream",
     "text": [
      " "
     ]
    },
    {
     "name": "stdout",
     "output_type": "stream",
     "text": [
      "like,"
     ]
    },
    {
     "name": "stdout",
     "output_type": "stream",
     "text": [
      " "
     ]
    },
    {
     "name": "stdout",
     "output_type": "stream",
     "text": [
      "amazing,"
     ]
    },
    {
     "name": "stdout",
     "output_type": "stream",
     "text": [
      " "
     ]
    },
    {
     "name": "stdout",
     "output_type": "stream",
     "text": [
      "right,"
     ]
    },
    {
     "name": "stdout",
     "output_type": "stream",
     "text": [
      " "
     ]
    },
    {
     "name": "stdout",
     "output_type": "stream",
     "text": [
      "out,"
     ]
    },
    {
     "name": "stdout",
     "output_type": "stream",
     "text": [
      " "
     ]
    },
    {
     "name": "stdout",
     "output_type": "stream",
     "text": [
      "can"
     ]
    },
    {
     "name": "stdout",
     "output_type": "stream",
     "text": [
      " "
     ]
    },
    {
     "name": "stdout",
     "output_type": "stream",
     "text": [
      "\n"
     ]
    },
    {
     "name": "stdout",
     "output_type": "stream",
     "text": [
      "correctness rate: 0.64565;  in: \"the\";  "
     ]
    },
    {
     "name": "stdout",
     "output_type": "stream",
     "text": [
      "variables (6):"
     ]
    },
    {
     "name": "stdout",
     "output_type": "stream",
     "text": [
      " "
     ]
    },
    {
     "name": "stdout",
     "output_type": "stream",
     "text": [
      "like,"
     ]
    },
    {
     "name": "stdout",
     "output_type": "stream",
     "text": [
      " "
     ]
    },
    {
     "name": "stdout",
     "output_type": "stream",
     "text": [
      "amazing,"
     ]
    },
    {
     "name": "stdout",
     "output_type": "stream",
     "text": [
      " "
     ]
    },
    {
     "name": "stdout",
     "output_type": "stream",
     "text": [
      "right,"
     ]
    },
    {
     "name": "stdout",
     "output_type": "stream",
     "text": [
      " "
     ]
    },
    {
     "name": "stdout",
     "output_type": "stream",
     "text": [
      "out,"
     ]
    },
    {
     "name": "stdout",
     "output_type": "stream",
     "text": [
      " "
     ]
    },
    {
     "name": "stdout",
     "output_type": "stream",
     "text": [
      "can,"
     ]
    },
    {
     "name": "stdout",
     "output_type": "stream",
     "text": [
      " "
     ]
    },
    {
     "name": "stdout",
     "output_type": "stream",
     "text": [
      "the"
     ]
    },
    {
     "name": "stdout",
     "output_type": "stream",
     "text": [
      " "
     ]
    },
    {
     "name": "stdout",
     "output_type": "stream",
     "text": [
      "\n"
     ]
    },
    {
     "name": "stdout",
     "output_type": "stream",
     "text": [
      "correctness rate: 0.66087;  in: \"sure\";  "
     ]
    },
    {
     "name": "stdout",
     "output_type": "stream",
     "text": [
      "variables (7):"
     ]
    },
    {
     "name": "stdout",
     "output_type": "stream",
     "text": [
      " "
     ]
    },
    {
     "name": "stdout",
     "output_type": "stream",
     "text": [
      "like,"
     ]
    },
    {
     "name": "stdout",
     "output_type": "stream",
     "text": [
      " "
     ]
    },
    {
     "name": "stdout",
     "output_type": "stream",
     "text": [
      "amazing,"
     ]
    },
    {
     "name": "stdout",
     "output_type": "stream",
     "text": [
      " "
     ]
    },
    {
     "name": "stdout",
     "output_type": "stream",
     "text": [
      "right,"
     ]
    },
    {
     "name": "stdout",
     "output_type": "stream",
     "text": [
      " "
     ]
    },
    {
     "name": "stdout",
     "output_type": "stream",
     "text": [
      "out,"
     ]
    },
    {
     "name": "stdout",
     "output_type": "stream",
     "text": [
      " "
     ]
    },
    {
     "name": "stdout",
     "output_type": "stream",
     "text": [
      "can,"
     ]
    },
    {
     "name": "stdout",
     "output_type": "stream",
     "text": [
      " "
     ]
    },
    {
     "name": "stdout",
     "output_type": "stream",
     "text": [
      "the,"
     ]
    },
    {
     "name": "stdout",
     "output_type": "stream",
     "text": [
      " "
     ]
    },
    {
     "name": "stdout",
     "output_type": "stream",
     "text": [
      "sure"
     ]
    },
    {
     "name": "stdout",
     "output_type": "stream",
     "text": [
      " "
     ]
    },
    {
     "name": "stdout",
     "output_type": "stream",
     "text": [
      "\n"
     ]
    },
    {
     "name": "stdout",
     "output_type": "stream",
     "text": [
      "correctness rate: 0.66739;  in: \"chani\";  "
     ]
    },
    {
     "name": "stdout",
     "output_type": "stream",
     "text": [
      "variables (8):"
     ]
    },
    {
     "name": "stdout",
     "output_type": "stream",
     "text": [
      " "
     ]
    },
    {
     "name": "stdout",
     "output_type": "stream",
     "text": [
      "like,"
     ]
    },
    {
     "name": "stdout",
     "output_type": "stream",
     "text": [
      " "
     ]
    },
    {
     "name": "stdout",
     "output_type": "stream",
     "text": [
      "amazing,"
     ]
    },
    {
     "name": "stdout",
     "output_type": "stream",
     "text": [
      " "
     ]
    },
    {
     "name": "stdout",
     "output_type": "stream",
     "text": [
      "right,"
     ]
    },
    {
     "name": "stdout",
     "output_type": "stream",
     "text": [
      " "
     ]
    },
    {
     "name": "stdout",
     "output_type": "stream",
     "text": [
      "out,"
     ]
    },
    {
     "name": "stdout",
     "output_type": "stream",
     "text": [
      " "
     ]
    },
    {
     "name": "stdout",
     "output_type": "stream",
     "text": [
      "can,"
     ]
    },
    {
     "name": "stdout",
     "output_type": "stream",
     "text": [
      " "
     ]
    },
    {
     "name": "stdout",
     "output_type": "stream",
     "text": [
      "the,"
     ]
    },
    {
     "name": "stdout",
     "output_type": "stream",
     "text": [
      " "
     ]
    },
    {
     "name": "stdout",
     "output_type": "stream",
     "text": [
      "sure,"
     ]
    },
    {
     "name": "stdout",
     "output_type": "stream",
     "text": [
      " "
     ]
    },
    {
     "name": "stdout",
     "output_type": "stream",
     "text": [
      "chani"
     ]
    },
    {
     "name": "stdout",
     "output_type": "stream",
     "text": [
      " "
     ]
    },
    {
     "name": "stdout",
     "output_type": "stream",
     "text": [
      "\n"
     ]
    },
    {
     "name": "stdout",
     "output_type": "stream",
     "text": [
      "correctness rate: 0.68043;  in: \"okay\";  "
     ]
    },
    {
     "name": "stdout",
     "output_type": "stream",
     "text": [
      "variables (9):"
     ]
    },
    {
     "name": "stdout",
     "output_type": "stream",
     "text": [
      " "
     ]
    },
    {
     "name": "stdout",
     "output_type": "stream",
     "text": [
      "like,"
     ]
    },
    {
     "name": "stdout",
     "output_type": "stream",
     "text": [
      " "
     ]
    },
    {
     "name": "stdout",
     "output_type": "stream",
     "text": [
      "amazing,"
     ]
    },
    {
     "name": "stdout",
     "output_type": "stream",
     "text": [
      " "
     ]
    },
    {
     "name": "stdout",
     "output_type": "stream",
     "text": [
      "right,"
     ]
    },
    {
     "name": "stdout",
     "output_type": "stream",
     "text": [
      " "
     ]
    },
    {
     "name": "stdout",
     "output_type": "stream",
     "text": [
      "out,"
     ]
    },
    {
     "name": "stdout",
     "output_type": "stream",
     "text": [
      " "
     ]
    },
    {
     "name": "stdout",
     "output_type": "stream",
     "text": [
      "can,"
     ]
    },
    {
     "name": "stdout",
     "output_type": "stream",
     "text": [
      " "
     ]
    },
    {
     "name": "stdout",
     "output_type": "stream",
     "text": [
      "the,"
     ]
    },
    {
     "name": "stdout",
     "output_type": "stream",
     "text": [
      " "
     ]
    },
    {
     "name": "stdout",
     "output_type": "stream",
     "text": [
      "sure,"
     ]
    },
    {
     "name": "stdout",
     "output_type": "stream",
     "text": [
      " "
     ]
    },
    {
     "name": "stdout",
     "output_type": "stream",
     "text": [
      "chani,"
     ]
    },
    {
     "name": "stdout",
     "output_type": "stream",
     "text": [
      " "
     ]
    },
    {
     "name": "stdout",
     "output_type": "stream",
     "text": [
      "okay"
     ]
    },
    {
     "name": "stdout",
     "output_type": "stream",
     "text": [
      " "
     ]
    },
    {
     "name": "stdout",
     "output_type": "stream",
     "text": [
      "\n"
     ]
    },
    {
     "name": "stdout",
     "output_type": "stream",
     "text": [
      "correctness rate: 0.68261;  in: \"mrs\";  "
     ]
    },
    {
     "name": "stdout",
     "output_type": "stream",
     "text": [
      "variables (10):"
     ]
    },
    {
     "name": "stdout",
     "output_type": "stream",
     "text": [
      " "
     ]
    },
    {
     "name": "stdout",
     "output_type": "stream",
     "text": [
      "like,"
     ]
    },
    {
     "name": "stdout",
     "output_type": "stream",
     "text": [
      " "
     ]
    },
    {
     "name": "stdout",
     "output_type": "stream",
     "text": [
      "amazing,"
     ]
    },
    {
     "name": "stdout",
     "output_type": "stream",
     "text": [
      " "
     ]
    },
    {
     "name": "stdout",
     "output_type": "stream",
     "text": [
      "right,"
     ]
    },
    {
     "name": "stdout",
     "output_type": "stream",
     "text": [
      " "
     ]
    },
    {
     "name": "stdout",
     "output_type": "stream",
     "text": [
      "out,"
     ]
    },
    {
     "name": "stdout",
     "output_type": "stream",
     "text": [
      " "
     ]
    },
    {
     "name": "stdout",
     "output_type": "stream",
     "text": [
      "can,"
     ]
    },
    {
     "name": "stdout",
     "output_type": "stream",
     "text": [
      " "
     ]
    },
    {
     "name": "stdout",
     "output_type": "stream",
     "text": [
      "the,"
     ]
    },
    {
     "name": "stdout",
     "output_type": "stream",
     "text": [
      " "
     ]
    },
    {
     "name": "stdout",
     "output_type": "stream",
     "text": [
      "sure,"
     ]
    },
    {
     "name": "stdout",
     "output_type": "stream",
     "text": [
      " "
     ]
    },
    {
     "name": "stdout",
     "output_type": "stream",
     "text": [
      "chani,"
     ]
    },
    {
     "name": "stdout",
     "output_type": "stream",
     "text": [
      " "
     ]
    },
    {
     "name": "stdout",
     "output_type": "stream",
     "text": [
      "okay,"
     ]
    },
    {
     "name": "stdout",
     "output_type": "stream",
     "text": [
      " "
     ]
    },
    {
     "name": "stdout",
     "output_type": "stream",
     "text": [
      "mrs"
     ]
    },
    {
     "name": "stdout",
     "output_type": "stream",
     "text": [
      " "
     ]
    },
    {
     "name": "stdout",
     "output_type": "stream",
     "text": [
      "\n"
     ]
    },
    {
     "name": "stdout",
     "output_type": "stream",
     "text": [
      "correctness rate: 0.68913;  in: \"totally\";  "
     ]
    },
    {
     "name": "stdout",
     "output_type": "stream",
     "text": [
      "variables (11):"
     ]
    },
    {
     "name": "stdout",
     "output_type": "stream",
     "text": [
      " "
     ]
    },
    {
     "name": "stdout",
     "output_type": "stream",
     "text": [
      "like,"
     ]
    },
    {
     "name": "stdout",
     "output_type": "stream",
     "text": [
      " "
     ]
    },
    {
     "name": "stdout",
     "output_type": "stream",
     "text": [
      "amazing,"
     ]
    },
    {
     "name": "stdout",
     "output_type": "stream",
     "text": [
      " "
     ]
    },
    {
     "name": "stdout",
     "output_type": "stream",
     "text": [
      "right,"
     ]
    },
    {
     "name": "stdout",
     "output_type": "stream",
     "text": [
      " "
     ]
    },
    {
     "name": "stdout",
     "output_type": "stream",
     "text": [
      "out,"
     ]
    },
    {
     "name": "stdout",
     "output_type": "stream",
     "text": [
      " "
     ]
    },
    {
     "name": "stdout",
     "output_type": "stream",
     "text": [
      "can,"
     ]
    },
    {
     "name": "stdout",
     "output_type": "stream",
     "text": [
      " "
     ]
    },
    {
     "name": "stdout",
     "output_type": "stream",
     "text": [
      "the,"
     ]
    },
    {
     "name": "stdout",
     "output_type": "stream",
     "text": [
      " "
     ]
    },
    {
     "name": "stdout",
     "output_type": "stream",
     "text": [
      "sure,"
     ]
    },
    {
     "name": "stdout",
     "output_type": "stream",
     "text": [
      " "
     ]
    },
    {
     "name": "stdout",
     "output_type": "stream",
     "text": [
      "chani,"
     ]
    },
    {
     "name": "stdout",
     "output_type": "stream",
     "text": [
      " "
     ]
    },
    {
     "name": "stdout",
     "output_type": "stream",
     "text": [
      "okay,"
     ]
    },
    {
     "name": "stdout",
     "output_type": "stream",
     "text": [
      " "
     ]
    },
    {
     "name": "stdout",
     "output_type": "stream",
     "text": [
      "mrs,"
     ]
    },
    {
     "name": "stdout",
     "output_type": "stream",
     "text": [
      " "
     ]
    },
    {
     "name": "stdout",
     "output_type": "stream",
     "text": [
      "totally"
     ]
    },
    {
     "name": "stdout",
     "output_type": "stream",
     "text": [
      " "
     ]
    },
    {
     "name": "stdout",
     "output_type": "stream",
     "text": [
      "\n"
     ]
    },
    {
     "name": "stdout",
     "output_type": "stream",
     "text": [
      "correctness rate: 0.6913;  in: \"theres\";  "
     ]
    },
    {
     "name": "stdout",
     "output_type": "stream",
     "text": [
      "variables (12):"
     ]
    },
    {
     "name": "stdout",
     "output_type": "stream",
     "text": [
      " "
     ]
    },
    {
     "name": "stdout",
     "output_type": "stream",
     "text": [
      "like,"
     ]
    },
    {
     "name": "stdout",
     "output_type": "stream",
     "text": [
      " "
     ]
    },
    {
     "name": "stdout",
     "output_type": "stream",
     "text": [
      "amazing,"
     ]
    },
    {
     "name": "stdout",
     "output_type": "stream",
     "text": [
      " "
     ]
    },
    {
     "name": "stdout",
     "output_type": "stream",
     "text": [
      "right,"
     ]
    },
    {
     "name": "stdout",
     "output_type": "stream",
     "text": [
      " "
     ]
    },
    {
     "name": "stdout",
     "output_type": "stream",
     "text": [
      "out,"
     ]
    },
    {
     "name": "stdout",
     "output_type": "stream",
     "text": [
      " "
     ]
    },
    {
     "name": "stdout",
     "output_type": "stream",
     "text": [
      "can,"
     ]
    },
    {
     "name": "stdout",
     "output_type": "stream",
     "text": [
      " "
     ]
    },
    {
     "name": "stdout",
     "output_type": "stream",
     "text": [
      "the,"
     ]
    },
    {
     "name": "stdout",
     "output_type": "stream",
     "text": [
      " "
     ]
    },
    {
     "name": "stdout",
     "output_type": "stream",
     "text": [
      "sure,"
     ]
    },
    {
     "name": "stdout",
     "output_type": "stream",
     "text": [
      " "
     ]
    },
    {
     "name": "stdout",
     "output_type": "stream",
     "text": [
      "chani,"
     ]
    },
    {
     "name": "stdout",
     "output_type": "stream",
     "text": [
      " "
     ]
    },
    {
     "name": "stdout",
     "output_type": "stream",
     "text": [
      "okay,"
     ]
    },
    {
     "name": "stdout",
     "output_type": "stream",
     "text": [
      " "
     ]
    },
    {
     "name": "stdout",
     "output_type": "stream",
     "text": [
      "mrs,"
     ]
    },
    {
     "name": "stdout",
     "output_type": "stream",
     "text": [
      " "
     ]
    },
    {
     "name": "stdout",
     "output_type": "stream",
     "text": [
      "totally,"
     ]
    },
    {
     "name": "stdout",
     "output_type": "stream",
     "text": [
      " "
     ]
    },
    {
     "name": "stdout",
     "output_type": "stream",
     "text": [
      "theres"
     ]
    },
    {
     "name": "stdout",
     "output_type": "stream",
     "text": [
      " "
     ]
    },
    {
     "name": "stdout",
     "output_type": "stream",
     "text": [
      "\n"
     ]
    },
    {
     "name": "stdout",
     "output_type": "stream",
     "text": [
      "correctness rate: 0.69783;  in: \"now\";  "
     ]
    },
    {
     "name": "stdout",
     "output_type": "stream",
     "text": [
      "variables (13):"
     ]
    },
    {
     "name": "stdout",
     "output_type": "stream",
     "text": [
      " "
     ]
    },
    {
     "name": "stdout",
     "output_type": "stream",
     "text": [
      "like,"
     ]
    },
    {
     "name": "stdout",
     "output_type": "stream",
     "text": [
      " "
     ]
    },
    {
     "name": "stdout",
     "output_type": "stream",
     "text": [
      "amazing,"
     ]
    },
    {
     "name": "stdout",
     "output_type": "stream",
     "text": [
      " "
     ]
    },
    {
     "name": "stdout",
     "output_type": "stream",
     "text": [
      "right,"
     ]
    },
    {
     "name": "stdout",
     "output_type": "stream",
     "text": [
      " "
     ]
    },
    {
     "name": "stdout",
     "output_type": "stream",
     "text": [
      "out,"
     ]
    },
    {
     "name": "stdout",
     "output_type": "stream",
     "text": [
      " "
     ]
    },
    {
     "name": "stdout",
     "output_type": "stream",
     "text": [
      "can,"
     ]
    },
    {
     "name": "stdout",
     "output_type": "stream",
     "text": [
      " "
     ]
    },
    {
     "name": "stdout",
     "output_type": "stream",
     "text": [
      "the,"
     ]
    },
    {
     "name": "stdout",
     "output_type": "stream",
     "text": [
      " "
     ]
    },
    {
     "name": "stdout",
     "output_type": "stream",
     "text": [
      "sure,"
     ]
    },
    {
     "name": "stdout",
     "output_type": "stream",
     "text": [
      " "
     ]
    },
    {
     "name": "stdout",
     "output_type": "stream",
     "text": [
      "chani,"
     ]
    },
    {
     "name": "stdout",
     "output_type": "stream",
     "text": [
      " "
     ]
    },
    {
     "name": "stdout",
     "output_type": "stream",
     "text": [
      "okay,"
     ]
    },
    {
     "name": "stdout",
     "output_type": "stream",
     "text": [
      " "
     ]
    },
    {
     "name": "stdout",
     "output_type": "stream",
     "text": [
      "mrs,"
     ]
    },
    {
     "name": "stdout",
     "output_type": "stream",
     "text": [
      " "
     ]
    },
    {
     "name": "stdout",
     "output_type": "stream",
     "text": [
      "totally,"
     ]
    },
    {
     "name": "stdout",
     "output_type": "stream",
     "text": [
      " "
     ]
    },
    {
     "name": "stdout",
     "output_type": "stream",
     "text": [
      "theres,"
     ]
    },
    {
     "name": "stdout",
     "output_type": "stream",
     "text": [
      " "
     ]
    },
    {
     "name": "stdout",
     "output_type": "stream",
     "text": [
      "now"
     ]
    },
    {
     "name": "stdout",
     "output_type": "stream",
     "text": [
      " "
     ]
    },
    {
     "name": "stdout",
     "output_type": "stream",
     "text": [
      "\n"
     ]
    },
    {
     "name": "stdout",
     "output_type": "stream",
     "text": [
      "correctness rate: 0.70217;  in: \"us\";  "
     ]
    },
    {
     "name": "stdout",
     "output_type": "stream",
     "text": [
      "variables (14):"
     ]
    },
    {
     "name": "stdout",
     "output_type": "stream",
     "text": [
      " "
     ]
    },
    {
     "name": "stdout",
     "output_type": "stream",
     "text": [
      "like,"
     ]
    },
    {
     "name": "stdout",
     "output_type": "stream",
     "text": [
      " "
     ]
    },
    {
     "name": "stdout",
     "output_type": "stream",
     "text": [
      "amazing,"
     ]
    },
    {
     "name": "stdout",
     "output_type": "stream",
     "text": [
      " "
     ]
    },
    {
     "name": "stdout",
     "output_type": "stream",
     "text": [
      "right,"
     ]
    },
    {
     "name": "stdout",
     "output_type": "stream",
     "text": [
      " "
     ]
    },
    {
     "name": "stdout",
     "output_type": "stream",
     "text": [
      "out,"
     ]
    },
    {
     "name": "stdout",
     "output_type": "stream",
     "text": [
      " "
     ]
    },
    {
     "name": "stdout",
     "output_type": "stream",
     "text": [
      "can,"
     ]
    },
    {
     "name": "stdout",
     "output_type": "stream",
     "text": [
      " "
     ]
    },
    {
     "name": "stdout",
     "output_type": "stream",
     "text": [
      "the,"
     ]
    },
    {
     "name": "stdout",
     "output_type": "stream",
     "text": [
      " "
     ]
    },
    {
     "name": "stdout",
     "output_type": "stream",
     "text": [
      "sure,"
     ]
    },
    {
     "name": "stdout",
     "output_type": "stream",
     "text": [
      " "
     ]
    },
    {
     "name": "stdout",
     "output_type": "stream",
     "text": [
      "chani,"
     ]
    },
    {
     "name": "stdout",
     "output_type": "stream",
     "text": [
      " "
     ]
    },
    {
     "name": "stdout",
     "output_type": "stream",
     "text": [
      "okay,"
     ]
    },
    {
     "name": "stdout",
     "output_type": "stream",
     "text": [
      " "
     ]
    },
    {
     "name": "stdout",
     "output_type": "stream",
     "text": [
      "mrs,"
     ]
    },
    {
     "name": "stdout",
     "output_type": "stream",
     "text": [
      " "
     ]
    },
    {
     "name": "stdout",
     "output_type": "stream",
     "text": [
      "totally,"
     ]
    },
    {
     "name": "stdout",
     "output_type": "stream",
     "text": [
      " "
     ]
    },
    {
     "name": "stdout",
     "output_type": "stream",
     "text": [
      "theres,"
     ]
    },
    {
     "name": "stdout",
     "output_type": "stream",
     "text": [
      " "
     ]
    },
    {
     "name": "stdout",
     "output_type": "stream",
     "text": [
      "now,"
     ]
    },
    {
     "name": "stdout",
     "output_type": "stream",
     "text": [
      " "
     ]
    },
    {
     "name": "stdout",
     "output_type": "stream",
     "text": [
      "us"
     ]
    },
    {
     "name": "stdout",
     "output_type": "stream",
     "text": [
      " "
     ]
    },
    {
     "name": "stdout",
     "output_type": "stream",
     "text": [
      "\n"
     ]
    },
    {
     "name": "stdout",
     "output_type": "stream",
     "text": [
      "correctness rate: 0.70435;  in: \"make\";  "
     ]
    },
    {
     "name": "stdout",
     "output_type": "stream",
     "text": [
      "variables (15):"
     ]
    },
    {
     "name": "stdout",
     "output_type": "stream",
     "text": [
      " "
     ]
    },
    {
     "name": "stdout",
     "output_type": "stream",
     "text": [
      "like,"
     ]
    },
    {
     "name": "stdout",
     "output_type": "stream",
     "text": [
      " "
     ]
    },
    {
     "name": "stdout",
     "output_type": "stream",
     "text": [
      "amazing,"
     ]
    },
    {
     "name": "stdout",
     "output_type": "stream",
     "text": [
      " "
     ]
    },
    {
     "name": "stdout",
     "output_type": "stream",
     "text": [
      "right,"
     ]
    },
    {
     "name": "stdout",
     "output_type": "stream",
     "text": [
      " "
     ]
    },
    {
     "name": "stdout",
     "output_type": "stream",
     "text": [
      "out,"
     ]
    },
    {
     "name": "stdout",
     "output_type": "stream",
     "text": [
      " "
     ]
    },
    {
     "name": "stdout",
     "output_type": "stream",
     "text": [
      "can,"
     ]
    },
    {
     "name": "stdout",
     "output_type": "stream",
     "text": [
      " "
     ]
    },
    {
     "name": "stdout",
     "output_type": "stream",
     "text": [
      "the,"
     ]
    },
    {
     "name": "stdout",
     "output_type": "stream",
     "text": [
      " "
     ]
    },
    {
     "name": "stdout",
     "output_type": "stream",
     "text": [
      "sure,"
     ]
    },
    {
     "name": "stdout",
     "output_type": "stream",
     "text": [
      " "
     ]
    },
    {
     "name": "stdout",
     "output_type": "stream",
     "text": [
      "chani,"
     ]
    },
    {
     "name": "stdout",
     "output_type": "stream",
     "text": [
      " "
     ]
    },
    {
     "name": "stdout",
     "output_type": "stream",
     "text": [
      "okay,"
     ]
    },
    {
     "name": "stdout",
     "output_type": "stream",
     "text": [
      " "
     ]
    },
    {
     "name": "stdout",
     "output_type": "stream",
     "text": [
      "mrs,"
     ]
    },
    {
     "name": "stdout",
     "output_type": "stream",
     "text": [
      " "
     ]
    },
    {
     "name": "stdout",
     "output_type": "stream",
     "text": [
      "totally,"
     ]
    },
    {
     "name": "stdout",
     "output_type": "stream",
     "text": [
      " "
     ]
    },
    {
     "name": "stdout",
     "output_type": "stream",
     "text": [
      "theres,"
     ]
    },
    {
     "name": "stdout",
     "output_type": "stream",
     "text": [
      " "
     ]
    },
    {
     "name": "stdout",
     "output_type": "stream",
     "text": [
      "now,"
     ]
    },
    {
     "name": "stdout",
     "output_type": "stream",
     "text": [
      " "
     ]
    },
    {
     "name": "stdout",
     "output_type": "stream",
     "text": [
      "us,"
     ]
    },
    {
     "name": "stdout",
     "output_type": "stream",
     "text": [
      " "
     ]
    },
    {
     "name": "stdout",
     "output_type": "stream",
     "text": [
      "make"
     ]
    },
    {
     "name": "stdout",
     "output_type": "stream",
     "text": [
      " "
     ]
    },
    {
     "name": "stdout",
     "output_type": "stream",
     "text": [
      "\n"
     ]
    },
    {
     "name": "stdout",
     "output_type": "stream",
     "text": [
      "\n"
     ]
    },
    {
     "name": "stdout",
     "output_type": "stream",
     "text": [
      " hr.elapsed "
     ]
    },
    {
     "name": "stdout",
     "output_type": "stream",
     "text": [
      "min.elapsed "
     ]
    },
    {
     "name": "stdout",
     "output_type": "stream",
     "text": [
      "sec.elapsed "
     ]
    },
    {
     "name": "stdout",
     "output_type": "stream",
     "text": [
      "\n"
     ]
    },
    {
     "name": "stdout",
     "output_type": "stream",
     "text": [
      "      0.000 "
     ]
    },
    {
     "name": "stdout",
     "output_type": "stream",
     "text": [
      "      1.000 "
     ]
    },
    {
     "name": "stdout",
     "output_type": "stream",
     "text": [
      "     21.676 "
     ]
    },
    {
     "name": "stdout",
     "output_type": "stream",
     "text": [
      "\n"
     ]
    },
    {
     "name": "stdout",
     "output_type": "stream",
     "text": [
      "\n"
     ]
    }
   ],
   "source": [
    "%%R\n",
    "library(klaR)\n",
    "feature.names.sc<-gsub(\"’\", \"'\", feature.names.sc)\n",
    "colnames(feature.table.sc)<-feature.names.sc\n",
    "vars<-stepclass(feature.table.sc, metadata.table.sc$Group, method=\"lda\", improvement=0.0001)"
   ]
  },
  {
   "cell_type": "code",
   "execution_count": 49,
   "id": "52caad6d",
   "metadata": {},
   "outputs": [
    {
     "name": "stdout",
     "output_type": "stream",
     "text": [
      "[1]"
     ]
    },
    {
     "name": "stdout",
     "output_type": "stream",
     "text": [
      " 460"
     ]
    },
    {
     "name": "stdout",
     "output_type": "stream",
     "text": [
      "\n"
     ]
    }
   ],
   "source": [
    "%%R\n",
    "setwd(\"/Users/qad/Documents/GitHub/dsc15\")\n",
    "ilana.tg<-read.csv(\"ilana.csv\", header=T)\n",
    "non.ilana.tg<-read.csv(\"non_ilana_sample.csv\", header=T)\n",
    "non.ilana.tg<-non.ilana.tg[,2]\n",
    "ilana.quotes.tg<-ilana.tg$Quote[which(ilana.tg$Source %in% c(\"BYT9\", \"BYT10\", \"BYT11\", \"BYT12\"))]\n",
    "all.text.tg<-c(ilana.quotes.tg, non.ilana.tg)\n",
    "all.groups.tg<-c(rep(\"Ilana\", length(ilana.quotes.tg)), rep(\"NonIlana\", length(non.ilana.tg)))\n",
    "length(all.groups.tg)"
   ]
  },
  {
   "cell_type": "code",
   "execution_count": 50,
   "id": "df345f03",
   "metadata": {},
   "outputs": [],
   "source": [
    "%%R\n",
    "#Function for creating trigrams\n",
    "#Subs spaces with an underscore, finds start and end points, and applies it to text\n",
    "makeCharacterTrigrams<-function(dialogue, str.length=3){\n",
    "  dialogue<-gsub(\" \", \"_\", dialogue)\n",
    "  dialogue.sep<-unlist(strsplit(dialogue, \"\"))\n",
    "  starting.points<-seq(1,(length(dialogue.sep)-(str.length-1)), by=1)\n",
    "  ending.points<-starting.points+(str.length-1)\n",
    "  all.str<-mapply(function(x,y) dialogue.sep[x:y], starting.points, ending.points, SIMPLIFY = F)\n",
    "  all.str<-unlist(lapply(all.str, function(x) paste(x, collapse=\"\")))\n",
    "  return(all.str)\n",
    "}"
   ]
  },
  {
   "cell_type": "code",
   "execution_count": 51,
   "id": "4e8c477e",
   "metadata": {},
   "outputs": [
    {
     "name": "stdout",
     "output_type": "stream",
     "text": [
      "[1]"
     ]
    },
    {
     "name": "stdout",
     "output_type": "stream",
     "text": [
      " \"let et’ t’s ’s_ s_s _se see\""
     ]
    },
    {
     "name": "stdout",
     "output_type": "stream",
     "text": [
      "\n"
     ]
    }
   ],
   "source": [
    "%%R\n",
    "#Lower-cases all text\n",
    "all.text.tg<-tolower(all.text.tg)\n",
    "all.text.length.tg<-unlist(lapply(all.text.tg, function(x) length(unlist(strsplit(x, \"\")))))\n",
    "#Identifies quotes with fewer than 3 characters & removes it\n",
    "badtext.tg<-which(all.text.length.tg < 3)\n",
    "if (length(badtext.tg) > 0) {\n",
    "  all.text.tg<-all.text.tg[-badtext.tg]\n",
    "  all.groups.tg<-all.groups.tg[-badtext.tg]\n",
    "}                      \n",
    "#Applies trigram-making code to the text\n",
    "all.trigrams.tg<-lapply(all.text.tg, function(x) makeCharacterTrigrams(x))\n",
    "all.trigrams.tg<-unlist(lapply(all.trigrams.tg, function(x) paste(x, collapse=\" \")))\n",
    "#Print quote 60 in its trigram form\n",
    "all.trigrams.tg[60]"
   ]
  },
  {
   "cell_type": "code",
   "execution_count": 52,
   "id": "8c51106d",
   "metadata": {},
   "outputs": [
    {
     "name": "stdout",
     "output_type": "stream",
     "text": [
      "<<DocumentTermMatrix (documents: 460, terms: 2933)>>\n"
     ]
    },
    {
     "name": "stdout",
     "output_type": "stream",
     "text": [
      "Non-/sparse entries: 21158/1328022\n"
     ]
    },
    {
     "name": "stdout",
     "output_type": "stream",
     "text": [
      "Sparsity           : 98%\n"
     ]
    },
    {
     "name": "stdout",
     "output_type": "stream",
     "text": [
      "Maximal term length: 3\n"
     ]
    },
    {
     "name": "stdout",
     "output_type": "stream",
     "text": [
      "Weighting          : term frequency (tf)\n"
     ]
    }
   ],
   "source": [
    "%%R\n",
    "#Create a metadata table with all the texts and all the groups\n",
    "metadata.table.tg<-data.frame(all.groups.tg, all.text.tg)\n",
    "#Label the columns\n",
    "colnames(metadata.table.tg)<-c(\"Group\", \"Text\")\n",
    "#Create a corpus with the trigrams\n",
    "raw.corpus.tg<-all.trigrams.tg\n",
    "clean.corpus.tg<-Corpus(VectorSource(raw.corpus.tg))\n",
    "#Create document-term matrix\n",
    "corpus.dtm.tg<-DocumentTermMatrix(clean.corpus.tg, control=list(wordLengths=c(1,Inf)))\n",
    "corpus.matrix.tg<-as.matrix(corpus.dtm.tg)\n",
    "corpus.dtm.tg"
   ]
  },
  {
   "cell_type": "code",
   "execution_count": 53,
   "id": "91bfd9bf",
   "metadata": {},
   "outputs": [
    {
     "name": "stdout",
     "output_type": "stream",
     "text": [
      "[1]"
     ]
    },
    {
     "name": "stdout",
     "output_type": "stream",
     "text": [
      " \"Ilana\""
     ]
    },
    {
     "name": "stdout",
     "output_type": "stream",
     "text": [
      "\n"
     ]
    },
    {
     "name": "stdout",
     "output_type": "stream",
     "text": [
      "[1]"
     ]
    },
    {
     "name": "stdout",
     "output_type": "stream",
     "text": [
      " \"MDWs\""
     ]
    },
    {
     "name": "stdout",
     "output_type": "stream",
     "text": [
      "\n"
     ]
    },
    {
     "name": "stdout",
     "output_type": "stream",
     "text": [
      "[1]"
     ]
    },
    {
     "name": "stdout",
     "output_type": "stream",
     "text": [
      " \"Significant MDWs:\""
     ]
    },
    {
     "name": "stdout",
     "output_type": "stream",
     "text": [
      "\n"
     ]
    },
    {
     "name": "stdout",
     "output_type": "stream",
     "text": [
      "[1]"
     ]
    },
    {
     "name": "stdout",
     "output_type": "stream",
     "text": [
      " 0"
     ]
    },
    {
     "name": "stdout",
     "output_type": "stream",
     "text": [
      "\n"
     ]
    },
    {
     "name": "stdout",
     "output_type": "stream",
     "text": [
      "[1]"
     ]
    },
    {
     "name": "stdout",
     "output_type": "stream",
     "text": [
      " \"NonIlana\""
     ]
    },
    {
     "name": "stdout",
     "output_type": "stream",
     "text": [
      "\n"
     ]
    },
    {
     "name": "stdout",
     "output_type": "stream",
     "text": [
      "[1]"
     ]
    },
    {
     "name": "stdout",
     "output_type": "stream",
     "text": [
      " \"MDWs\""
     ]
    },
    {
     "name": "stdout",
     "output_type": "stream",
     "text": [
      "\n"
     ]
    },
    {
     "name": "stdout",
     "output_type": "stream",
     "text": [
      "[1]"
     ]
    },
    {
     "name": "stdout",
     "output_type": "stream",
     "text": [
      " \"Significant MDWs:\""
     ]
    },
    {
     "name": "stdout",
     "output_type": "stream",
     "text": [
      "\n"
     ]
    },
    {
     "name": "stdout",
     "output_type": "stream",
     "text": [
      "[1]"
     ]
    },
    {
     "name": "stdout",
     "output_type": "stream",
     "text": [
      " 0"
     ]
    },
    {
     "name": "stdout",
     "output_type": "stream",
     "text": [
      "\n"
     ]
    },
    {
     "name": "stdout",
     "output_type": "stream",
     "text": [
      "NULL\n"
     ]
    }
   ],
   "source": [
    "%%R\n",
    "n=75\n",
    "word.sums.tg<-colSums(corpus.matrix.tg)\n",
    "word.sums.tg<-sort(word.sums.tg, decreasing=T)\n",
    "mfw.tg<-names(word.sums.tg[1:n])\n",
    "group.source.tg<-metadata.table.tg$Group\n",
    "mdw.table.tg<-allMDW(corpus.matrix.tg, group.source.tg, 0.05)\n",
    "mdw.table.tg"
   ]
  },
  {
   "cell_type": "code",
   "execution_count": 54,
   "id": "db866e55",
   "metadata": {},
   "outputs": [
    {
     "name": "stdout",
     "output_type": "stream",
     "text": [
      "[1]"
     ]
    },
    {
     "name": "stdout",
     "output_type": "stream",
     "text": [
      " 460"
     ]
    },
    {
     "name": "stdout",
     "output_type": "stream",
     "text": [
      "  75"
     ]
    },
    {
     "name": "stdout",
     "output_type": "stream",
     "text": [
      "\n"
     ]
    }
   ],
   "source": [
    "%%R\n",
    "scaled.dtm.tg<-corpus.matrix.tg/rowSums(corpus.matrix.tg)\n",
    "features.to.keep.tg<-mfw.tg\n",
    "feature.table.tg<-scaled.dtm.tg[,which(colnames(scaled.dtm.tg) %in% features.to.keep.tg)]\n",
    "feature.names.tg<-colnames(feature.table.tg)\n",
    "feature.names.tg<-gsub('_', ' ', feature.names.tg)\n",
    "colnames(feature.table.tg)<-feature.names.tg\n",
    "dim(feature.table.tg)"
   ]
  },
  {
   "cell_type": "code",
   "execution_count": 55,
   "id": "1e4fea42",
   "metadata": {},
   "outputs": [
    {
     "name": "stderr",
     "output_type": "stream",
     "text": [
      "R[write to console]:  `stepwise classification', using 10-fold cross-validated correctness rate of method lda'.\n",
      "\n"
     ]
    },
    {
     "name": "stderr",
     "output_type": "stream",
     "text": [
      "R[write to console]: 460 observations of 75 variables in 2 classes; direction: both\n",
      "\n"
     ]
    },
    {
     "name": "stderr",
     "output_type": "stream",
     "text": [
      "R[write to console]: stop criterion: improvement less than 0.01%.\n",
      "\n"
     ]
    },
    {
     "name": "stdout",
     "output_type": "stream",
     "text": [
      "correctness rate: 0.55;  in: \" an\";  "
     ]
    },
    {
     "name": "stdout",
     "output_type": "stream",
     "text": [
      "variables (1):"
     ]
    },
    {
     "name": "stdout",
     "output_type": "stream",
     "text": [
      " "
     ]
    },
    {
     "name": "stdout",
     "output_type": "stream",
     "text": [
      " an"
     ]
    },
    {
     "name": "stdout",
     "output_type": "stream",
     "text": [
      " "
     ]
    },
    {
     "name": "stdout",
     "output_type": "stream",
     "text": [
      "\n"
     ]
    },
    {
     "name": "stdout",
     "output_type": "stream",
     "text": [
      "correctness rate: 0.56087;  in: \"hin\";  "
     ]
    },
    {
     "name": "stdout",
     "output_type": "stream",
     "text": [
      "variables (2):"
     ]
    },
    {
     "name": "stdout",
     "output_type": "stream",
     "text": [
      " "
     ]
    },
    {
     "name": "stdout",
     "output_type": "stream",
     "text": [
      " an,"
     ]
    },
    {
     "name": "stdout",
     "output_type": "stream",
     "text": [
      " "
     ]
    },
    {
     "name": "stdout",
     "output_type": "stream",
     "text": [
      "hin"
     ]
    },
    {
     "name": "stdout",
     "output_type": "stream",
     "text": [
      " "
     ]
    },
    {
     "name": "stdout",
     "output_type": "stream",
     "text": [
      "\n"
     ]
    },
    {
     "name": "stdout",
     "output_type": "stream",
     "text": [
      "correctness rate: 0.57391;  in: \"me \";  "
     ]
    },
    {
     "name": "stdout",
     "output_type": "stream",
     "text": [
      "variables (3):"
     ]
    },
    {
     "name": "stdout",
     "output_type": "stream",
     "text": [
      " "
     ]
    },
    {
     "name": "stdout",
     "output_type": "stream",
     "text": [
      " an,"
     ]
    },
    {
     "name": "stdout",
     "output_type": "stream",
     "text": [
      " "
     ]
    },
    {
     "name": "stdout",
     "output_type": "stream",
     "text": [
      "hin,"
     ]
    },
    {
     "name": "stdout",
     "output_type": "stream",
     "text": [
      " "
     ]
    },
    {
     "name": "stdout",
     "output_type": "stream",
     "text": [
      "me "
     ]
    },
    {
     "name": "stdout",
     "output_type": "stream",
     "text": [
      " "
     ]
    },
    {
     "name": "stdout",
     "output_type": "stream",
     "text": [
      "\n"
     ]
    },
    {
     "name": "stdout",
     "output_type": "stream",
     "text": [
      "correctness rate: 0.58478;  in: \"it \";  "
     ]
    },
    {
     "name": "stdout",
     "output_type": "stream",
     "text": [
      "variables (4):"
     ]
    },
    {
     "name": "stdout",
     "output_type": "stream",
     "text": [
      " "
     ]
    },
    {
     "name": "stdout",
     "output_type": "stream",
     "text": [
      " an,"
     ]
    },
    {
     "name": "stdout",
     "output_type": "stream",
     "text": [
      " "
     ]
    },
    {
     "name": "stdout",
     "output_type": "stream",
     "text": [
      "hin,"
     ]
    },
    {
     "name": "stdout",
     "output_type": "stream",
     "text": [
      " "
     ]
    },
    {
     "name": "stdout",
     "output_type": "stream",
     "text": [
      "me ,"
     ]
    },
    {
     "name": "stdout",
     "output_type": "stream",
     "text": [
      " "
     ]
    },
    {
     "name": "stdout",
     "output_type": "stream",
     "text": [
      "it "
     ]
    },
    {
     "name": "stdout",
     "output_type": "stream",
     "text": [
      " "
     ]
    },
    {
     "name": "stdout",
     "output_type": "stream",
     "text": [
      "\n"
     ]
    },
    {
     "name": "stdout",
     "output_type": "stream",
     "text": [
      "\n"
     ]
    },
    {
     "name": "stdout",
     "output_type": "stream",
     "text": [
      " hr.elapsed "
     ]
    },
    {
     "name": "stdout",
     "output_type": "stream",
     "text": [
      "min.elapsed "
     ]
    },
    {
     "name": "stdout",
     "output_type": "stream",
     "text": [
      "sec.elapsed "
     ]
    },
    {
     "name": "stdout",
     "output_type": "stream",
     "text": [
      "\n"
     ]
    },
    {
     "name": "stdout",
     "output_type": "stream",
     "text": [
      "      0.000 "
     ]
    },
    {
     "name": "stdout",
     "output_type": "stream",
     "text": [
      "      0.000 "
     ]
    },
    {
     "name": "stdout",
     "output_type": "stream",
     "text": [
      "     20.364 "
     ]
    },
    {
     "name": "stdout",
     "output_type": "stream",
     "text": [
      "\n"
     ]
    },
    {
     "name": "stdout",
     "output_type": "stream",
     "text": [
      "\n"
     ]
    }
   ],
   "source": [
    "%%R\n",
    "library(klaR)\n",
    "feature.names.tg<-gsub(\"’\", \"'\", feature.names.tg)\n",
    "colnames(feature.table.tg)<-feature.names.tg\n",
    "vars<-stepclass(feature.table.tg, metadata.table.tg[,1], method=\"lda\", improvement=0.0001)"
   ]
  }
 ],
 "metadata": {
  "kernelspec": {
   "display_name": "Python 3",
   "language": "python",
   "name": "python3"
  },
  "language_info": {
   "codemirror_mode": {
    "name": "ipython",
    "version": 3
   },
   "file_extension": ".py",
   "mimetype": "text/x-python",
   "name": "python",
   "nbconvert_exporter": "python",
   "pygments_lexer": "ipython3",
   "version": "3.9.13"
  }
 },
 "nbformat": 4,
 "nbformat_minor": 5
}