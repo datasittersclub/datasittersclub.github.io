{
 "cells": [
  {
   "cell_type": "code",
   "execution_count": null,
   "metadata": {
    "tags": [
     "skip-execution"
    ]
   },
   "outputs": [],
   "source": [
    "#Library to navigate around directories\n",
    "import os\n",
    "#Sentence tokenizer, to split texts into sentences\n",
    "from nltk.tokenize import sent_tokenize\n",
    "\n",
    "#Put the path to your directory here\n",
    "bookdir = '/Users/qad/Documents/dsc/dsc_corpus_clean'\n",
    "#Move to the directory with the texts\n",
    "os.chdir(bookdir)\n",
    "#List everything in the directory\n",
    "books = sorted(os.listdir(bookdir))\n",
    "\n",
    "#Make a list of the words you want to look for\n",
    "#Put spaces around them if you don't want to worry about false hits where the word is part of another word\n",
    "words = ['pizza', ' burger ' ' pants ', ' skirt ']\n",
    "\n",
    "#Open the output file\n",
    "with open('/Users/qad/Documents/dsc/word-finder-results.tsv', 'w') as out:\n",
    "    #write headers\n",
    "    out.write('book\\tword\\tsentence\\n')\n",
    "    #For each thing in your list\n",
    "    for book in books:\n",
    "        #Confirm that filename ends with .txt\n",
    "        if book.endswith('.txt'):\n",
    "            #Open the text file\n",
    "            with open(book, 'r') as f:\n",
    "                #Read the text in the file\n",
    "                booktext = f.read()\n",
    "                #Split the book into sentences\n",
    "                sentences = sent_tokenize(booktext)\n",
    "                for sentence in sentences:\n",
    "\n",
    "                    #Lowercase the sentence (so 'word' and 'Word' don't count as different things)\n",
    "                    sentence = sentence.lower()\n",
    "                    #Remove newlines, single, and double quotes\n",
    "                    sentence = sentence.replace('\\n', ' ')\n",
    "                    sentence = sentence.replace('\"', '')\n",
    "                    sentence = sentence.replace(\"'\", '')\n",
    "                    #For each word...\n",
    "                    for word in words:\n",
    "                        if word in sentence:\n",
    "                            out.write(book+'\\t'+word+'\\t'+sentence+'\\n')\n"
   ]
  }
 ],
 "metadata": {
  "kernelspec": {
   "display_name": "dsc",
   "language": "python",
   "name": "python3"
  },
  "language_info": {
   "codemirror_mode": {
    "name": "ipython",
    "version": 3
   },
   "file_extension": ".py",
   "mimetype": "text/x-python",
   "name": "python",
   "nbconvert_exporter": "python",
   "pygments_lexer": "ipython3",
   "version": "3.7.12"
  }
 },
 "nbformat": 4,
 "nbformat_minor": 2
}